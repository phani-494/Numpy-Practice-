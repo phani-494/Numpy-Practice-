{
 "cells": [
  {
   "cell_type": "markdown",
   "id": "4badcfb9",
   "metadata": {},
   "source": [
    "# lec 6\n",
    "## what is datatype of numpy array ?"
   ]
  },
  {
   "cell_type": "markdown",
   "id": "3c0865a1",
   "metadata": {},
   "source": [
    "1. uint8 -->unsigned integer (0 to 255) --> similarly we have uint6,uint32 and uint64.\n",
    "2. bool_ --> boolean(True or False) stored as a byte.\n",
    "3. float_  --> short hand for float 64  . underscore is there.\n",
    "4. complex --> for complex values.\n",
    "5. complex64 --> represented by two 32-bit floats (real and imaginary components.)\n",
    "6. complex128 --> complex number,represented by two 64-bit floats (real and imaginary components.)\n",
    "7. complex_  --> shorthand for complex128\n"
   ]
  },
  {
   "cell_type": "code",
   "execution_count": 1,
   "id": "9ecfb7bf",
   "metadata": {},
   "outputs": [],
   "source": [
    "import numpy as np\n",
    "var=np.array([1,2,3,4,5],dtype=complex)"
   ]
  },
  {
   "cell_type": "code",
   "execution_count": 2,
   "id": "f316d6f4",
   "metadata": {},
   "outputs": [
    {
     "data": {
      "text/plain": [
       "array([1.+0.j, 2.+0.j, 3.+0.j, 4.+0.j, 5.+0.j])"
      ]
     },
     "execution_count": 2,
     "metadata": {},
     "output_type": "execute_result"
    }
   ],
   "source": [
    "var"
   ]
  },
  {
   "cell_type": "code",
   "execution_count": 3,
   "id": "3079c62f",
   "metadata": {},
   "outputs": [
    {
     "data": {
      "text/plain": [
       "dtype('complex128')"
      ]
     },
     "execution_count": 3,
     "metadata": {},
     "output_type": "execute_result"
    }
   ],
   "source": [
    "var.dtype"
   ]
  },
  {
   "cell_type": "code",
   "execution_count": 12,
   "id": "adffa9aa",
   "metadata": {},
   "outputs": [],
   "source": [
    "var1=np.array([1,2,3,4,5],dtype=float)"
   ]
  },
  {
   "cell_type": "code",
   "execution_count": 13,
   "id": "cd37b709",
   "metadata": {},
   "outputs": [
    {
     "data": {
      "text/plain": [
       "array([1., 2., 3., 4., 5.])"
      ]
     },
     "execution_count": 13,
     "metadata": {},
     "output_type": "execute_result"
    }
   ],
   "source": [
    "var1"
   ]
  },
  {
   "cell_type": "code",
   "execution_count": 6,
   "id": "583f92d1",
   "metadata": {},
   "outputs": [
    {
     "data": {
      "text/plain": [
       "dtype('<U1')"
      ]
     },
     "execution_count": 6,
     "metadata": {},
     "output_type": "execute_result"
    }
   ],
   "source": [
    "var=np.array([\"s\",\"f\",\"k\",\"u\"])\n",
    "var.dtype"
   ]
  },
  {
   "cell_type": "code",
   "execution_count": 7,
   "id": "387331a6",
   "metadata": {},
   "outputs": [],
   "source": [
    "var=np.array([\"s\",\"f\",\"k\",\"u\",1,2,3,4])"
   ]
  },
  {
   "cell_type": "code",
   "execution_count": 9,
   "id": "11b13978",
   "metadata": {},
   "outputs": [
    {
     "data": {
      "text/plain": [
       "dtype('<U11')"
      ]
     },
     "execution_count": 9,
     "metadata": {},
     "output_type": "execute_result"
    }
   ],
   "source": [
    "var.dtype"
   ]
  },
  {
   "cell_type": "code",
   "execution_count": 10,
   "id": "b04b5314",
   "metadata": {},
   "outputs": [],
   "source": [
    "# m --> time delta\n",
    "# O --> object\n",
    "# V --> The fixed chunk of memory for other types(void)"
   ]
  },
  {
   "cell_type": "code",
   "execution_count": 15,
   "id": "56705e70",
   "metadata": {},
   "outputs": [
    {
     "data": {
      "text/plain": [
       "array([1, 2, 3, 4, 5])"
      ]
     },
     "execution_count": 15,
     "metadata": {},
     "output_type": "execute_result"
    }
   ],
   "source": [
    "np.int32(var1)\n",
    "# we can convert from one datatype to another datatype using the np.datatype(array)"
   ]
  },
  {
   "cell_type": "code",
   "execution_count": 16,
   "id": "7dc4861b",
   "metadata": {},
   "outputs": [
    {
     "data": {
      "text/plain": [
       "dtype('int32')"
      ]
     },
     "execution_count": 16,
     "metadata": {},
     "output_type": "execute_result"
    }
   ],
   "source": [
    "x=np.array([1,2,3,4,5])\n",
    "x.dtype"
   ]
  },
  {
   "cell_type": "code",
   "execution_count": 18,
   "id": "9c1b6a87",
   "metadata": {},
   "outputs": [],
   "source": [
    "y=np.int8(x)"
   ]
  },
  {
   "cell_type": "code",
   "execution_count": 19,
   "id": "9886863a",
   "metadata": {},
   "outputs": [
    {
     "data": {
      "text/plain": [
       "array([1, 2, 3, 4, 5], dtype=int8)"
      ]
     },
     "execution_count": 19,
     "metadata": {},
     "output_type": "execute_result"
    }
   ],
   "source": [
    "y"
   ]
  },
  {
   "cell_type": "code",
   "execution_count": 23,
   "id": "18dfd6e3",
   "metadata": {},
   "outputs": [
    {
     "name": "stdout",
     "output_type": "stream",
     "text": [
      "float32\n"
     ]
    }
   ],
   "source": [
    "# by using single characters in dtype, we can represent the datatype.\n",
    "x1=np.array([1,2,3,4],dtype=\"f\") \n",
    "print(x1.dtype)"
   ]
  },
  {
   "cell_type": "markdown",
   "id": "e33af353",
   "metadata": {},
   "source": [
    "# lec 7\n",
    "##  What are Numpy Arithmetic Operations"
   ]
  },
  {
   "cell_type": "code",
   "execution_count": 1,
   "id": "be7155af",
   "metadata": {},
   "outputs": [],
   "source": [
    "# np.power(a,b) # calculates power \n",
    "# np.reciprocal(a) # calculates the reciprocal of the each element."
   ]
  },
  {
   "cell_type": "code",
   "execution_count": 3,
   "id": "39b44ea7",
   "metadata": {},
   "outputs": [
    {
     "name": "stderr",
     "output_type": "stream",
     "text": [
      "C:\\Users\\Phanindra Reddy\\AppData\\Local\\Temp\\ipykernel_7760\\101735022.py:2: RuntimeWarning: divide by zero encountered in reciprocal\n",
      "  np.reciprocal([0,1])\n",
      "C:\\Users\\Phanindra Reddy\\AppData\\Local\\Temp\\ipykernel_7760\\101735022.py:2: RuntimeWarning: invalid value encountered in reciprocal\n",
      "  np.reciprocal([0,1])\n"
     ]
    },
    {
     "data": {
      "text/plain": [
       "array([-2147483648,           1], dtype=int32)"
      ]
     },
     "execution_count": 3,
     "metadata": {},
     "output_type": "execute_result"
    }
   ],
   "source": [
    "import numpy as np\n",
    "np.reciprocal([0,1])"
   ]
  },
  {
   "cell_type": "markdown",
   "id": "70dff6e3",
   "metadata": {},
   "source": [
    "# lec 8\n",
    "## What are Arithmetic functions in Numpy"
   ]
  },
  {
   "cell_type": "code",
   "execution_count": 4,
   "id": "b9853465",
   "metadata": {},
   "outputs": [],
   "source": [
    "# np.cumsum(arr)# gives the cummulative sum of the array."
   ]
  },
  {
   "cell_type": "code",
   "execution_count": 5,
   "id": "b2cc2c72",
   "metadata": {},
   "outputs": [],
   "source": [
    "a=np.arange(1,6)"
   ]
  },
  {
   "cell_type": "code",
   "execution_count": 6,
   "id": "02b7e804",
   "metadata": {},
   "outputs": [
    {
     "data": {
      "text/plain": [
       "array([1, 2, 3, 4, 5])"
      ]
     },
     "execution_count": 6,
     "metadata": {},
     "output_type": "execute_result"
    }
   ],
   "source": [
    "a"
   ]
  },
  {
   "cell_type": "code",
   "execution_count": 8,
   "id": "778022d3",
   "metadata": {},
   "outputs": [
    {
     "data": {
      "text/plain": [
       "array([ 1,  3,  6, 10, 15], dtype=int32)"
      ]
     },
     "execution_count": 8,
     "metadata": {},
     "output_type": "execute_result"
    }
   ],
   "source": [
    "np.cumsum(a) # one by one element adding to each other here."
   ]
  },
  {
   "cell_type": "markdown",
   "id": "f301a8d9",
   "metadata": {},
   "source": [
    "# lec 9\n",
    "## Learn about shape and reshaping in Numpy arrays"
   ]
  },
  {
   "cell_type": "code",
   "execution_count": 10,
   "id": "5ae4cd94",
   "metadata": {},
   "outputs": [],
   "source": [
    "# while initialising the array,we can set the dimension for the array."
   ]
  },
  {
   "cell_type": "code",
   "execution_count": 17,
   "id": "9acbe42a",
   "metadata": {},
   "outputs": [],
   "source": [
    "a=np.array([1,2,3,4,5,6],ndmin=4)\n",
    "# here ndmin is there. don't get confuse."
   ]
  },
  {
   "cell_type": "code",
   "execution_count": 18,
   "id": "aadcb6dd",
   "metadata": {},
   "outputs": [
    {
     "data": {
      "text/plain": [
       "array([[[[1, 2, 3, 4, 5, 6]]]])"
      ]
     },
     "execution_count": 18,
     "metadata": {},
     "output_type": "execute_result"
    }
   ],
   "source": [
    "a"
   ]
  },
  {
   "cell_type": "code",
   "execution_count": 19,
   "id": "a112348c",
   "metadata": {},
   "outputs": [
    {
     "data": {
      "text/plain": [
       "4"
      ]
     },
     "execution_count": 19,
     "metadata": {},
     "output_type": "execute_result"
    }
   ],
   "source": [
    "a.ndim"
   ]
  },
  {
   "cell_type": "code",
   "execution_count": 20,
   "id": "6d30f780",
   "metadata": {},
   "outputs": [
    {
     "data": {
      "text/plain": [
       "(1, 1, 1, 6)"
      ]
     },
     "execution_count": 20,
     "metadata": {},
     "output_type": "execute_result"
    }
   ],
   "source": [
    "a.shape"
   ]
  },
  {
   "cell_type": "code",
   "execution_count": 22,
   "id": "2a02572c",
   "metadata": {},
   "outputs": [
    {
     "data": {
      "text/plain": [
       "array([[1, 2, 3],\n",
       "       [4, 5, 6]])"
      ]
     },
     "execution_count": 22,
     "metadata": {},
     "output_type": "execute_result"
    }
   ],
   "source": [
    "a.reshape(2,3)"
   ]
  },
  {
   "cell_type": "code",
   "execution_count": 24,
   "id": "1d77ca20",
   "metadata": {},
   "outputs": [
    {
     "data": {
      "text/plain": [
       "array([1, 2, 3, 4, 5, 6])"
      ]
     },
     "execution_count": 24,
     "metadata": {},
     "output_type": "execute_result"
    }
   ],
   "source": [
    "a.reshape(-1) # -1 helps to convert back to the original shape here."
   ]
  },
  {
   "cell_type": "markdown",
   "id": "2c0c24c9",
   "metadata": {},
   "source": [
    "# lec 10\n",
    "##  Learn Broadcasting in Numpy arrays"
   ]
  },
  {
   "cell_type": "code",
   "execution_count": 25,
   "id": "31119d38",
   "metadata": {},
   "outputs": [],
   "source": [
    "# refer other channel videos"
   ]
  },
  {
   "cell_type": "raw",
   "id": "629f3b15",
   "metadata": {},
   "source": [
    " 1. if two shapes are there with (1,3) and (3,1) then also arithmetic operations are possible here.\n",
    " consider their sizes as(c,d) and (e,f).\n",
    " first d and f are compared. and for any of them 1 should present in it. then it is applicable.\n",
    " similarly for c and e also if any of them have 1 , then also it is applicable.\n",
    " \n",
    " resultant shape will be (max(c,e),max(d,f)).\n",
    "  much more theory is there. go through google."
   ]
  },
  {
   "cell_type": "code",
   "execution_count": 30,
   "id": "3effe698",
   "metadata": {},
   "outputs": [
    {
     "name": "stdout",
     "output_type": "stream",
     "text": [
      "[[12 13 14]]\n",
      "\n",
      "[[1]\n",
      " [2]\n",
      " [3]]\n"
     ]
    }
   ],
   "source": [
    "a=np.array([12,13,14]).reshape(1,3)\n",
    "b=np.array([1,2,3]).reshape(3,1) # np.array([[1],[2],[3]])\n",
    "print(a)\n",
    "print()\n",
    "print(b)"
   ]
  },
  {
   "cell_type": "code",
   "execution_count": 27,
   "id": "048f1289",
   "metadata": {},
   "outputs": [
    {
     "data": {
      "text/plain": [
       "array([[13, 14, 15],\n",
       "       [14, 15, 16],\n",
       "       [15, 16, 17]])"
      ]
     },
     "execution_count": 27,
     "metadata": {},
     "output_type": "execute_result"
    }
   ],
   "source": [
    "a+b"
   ]
  },
  {
   "cell_type": "code",
   "execution_count": 28,
   "id": "490201b8",
   "metadata": {},
   "outputs": [
    {
     "data": {
      "text/plain": [
       "array([[13, 14, 15],\n",
       "       [14, 15, 16],\n",
       "       [15, 16, 17]])"
      ]
     },
     "execution_count": 28,
     "metadata": {},
     "output_type": "execute_result"
    }
   ],
   "source": [
    "b+a"
   ]
  },
  {
   "cell_type": "raw",
   "id": "8d4f3592",
   "metadata": {},
   "source": [
    "above the arrays are broadcasted as\n",
    "\n",
    "12 13 14\n",
    "12 13 14\n",
    "12 13 14 \n",
    "\n",
    "and 1 1 1 \n",
    "    2 2 2 \n",
    "    3 3 3 \n",
    "    and both are added and the result is 3*3 matrix."
   ]
  },
  {
   "cell_type": "code",
   "execution_count": 31,
   "id": "ad401379",
   "metadata": {},
   "outputs": [
    {
     "data": {
      "text/plain": [
       "array([[12, 13, 14]])"
      ]
     },
     "execution_count": 31,
     "metadata": {},
     "output_type": "execute_result"
    }
   ],
   "source": [
    "a"
   ]
  },
  {
   "cell_type": "code",
   "execution_count": 32,
   "id": "05a2cd80",
   "metadata": {},
   "outputs": [
    {
     "name": "stdout",
     "output_type": "stream",
     "text": [
      "(1, 3)\n",
      "(4,)\n"
     ]
    }
   ],
   "source": [
    "a1=np.array([1,2,3,4])\n",
    "print(a.shape)\n",
    "print(a1.shape)"
   ]
  },
  {
   "cell_type": "raw",
   "id": "18602ef8",
   "metadata": {},
   "source": [
    "here we have two shapes . (1,3) and (1,4) \n",
    "since the comparison will be done from the right side , first 3 and 4 are there. in both of them no 1 is present.\n",
    "so we can't perform the mathematical operations here."
   ]
  },
  {
   "cell_type": "code",
   "execution_count": 33,
   "id": "1b38422d",
   "metadata": {},
   "outputs": [
    {
     "ename": "ValueError",
     "evalue": "operands could not be broadcast together with shapes (1,3) (4,) ",
     "output_type": "error",
     "traceback": [
      "\u001b[1;31m---------------------------------------------------------------------------\u001b[0m",
      "\u001b[1;31mValueError\u001b[0m                                Traceback (most recent call last)",
      "\u001b[1;32m~\\AppData\\Local\\Temp\\ipykernel_19552\\1320887385.py\u001b[0m in \u001b[0;36m<module>\u001b[1;34m\u001b[0m\n\u001b[1;32m----> 1\u001b[1;33m \u001b[0ma\u001b[0m\u001b[1;33m+\u001b[0m\u001b[0ma1\u001b[0m\u001b[1;33m\u001b[0m\u001b[1;33m\u001b[0m\u001b[0m\n\u001b[0m",
      "\u001b[1;31mValueError\u001b[0m: operands could not be broadcast together with shapes (1,3) (4,) "
     ]
    }
   ],
   "source": [
    "a+a1"
   ]
  },
  {
   "cell_type": "markdown",
   "id": "1fb7212c",
   "metadata": {},
   "source": [
    "# lec 11\n",
    "## Explain indexing and Slicing in Numpy arrays in Python"
   ]
  },
  {
   "cell_type": "code",
   "execution_count": 34,
   "id": "b1a00c32",
   "metadata": {},
   "outputs": [],
   "source": [
    "# all concepts covered in the previous lectures only."
   ]
  },
  {
   "cell_type": "markdown",
   "id": "2b13143a",
   "metadata": {},
   "source": [
    "# lec 12\n",
    "## Iterating Numpy Arrays"
   ]
  },
  {
   "cell_type": "code",
   "execution_count": 40,
   "id": "01a7f6ca",
   "metadata": {},
   "outputs": [
    {
     "name": "stdout",
     "output_type": "stream",
     "text": [
      "[[12 13 14]]\n"
     ]
    }
   ],
   "source": [
    "print(a) # see here a is a 2D array. for iterating 2D arrays, we need to use the nditer(). \n",
    "#entire 1D array is stored in a[0] itself"
   ]
  },
  {
   "cell_type": "code",
   "execution_count": 41,
   "id": "f7ea2fc7",
   "metadata": {},
   "outputs": [
    {
     "name": "stdout",
     "output_type": "stream",
     "text": [
      "[12 13 14]\n"
     ]
    }
   ],
   "source": [
    "for i in a:\n",
    "    print(i) # to get the element wise as output inn arrays we need to use nditer().\n",
    "# above first it will search for first element , but here the first element is the whole 1D array itself. "
   ]
  },
  {
   "cell_type": "code",
   "execution_count": 42,
   "id": "2a83100c",
   "metadata": {},
   "outputs": [
    {
     "data": {
      "text/plain": [
       "array([12, 13, 14])"
      ]
     },
     "execution_count": 42,
     "metadata": {},
     "output_type": "execute_result"
    }
   ],
   "source": [
    "a[0] # see here "
   ]
  },
  {
   "cell_type": "code",
   "execution_count": 43,
   "id": "841626a7",
   "metadata": {},
   "outputs": [
    {
     "data": {
      "text/plain": [
       "2"
      ]
     },
     "execution_count": 43,
     "metadata": {},
     "output_type": "execute_result"
    }
   ],
   "source": [
    "a.ndim"
   ]
  },
  {
   "cell_type": "code",
   "execution_count": 44,
   "id": "87fe16c9",
   "metadata": {},
   "outputs": [
    {
     "name": "stdout",
     "output_type": "stream",
     "text": [
      "12\n",
      "13\n",
      "14\n"
     ]
    }
   ],
   "source": [
    "for i in np.nditer(a):\n",
    "    print(i)"
   ]
  },
  {
   "cell_type": "code",
   "execution_count": 45,
   "id": "08049921",
   "metadata": {},
   "outputs": [],
   "source": [
    "b=np.array([1,2,3])"
   ]
  },
  {
   "cell_type": "code",
   "execution_count": 46,
   "id": "c6dc36fd",
   "metadata": {},
   "outputs": [
    {
     "name": "stdout",
     "output_type": "stream",
     "text": [
      "[1 2 3]\n"
     ]
    }
   ],
   "source": [
    "print(b)"
   ]
  },
  {
   "cell_type": "code",
   "execution_count": 47,
   "id": "f36bd4e8",
   "metadata": {},
   "outputs": [
    {
     "data": {
      "text/plain": [
       "1"
      ]
     },
     "execution_count": 47,
     "metadata": {},
     "output_type": "execute_result"
    }
   ],
   "source": [
    "b.ndim"
   ]
  },
  {
   "cell_type": "code",
   "execution_count": 49,
   "id": "2c324440",
   "metadata": {},
   "outputs": [
    {
     "name": "stdout",
     "output_type": "stream",
     "text": [
      "1\n"
     ]
    }
   ],
   "source": [
    "print(b[0]) # since dimension is 1 here, we are getting exact value here."
   ]
  },
  {
   "cell_type": "code",
   "execution_count": 50,
   "id": "26ce25b8",
   "metadata": {},
   "outputs": [
    {
     "name": "stdout",
     "output_type": "stream",
     "text": [
      "1\n",
      "2\n",
      "3\n"
     ]
    }
   ],
   "source": [
    "for j in b:\n",
    "    print(j)"
   ]
  },
  {
   "cell_type": "code",
   "execution_count": 51,
   "id": "972f1c46",
   "metadata": {},
   "outputs": [
    {
     "data": {
      "text/plain": [
       "array([[12, 13, 14]])"
      ]
     },
     "execution_count": 51,
     "metadata": {},
     "output_type": "execute_result"
    }
   ],
   "source": [
    "a"
   ]
  },
  {
   "cell_type": "code",
   "execution_count": 53,
   "id": "b2ab4bfa",
   "metadata": {},
   "outputs": [
    {
     "name": "stdout",
     "output_type": "stream",
     "text": [
      "[[1 2 3]\n",
      " [4 5 6]]\n"
     ]
    }
   ],
   "source": [
    "a1=np.array([[1,2,3],[4,5,6]])\n",
    "print(a1)"
   ]
  },
  {
   "cell_type": "code",
   "execution_count": 56,
   "id": "66c7e369",
   "metadata": {},
   "outputs": [
    {
     "name": "stdout",
     "output_type": "stream",
     "text": [
      "1\n",
      "2\n",
      "3\n",
      "4\n",
      "5\n",
      "6\n"
     ]
    }
   ],
   "source": [
    "# traditional way to iterate through the 2D array elements.\n",
    "for i in a1:\n",
    "    for j in i:\n",
    "        print(j)\n",
    "        \n",
    "        \n",
    "# if it is an 3D array, then we need to use one more for loop."
   ]
  },
  {
   "cell_type": "code",
   "execution_count": 61,
   "id": "0c77dbb8",
   "metadata": {},
   "outputs": [
    {
     "name": "stdout",
     "output_type": "stream",
     "text": [
      "b'12'\n",
      "b'13'\n",
      "b'14'\n"
     ]
    }
   ],
   "source": [
    "# to change to another data type while iterating, we need to give flags here to store the data type which going to change\n",
    "# buffer will create an extra space here.\n",
    "# we need to give operator data type here.\n",
    "for i in np.nditer(a,flags=[\"buffered\"],op_dtypes=[\"S\"]):\n",
    "    print(i)"
   ]
  },
  {
   "cell_type": "markdown",
   "id": "5cd2b72c",
   "metadata": {},
   "source": [
    "# ndenumerate"
   ]
  },
  {
   "cell_type": "code",
   "execution_count": 62,
   "id": "6fe9f457",
   "metadata": {},
   "outputs": [],
   "source": [
    "# this will give us both the index and the data present at the index value."
   ]
  },
  {
   "cell_type": "code",
   "execution_count": 67,
   "id": "19dd9b5c",
   "metadata": {},
   "outputs": [
    {
     "name": "stdout",
     "output_type": "stream",
     "text": [
      "(0, 0) ----> 1\n",
      "(0, 1) ----> 2\n",
      "(0, 2) ----> 3\n",
      "(1, 0) ----> 4\n",
      "(1, 1) ----> 5\n",
      "(1, 2) ----> 6\n"
     ]
    }
   ],
   "source": [
    "for index,data in np.ndenumerate(a1):\n",
    "    print(index,\"---->\",data)"
   ]
  },
  {
   "cell_type": "markdown",
   "id": "e7575c02",
   "metadata": {},
   "source": [
    "# lec 13\n",
    "## Copy vs View Numpy Python"
   ]
  },
  {
   "cell_type": "code",
   "execution_count": 68,
   "id": "89bb28fc",
   "metadata": {},
   "outputs": [],
   "source": [
    " # already covered in old videos"
   ]
  },
  {
   "cell_type": "markdown",
   "id": "89b50826",
   "metadata": {},
   "source": [
    "# lec 14\n",
    "## Joining & split Numpy arrays using(concatenate,stack,aray_split)\n"
   ]
  },
  {
   "cell_type": "raw",
   "id": "0a80d4cc",
   "metadata": {},
   "source": [
    "Join Array:\n",
    "      Joinng means puting contents of two or more arrays in a single array.\n",
    "        \n",
    "        for 1D array since there is only one axis (axis=0), we mention it shape as (5,) which means along one row ,five elements present in it.\n",
    "        \n",
    "    for 2D array since there are two axis (axis=0 or axis=1) ,we mention it's shape as (2,3) which means 2 rows and 3 columns here."
   ]
  },
  {
   "cell_type": "code",
   "execution_count": 71,
   "id": "79a8d147",
   "metadata": {},
   "outputs": [],
   "source": [
    "a1=np.arange(1,5)\n",
    "a2=np.arange(4,8)"
   ]
  },
  {
   "cell_type": "code",
   "execution_count": 76,
   "id": "e8ed654d",
   "metadata": {},
   "outputs": [
    {
     "name": "stdout",
     "output_type": "stream",
     "text": [
      "[1 2 3 4 4 5 6 7]\n"
     ]
    }
   ],
   "source": [
    "print(np.concatenate((a1,a2))) # for 1D array\n",
    "# this concatenate will results in a single dimension array as here dimension is 1 here."
   ]
  },
  {
   "cell_type": "code",
   "execution_count": 77,
   "id": "27a3e7a2",
   "metadata": {},
   "outputs": [
    {
     "data": {
      "text/plain": [
       "array([[1, 2, 3, 4],\n",
       "       [4, 5, 6, 7]])"
      ]
     },
     "execution_count": 77,
     "metadata": {},
     "output_type": "execute_result"
    }
   ],
   "source": [
    "np.stack((a1,a2))"
   ]
  },
  {
   "cell_type": "code",
   "execution_count": 78,
   "id": "d039eebc",
   "metadata": {},
   "outputs": [
    {
     "name": "stdout",
     "output_type": "stream",
     "text": [
      "[[1 2 4 5]\n",
      " [3 4 6 7]]\n"
     ]
    }
   ],
   "source": [
    "a1=np.arange(1,5).reshape(2,2)\n",
    "a2=np.arange(4,8).reshape(2,2)\n",
    "print(np.concatenate((a1,a2),axis=1)) # it will give as [a1 a2] # along the single row wise the arrays are arranged \n",
    "# be careful that along the single row wise a1,a2 are arranged not the elements.\n",
    "# axis=1 means forward direction"
   ]
  },
  {
   "cell_type": "code",
   "execution_count": 80,
   "id": "8d248dcb",
   "metadata": {},
   "outputs": [
    {
     "name": "stdout",
     "output_type": "stream",
     "text": [
      "[[1 2]\n",
      " [3 4]\n",
      " [4 5]\n",
      " [6 7]]\n"
     ]
    }
   ],
   "source": [
    "print(np.concatenate((a1,a2),axis=0)) # it will give as [ a1\n",
    "                                                      #    a2 ]\n",
    "    # along the single column wise the arrays are arranged here.\n",
    "    # axis=0 means downward direction."
   ]
  },
  {
   "cell_type": "code",
   "execution_count": 83,
   "id": "5dd669df",
   "metadata": {},
   "outputs": [
    {
     "data": {
      "text/plain": [
       "array([[[1, 2],\n",
       "        [3, 4]],\n",
       "\n",
       "       [[4, 5],\n",
       "        [6, 7]]])"
      ]
     },
     "execution_count": 83,
     "metadata": {},
     "output_type": "execute_result"
    }
   ],
   "source": [
    "np.stack((a1,a2))"
   ]
  },
  {
   "cell_type": "code",
   "execution_count": 87,
   "id": "7c230fb4",
   "metadata": {},
   "outputs": [
    {
     "name": "stdout",
     "output_type": "stream",
     "text": [
      "[[[1 2]\n",
      "  [4 5]]\n",
      "\n",
      " [[3 4]\n",
      "  [6 7]]]\n"
     ]
    }
   ],
   "source": [
    "print(np.stack((a1,a2),axis=1))"
   ]
  },
  {
   "cell_type": "code",
   "execution_count": 89,
   "id": "942019e0",
   "metadata": {},
   "outputs": [
    {
     "name": "stdout",
     "output_type": "stream",
     "text": [
      "[[1 2 4 5]\n",
      " [3 4 6 7]]\n"
     ]
    }
   ],
   "source": [
    "print(np.hstack((a1,a2))) # horizontally , which means along the row."
   ]
  },
  {
   "cell_type": "code",
   "execution_count": 90,
   "id": "7c9b6f1c",
   "metadata": {},
   "outputs": [
    {
     "name": "stdout",
     "output_type": "stream",
     "text": [
      "[[1 2]\n",
      " [3 4]\n",
      " [4 5]\n",
      " [6 7]]\n"
     ]
    }
   ],
   "source": [
    "print(np.vstack((a1,a2)))"
   ]
  },
  {
   "cell_type": "code",
   "execution_count": 91,
   "id": "7302a746",
   "metadata": {},
   "outputs": [
    {
     "name": "stdout",
     "output_type": "stream",
     "text": [
      "[[[1 4]\n",
      "  [2 5]]\n",
      "\n",
      " [[3 6]\n",
      "  [4 7]]]\n"
     ]
    }
   ],
   "source": [
    "print(np.dstack((a1,a2)))  along the height "
   ]
  },
  {
   "cell_type": "markdown",
   "id": "46a3a477",
   "metadata": {},
   "source": [
    "# splitting\n",
    " #### Splitting breaks one array into the multiple arrays."
   ]
  },
  {
   "cell_type": "code",
   "execution_count": 93,
   "id": "a7ea6680",
   "metadata": {},
   "outputs": [
    {
     "name": "stdout",
     "output_type": "stream",
     "text": [
      "[1 2 3 4 6 3]\n"
     ]
    }
   ],
   "source": [
    "a=np.array([1,2,3,4,6,3])\n",
    "print(a)"
   ]
  },
  {
   "cell_type": "code",
   "execution_count": 94,
   "id": "3f1e3bee",
   "metadata": {},
   "outputs": [
    {
     "name": "stdout",
     "output_type": "stream",
     "text": [
      "[array([1, 2]), array([3, 4]), array([6, 3])]\n"
     ]
    }
   ],
   "source": [
    "print(np.array_split(a,3))"
   ]
  },
  {
   "cell_type": "code",
   "execution_count": 96,
   "id": "8e9d7b4c",
   "metadata": {},
   "outputs": [
    {
     "name": "stdout",
     "output_type": "stream",
     "text": [
      "[array([[1, 2]]), array([[3, 4]]), array([[6, 3]])]\n"
     ]
    }
   ],
   "source": [
    "ar=np.array_split(a,3)\n",
    "print(ar)"
   ]
  },
  {
   "cell_type": "code",
   "execution_count": 97,
   "id": "ec6fa98b",
   "metadata": {},
   "outputs": [
    {
     "name": "stdout",
     "output_type": "stream",
     "text": [
      "<class 'list'>\n"
     ]
    }
   ],
   "source": [
    "print(type(ar)) # see here it will give result as list."
   ]
  },
  {
   "cell_type": "code",
   "execution_count": 98,
   "id": "e8a4afb0",
   "metadata": {},
   "outputs": [
    {
     "name": "stdout",
     "output_type": "stream",
     "text": [
      "[[1 2]]\n"
     ]
    }
   ],
   "source": [
    "print(ar[0])"
   ]
  },
  {
   "cell_type": "code",
   "execution_count": 99,
   "id": "931e7b1a",
   "metadata": {},
   "outputs": [
    {
     "name": "stdout",
     "output_type": "stream",
     "text": [
      "<class 'numpy.ndarray'>\n"
     ]
    }
   ],
   "source": [
    "print(type(ar[0]))"
   ]
  },
  {
   "cell_type": "code",
   "execution_count": 100,
   "id": "ce6ec605",
   "metadata": {},
   "outputs": [],
   "source": [
    "# we can also give the parameters as axis=1 or axis=0."
   ]
  },
  {
   "cell_type": "code",
   "execution_count": 106,
   "id": "4ddbf157",
   "metadata": {},
   "outputs": [
    {
     "name": "stdout",
     "output_type": "stream",
     "text": [
      "[[1 2]\n",
      " [3 4]\n",
      " [6 3]]\n"
     ]
    }
   ],
   "source": [
    "a=np.array([1,2,3,4,6,3]).reshape(3,2)\n",
    "print(a) "
   ]
  },
  {
   "cell_type": "code",
   "execution_count": 107,
   "id": "d93c36e0",
   "metadata": {},
   "outputs": [
    {
     "data": {
      "text/plain": [
       "[array([[1],\n",
       "        [3],\n",
       "        [6]]),\n",
       " array([[2],\n",
       "        [4],\n",
       "        [3]])]"
      ]
     },
     "execution_count": 107,
     "metadata": {},
     "output_type": "execute_result"
    }
   ],
   "source": [
    "np.array_split(a,2,axis=1)"
   ]
  },
  {
   "cell_type": "code",
   "execution_count": 109,
   "id": "0b39a566",
   "metadata": {},
   "outputs": [
    {
     "data": {
      "text/plain": [
       "[array([[1, 2],\n",
       "        [3, 4]]),\n",
       " array([[6, 3]])]"
      ]
     },
     "execution_count": 109,
     "metadata": {},
     "output_type": "execute_result"
    }
   ],
   "source": [
    "np.array_split(a,2,axis=0) # it will split coming towars the downward direction."
   ]
  },
  {
   "cell_type": "markdown",
   "id": "8cf42a94",
   "metadata": {},
   "source": [
    "# lec 15\n",
    "## what are numpy array functions"
   ]
  },
  {
   "cell_type": "markdown",
   "id": "98d3da06",
   "metadata": {},
   "source": [
    "Search Array:\n",
    "    Search an array for a certain value,and return the indexes that get a match."
   ]
  },
  {
   "cell_type": "code",
   "execution_count": 117,
   "id": "3a47ae55",
   "metadata": {},
   "outputs": [],
   "source": [
    "a=np.array([1,2,3,4,5,6,5,3,2,1,3,4,5,43,56])"
   ]
  },
  {
   "cell_type": "code",
   "execution_count": 118,
   "id": "28ae1a21",
   "metadata": {},
   "outputs": [
    {
     "data": {
      "text/plain": [
       "(array([5], dtype=int64),)"
      ]
     },
     "execution_count": 118,
     "metadata": {},
     "output_type": "execute_result"
    }
   ],
   "source": [
    "np.where(a==6)"
   ]
  },
  {
   "cell_type": "code",
   "execution_count": 119,
   "id": "2e20c01d",
   "metadata": {},
   "outputs": [
    {
     "data": {
      "text/plain": [
       "(array([ 0,  2,  4,  6,  7,  9, 10, 12, 13], dtype=int64),)"
      ]
     },
     "execution_count": 119,
     "metadata": {},
     "output_type": "execute_result"
    }
   ],
   "source": [
    "np.where(a%2==1)"
   ]
  },
  {
   "cell_type": "markdown",
   "id": "1388187d",
   "metadata": {},
   "source": [
    "# Search Sorted Array:\n",
    "   Which performs a binary search in the array and returns the index where the specified value would be inserted to maintain the search order."
   ]
  },
  {
   "cell_type": "code",
   "execution_count": 120,
   "id": "dfcf8623",
   "metadata": {},
   "outputs": [
    {
     "data": {
      "text/plain": [
       "13"
      ]
     },
     "execution_count": 120,
     "metadata": {},
     "output_type": "execute_result"
    }
   ],
   "source": [
    "np.searchsorted(a,10 )# this will give the exact result when the array is sorted ."
   ]
  },
  {
   "cell_type": "code",
   "execution_count": 121,
   "id": "8acf4a10",
   "metadata": {},
   "outputs": [
    {
     "data": {
      "text/plain": [
       "13"
      ]
     },
     "execution_count": 121,
     "metadata": {},
     "output_type": "execute_result"
    }
   ],
   "source": [
    " # to perform sorting from right side, we need to give an extra parameter side=\"right\"\n",
    "np.searchsorted(a,10,side=\"right\" )"
   ]
  },
  {
   "cell_type": "markdown",
   "id": "67c3dbfe",
   "metadata": {},
   "source": [
    "# sort array"
   ]
  },
  {
   "cell_type": "markdown",
   "id": "29c06dfa",
   "metadata": {},
   "source": [
    "Sort Array: Ordered sequence is any sequence that has an order corresponding to elements like numeric or alphabetical,ascending or descending."
   ]
  },
  {
   "cell_type": "code",
   "execution_count": 123,
   "id": "11d366fa",
   "metadata": {},
   "outputs": [
    {
     "data": {
      "text/plain": [
       "array([ 1,  1,  2,  2,  3,  3,  3,  4,  4,  5,  5,  5,  6, 43, 56])"
      ]
     },
     "execution_count": 123,
     "metadata": {},
     "output_type": "execute_result"
    }
   ],
   "source": [
    "np.sort(a)"
   ]
  },
  {
   "cell_type": "code",
   "execution_count": 124,
   "id": "57b34ae3",
   "metadata": {},
   "outputs": [
    {
     "data": {
      "text/plain": [
       "array([[1, 2],\n",
       "       [3, 4]])"
      ]
     },
     "execution_count": 124,
     "metadata": {},
     "output_type": "execute_result"
    }
   ],
   "source": [
    "a1"
   ]
  },
  {
   "cell_type": "code",
   "execution_count": 129,
   "id": "6bc6ee28",
   "metadata": {},
   "outputs": [],
   "source": [
    "c=np.array([[1,2,6,3,21,67,34,21],[31, 24,34,65,78,33,5,12]])"
   ]
  },
  {
   "cell_type": "code",
   "execution_count": 130,
   "id": "9e98d3d5",
   "metadata": {},
   "outputs": [
    {
     "data": {
      "text/plain": [
       "array([[ 1,  2,  3,  6, 21, 21, 34, 67],\n",
       "       [ 5, 12, 24, 31, 33, 34, 65, 78]])"
      ]
     },
     "execution_count": 130,
     "metadata": {},
     "output_type": "execute_result"
    }
   ],
   "source": [
    "np.sort(c)"
   ]
  },
  {
   "cell_type": "markdown",
   "id": "7ad1cdb8",
   "metadata": {},
   "source": [
    "# Filter array:\n",
    "#### getting some elements out of an existing array and creating a new array out of them."
   ]
  },
  {
   "cell_type": "code",
   "execution_count": 131,
   "id": "ad344773",
   "metadata": {},
   "outputs": [
    {
     "data": {
      "text/plain": [
       "array([False, False,  True,  True,  True,  True,  True,  True, False,\n",
       "       False,  True,  True,  True,  True,  True])"
      ]
     },
     "execution_count": 131,
     "metadata": {},
     "output_type": "execute_result"
    }
   ],
   "source": [
    "a>2 # to get filter,we need True and False"
   ]
  },
  {
   "cell_type": "code",
   "execution_count": 133,
   "id": "6d7300a3",
   "metadata": {},
   "outputs": [
    {
     "data": {
      "text/plain": [
       "array([ 4,  5,  6,  5,  4,  5, 43, 56])"
      ]
     },
     "execution_count": 133,
     "metadata": {},
     "output_type": "execute_result"
    }
   ],
   "source": [
    "a[a>3] # wherever True,we get all the elements here."
   ]
  },
  {
   "cell_type": "markdown",
   "id": "77c4cae7",
   "metadata": {},
   "source": [
    "# lec 16\n",
    "## what are numpy array functions(part2)"
   ]
  },
  {
   "cell_type": "code",
   "execution_count": 135,
   "id": "9215fb70",
   "metadata": {},
   "outputs": [
    {
     "data": {
      "text/plain": [
       "array([ 1,  2,  3,  4,  5,  6,  5,  3,  2,  1,  3,  4,  5, 43, 56])"
      ]
     },
     "execution_count": 135,
     "metadata": {},
     "output_type": "execute_result"
    }
   ],
   "source": [
    "a"
   ]
  },
  {
   "cell_type": "code",
   "execution_count": 136,
   "id": "849b37ca",
   "metadata": {},
   "outputs": [],
   "source": [
    "np.random.shuffle(a)"
   ]
  },
  {
   "cell_type": "code",
   "execution_count": 137,
   "id": "46d4e06c",
   "metadata": {},
   "outputs": [
    {
     "data": {
      "text/plain": [
       "array([ 3,  2,  5,  1,  1,  3,  5, 43,  3, 56,  5,  4,  2,  6,  4])"
      ]
     },
     "execution_count": 137,
     "metadata": {},
     "output_type": "execute_result"
    }
   ],
   "source": [
    "a"
   ]
  },
  {
   "cell_type": "code",
   "execution_count": 138,
   "id": "ae5cd0a8",
   "metadata": {},
   "outputs": [
    {
     "data": {
      "text/plain": [
       "array([ 1,  2,  3,  4,  5,  6, 43, 56])"
      ]
     },
     "execution_count": 138,
     "metadata": {},
     "output_type": "execute_result"
    }
   ],
   "source": [
    "np.unique(a)"
   ]
  },
  {
   "cell_type": "code",
   "execution_count": 139,
   "id": "bceb9b00",
   "metadata": {},
   "outputs": [
    {
     "data": {
      "text/plain": [
       "(array([ 1,  2,  3,  4,  5,  6, 43, 56]),\n",
       " array([ 3,  1,  0, 11,  2, 13,  7,  9], dtype=int64))"
      ]
     },
     "execution_count": 139,
     "metadata": {},
     "output_type": "execute_result"
    }
   ],
   "source": [
    "np.unique(a,return_index=True)"
   ]
  },
  {
   "cell_type": "code",
   "execution_count": 142,
   "id": "119892aa",
   "metadata": {},
   "outputs": [
    {
     "data": {
      "text/plain": [
       "(array([ 1,  2,  3,  4,  5,  6, 43, 56]),\n",
       " array([ 3,  1,  0, 11,  2, 13,  7,  9], dtype=int64),\n",
       " array([2, 2, 3, 2, 3, 1, 1, 1], dtype=int64))"
      ]
     },
     "execution_count": 142,
     "metadata": {},
     "output_type": "execute_result"
    }
   ],
   "source": [
    "np.unique(a,return_index=True,return_counts=True)"
   ]
  },
  {
   "cell_type": "code",
   "execution_count": 143,
   "id": "0c8f64e0",
   "metadata": {},
   "outputs": [
    {
     "data": {
      "text/plain": [
       "15"
      ]
     },
     "execution_count": 143,
     "metadata": {},
     "output_type": "execute_result"
    }
   ],
   "source": [
    "a.size"
   ]
  },
  {
   "cell_type": "code",
   "execution_count": 145,
   "id": "10649d7d",
   "metadata": {},
   "outputs": [
    {
     "name": "stdout",
     "output_type": "stream",
     "text": [
      "[[ 3  2  5  1  1]\n",
      " [ 3  5 43  3 56]\n",
      " [ 5  4  2  6  4]]\n"
     ]
    }
   ],
   "source": [
    "d=np.resize(a,(3,5))\n",
    "print(d)"
   ]
  },
  {
   "cell_type": "markdown",
   "id": "02e26065",
   "metadata": {},
   "source": [
    "# Flatten and Ravel"
   ]
  },
  {
   "cell_type": "raw",
   "id": "cad4aca6",
   "metadata": {},
   "source": [
    "1. Order :{ 'C','F','A','K'},optional\n",
    "    \n",
    "    'C' means to flatten in row-major (C-style) order.\n",
    "    'F' means to flatten in column-major (Fortran style) order.\n",
    "    'A' means to flatten in column-major prder if 'a' is Fortran Contigous in memory, row-major order otherwise.\n",
    "    'K' means to flatten 'a' in the order the elements occur in memory.\n",
    "    The default is 'C'"
   ]
  },
  {
   "cell_type": "code",
   "execution_count": 146,
   "id": "61ebc30f",
   "metadata": {},
   "outputs": [
    {
     "data": {
      "text/plain": [
       "array([[ 3,  2,  5,  1,  1],\n",
       "       [ 3,  5, 43,  3, 56],\n",
       "       [ 5,  4,  2,  6,  4]])"
      ]
     },
     "execution_count": 146,
     "metadata": {},
     "output_type": "execute_result"
    }
   ],
   "source": [
    "d"
   ]
  },
  {
   "cell_type": "code",
   "execution_count": 148,
   "id": "464ebff4",
   "metadata": {},
   "outputs": [
    {
     "data": {
      "text/plain": [
       "array([ 3,  2,  5,  1,  1,  3,  5, 43,  3, 56,  5,  4,  2,  6,  4])"
      ]
     },
     "execution_count": 148,
     "metadata": {},
     "output_type": "execute_result"
    }
   ],
   "source": [
    "d.flatten() # it is like "
   ]
  },
  {
   "cell_type": "code",
   "execution_count": 149,
   "id": "a911ca94",
   "metadata": {},
   "outputs": [
    {
     "data": {
      "text/plain": [
       "array([ 3,  2,  5,  1,  1,  3,  5, 43,  3, 56,  5,  4,  2,  6,  4])"
      ]
     },
     "execution_count": 149,
     "metadata": {},
     "output_type": "execute_result"
    }
   ],
   "source": [
    "d.ravel() # it is like view()"
   ]
  },
  {
   "cell_type": "code",
   "execution_count": 150,
   "id": "2d0c567a",
   "metadata": {},
   "outputs": [
    {
     "data": {
      "text/plain": [
       "array([ 3,  3,  5,  2,  5,  4,  5, 43,  2,  1,  3,  6,  1, 56,  4])"
      ]
     },
     "execution_count": 150,
     "metadata": {},
     "output_type": "execute_result"
    }
   ],
   "source": [
    "d.flatten(order='F')"
   ]
  },
  {
   "cell_type": "code",
   "execution_count": 151,
   "id": "980f24da",
   "metadata": {},
   "outputs": [
    {
     "name": "stdout",
     "output_type": "stream",
     "text": [
      "[ 3  2  5  1  1  3  5 43  3 56  5  4  2  6  4]\n"
     ]
    }
   ],
   "source": [
    "e=d.flatten() # this will acts like copy()\n",
    "print(e)\n"
   ]
  },
  {
   "cell_type": "code",
   "execution_count": 152,
   "id": "e7f95984",
   "metadata": {},
   "outputs": [],
   "source": [
    "e[1]=1000"
   ]
  },
  {
   "cell_type": "code",
   "execution_count": 153,
   "id": "73b9590e",
   "metadata": {},
   "outputs": [
    {
     "data": {
      "text/plain": [
       "array([   3, 1000,    5,    1,    1,    3,    5,   43,    3,   56,    5,\n",
       "          4,    2,    6,    4])"
      ]
     },
     "execution_count": 153,
     "metadata": {},
     "output_type": "execute_result"
    }
   ],
   "source": [
    "e"
   ]
  },
  {
   "cell_type": "code",
   "execution_count": 154,
   "id": "3c836dbe",
   "metadata": {},
   "outputs": [
    {
     "data": {
      "text/plain": [
       "array([[ 3,  2,  5,  1,  1],\n",
       "       [ 3,  5, 43,  3, 56],\n",
       "       [ 5,  4,  2,  6,  4]])"
      ]
     },
     "execution_count": 154,
     "metadata": {},
     "output_type": "execute_result"
    }
   ],
   "source": [
    "d"
   ]
  },
  {
   "cell_type": "code",
   "execution_count": 157,
   "id": "786f6aa2",
   "metadata": {},
   "outputs": [
    {
     "name": "stdout",
     "output_type": "stream",
     "text": [
      "[1000    2    5    1    1    3    5   43    3   56    5    4    2    6\n",
      "    4]\n",
      "[   3 1000    5    1    1    3    5   43    3   56    5    4    2    6\n",
      "    4]\n"
     ]
    }
   ],
   "source": [
    "f=d.ravel()\n",
    "print(f)\n",
    "f[0]=1000 # see here the original array is also got changed since we used ravel which acts like view() \n",
    "print(e)"
   ]
  },
  {
   "cell_type": "markdown",
   "id": "4a266e7b",
   "metadata": {},
   "source": [
    "# lec 17\n",
    "## what are Numpy Insert and Delete Arrays Functions"
   ]
  },
  {
   "cell_type": "code",
   "execution_count": 158,
   "id": "0d568812",
   "metadata": {},
   "outputs": [
    {
     "data": {
      "text/plain": [
       "array([ 3,  2,  5,  1,  1,  3,  5, 43,  3, 56,  5,  4,  2,  6,  4])"
      ]
     },
     "execution_count": 158,
     "metadata": {},
     "output_type": "execute_result"
    }
   ],
   "source": [
    " a"
   ]
  },
  {
   "cell_type": "code",
   "execution_count": 159,
   "id": "cf81fdf4",
   "metadata": {},
   "outputs": [
    {
     "data": {
      "text/plain": [
       "array([  3,   2,   5, 500,   1,   1,   3,   5,  43,   3,  56,   5,   4,\n",
       "         2,   6,   4])"
      ]
     },
     "execution_count": 159,
     "metadata": {},
     "output_type": "execute_result"
    }
   ],
   "source": [
    "np.insert(a,3,500)"
   ]
  },
  {
   "cell_type": "code",
   "execution_count": 161,
   "id": "752d7775",
   "metadata": {},
   "outputs": [
    {
     "data": {
      "text/plain": [
       "array([     3,      2,      5, 100000,      1,      1,      3,      5,\n",
       "       100000,     43,      3, 100000,     56,      5,      4,      2,\n",
       "            6,      4])"
      ]
     },
     "execution_count": 161,
     "metadata": {},
     "output_type": "execute_result"
    }
   ],
   "source": [
    "np.insert(a,(3,7,9),100000)  # at multiple indices,we are inserting a 1000000 value."
   ]
  },
  {
   "cell_type": "code",
   "execution_count": 162,
   "id": "58552129",
   "metadata": {},
   "outputs": [
    {
     "data": {
      "text/plain": [
       "array([   3,    2,    5,  500, 8990,  568,    1,    1,    3,    5,   43,\n",
       "          3,   56,    5,    4,    2,    6,    4])"
      ]
     },
     "execution_count": 162,
     "metadata": {},
     "output_type": "execute_result"
    }
   ],
   "source": [
    "np.insert(a,3,[500,8990,568])"
   ]
  },
  {
   "cell_type": "code",
   "execution_count": 164,
   "id": "ccb12697",
   "metadata": {},
   "outputs": [
    {
     "data": {
      "text/plain": [
       "array([  3,   2,   5,   1,   1,   3,   5,  43, 888,   3,  56,   5,   4,\n",
       "         2,   6,   4])"
      ]
     },
     "execution_count": 164,
     "metadata": {},
     "output_type": "execute_result"
    }
   ],
   "source": [
    "np.insert(a,8,888.678) # we cannot insert the float values here. only integer values will be inserted here."
   ]
  },
  {
   "cell_type": "code",
   "execution_count": 169,
   "id": "7210ccd0",
   "metadata": {},
   "outputs": [],
   "source": [
    "var1=np.array([[1,2,3],[4,5,6]])\n",
    "v1=np.insert(var1,2,6,axis=0) # "
   ]
  },
  {
   "cell_type": "code",
   "execution_count": 170,
   "id": "9b34dee6",
   "metadata": {},
   "outputs": [
    {
     "name": "stdout",
     "output_type": "stream",
     "text": [
      "[[1 2 3]\n",
      " [4 5 6]\n",
      " [6 6 6]]\n"
     ]
    }
   ],
   "source": [
    "print(v1)"
   ]
  },
  {
   "cell_type": "code",
   "execution_count": 174,
   "id": "3016d9e0",
   "metadata": {},
   "outputs": [],
   "source": [
    "v2=np.insert(var1,2,6,axis=1)"
   ]
  },
  {
   "cell_type": "code",
   "execution_count": 175,
   "id": "358041cb",
   "metadata": {},
   "outputs": [
    {
     "name": "stdout",
     "output_type": "stream",
     "text": [
      "[[1 2 6 3]\n",
      " [4 5 6 6]]\n"
     ]
    }
   ],
   "source": [
    "print(v2)"
   ]
  },
  {
   "cell_type": "code",
   "execution_count": 177,
   "id": "b710bcec",
   "metadata": {},
   "outputs": [],
   "source": [
    "v3=np.insert(var1,2,[6,16],axis=1) # since only two rows we need to give 2 elements only.\n"
   ]
  },
  {
   "cell_type": "code",
   "execution_count": 178,
   "id": "0f95a5ac",
   "metadata": {},
   "outputs": [
    {
     "name": "stdout",
     "output_type": "stream",
     "text": [
      "[[ 1  2  6  3]\n",
      " [ 4  5 16  6]]\n"
     ]
    }
   ],
   "source": [
    "print(v3)"
   ]
  },
  {
   "cell_type": "code",
   "execution_count": 183,
   "id": "11b10a76",
   "metadata": {},
   "outputs": [],
   "source": [
    "v4=np.insert(var1,2,[6,23,16],axis=0)  # since three columns are present ,we need to give 3 elements here."
   ]
  },
  {
   "cell_type": "code",
   "execution_count": 184,
   "id": "4f632104",
   "metadata": {},
   "outputs": [
    {
     "name": "stdout",
     "output_type": "stream",
     "text": [
      "[[ 1  2  3]\n",
      " [ 4  5  6]\n",
      " [ 6 23 16]]\n"
     ]
    }
   ],
   "source": [
    "print(v4)"
   ]
  },
  {
   "cell_type": "code",
   "execution_count": 185,
   "id": "786336fd",
   "metadata": {},
   "outputs": [
    {
     "data": {
      "text/plain": [
       "array([ 3,  2,  5,  1,  1,  3,  5, 43,  3, 56,  5,  4,  2,  6,  4])"
      ]
     },
     "execution_count": 185,
     "metadata": {},
     "output_type": "execute_result"
    }
   ],
   "source": [
    "a"
   ]
  },
  {
   "cell_type": "code",
   "execution_count": 187,
   "id": "7e110985",
   "metadata": {},
   "outputs": [
    {
     "data": {
      "text/plain": [
       "array([  3,   2,   5,   1,   1,   3,   5,  43,   3,  56,   5,   4,   2,\n",
       "         6,   4, 100, 300,  43])"
      ]
     },
     "execution_count": 187,
     "metadata": {},
     "output_type": "execute_result"
    }
   ],
   "source": [
    "np.append(a,[100,300,43])"
   ]
  },
  {
   "cell_type": "code",
   "execution_count": 196,
   "id": "b9a95d48",
   "metadata": {},
   "outputs": [
    {
     "data": {
      "text/plain": [
       "array([[  1,   2,   3],\n",
       "       [  4,   5,   6],\n",
       "       [  6,  23,  16],\n",
       "       [100,  29,  34]])"
      ]
     },
     "execution_count": 196,
     "metadata": {},
     "output_type": "execute_result"
    }
   ],
   "source": [
    "np.append(v4,[[100,29,34]],axis=0) # since v4 has dimension 2 ,we need to give append a 2D only."
   ]
  },
  {
   "cell_type": "code",
   "execution_count": 198,
   "id": "8bf26904",
   "metadata": {},
   "outputs": [
    {
     "data": {
      "text/plain": [
       "array([ 1,  2,  3,  5,  6,  6, 23, 16])"
      ]
     },
     "execution_count": 198,
     "metadata": {},
     "output_type": "execute_result"
    }
   ],
   "source": [
    "np.delete(v4,3) # 3rd indexed array is deleted"
   ]
  },
  {
   "cell_type": "code",
   "execution_count": 199,
   "id": "faa9fe53",
   "metadata": {},
   "outputs": [
    {
     "data": {
      "text/plain": [
       "array([ 3,  2,  5,  1,  1,  3,  5, 43,  3, 56,  5,  4,  2,  6,  4])"
      ]
     },
     "execution_count": 199,
     "metadata": {},
     "output_type": "execute_result"
    }
   ],
   "source": [
    "a"
   ]
  },
  {
   "cell_type": "code",
   "execution_count": 202,
   "id": "463722db",
   "metadata": {},
   "outputs": [
    {
     "data": {
      "text/plain": [
       "array([ 3,  5,  1, 43,  3, 56,  5,  4,  2,  6,  4])"
      ]
     },
     "execution_count": 202,
     "metadata": {},
     "output_type": "execute_result"
    }
   ],
   "source": [
    "np.delete(a,[4,6,5,1]) # at these positions the elements will be deleted here."
   ]
  },
  {
   "cell_type": "markdown",
   "id": "d401398f",
   "metadata": {},
   "source": [
    "# lec 18\n",
    "# The concept of Matrix Numpy Arrays in Python"
   ]
  },
  {
   "cell_type": "markdown",
   "id": "863085fd",
   "metadata": {},
   "source": [
    "1. Matrix and Arrays concept are both so much different.\n",
    "2. So only we confuses about the axis 0 and 1 by comparing to the matrix row and columns,\n"
   ]
  },
  {
   "cell_type": "code",
   "execution_count": 226,
   "id": "ea08659e",
   "metadata": {},
   "outputs": [
    {
     "name": "stdout",
     "output_type": "stream",
     "text": [
      "[[1 2 3]\n",
      " [4 5 6]\n",
      " [7 8 9]]\n"
     ]
    }
   ],
   "source": [
    "a1=np.matrix([[1,2,3],[4,5,6],[7,8,9]])\n",
    "print(a1)"
   ]
  },
  {
   "cell_type": "code",
   "execution_count": 227,
   "id": "a7310c9c",
   "metadata": {},
   "outputs": [
    {
     "name": "stdout",
     "output_type": "stream",
     "text": [
      "[[3 4 5]\n",
      " [8 7 6]\n",
      " [3 5 4]]\n"
     ]
    }
   ],
   "source": [
    "a2=np.matrix([[3,4,5],[8,7,6],[3,5,4]])\n",
    "print(a2)"
   ]
  },
  {
   "cell_type": "code",
   "execution_count": 206,
   "id": "b05aea8c",
   "metadata": {},
   "outputs": [
    {
     "data": {
      "text/plain": [
       "matrix([[ 28,  33,  29],\n",
       "        [ 70,  81,  74],\n",
       "        [112, 129, 119]])"
      ]
     },
     "execution_count": 206,
     "metadata": {},
     "output_type": "execute_result"
    }
   ],
   "source": [
    "np.matmul(a1,a2)"
   ]
  },
  {
   "cell_type": "code",
   "execution_count": 207,
   "id": "1e1b1a67",
   "metadata": {},
   "outputs": [
    {
     "data": {
      "text/plain": [
       "matrix([[ 28,  33,  29],\n",
       "        [ 70,  81,  74],\n",
       "        [112, 129, 119]])"
      ]
     },
     "execution_count": 207,
     "metadata": {},
     "output_type": "execute_result"
    }
   ],
   "source": [
    "a1.dot(a2)"
   ]
  },
  {
   "cell_type": "code",
   "execution_count": 209,
   "id": "1e745c1c",
   "metadata": {},
   "outputs": [
    {
     "data": {
      "text/plain": [
       "matrix([[ 28,  33,  29],\n",
       "        [ 70,  81,  74],\n",
       "        [112, 129, 119]])"
      ]
     },
     "execution_count": 209,
     "metadata": {},
     "output_type": "execute_result"
    }
   ],
   "source": [
    "a1*a2 # since both are matrcies, here it is also a matrix multiplication only."
   ]
  },
  {
   "cell_type": "code",
   "execution_count": 212,
   "id": "5fbef737",
   "metadata": {},
   "outputs": [
    {
     "data": {
      "text/plain": [
       "array([[ 3,  8, 15],\n",
       "       [32, 35, 36],\n",
       "       [21, 40, 36]])"
      ]
     },
     "execution_count": 212,
     "metadata": {},
     "output_type": "execute_result"
    }
   ],
   "source": [
    "v1=np.array([[1,2,3],[4,5,6],[7,8,9]])\n",
    "v2=np.array([[3,4,5],[8,7,6],[3,5,4]])\n",
    "v1*v2 #element wise multiplication here."
   ]
  },
  {
   "cell_type": "code",
   "execution_count": 213,
   "id": "a703a276",
   "metadata": {},
   "outputs": [
    {
     "data": {
      "text/plain": [
       "matrix([[1, 4, 7],\n",
       "        [2, 5, 8],\n",
       "        [3, 6, 9]])"
      ]
     },
     "execution_count": 213,
     "metadata": {},
     "output_type": "execute_result"
    }
   ],
   "source": [
    "a1.T"
   ]
  },
  {
   "cell_type": "code",
   "execution_count": 214,
   "id": "c438a436",
   "metadata": {},
   "outputs": [
    {
     "data": {
      "text/plain": [
       "matrix([[3, 8, 3],\n",
       "        [4, 7, 5],\n",
       "        [5, 6, 4]])"
      ]
     },
     "execution_count": 214,
     "metadata": {},
     "output_type": "execute_result"
    }
   ],
   "source": [
    "np.transpose(a2)"
   ]
  },
  {
   "cell_type": "code",
   "execution_count": 218,
   "id": "97485923",
   "metadata": {},
   "outputs": [
    {
     "data": {
      "text/plain": [
       "matrix([[1, 4, 7],\n",
       "        [2, 5, 8],\n",
       "        [3, 6, 9]])"
      ]
     },
     "execution_count": 218,
     "metadata": {},
     "output_type": "execute_result"
    }
   ],
   "source": [
    "np.swapaxes(a1,0,1) # swapping the axes."
   ]
  },
  {
   "cell_type": "code",
   "execution_count": 219,
   "id": "9a7bdd46",
   "metadata": {},
   "outputs": [
    {
     "name": "stdout",
     "output_type": "stream",
     "text": [
      "[[1 2 3]\n",
      " [4 5 6]\n",
      " [7 8 9]]\n"
     ]
    }
   ],
   "source": [
    "# inverse (a ^-1)\n",
    "print(a1)"
   ]
  },
  {
   "cell_type": "code",
   "execution_count": 220,
   "id": "2e2f716e",
   "metadata": {},
   "outputs": [
    {
     "name": "stdout",
     "output_type": "stream",
     "text": [
      "[[ 3.15251974e+15 -6.30503948e+15  3.15251974e+15]\n",
      " [-6.30503948e+15  1.26100790e+16 -6.30503948e+15]\n",
      " [ 3.15251974e+15 -6.30503948e+15  3.15251974e+15]]\n"
     ]
    }
   ],
   "source": [
    "print(np.linalg.inv(a1))"
   ]
  },
  {
   "cell_type": "markdown",
   "id": "469e576e",
   "metadata": {},
   "source": [
    "# power of a matrix"
   ]
  },
  {
   "cell_type": "code",
   "execution_count": 228,
   "id": "6b6d65ef",
   "metadata": {},
   "outputs": [
    {
     "data": {
      "text/plain": [
       "matrix([[ 30,  36,  42],\n",
       "        [ 66,  81,  96],\n",
       "        [102, 126, 150]])"
      ]
     },
     "execution_count": 228,
     "metadata": {},
     "output_type": "execute_result"
    }
   ],
   "source": [
    "np.linalg.matrix_power(a1,2) # here for that value,it can be >0,<0,=0"
   ]
  },
  {
   "cell_type": "code",
   "execution_count": 229,
   "id": "7b11fe15",
   "metadata": {},
   "outputs": [
    {
     "data": {
      "text/plain": [
       "matrix([[1, 0, 0],\n",
       "        [0, 1, 0],\n",
       "        [0, 0, 1]])"
      ]
     },
     "execution_count": 229,
     "metadata": {},
     "output_type": "execute_result"
    }
   ],
   "source": [
    "np.linalg.matrix_power(a1,0) # gives Identity matrix or unit matrix"
   ]
  },
  {
   "cell_type": "code",
   "execution_count": 230,
   "id": "00bbc780",
   "metadata": {},
   "outputs": [
    {
     "data": {
      "text/plain": [
       "matrix([[ 5.96302842e+31, -1.19260568e+32,  5.96302842e+31],\n",
       "        [-1.19260568e+32,  2.38521137e+32, -1.19260568e+32],\n",
       "        [ 5.96302842e+31, -1.19260568e+32,  5.96302842e+31]])"
      ]
     },
     "execution_count": 230,
     "metadata": {},
     "output_type": "execute_result"
    }
   ],
   "source": [
    "np.linalg.matrix_power(a1,-2)"
   ]
  },
  {
   "cell_type": "code",
   "execution_count": 231,
   "id": "393b0784",
   "metadata": {},
   "outputs": [
    {
     "data": {
      "text/plain": [
       "-9.51619735392994e-16"
      ]
     },
     "execution_count": 231,
     "metadata": {},
     "output_type": "execute_result"
    }
   ],
   "source": [
    "np.linalg.det(a1)"
   ]
  },
  {
   "cell_type": "code",
   "execution_count": null,
   "id": "a9b8e0c7",
   "metadata": {},
   "outputs": [],
   "source": []
  }
 ],
 "metadata": {
  "kernelspec": {
   "display_name": "Python 3 (ipykernel)",
   "language": "python",
   "name": "python3"
  },
  "language_info": {
   "codemirror_mode": {
    "name": "ipython",
    "version": 3
   },
   "file_extension": ".py",
   "mimetype": "text/x-python",
   "name": "python",
   "nbconvert_exporter": "python",
   "pygments_lexer": "ipython3",
   "version": "3.9.13"
  }
 },
 "nbformat": 4,
 "nbformat_minor": 5
}

{
 "cells": [
  {
   "cell_type": "markdown",
   "id": "2202e8f0",
   "metadata": {},
   "source": [
    "# lec1\n",
    "## How to install Numpy"
   ]
  },
  {
   "cell_type": "raw",
   "id": "ad4090d8",
   "metadata": {},
   "source": [
    "Python IDE:\n",
    " IDE means Integrated Development Environment i.e, a environment which is used to develop the code.\n",
    " \n",
    " ex-: IDLE(default IDE):no packages should be installed with this.\n",
    " Libraries should be installed explicitly.\n",
    " \n",
    " JUPYTER,Pycharm,Pydev,sublime text.here many libraries already installed within them implicitly."
   ]
  },
  {
   "cell_type": "raw",
   "id": "fb459c9d",
   "metadata": {},
   "source": [
    "pip is used to install the packages or the libraries.\n",
    "pip install numpy : give this command in command prompt to install numpy."
   ]
  },
  {
   "cell_type": "markdown",
   "id": "082d89a4",
   "metadata": {},
   "source": [
    "# lec 2\n",
    "## Basics of Numpy(creation of ndarray)"
   ]
  },
  {
   "cell_type": "markdown",
   "id": "89c8a58e",
   "metadata": {},
   "source": [
    "1. Numerical Python.\n",
    "2. Provides lot of functions to work in a domain of linear algebra,fourier transforms and matrices.\n",
    "3. Provides functions related to arrays.\n",
    "4. Creates an array called ndarray.\n",
    "5. Working of ndarray is faster than list."
   ]
  },
  {
   "cell_type": "code",
   "execution_count": 4,
   "id": "ed3ab4ff",
   "metadata": {},
   "outputs": [
    {
     "data": {
      "text/plain": [
       "'1.21.5'"
      ]
     },
     "execution_count": 4,
     "metadata": {},
     "output_type": "execute_result"
    }
   ],
   "source": [
    "import numpy \n",
    "numpy.__version__ # gives the version present in the system."
   ]
  },
  {
   "cell_type": "raw",
   "id": "c6a423bf",
   "metadata": {},
   "source": [
    "Most of the part of Numpy is written in C and C++."
   ]
  },
  {
   "cell_type": "markdown",
   "id": "249453a9",
   "metadata": {},
   "source": [
    "1.To create an ndarray(array) we have to use array() and pass either list or tuple."
   ]
  },
  {
   "cell_type": "code",
   "execution_count": 7,
   "id": "e41b0345",
   "metadata": {},
   "outputs": [
    {
     "name": "stdout",
     "output_type": "stream",
     "text": [
      "[1 2 3]\n"
     ]
    }
   ],
   "source": [
    "import numpy as np\n",
    "a=np.array([1,2,3])\n",
    "print(a)"
   ]
  },
  {
   "cell_type": "raw",
   "id": "69081b6b",
   "metadata": {},
   "source": [
    "1. 0-D array: only one element is passed here.\n",
    "   np.array(45) -> 45  \n",
    "2. 1-D array: here array of 0-D elements is passed here.\n",
    "   np.array([1,2,3,4] -> [1 2 3 4] .. it is simply an array of 0-D elements.\n",
    "   \n",
    "3. 2-D array: here array of 1-D elements is passed here.\n",
    "   np.array([[1,2,3],[4,5,6],[6,7,8]])\n",
    "    it is simply an array of 1D array elements."
   ]
  },
  {
   "cell_type": "raw",
   "id": "3e993469",
   "metadata": {},
   "source": [
    "4. 3-D array: here array of 2-D elements is passed here.\n",
    "    np.array([[[1,2,3],[4,5,6],[6,7,8]],[[1,2,3],[4,5,6],[6,7,8]]])\n",
    "     it is simply an array of 2D array elements."
   ]
  },
  {
   "cell_type": "raw",
   "id": "b2bad0be",
   "metadata": {},
   "source": [
    "Dimension--> level of the depth of the array.\n",
    " ndim is used to get the dimension of the array.    "
   ]
  },
  {
   "cell_type": "code",
   "execution_count": 11,
   "id": "9cdda44f",
   "metadata": {},
   "outputs": [
    {
     "name": "stdout",
     "output_type": "stream",
     "text": [
      "9\n"
     ]
    }
   ],
   "source": [
    "d0=np.array(9)\n",
    "print(d0) # 0D array"
   ]
  },
  {
   "cell_type": "code",
   "execution_count": 12,
   "id": "dabb28e6",
   "metadata": {},
   "outputs": [
    {
     "name": "stdout",
     "output_type": "stream",
     "text": [
      "[1 2 3]\n"
     ]
    }
   ],
   "source": [
    "d1=np.array([1,2,3])\n",
    "print(d1)"
   ]
  },
  {
   "cell_type": "code",
   "execution_count": 13,
   "id": "b60ebb02",
   "metadata": {},
   "outputs": [],
   "source": [
    "d2=np.array([[1,2,3],[3,4,5]])"
   ]
  },
  {
   "cell_type": "code",
   "execution_count": 14,
   "id": "47cf7684",
   "metadata": {},
   "outputs": [
    {
     "name": "stdout",
     "output_type": "stream",
     "text": [
      "[[1 2 3]\n",
      " [3 4 5]]\n"
     ]
    }
   ],
   "source": [
    "print(d2)"
   ]
  },
  {
   "cell_type": "code",
   "execution_count": 15,
   "id": "41a21cee",
   "metadata": {},
   "outputs": [
    {
     "data": {
      "text/plain": [
       "1"
      ]
     },
     "execution_count": 15,
     "metadata": {},
     "output_type": "execute_result"
    }
   ],
   "source": [
    "d1.ndim"
   ]
  },
  {
   "cell_type": "code",
   "execution_count": 16,
   "id": "9c5146dd",
   "metadata": {},
   "outputs": [
    {
     "data": {
      "text/plain": [
       "2"
      ]
     },
     "execution_count": 16,
     "metadata": {},
     "output_type": "execute_result"
    }
   ],
   "source": [
    "d2.ndim"
   ]
  },
  {
   "cell_type": "code",
   "execution_count": 17,
   "id": "4b9ac218",
   "metadata": {},
   "outputs": [
    {
     "data": {
      "text/plain": [
       "numpy.ndarray"
      ]
     },
     "execution_count": 17,
     "metadata": {},
     "output_type": "execute_result"
    }
   ],
   "source": [
    "type(d2)"
   ]
  },
  {
   "cell_type": "markdown",
   "id": "7a4394aa",
   "metadata": {},
   "source": [
    "# lec 3\n",
    "## ASARRAY(),FROMBUFFER(),FROMITER() IN NUMPY(ARRAYS WITH EXISTING DATA)"
   ]
  },
  {
   "cell_type": "raw",
   "id": "aaf1d54e",
   "metadata": {},
   "source": [
    "# Arrays with existing data\n",
    "1. asarray:\n",
    "  convert the given input into the required data type. takes three arguments.\n",
    "  asarray(input,datatype,order)\n",
    "  \n",
    "  input can be a list or tuple or any combination.\n",
    "  datatype can be int or str or floats\n",
    "  order will be either row or column major [ row major-C,column major-F]\n",
    "  [[1 2 3]\n",
    "  [4 5 6]]..\n",
    "  for this 2D array if we give row major order we get output as :[1 2 3 4 5 6]\n",
    "  and column major order :[1 4 2 5 3 6]\n",
    "   row major order \n",
    "   nditer() helps to show the difference between column major and row major order."
   ]
  },
  {
   "cell_type": "code",
   "execution_count": 2,
   "id": "03d288d6",
   "metadata": {},
   "outputs": [
    {
     "data": {
      "text/plain": [
       "array([1., 2., 3., 4.])"
      ]
     },
     "execution_count": 2,
     "metadata": {},
     "output_type": "execute_result"
    }
   ],
   "source": [
    "import numpy as np\n",
    "l1=[1,2,3,4]\n",
    "np.asarray(l1,dtype=\"float\",order=\"C\")"
   ]
  },
  {
   "cell_type": "code",
   "execution_count": 3,
   "id": "972649d0",
   "metadata": {},
   "outputs": [
    {
     "data": {
      "text/plain": [
       "array([1., 2., 3., 4.])"
      ]
     },
     "execution_count": 3,
     "metadata": {},
     "output_type": "execute_result"
    }
   ],
   "source": [
    "l1=[1,2,3,4]\n",
    "np.asarray(l1,dtype=\"float\",order=\"F\")"
   ]
  },
  {
   "cell_type": "code",
   "execution_count": 7,
   "id": "5ad6d612",
   "metadata": {},
   "outputs": [
    {
     "data": {
      "text/plain": [
       "array([[1., 2., 3., 4.],\n",
       "       [2., 6., 5., 9.]])"
      ]
     },
     "execution_count": 7,
     "metadata": {},
     "output_type": "execute_result"
    }
   ],
   "source": [
    "l2=[[1,2,3,4],[2,6,5,9]]\n",
    "np.asarray(l2,dtype=\"float\",order=\"C\")"
   ]
  },
  {
   "cell_type": "code",
   "execution_count": 10,
   "id": "762f3372",
   "metadata": {},
   "outputs": [
    {
     "data": {
      "text/plain": [
       "array([[1., 2., 3., 4.],\n",
       "       [2., 6., 5., 9.]])"
      ]
     },
     "execution_count": 10,
     "metadata": {},
     "output_type": "execute_result"
    }
   ],
   "source": [
    "l2=[[1,2,3,4],[2,6,5,9]]\n",
    "np.asarray(l2,dtype=\"float\",order=\"F\") # here we won't observe any change here.\n",
    "# print all the elements using nditer.\n",
    "# nditer() prints all the elements in 1D  array."
   ]
  },
  {
   "cell_type": "raw",
   "id": "e0ed698a",
   "metadata": {},
   "source": [
    "2. frombuffer:\n",
    "    it takes 4 parameters. (buffer,dtype,count,offset)\n",
    "    buffer means nothing but the input data u going to pass.\n",
    "    dtype can be int or float or (string)\n",
    "    count means the number of elements we want to return(default is -1 which means entire string).\n",
    "    offset means the no of elements to jump from starting position. default is 0.\n",
    "    \n",
    "    this will create an array with given datatype of given length from given position.\n",
    "    \n",
    "    \n",
    "    ex- s=b\"welcome\"  # since b is given it will consider as byte (ascii values) not as a string here.\n",
    "         \n",
    "        frombuffer(s,dtype=\"S1\",count=-1,offset=0) # count and offset are otional here."
   ]
  },
  {
   "cell_type": "code",
   "execution_count": 31,
   "id": "4da74b6f",
   "metadata": {},
   "outputs": [
    {
     "data": {
      "text/plain": [
       "array([b'w', b'e', b'l', b'c', b'o', b'm', b'e'], dtype='|S1')"
      ]
     },
     "execution_count": 31,
     "metadata": {},
     "output_type": "execute_result"
    }
   ],
   "source": [
    "s=b\"welcome\"\n",
    "np.frombuffer(s,dtype=\"S1\",count=-1,offset=0)"
   ]
  },
  {
   "cell_type": "raw",
   "id": "2d54bf69",
   "metadata": {},
   "source": [
    "3. fromiter:\n",
    " takes an iterable sequence and gives the array with given count\n",
    "  fromiter(iterable,dtype,count)\n",
    "     # default count value is -1\n",
    "        \n",
    "        t=(10,20,30,40)\n",
    "        np.fromiter(t,dtype=\"float\",count=-1)"
   ]
  },
  {
   "cell_type": "code",
   "execution_count": 19,
   "id": "48f7baef",
   "metadata": {},
   "outputs": [],
   "source": [
    "a=np.array([10,20,30,40])\n"
   ]
  },
  {
   "cell_type": "code",
   "execution_count": 20,
   "id": "270e274a",
   "metadata": {},
   "outputs": [
    {
     "data": {
      "text/plain": [
       "array([10, 20, 30, 40])"
      ]
     },
     "execution_count": 20,
     "metadata": {},
     "output_type": "execute_result"
    }
   ],
   "source": [
    "a"
   ]
  },
  {
   "cell_type": "code",
   "execution_count": 21,
   "id": "ec154a79",
   "metadata": {},
   "outputs": [],
   "source": [
    "res=np.asarray(a,dtype=\"float\",order=\"C\")"
   ]
  },
  {
   "cell_type": "code",
   "execution_count": 22,
   "id": "181ce903",
   "metadata": {},
   "outputs": [
    {
     "name": "stdout",
     "output_type": "stream",
     "text": [
      "[10. 20. 30. 40.]\n"
     ]
    }
   ],
   "source": [
    "print(res)"
   ]
  },
  {
   "cell_type": "code",
   "execution_count": 25,
   "id": "23f8aaab",
   "metadata": {},
   "outputs": [],
   "source": [
    "l2=[[1,2,3,4],[2,6,5,9]]\n",
    "res1=np.asarray(l2,dtype=\"float\",order=\"F\") # here we won't observe any change here. "
   ]
  },
  {
   "cell_type": "code",
   "execution_count": 26,
   "id": "24d57c4a",
   "metadata": {},
   "outputs": [
    {
     "name": "stdout",
     "output_type": "stream",
     "text": [
      "[[1. 2. 3. 4.]\n",
      " [2. 6. 5. 9.]]\n"
     ]
    }
   ],
   "source": [
    "print(res1)"
   ]
  },
  {
   "cell_type": "code",
   "execution_count": 28,
   "id": "0482f8e6",
   "metadata": {},
   "outputs": [
    {
     "name": "stdout",
     "output_type": "stream",
     "text": [
      "1.0\n",
      "2.0\n",
      "2.0\n",
      "6.0\n",
      "3.0\n",
      "5.0\n",
      "4.0\n",
      "9.0\n"
     ]
    }
   ],
   "source": [
    "# print all the elements using nditer.\n",
    "# nditer() prints all the elements in 1D  array.\n",
    "\n",
    "for i in np.nditer(res1): # here we can observe the difference neatly.\n",
    "    print(i)"
   ]
  },
  {
   "cell_type": "code",
   "execution_count": 30,
   "id": "5919bc5c",
   "metadata": {},
   "outputs": [
    {
     "name": "stdout",
     "output_type": "stream",
     "text": [
      "1.0\n",
      "2.0\n",
      "3.0\n",
      "4.0\n",
      "2.0\n",
      "6.0\n",
      "5.0\n",
      "9.0\n"
     ]
    }
   ],
   "source": [
    "l2=[[1,2,3,4],[2,6,5,9]]\n",
    "res1=np.asarray(l2,dtype=\"float\",order=\"C\")\n",
    "for i in np.nditer(res1): # here we can observe the difference neatly.\n",
    "    print(i)"
   ]
  },
  {
   "cell_type": "code",
   "execution_count": 34,
   "id": "e029421f",
   "metadata": {},
   "outputs": [
    {
     "name": "stdout",
     "output_type": "stream",
     "text": [
      "[b'o' b'_' b'w' b'o' b'r']\n"
     ]
    }
   ],
   "source": [
    "s=b\"hello_world\" # here b means which means this data will be stored in bytes format not as strings.\n",
    "res=np.frombuffer(s,dtype=\"S1\",count=5,offset=4)\n",
    "print(res)"
   ]
  },
  {
   "cell_type": "code",
   "execution_count": 35,
   "id": "81fc8e9f",
   "metadata": {},
   "outputs": [],
   "source": [
    "list1=[10,20,3,4,5,6,7,8]\n",
    "d=np.fromiter(list1,dtype=\"S1\",count=-1)"
   ]
  },
  {
   "cell_type": "code",
   "execution_count": 36,
   "id": "ed75c4aa",
   "metadata": {},
   "outputs": [
    {
     "name": "stdout",
     "output_type": "stream",
     "text": [
      "[b'1' b'2' b'3' b'4' b'5' b'6' b'7' b'8']\n"
     ]
    }
   ],
   "source": [
    "print(d)"
   ]
  },
  {
   "cell_type": "markdown",
   "id": "a5262db7",
   "metadata": {},
   "source": [
    "# lec 4\n",
    "## ARANGE(),LINSPACE(),LOGSPACE() IN NUMPY (ARRAYS WITH NUMERICAL RANGES)"
   ]
  },
  {
   "cell_type": "raw",
   "id": "b545b7ef",
   "metadata": {},
   "source": [
    "#arrays with numerical ranges\n",
    "1.arange(),linspace(),logspace()\n",
    "     here we pass numerical ranges as inputs and they returns an array with values in given range and required datatype.\n",
    "    all these have commonly start index,end  index,and datatype(optional)\n",
    "    \n",
    "    \n",
    "    \n",
    "1.ARANGE():\n",
    "    \n",
    "    \n",
    "    arange(start,stop,stepsize,dtype)  stepsize-difference between the two values,dtype is optional\n",
    "    #stop value is not included here."
   ]
  },
  {
   "cell_type": "code",
   "execution_count": 5,
   "id": "c9e7bd7f",
   "metadata": {},
   "outputs": [
    {
     "data": {
      "text/plain": [
       "array([ 1.,  3.,  5.,  7.,  9., 11.])"
      ]
     },
     "execution_count": 5,
     "metadata": {},
     "output_type": "execute_result"
    }
   ],
   "source": [
    "import numpy as np\n",
    "np.arange(1,12,2,dtype=\"float\") # we given stepsize as 2. so the difference between the elements is 2."
   ]
  },
  {
   "cell_type": "raw",
   "id": "2a56ea31",
   "metadata": {},
   "source": [
    "2. linspace()\n",
    "  linspace(start,stop,num,endpoint,retstep,dtype)\n",
    "    \n",
    "    num-> the number of elements u want to return in the array.[optional and default value is 50]. \n",
    "    endpoint-> suppose if the endpoint is True then the stop index value is also included else if it is False then end value is not included.[optional and default is True ]\n",
    "    retstep-> returns the stepsize between the each elements in the array.[difference between the values]\n",
    "             if True then stepsize will be visible else if it given False then stepsize is not visible.[default value is False]\n",
    "             \n",
    "             \n",
    "    "
   ]
  },
  {
   "cell_type": "code",
   "execution_count": 13,
   "id": "7f46f220",
   "metadata": {},
   "outputs": [
    {
     "name": "stdout",
     "output_type": "stream",
     "text": [
      "(array([ 1.  ,  3.25,  5.5 ,  7.75, 10.  ]), 2.25)\n"
     ]
    }
   ],
   "source": [
    "print(np.linspace(1,10,num=5,endpoint=True,retstep=True,dtype=\"float\")) # here the stepsize is 2.25"
   ]
  },
  {
   "cell_type": "code",
   "execution_count": 14,
   "id": "d6580c81",
   "metadata": {},
   "outputs": [
    {
     "name": "stdout",
     "output_type": "stream",
     "text": [
      "(array([1, 2, 4, 6, 8]), 1.8)\n"
     ]
    }
   ],
   "source": [
    "print(np.linspace(1,10,5,endpoint=False,retstep=True,dtype=\"int\"))"
   ]
  },
  {
   "cell_type": "code",
   "execution_count": 15,
   "id": "e8390d59",
   "metadata": {},
   "outputs": [
    {
     "data": {
      "text/plain": [
       "array([ 1.        ,  1.2244898 ,  1.44897959,  1.67346939,  1.89795918,\n",
       "        2.12244898,  2.34693878,  2.57142857,  2.79591837,  3.02040816,\n",
       "        3.24489796,  3.46938776,  3.69387755,  3.91836735,  4.14285714,\n",
       "        4.36734694,  4.59183673,  4.81632653,  5.04081633,  5.26530612,\n",
       "        5.48979592,  5.71428571,  5.93877551,  6.16326531,  6.3877551 ,\n",
       "        6.6122449 ,  6.83673469,  7.06122449,  7.28571429,  7.51020408,\n",
       "        7.73469388,  7.95918367,  8.18367347,  8.40816327,  8.63265306,\n",
       "        8.85714286,  9.08163265,  9.30612245,  9.53061224,  9.75510204,\n",
       "        9.97959184, 10.20408163, 10.42857143, 10.65306122, 10.87755102,\n",
       "       11.10204082, 11.32653061, 11.55102041, 11.7755102 , 12.        ])"
      ]
     },
     "execution_count": 15,
     "metadata": {},
     "output_type": "execute_result"
    }
   ],
   "source": [
    "np.linspace(1,12,endpoint=True) # 50 values will be returned here since count is not given."
   ]
  },
  {
   "cell_type": "raw",
   "id": "7e13221e",
   "metadata": {},
   "source": [
    "3.logspace(): # here it returns logarithmic values in the array so base is there in the parameter list.\n",
    "    logspace(start,stop,num,endpoint,base,dtype)\n",
    "    \n",
    "    start->lower bound\n",
    "    end->upper bound\n",
    "    num->default value is 50 \n",
    "    endpoint-> suppose if the endpoint is True then the stop index value is also included else if it is False then end value is not included.[optional and default is True ]\n",
    "    base= base of log value [optional]\n",
    "    default value is 10 \n",
    "    dtype-int /float [optional]\n",
    "    "
   ]
  },
  {
   "cell_type": "code",
   "execution_count": 17,
   "id": "bed322dc",
   "metadata": {},
   "outputs": [
    {
     "data": {
      "text/plain": [
       "array([  2.        ,   6.96440451,  24.25146506,  84.44850629,\n",
       "       294.06677888])"
      ]
     },
     "execution_count": 17,
     "metadata": {},
     "output_type": "execute_result"
    }
   ],
   "source": [
    "np.logspace(1,10,num=5,endpoint=False,base=2)"
   ]
  },
  {
   "cell_type": "code",
   "execution_count": 18,
   "id": "71164934",
   "metadata": {},
   "outputs": [
    {
     "name": "stdout",
     "output_type": "stream",
     "text": [
      "[   2.            2.27154434    2.57995685    2.9302432     3.32808868\n",
      "    3.77995051    4.2931626     4.87605462    5.53808714    6.29000526\n",
      "    7.14401294    8.1139711     9.21562258   10.46684767   11.88795431\n",
      "   13.50200769   15.3352046    17.41729864   19.78208311   22.4679395\n",
      "   25.51846045   28.98315726   32.91826347   37.3876476    42.46384973\n",
      "   48.22925884   54.77745007   62.21470345   70.66172888   80.25562529\n",
      "   91.15210586  103.52802526  117.58425012  133.54891916  151.681146\n",
      "  172.27522466  195.66540611  222.2313233   252.40415277  286.67361283\n",
      "  325.59591193  369.80277612  420.01170228  477.0376034   541.80603498\n",
      "  615.3682172   698.91809669  793.81172479  901.5892669  1024.        ]\n"
     ]
    }
   ],
   "source": [
    "print(np.logspace(1,10,endpoint=True,base=2))"
   ]
  },
  {
   "cell_type": "markdown",
   "id": "7dd3918d",
   "metadata": {},
   "source": [
    " # lec 5\n",
    "## Initializing arrays in Numpy(zeros,ones,full,eye functions)"
   ]
  },
  {
   "cell_type": "raw",
   "id": "5f0e3c32",
   "metadata": {},
   "source": [
    "# initialization of arrays in numpy\n",
    "shape() -> this function will return a tuple specifying indices and no of elements.\n",
    " [[1,2,3],[4,5,6]] # gives as(2,3) means 2 indices and each index containing 3 elements. just like the order of the matrix\n",
    "    # simply we can say as 2 indices with each 3 elements.\n",
    "reshape()-> change into another shape with different row and order.\n",
    " accepts array name and the shape dimensions u want.The total number of elements should be same in reshape result also.\n",
    "    np.reshape(a,(3,2)"
   ]
  },
  {
   "cell_type": "raw",
   "id": "f9611e47",
   "metadata": {},
   "source": [
    "1.zeros():\n",
    "     a. fills the array with all zeros\n",
    "     b. dtype is int or float and default is float only.\n",
    "     c. shape dimensions should be given.\n",
    "        \n",
    "        np.zeros((2,3),dtype=\"int\")"
   ]
  },
  {
   "cell_type": "code",
   "execution_count": 19,
   "id": "d7540530",
   "metadata": {},
   "outputs": [
    {
     "name": "stdout",
     "output_type": "stream",
     "text": [
      "[[0. 0. 0.]\n",
      " [0. 0. 0.]]\n"
     ]
    }
   ],
   "source": [
    "print(np.zeros((2,3)))"
   ]
  },
  {
   "cell_type": "code",
   "execution_count": 20,
   "id": "3c0f7bfe",
   "metadata": {},
   "outputs": [
    {
     "data": {
      "text/plain": [
       "array([[0, 0, 0],\n",
       "       [0, 0, 0]])"
      ]
     },
     "execution_count": 20,
     "metadata": {},
     "output_type": "execute_result"
    }
   ],
   "source": [
    "np.zeros((2,3),dtype=\"int\")"
   ]
  },
  {
   "cell_type": "raw",
   "id": "a2f2fcc2",
   "metadata": {},
   "source": [
    "2. ones():\n",
    "   a. fills the array with all ones \n",
    "     b. dtype is int or float and default is float only.\n",
    "     c. shape dimensions should be given.\n",
    "        \n",
    "        np.ones((2,3),dtype=\"int\")"
   ]
  },
  {
   "cell_type": "code",
   "execution_count": 21,
   "id": "04a13f16",
   "metadata": {},
   "outputs": [
    {
     "data": {
      "text/plain": [
       "array([1., 1., 1.])"
      ]
     },
     "execution_count": 21,
     "metadata": {},
     "output_type": "execute_result"
    }
   ],
   "source": [
    "np.ones(3)"
   ]
  },
  {
   "cell_type": "code",
   "execution_count": 22,
   "id": "a3a88cc1",
   "metadata": {},
   "outputs": [
    {
     "data": {
      "text/plain": [
       "array([[1, 1, 1, 1],\n",
       "       [1, 1, 1, 1],\n",
       "       [1, 1, 1, 1]])"
      ]
     },
     "execution_count": 22,
     "metadata": {},
     "output_type": "execute_result"
    }
   ],
   "source": [
    "np.ones((3,4),dtype=\"int\")"
   ]
  },
  {
   "cell_type": "raw",
   "id": "6a6491cb",
   "metadata": {},
   "source": [
    "3.full():\n",
    "    fills all the values with the given element.\n",
    "    \n",
    "    np.full((shape,default value)\n",
    "    "
   ]
  },
  {
   "cell_type": "code",
   "execution_count": 24,
   "id": "772bfecf",
   "metadata": {},
   "outputs": [
    {
     "data": {
      "text/plain": [
       "array([[6, 6, 6, 6],\n",
       "       [6, 6, 6, 6],\n",
       "       [6, 6, 6, 6]])"
      ]
     },
     "execution_count": 24,
     "metadata": {},
     "output_type": "execute_result"
    }
   ],
   "source": [
    "np.full((3,4),6)"
   ]
  },
  {
   "cell_type": "raw",
   "id": "fd4b4002",
   "metadata": {},
   "source": [
    "4.eye():\n",
    "  initializes with 1's on all the diagonal positions and remaining elements with zeros in the result.\n",
    "  \n",
    "  eye(shape) or eye(rows/columnns),dtype)"
   ]
  },
  {
   "cell_type": "code",
   "execution_count": 32,
   "id": "a56041af",
   "metadata": {},
   "outputs": [
    {
     "data": {
      "text/plain": [
       "array([[1., 0., 0., 0., 0.],\n",
       "       [0., 1., 0., 0., 0.],\n",
       "       [0., 0., 1., 0., 0.],\n",
       "       [0., 0., 0., 1., 0.]])"
      ]
     },
     "execution_count": 32,
     "metadata": {},
     "output_type": "execute_result"
    }
   ],
   "source": [
    "np.eye(4,5)"
   ]
  },
  {
   "cell_type": "code",
   "execution_count": 33,
   "id": "825a3ebc",
   "metadata": {},
   "outputs": [
    {
     "data": {
      "text/plain": [
       "array([[1., 0., 0., 0.],\n",
       "       [0., 1., 0., 0.],\n",
       "       [0., 0., 1., 0.],\n",
       "       [0., 0., 0., 1.]])"
      ]
     },
     "execution_count": 33,
     "metadata": {},
     "output_type": "execute_result"
    }
   ],
   "source": [
    "np.eye(4)"
   ]
  },
  {
   "cell_type": "code",
   "execution_count": 34,
   "id": "61e63d7b",
   "metadata": {},
   "outputs": [
    {
     "data": {
      "text/plain": [
       "array([[1, 0, 0],\n",
       "       [0, 1, 0],\n",
       "       [0, 0, 1]])"
      ]
     },
     "execution_count": 34,
     "metadata": {},
     "output_type": "execute_result"
    }
   ],
   "source": [
    "np.eye(3,dtype=\"int\")"
   ]
  },
  {
   "cell_type": "code",
   "execution_count": 35,
   "id": "e7adddae",
   "metadata": {},
   "outputs": [
    {
     "name": "stdout",
     "output_type": "stream",
     "text": [
      "[[1 2 3]\n",
      " [4 5 6]\n",
      " [7 8 9]]\n"
     ]
    }
   ],
   "source": [
    "a=np.array([[1,2,3],[4,5,6],[7,8,9]])\n",
    "print(a)"
   ]
  },
  {
   "cell_type": "code",
   "execution_count": 37,
   "id": "f1877775",
   "metadata": {},
   "outputs": [
    {
     "data": {
      "text/plain": [
       "(3, 3)"
      ]
     },
     "execution_count": 37,
     "metadata": {},
     "output_type": "execute_result"
    }
   ],
   "source": [
    "np.shape(a)"
   ]
  },
  {
   "cell_type": "code",
   "execution_count": 38,
   "id": "9bc58dfe",
   "metadata": {},
   "outputs": [
    {
     "data": {
      "text/plain": [
       "array([[1],\n",
       "       [2],\n",
       "       [3],\n",
       "       [4],\n",
       "       [5],\n",
       "       [6],\n",
       "       [7],\n",
       "       [8],\n",
       "       [9]])"
      ]
     },
     "execution_count": 38,
     "metadata": {},
     "output_type": "execute_result"
    }
   ],
   "source": [
    "np.reshape(a,(9,1))"
   ]
  },
  {
   "cell_type": "code",
   "execution_count": 39,
   "id": "ddcb56d7",
   "metadata": {},
   "outputs": [
    {
     "data": {
      "text/plain": [
       "array([[1, 2, 3, 4, 5, 6, 7, 8, 9]])"
      ]
     },
     "execution_count": 39,
     "metadata": {},
     "output_type": "execute_result"
    }
   ],
   "source": [
    "a.reshape(1,9) #we can aslo give this syntax here."
   ]
  },
  {
   "cell_type": "code",
   "execution_count": 41,
   "id": "bab38933",
   "metadata": {},
   "outputs": [
    {
     "data": {
      "text/plain": [
       "array([2, 2, 2, 2, 2, 2, 2])"
      ]
     },
     "execution_count": 41,
     "metadata": {},
     "output_type": "execute_result"
    }
   ],
   "source": [
    "np.full(7,2) # seven elements with all 2 only."
   ]
  },
  {
   "cell_type": "code",
   "execution_count": null,
   "id": "ef2a7da6",
   "metadata": {},
   "outputs": [],
   "source": []
  }
 ],
 "metadata": {
  "kernelspec": {
   "display_name": "Python 3 (ipykernel)",
   "language": "python",
   "name": "python3"
  },
  "language_info": {
   "codemirror_mode": {
    "name": "ipython",
    "version": 3
   },
   "file_extension": ".py",
   "mimetype": "text/x-python",
   "name": "python",
   "nbconvert_exporter": "python",
   "pygments_lexer": "ipython3",
   "version": "3.9.13"
  }
 },
 "nbformat": 4,
 "nbformat_minor": 5
}

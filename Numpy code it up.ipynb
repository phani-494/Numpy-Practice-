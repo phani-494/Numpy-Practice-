{
 "cells": [
  {
   "cell_type": "markdown",
   "id": "021f45ca",
   "metadata": {},
   "source": [
    "# Python Numpy INtroduction\n",
    "## Lec 1"
   ]
  },
  {
   "cell_type": "raw",
   "id": "d7c0ce05",
   "metadata": {},
   "source": [
    "1.Numpy is a python package\n",
    "2.Created in 2005 by Travis Oliphant\n",
    "3.Mathematical and logical calculations on Array.\n",
    "4.Fourier transforms and routines for shape manipulation\n",
    "5.built in funtions for Linear algebra and random number generation\n",
    "6.scientific calculations\n",
    "7.faster than python list\n",
    "8.fast since it is associated with C programming."
   ]
  },
  {
   "cell_type": "code",
   "execution_count": 1,
   "id": "2d13b73a",
   "metadata": {},
   "outputs": [],
   "source": [
    "# array is a collection of similar type of elements "
   ]
  },
  {
   "cell_type": "markdown",
   "id": "c72fe529",
   "metadata": {},
   "source": [
    "# 1D--> Vector\n",
    "# 2D--> Matrix\n",
    "# 3D--> Tensor"
   ]
  },
  {
   "cell_type": "markdown",
   "id": "c79f622d",
   "metadata": {},
   "source": [
    "1. Numpy is used with packages like SciPy (Scientific Python) and Mat-plotlib (plotting library) and this makes it capable to replace MATLAB\n",
    "2. Numpy is often called as an alternate for MATLAB (a programming platform designed specifically for enginners and scientists for Data Analysis,Developing Algorithms ,create models and applications etc."
   ]
  },
  {
   "cell_type": "markdown",
   "id": "064cd181",
   "metadata": {},
   "source": [
    "# lec 2\n",
    "## How to install Numpy (Anaconda)"
   ]
  },
  {
   "cell_type": "raw",
   "id": "7529f417",
   "metadata": {},
   "source": [
    "1.Anaconda is a free Python distribution for SciPy stack.Install it from google\n",
    "2.Once you installed it and if u are not able to install numpy package then use Anaconda prompt a special prompt.\n",
    "3.give command as : conda install numpy"
   ]
  },
  {
   "cell_type": "markdown",
   "id": "d9f3f03f",
   "metadata": {},
   "source": [
    "# lec 3\n",
    "## Writing compiling Executing programs in Numpy "
   ]
  },
  {
   "cell_type": "raw",
   "id": "a1879434",
   "metadata": {},
   "source": [
    "# In Jupyter,there are two modes available.\n",
    "1.Command mode-- >Blue color\n",
    "2.Edit mode-->green color"
   ]
  },
  {
   "cell_type": "markdown",
   "id": "c22b8958",
   "metadata": {},
   "source": [
    "# work with jupyter notebook\n",
    "1. To run program press ctrl+enter\n",
    "2. to run the command as well as insert a cell below- shift+enter\n",
    "3. to insert a cell below just press-\"b\" ( in command mode only works)\n",
    "4. to delete a cell - press esc button (to go to command mode as in Edit mode you can't delete the cell ) and then \"d\" two times.\n",
    "5. In command mode if you press \"a\" then a new cell will be inserted above."
   ]
  },
  {
   "cell_type": "code",
   "execution_count": 2,
   "id": "bec48aef",
   "metadata": {},
   "outputs": [],
   "source": [
    "# in help section,we can find out all the keyboard shortcuts"
   ]
  },
  {
   "cell_type": "code",
   "execution_count": 3,
   "id": "182b5f3c",
   "metadata": {},
   "outputs": [],
   "source": [
    "# to mark something as comment we press escape and then 1 and shift+enter to execute"
   ]
  },
  {
   "cell_type": "markdown",
   "id": "ba867598",
   "metadata": {},
   "source": [
    "# 2+5"
   ]
  },
  {
   "cell_type": "markdown",
   "id": "4ae8c732",
   "metadata": {},
   "source": [
    "# comment section"
   ]
  },
  {
   "cell_type": "markdown",
   "id": "dce4bd49",
   "metadata": {},
   "source": [
    "## lec 4\n",
    "## creating one dimensional array using numpy"
   ]
  },
  {
   "cell_type": "code",
   "execution_count": 4,
   "id": "7584bc4d",
   "metadata": {},
   "outputs": [],
   "source": [
    "import numpy as np\n",
    "a=[1,2,3,4,5,6]\n",
    "b=(6,7,7,897,5,3,2,4,6,787,87)\n",
    "arr1=np.array(a)\n",
    "arr2=np.array(b) # we can pass argument as list or tuple to the array function."
   ]
  },
  {
   "cell_type": "code",
   "execution_count": 5,
   "id": "7fecc289",
   "metadata": {},
   "outputs": [
    {
     "data": {
      "text/plain": [
       "array([1, 2, 3, 4, 5, 6])"
      ]
     },
     "execution_count": 5,
     "metadata": {},
     "output_type": "execute_result"
    }
   ],
   "source": [
    "arr1 # directly gives the array with commas "
   ]
  },
  {
   "cell_type": "code",
   "execution_count": 6,
   "id": "130aab20",
   "metadata": {},
   "outputs": [
    {
     "name": "stdout",
     "output_type": "stream",
     "text": [
      "[1 2 3 4 5 6]\n"
     ]
    }
   ],
   "source": [
    "print(arr1)"
   ]
  },
  {
   "cell_type": "code",
   "execution_count": 7,
   "id": "821f977b",
   "metadata": {},
   "outputs": [
    {
     "name": "stdout",
     "output_type": "stream",
     "text": [
      "[  6   7   7 897   5   3   2   4   6 787  87]\n"
     ]
    }
   ],
   "source": [
    "print(arr2)"
   ]
  },
  {
   "cell_type": "code",
   "execution_count": 8,
   "id": "0d8ee454",
   "metadata": {},
   "outputs": [
    {
     "name": "stdout",
     "output_type": "stream",
     "text": [
      "Enter the range of numbers:6\n",
      "Enter number:54\n",
      "Enter number:90\n",
      "Enter number:43\n",
      "Enter number:32\n",
      "Enter number:12\n",
      "Enter number:90\n",
      "[54 90 43 32 12 90]\n"
     ]
    }
   ],
   "source": [
    "ls=[]\n",
    "n=int(input(\"Enter the range of numbers:\"))\n",
    "for i in range(n):\n",
    "    a=int(input(\"Enter number:\"))\n",
    "    ls.append(a)\n",
    "arr1=np.array(ls)\n",
    "print(arr1)"
   ]
  },
  {
   "cell_type": "markdown",
   "id": "155968b9",
   "metadata": {},
   "source": [
    "# write a program which takes a range of numbers and convert it to array"
   ]
  },
  {
   "cell_type": "code",
   "execution_count": 9,
   "id": "f8702e46",
   "metadata": {},
   "outputs": [
    {
     "name": "stdout",
     "output_type": "stream",
     "text": [
      "Enter the range of numbers:3\n",
      "Enter number:21\n",
      "Enter number:3\n",
      "Enter number:9\n",
      "[21  3  9]\n"
     ]
    }
   ],
   "source": [
    "ls=[]\n",
    "n=int(input(\"Enter the range of numbers:\"))\n",
    "for i in range(n):\n",
    "    a=int(input(\"Enter number:\"))\n",
    "    ls.append(a)\n",
    "arr1=np.array(ls)\n",
    "print(arr1)"
   ]
  },
  {
   "cell_type": "markdown",
   "id": "667f7cc0",
   "metadata": {},
   "source": [
    "# lec 5\n",
    "## creating two dimensional array using numpy"
   ]
  },
  {
   "cell_type": "code",
   "execution_count": 12,
   "id": "58a0c5ef",
   "metadata": {},
   "outputs": [],
   "source": [
    "a1=[[1,2,3],[4,5,6]]\n",
    "arr1=np.array(a1)"
   ]
  },
  {
   "cell_type": "code",
   "execution_count": 13,
   "id": "1431e0e1",
   "metadata": {},
   "outputs": [
    {
     "name": "stdout",
     "output_type": "stream",
     "text": [
      "[[1 2 3]\n",
      " [4 5 6]]\n"
     ]
    }
   ],
   "source": [
    "print(arr1)"
   ]
  },
  {
   "cell_type": "code",
   "execution_count": 16,
   "id": "48558ddf",
   "metadata": {},
   "outputs": [
    {
     "name": "stdout",
     "output_type": "stream",
     "text": [
      "[[1 2 3]\n",
      " [4 5 6]\n",
      " [7 8 9]]\n",
      "Dimension of array is: 2\n",
      "shape of array is : (3, 3)\n"
     ]
    }
   ],
   "source": [
    "a2=[[1,2,3],[4,5,6],[7,8,9]]\n",
    "arr2=np.array(a2)\n",
    "print(arr2)\n",
    "print(\"Dimension of array is:\",arr2.ndim)\n",
    "print(\"shape of array is :\",arr2.shape)"
   ]
  },
  {
   "cell_type": "markdown",
   "id": "636d8964",
   "metadata": {},
   "source": [
    "# lec 6\n",
    "## Numpy functions in Python"
   ]
  },
  {
   "cell_type": "raw",
   "id": "fc99dc4e",
   "metadata": {},
   "source": [
    "1.Zeros: \n",
    "  This function creates an array (either one dimensional or multi dimensional) and fill all the values with zeros(0)."
   ]
  },
  {
   "cell_type": "code",
   "execution_count": 18,
   "id": "296ca6b3",
   "metadata": {},
   "outputs": [],
   "source": [
    "arr=np.zeros(6)"
   ]
  },
  {
   "cell_type": "code",
   "execution_count": 19,
   "id": "dc38d92a",
   "metadata": {},
   "outputs": [
    {
     "name": "stdout",
     "output_type": "stream",
     "text": [
      "[0. 0. 0. 0. 0. 0.]\n"
     ]
    }
   ],
   "source": [
    "print(arr)"
   ]
  },
  {
   "cell_type": "code",
   "execution_count": 20,
   "id": "c0eff7bd",
   "metadata": {},
   "outputs": [],
   "source": [
    "arr1=np.zeros((4,5))"
   ]
  },
  {
   "cell_type": "code",
   "execution_count": 21,
   "id": "29b512ca",
   "metadata": {},
   "outputs": [
    {
     "name": "stdout",
     "output_type": "stream",
     "text": [
      "[[0. 0. 0. 0. 0.]\n",
      " [0. 0. 0. 0. 0.]\n",
      " [0. 0. 0. 0. 0.]\n",
      " [0. 0. 0. 0. 0.]]\n"
     ]
    }
   ],
   "source": [
    "print(arr1)"
   ]
  },
  {
   "cell_type": "code",
   "execution_count": 24,
   "id": "d7c12586",
   "metadata": {},
   "outputs": [],
   "source": [
    "arr1=np.zeros(((4,5,6)))"
   ]
  },
  {
   "cell_type": "code",
   "execution_count": 25,
   "id": "3e5191bd",
   "metadata": {},
   "outputs": [
    {
     "name": "stdout",
     "output_type": "stream",
     "text": [
      "[[[0. 0. 0. 0. 0. 0.]\n",
      "  [0. 0. 0. 0. 0. 0.]\n",
      "  [0. 0. 0. 0. 0. 0.]\n",
      "  [0. 0. 0. 0. 0. 0.]\n",
      "  [0. 0. 0. 0. 0. 0.]]\n",
      "\n",
      " [[0. 0. 0. 0. 0. 0.]\n",
      "  [0. 0. 0. 0. 0. 0.]\n",
      "  [0. 0. 0. 0. 0. 0.]\n",
      "  [0. 0. 0. 0. 0. 0.]\n",
      "  [0. 0. 0. 0. 0. 0.]]\n",
      "\n",
      " [[0. 0. 0. 0. 0. 0.]\n",
      "  [0. 0. 0. 0. 0. 0.]\n",
      "  [0. 0. 0. 0. 0. 0.]\n",
      "  [0. 0. 0. 0. 0. 0.]\n",
      "  [0. 0. 0. 0. 0. 0.]]\n",
      "\n",
      " [[0. 0. 0. 0. 0. 0.]\n",
      "  [0. 0. 0. 0. 0. 0.]\n",
      "  [0. 0. 0. 0. 0. 0.]\n",
      "  [0. 0. 0. 0. 0. 0.]\n",
      "  [0. 0. 0. 0. 0. 0.]]]\n"
     ]
    }
   ],
   "source": [
    "print(arr1)"
   ]
  },
  {
   "cell_type": "code",
   "execution_count": 26,
   "id": "e70060f9",
   "metadata": {},
   "outputs": [
    {
     "data": {
      "text/plain": [
       "array([[[0., 0., 0., 0., 0., 0.],\n",
       "        [0., 0., 0., 0., 0., 0.],\n",
       "        [0., 0., 0., 0., 0., 0.],\n",
       "        [0., 0., 0., 0., 0., 0.],\n",
       "        [0., 0., 0., 0., 0., 0.]],\n",
       "\n",
       "       [[0., 0., 0., 0., 0., 0.],\n",
       "        [0., 0., 0., 0., 0., 0.],\n",
       "        [0., 0., 0., 0., 0., 0.],\n",
       "        [0., 0., 0., 0., 0., 0.],\n",
       "        [0., 0., 0., 0., 0., 0.]],\n",
       "\n",
       "       [[0., 0., 0., 0., 0., 0.],\n",
       "        [0., 0., 0., 0., 0., 0.],\n",
       "        [0., 0., 0., 0., 0., 0.],\n",
       "        [0., 0., 0., 0., 0., 0.],\n",
       "        [0., 0., 0., 0., 0., 0.]],\n",
       "\n",
       "       [[0., 0., 0., 0., 0., 0.],\n",
       "        [0., 0., 0., 0., 0., 0.],\n",
       "        [0., 0., 0., 0., 0., 0.],\n",
       "        [0., 0., 0., 0., 0., 0.],\n",
       "        [0., 0., 0., 0., 0., 0.]]])"
      ]
     },
     "execution_count": 26,
     "metadata": {},
     "output_type": "execute_result"
    }
   ],
   "source": [
    "arr1"
   ]
  },
  {
   "cell_type": "raw",
   "id": "594bbc13",
   "metadata": {},
   "source": [
    "2. Ones : \n",
    " This function creates an array (either one dimensional or multi dimensional) and fill all the values with ones(1)."
   ]
  },
  {
   "cell_type": "code",
   "execution_count": 32,
   "id": "2e5d30ca",
   "metadata": {},
   "outputs": [],
   "source": [
    "arr=np.ones(11)"
   ]
  },
  {
   "cell_type": "code",
   "execution_count": 33,
   "id": "b8aaea42",
   "metadata": {},
   "outputs": [
    {
     "data": {
      "text/plain": [
       "array([1., 1., 1., 1., 1., 1., 1., 1., 1., 1., 1.])"
      ]
     },
     "execution_count": 33,
     "metadata": {},
     "output_type": "execute_result"
    }
   ],
   "source": [
    "arr"
   ]
  },
  {
   "cell_type": "code",
   "execution_count": 34,
   "id": "5a07ded4",
   "metadata": {},
   "outputs": [],
   "source": [
    "arr1=np.ones((3,4))"
   ]
  },
  {
   "cell_type": "code",
   "execution_count": 35,
   "id": "eef2e31c",
   "metadata": {},
   "outputs": [
    {
     "data": {
      "text/plain": [
       "array([[1., 1., 1., 1.],\n",
       "       [1., 1., 1., 1.],\n",
       "       [1., 1., 1., 1.]])"
      ]
     },
     "execution_count": 35,
     "metadata": {},
     "output_type": "execute_result"
    }
   ],
   "source": [
    "arr1"
   ]
  },
  {
   "cell_type": "code",
   "execution_count": 36,
   "id": "33c0af9b",
   "metadata": {},
   "outputs": [],
   "source": [
    "arr2=np.ones(((3,4,5)))"
   ]
  },
  {
   "cell_type": "code",
   "execution_count": 37,
   "id": "33b4b9ac",
   "metadata": {},
   "outputs": [
    {
     "data": {
      "text/plain": [
       "array([[[1., 1., 1., 1., 1.],\n",
       "        [1., 1., 1., 1., 1.],\n",
       "        [1., 1., 1., 1., 1.],\n",
       "        [1., 1., 1., 1., 1.]],\n",
       "\n",
       "       [[1., 1., 1., 1., 1.],\n",
       "        [1., 1., 1., 1., 1.],\n",
       "        [1., 1., 1., 1., 1.],\n",
       "        [1., 1., 1., 1., 1.]],\n",
       "\n",
       "       [[1., 1., 1., 1., 1.],\n",
       "        [1., 1., 1., 1., 1.],\n",
       "        [1., 1., 1., 1., 1.],\n",
       "        [1., 1., 1., 1., 1.]]])"
      ]
     },
     "execution_count": 37,
     "metadata": {},
     "output_type": "execute_result"
    }
   ],
   "source": [
    "arr2"
   ]
  },
  {
   "cell_type": "raw",
   "id": "00c81bb2",
   "metadata": {},
   "source": [
    "3.eye:\n",
    "    This function creates an array with all the diagonal elements as 1 and rest as 0 (in a square matrix). In case of a non square matrix, the values are still 1 for diagonal (upto which it can draw diagonal) and rest are zero.\n",
    "    It is always a 2D matrix. so no need two braces here."
   ]
  },
  {
   "cell_type": "code",
   "execution_count": 46,
   "id": "ad1a661a",
   "metadata": {},
   "outputs": [],
   "source": [
    "arr=np.eye(3)"
   ]
  },
  {
   "cell_type": "code",
   "execution_count": 47,
   "id": "7e327e1b",
   "metadata": {},
   "outputs": [
    {
     "data": {
      "text/plain": [
       "array([[1., 0., 0.],\n",
       "       [0., 1., 0.],\n",
       "       [0., 0., 1.]])"
      ]
     },
     "execution_count": 47,
     "metadata": {},
     "output_type": "execute_result"
    }
   ],
   "source": [
    "arr"
   ]
  },
  {
   "cell_type": "code",
   "execution_count": 48,
   "id": "d6cb1a3f",
   "metadata": {},
   "outputs": [],
   "source": [
    "arr1=np.eye(5,8) # here no need to give twice braces"
   ]
  },
  {
   "cell_type": "code",
   "execution_count": 49,
   "id": "5181f817",
   "metadata": {},
   "outputs": [
    {
     "data": {
      "text/plain": [
       "array([[1., 0., 0., 0., 0., 0., 0., 0.],\n",
       "       [0., 1., 0., 0., 0., 0., 0., 0.],\n",
       "       [0., 0., 1., 0., 0., 0., 0., 0.],\n",
       "       [0., 0., 0., 1., 0., 0., 0., 0.],\n",
       "       [0., 0., 0., 0., 1., 0., 0., 0.]])"
      ]
     },
     "execution_count": 49,
     "metadata": {},
     "output_type": "execute_result"
    }
   ],
   "source": [
    "arr1"
   ]
  },
  {
   "cell_type": "raw",
   "id": "bb5b7813",
   "metadata": {},
   "source": [
    "4.diag:\n",
    " This function creates a 2D array with all the diagonal elements as the given values and rest as 0 (in a square matrix.) "
   ]
  },
  {
   "cell_type": "code",
   "execution_count": 50,
   "id": "b34ef27f",
   "metadata": {},
   "outputs": [],
   "source": [
    "a=np.diag([1,2,3,4,5,3,5])"
   ]
  },
  {
   "cell_type": "code",
   "execution_count": 51,
   "id": "8f5ecacf",
   "metadata": {},
   "outputs": [
    {
     "data": {
      "text/plain": [
       "array([[1, 0, 0, 0, 0, 0, 0],\n",
       "       [0, 2, 0, 0, 0, 0, 0],\n",
       "       [0, 0, 3, 0, 0, 0, 0],\n",
       "       [0, 0, 0, 4, 0, 0, 0],\n",
       "       [0, 0, 0, 0, 5, 0, 0],\n",
       "       [0, 0, 0, 0, 0, 3, 0],\n",
       "       [0, 0, 0, 0, 0, 0, 5]])"
      ]
     },
     "execution_count": 51,
     "metadata": {},
     "output_type": "execute_result"
    }
   ],
   "source": [
    "a"
   ]
  },
  {
   "cell_type": "code",
   "execution_count": 52,
   "id": "a2bf2f57",
   "metadata": {},
   "outputs": [
    {
     "name": "stdout",
     "output_type": "stream",
     "text": [
      "[[1 0 0 0 0 0 0]\n",
      " [0 2 0 0 0 0 0]\n",
      " [0 0 3 0 0 0 0]\n",
      " [0 0 0 4 0 0 0]\n",
      " [0 0 0 0 5 0 0]\n",
      " [0 0 0 0 0 3 0]\n",
      " [0 0 0 0 0 0 5]]\n"
     ]
    }
   ],
   "source": [
    "print(a)"
   ]
  },
  {
   "cell_type": "code",
   "execution_count": 53,
   "id": "ff17b0cf",
   "metadata": {},
   "outputs": [
    {
     "data": {
      "text/plain": [
       "array([1, 2, 3, 4, 5, 3, 5])"
      ]
     },
     "execution_count": 53,
     "metadata": {},
     "output_type": "execute_result"
    }
   ],
   "source": [
    "# to get the diagonal elements then we can give as \n",
    "np.diag(a) # simply gives all the diagonal elements"
   ]
  },
  {
   "cell_type": "raw",
   "id": "ddb93d50",
   "metadata": {},
   "source": [
    "5.randint:\n",
    " This function is used to generate a random number between a given range."
   ]
  },
  {
   "cell_type": "raw",
   "id": "c25ad672",
   "metadata": {},
   "source": [
    " syntax: randint(min,max,total_values) # max is not included"
   ]
  },
  {
   "cell_type": "code",
   "execution_count": 59,
   "id": "d2beef65",
   "metadata": {},
   "outputs": [],
   "source": [
    "a1=np.random.randint(3,12,6)"
   ]
  },
  {
   "cell_type": "code",
   "execution_count": 60,
   "id": "c5a6d443",
   "metadata": {},
   "outputs": [
    {
     "data": {
      "text/plain": [
       "array([ 3,  9, 11,  7,  8,  3])"
      ]
     },
     "execution_count": 60,
     "metadata": {},
     "output_type": "execute_result"
    }
   ],
   "source": [
    "a1"
   ]
  },
  {
   "cell_type": "raw",
   "id": "6937c4c0",
   "metadata": {},
   "source": [
    "6.rand:\n",
    "  This function is used to generate a random values between 0 to 1.\n",
    "  we may generate random numbers in 2D array format as well."
   ]
  },
  {
   "cell_type": "code",
   "execution_count": 61,
   "id": "b55d0439",
   "metadata": {},
   "outputs": [],
   "source": [
    "arr=np.random.rand(5)"
   ]
  },
  {
   "cell_type": "code",
   "execution_count": 63,
   "id": "0abc7ad5",
   "metadata": {},
   "outputs": [
    {
     "data": {
      "text/plain": [
       "array([0.45151159, 0.22993048, 0.12147821, 0.88078031, 0.83524205])"
      ]
     },
     "execution_count": 63,
     "metadata": {},
     "output_type": "execute_result"
    }
   ],
   "source": [
    "arr"
   ]
  },
  {
   "cell_type": "code",
   "execution_count": 3,
   "id": "87cc475b",
   "metadata": {},
   "outputs": [],
   "source": [
    "arr1=np.random.rand(2,5)"
   ]
  },
  {
   "cell_type": "code",
   "execution_count": 4,
   "id": "3075aa32",
   "metadata": {},
   "outputs": [
    {
     "data": {
      "text/plain": [
       "array([[0.95092305, 0.97354804, 0.77780306, 0.82460722, 0.88197839],\n",
       "       [0.17897834, 0.6611957 , 0.83911996, 0.06213826, 0.69741782]])"
      ]
     },
     "execution_count": 4,
     "metadata": {},
     "output_type": "execute_result"
    }
   ],
   "source": [
    "arr1"
   ]
  },
  {
   "cell_type": "code",
   "execution_count": 5,
   "id": "f0f51369",
   "metadata": {},
   "outputs": [
    {
     "data": {
      "text/plain": [
       "10"
      ]
     },
     "execution_count": 5,
     "metadata": {},
     "output_type": "execute_result"
    }
   ],
   "source": [
    "arr1.size # size gives the no of elements present in the matrix"
   ]
  },
  {
   "cell_type": "raw",
   "id": "a3f5653e",
   "metadata": {},
   "source": [
    "7.randn:\n",
    "  This function is used to generate a random values close to 0. This may return positive or negative numbers as well.\n",
    " \n",
    " syntax: randn(no of values)\n",
    " "
   ]
  },
  {
   "cell_type": "code",
   "execution_count": 68,
   "id": "864d4c73",
   "metadata": {},
   "outputs": [],
   "source": [
    "a1=np.random.randn(8)"
   ]
  },
  {
   "cell_type": "code",
   "execution_count": 69,
   "id": "b592423d",
   "metadata": {},
   "outputs": [
    {
     "data": {
      "text/plain": [
       "array([ 0.44082114,  0.37988321,  0.30977582, -0.94052155, -1.18554831,\n",
       "        0.02568624,  0.62763763,  1.46065879])"
      ]
     },
     "execution_count": 69,
     "metadata": {},
     "output_type": "execute_result"
    }
   ],
   "source": [
    "a1"
   ]
  },
  {
   "cell_type": "code",
   "execution_count": 70,
   "id": "dc60d166",
   "metadata": {},
   "outputs": [],
   "source": [
    "a1=np.random.randn(4,8)"
   ]
  },
  {
   "cell_type": "code",
   "execution_count": 71,
   "id": "8fe47797",
   "metadata": {},
   "outputs": [
    {
     "data": {
      "text/plain": [
       "array([[ 1.65149739, -0.17326832,  0.15371403, -0.2113012 , -1.18647957,\n",
       "         0.5650255 , -0.54491269, -1.19369142],\n",
       "       [ 1.0366623 , -0.24635215, -0.11141378,  0.7055328 , -1.71230285,\n",
       "        -0.6827302 ,  1.37268989,  0.23337741],\n",
       "       [-0.48835236,  0.53934267, -1.05204752, -0.97435552, -2.21767338,\n",
       "        -0.22739695, -0.61079317, -0.29382429],\n",
       "       [ 0.88710962,  0.37335999,  1.04822676,  1.6195504 ,  0.3123784 ,\n",
       "        -0.42248799, -0.98860686,  1.29038235]])"
      ]
     },
     "execution_count": 71,
     "metadata": {},
     "output_type": "execute_result"
    }
   ],
   "source": [
    "a1"
   ]
  },
  {
   "cell_type": "markdown",
   "id": "a1d3f36a",
   "metadata": {},
   "source": [
    "# lec 7\n",
    "## Indexing and slicing of Numpy array"
   ]
  },
  {
   "cell_type": "code",
   "execution_count": 1,
   "id": "da61fa14",
   "metadata": {},
   "outputs": [
    {
     "name": "stdout",
     "output_type": "stream",
     "text": [
      "enter the no of values:5\n",
      "enter the numbers:2\n",
      "enter the numbers:3\n",
      "enter the numbers:4\n",
      "enter the numbers:5\n",
      "enter the numbers:1\n",
      "2\n",
      "3\n",
      "4\n",
      "5\n",
      "1\n"
     ]
    }
   ],
   "source": [
    "import numpy as np\n",
    "a=[]\n",
    "n=int(input(\"enter the no of values:\"))\n",
    "for i in range(n):\n",
    "    val=int(input(\"enter the numbers:\"))\n",
    "    a.append(val)\n",
    "arr=np.array(a)\n",
    "for i in range(arr.size):\n",
    "    print(arr[i]) # indexing starts from 0"
   ]
  },
  {
   "cell_type": "markdown",
   "id": "4fbf6b99",
   "metadata": {},
   "source": [
    "1. Array supports indexing from left to right as well as from right to left.\n",
    "2. When indexing from left to right,it starts with 0\n",
    "3. When indexing from right to left,it starts with -1\n",
    "4. Indexing technique of array is much similar to the list."
   ]
  },
  {
   "cell_type": "markdown",
   "id": "a0fb0c07",
   "metadata": {},
   "source": [
    "syntax: arr_name[start:end:step]    # by default the step will be +1 here"
   ]
  },
  {
   "cell_type": "code",
   "execution_count": 7,
   "id": "6671c6a2",
   "metadata": {},
   "outputs": [
    {
     "data": {
      "text/plain": [
       "array([3, 4, 5, 1])"
      ]
     },
     "execution_count": 7,
     "metadata": {},
     "output_type": "execute_result"
    }
   ],
   "source": [
    "# Array slicing\n",
    "arr[1:] # starts from 1 and ends to last element"
   ]
  },
  {
   "cell_type": "code",
   "execution_count": 9,
   "id": "f4b239c2",
   "metadata": {},
   "outputs": [
    {
     "data": {
      "text/plain": [
       "array([2, 3, 4, 5, 1])"
      ]
     },
     "execution_count": 9,
     "metadata": {},
     "output_type": "execute_result"
    }
   ],
   "source": [
    "arr[:] # gives entire array since first and last are both considered as default values here."
   ]
  },
  {
   "cell_type": "code",
   "execution_count": 10,
   "id": "a9116d73",
   "metadata": {},
   "outputs": [
    {
     "data": {
      "text/plain": [
       "array([3, 4, 5])"
      ]
     },
     "execution_count": 10,
     "metadata": {},
     "output_type": "execute_result"
    }
   ],
   "source": [
    "arr[-4:-1]"
   ]
  },
  {
   "cell_type": "code",
   "execution_count": 11,
   "id": "81e8cede",
   "metadata": {},
   "outputs": [
    {
     "data": {
      "text/plain": [
       "array([2, 3, 4, 5, 1])"
      ]
     },
     "execution_count": 11,
     "metadata": {},
     "output_type": "execute_result"
    }
   ],
   "source": [
    "arr[:5]"
   ]
  },
  {
   "cell_type": "code",
   "execution_count": 12,
   "id": "7cf19633",
   "metadata": {},
   "outputs": [
    {
     "data": {
      "text/plain": [
       "array([2, 3, 4, 5, 1])"
      ]
     },
     "execution_count": 12,
     "metadata": {},
     "output_type": "execute_result"
    }
   ],
   "source": [
    "arr[:89] #  start from 0 index and here it won't give error but gives the maxium range elements present in it"
   ]
  },
  {
   "cell_type": "code",
   "execution_count": 13,
   "id": "01ae5ece",
   "metadata": {},
   "outputs": [
    {
     "data": {
      "text/plain": [
       "array([3, 4, 5])"
      ]
     },
     "execution_count": 13,
     "metadata": {},
     "output_type": "execute_result"
    }
   ],
   "source": [
    "arr[1:4]"
   ]
  },
  {
   "cell_type": "code",
   "execution_count": 14,
   "id": "e50ae4a4",
   "metadata": {},
   "outputs": [
    {
     "name": "stdout",
     "output_type": "stream",
     "text": [
      "15\n"
     ]
    }
   ],
   "source": [
    "# sum of array elements\n",
    "sum=0\n",
    "for i in range(arr.size):\n",
    "    sum=sum+arr[i]\n",
    "    \n",
    "print(sum)"
   ]
  },
  {
   "cell_type": "markdown",
   "id": "4e439c9c",
   "metadata": {},
   "source": [
    "# lec 8\n",
    "## Reshaping of array in Numpy"
   ]
  },
  {
   "cell_type": "code",
   "execution_count": 15,
   "id": "a2c5c151",
   "metadata": {},
   "outputs": [],
   "source": [
    "a1=np.random.randint(1,15,12) # gives 1D array with 12 elements"
   ]
  },
  {
   "cell_type": "code",
   "execution_count": 16,
   "id": "3484fcc7",
   "metadata": {},
   "outputs": [
    {
     "data": {
      "text/plain": [
       "array([ 4,  4, 14, 10,  5, 14,  6,  5,  9,  8,  3,  1])"
      ]
     },
     "execution_count": 16,
     "metadata": {},
     "output_type": "execute_result"
    }
   ],
   "source": [
    "a1"
   ]
  },
  {
   "cell_type": "code",
   "execution_count": 19,
   "id": "a6fd9267",
   "metadata": {},
   "outputs": [
    {
     "name": "stdout",
     "output_type": "stream",
     "text": [
      "(12,)\n"
     ]
    }
   ],
   "source": [
    "print(a1.shape)"
   ]
  },
  {
   "cell_type": "code",
   "execution_count": 21,
   "id": "c105a49f",
   "metadata": {},
   "outputs": [],
   "source": [
    "# for reshaping ,we must reshape in a way such that the product combination should be the original shape value\n",
    " # like 12 can be written as 12*1, 3*4,6*2 etc .\n",
    "    # for other combinations it will give error"
   ]
  },
  {
   "cell_type": "code",
   "execution_count": 22,
   "id": "0dfff62b",
   "metadata": {},
   "outputs": [],
   "source": [
    "# converting to 2D array\n",
    "a1=a1.reshape(3,4)"
   ]
  },
  {
   "cell_type": "code",
   "execution_count": 23,
   "id": "ae4ea831",
   "metadata": {},
   "outputs": [
    {
     "data": {
      "text/plain": [
       "array([[ 4,  4, 14, 10],\n",
       "       [ 5, 14,  6,  5],\n",
       "       [ 9,  8,  3,  1]])"
      ]
     },
     "execution_count": 23,
     "metadata": {},
     "output_type": "execute_result"
    }
   ],
   "source": [
    "a1"
   ]
  },
  {
   "cell_type": "code",
   "execution_count": 24,
   "id": "09ecc861",
   "metadata": {},
   "outputs": [
    {
     "ename": "ValueError",
     "evalue": "cannot reshape array of size 12 into shape (5,3)",
     "output_type": "error",
     "traceback": [
      "\u001b[1;31m---------------------------------------------------------------------------\u001b[0m",
      "\u001b[1;31mValueError\u001b[0m                                Traceback (most recent call last)",
      "\u001b[1;32m~\\AppData\\Local\\Temp\\ipykernel_16948\\3725752866.py\u001b[0m in \u001b[0;36m<module>\u001b[1;34m\u001b[0m\n\u001b[1;32m----> 1\u001b[1;33m \u001b[0ma1\u001b[0m\u001b[1;33m=\u001b[0m\u001b[0ma1\u001b[0m\u001b[1;33m.\u001b[0m\u001b[0mreshape\u001b[0m\u001b[1;33m(\u001b[0m\u001b[1;36m5\u001b[0m\u001b[1;33m,\u001b[0m\u001b[1;36m3\u001b[0m\u001b[1;33m)\u001b[0m\u001b[1;33m\u001b[0m\u001b[1;33m\u001b[0m\u001b[0m\n\u001b[0m",
      "\u001b[1;31mValueError\u001b[0m: cannot reshape array of size 12 into shape (5,3)"
     ]
    }
   ],
   "source": [
    "a1=a1.reshape(5,3)"
   ]
  },
  {
   "cell_type": "code",
   "execution_count": 26,
   "id": "4bba83ae",
   "metadata": {},
   "outputs": [],
   "source": [
    "a1=a1.reshape(2,6)"
   ]
  },
  {
   "cell_type": "code",
   "execution_count": 27,
   "id": "a7eb89b6",
   "metadata": {},
   "outputs": [
    {
     "data": {
      "text/plain": [
       "array([[ 4,  4, 14, 10,  5, 14],\n",
       "       [ 6,  5,  9,  8,  3,  1]])"
      ]
     },
     "execution_count": 27,
     "metadata": {},
     "output_type": "execute_result"
    }
   ],
   "source": [
    "a1"
   ]
  },
  {
   "cell_type": "code",
   "execution_count": 28,
   "id": "29496994",
   "metadata": {},
   "outputs": [
    {
     "name": "stdout",
     "output_type": "stream",
     "text": [
      "After Reshaping: 2\n"
     ]
    }
   ],
   "source": [
    "print(\"After Reshaping:\",a1.ndim)"
   ]
  },
  {
   "cell_type": "code",
   "execution_count": 29,
   "id": "2c931a3c",
   "metadata": {},
   "outputs": [],
   "source": [
    "# Now we will convert this back to the 1D array\n",
    "# To convert back to 1D array from any Multi dimensional array,just give the size for it.\n",
    "a1=a1.reshape(12)"
   ]
  },
  {
   "cell_type": "code",
   "execution_count": 30,
   "id": "a41644b3",
   "metadata": {},
   "outputs": [
    {
     "data": {
      "text/plain": [
       "array([ 4,  4, 14, 10,  5, 14,  6,  5,  9,  8,  3,  1])"
      ]
     },
     "execution_count": 30,
     "metadata": {},
     "output_type": "execute_result"
    }
   ],
   "source": [
    "a1"
   ]
  },
  {
   "cell_type": "code",
   "execution_count": 31,
   "id": "450dd116",
   "metadata": {},
   "outputs": [],
   "source": [
    "# converting to 3D array\n",
    "a1=a1.reshape(2,2,3)"
   ]
  },
  {
   "cell_type": "code",
   "execution_count": 32,
   "id": "6e34cdbe",
   "metadata": {},
   "outputs": [
    {
     "data": {
      "text/plain": [
       "array([[[ 4,  4, 14],\n",
       "        [10,  5, 14]],\n",
       "\n",
       "       [[ 6,  5,  9],\n",
       "        [ 8,  3,  1]]])"
      ]
     },
     "execution_count": 32,
     "metadata": {},
     "output_type": "execute_result"
    }
   ],
   "source": [
    "a1"
   ]
  },
  {
   "cell_type": "code",
   "execution_count": 33,
   "id": "22b28a00",
   "metadata": {},
   "outputs": [
    {
     "data": {
      "text/plain": [
       "3"
      ]
     },
     "execution_count": 33,
     "metadata": {},
     "output_type": "execute_result"
    }
   ],
   "source": [
    "a1.ndim"
   ]
  },
  {
   "cell_type": "code",
   "execution_count": 34,
   "id": "79a2148c",
   "metadata": {},
   "outputs": [],
   "source": [
    "# converting from 3D array to again 1D array\n",
    "a1=a1.reshape(12)"
   ]
  },
  {
   "cell_type": "code",
   "execution_count": 35,
   "id": "68147dd7",
   "metadata": {},
   "outputs": [
    {
     "data": {
      "text/plain": [
       "array([ 4,  4, 14, 10,  5, 14,  6,  5,  9,  8,  3,  1])"
      ]
     },
     "execution_count": 35,
     "metadata": {},
     "output_type": "execute_result"
    }
   ],
   "source": [
    "a1"
   ]
  },
  {
   "cell_type": "code",
   "execution_count": 36,
   "id": "90302e8b",
   "metadata": {},
   "outputs": [
    {
     "data": {
      "text/plain": [
       "1"
      ]
     },
     "execution_count": 36,
     "metadata": {},
     "output_type": "execute_result"
    }
   ],
   "source": [
    "a1.ndim"
   ]
  },
  {
   "cell_type": "code",
   "execution_count": 37,
   "id": "5aabcdcc",
   "metadata": {},
   "outputs": [],
   "source": [
    "# suppose now we have the no of rows or no of columns with us .\n",
    "# in this case we want python to calculate exact value required and give us the reshape array\n",
    "# so, we can use -1 in the place where u don't know the value just as shown below"
   ]
  },
  {
   "cell_type": "code",
   "execution_count": 38,
   "id": "13b276d2",
   "metadata": {},
   "outputs": [],
   "source": [
    "a1=a1.reshape(3,-1) # here we know only 3 rows ,it have.. so python will calculate other value required in place of -1."
   ]
  },
  {
   "cell_type": "code",
   "execution_count": 39,
   "id": "bb738393",
   "metadata": {},
   "outputs": [
    {
     "data": {
      "text/plain": [
       "array([[ 4,  4, 14, 10],\n",
       "       [ 5, 14,  6,  5],\n",
       "       [ 9,  8,  3,  1]])"
      ]
     },
     "execution_count": 39,
     "metadata": {},
     "output_type": "execute_result"
    }
   ],
   "source": [
    "a1"
   ]
  },
  {
   "cell_type": "code",
   "execution_count": 40,
   "id": "60d63840",
   "metadata": {},
   "outputs": [
    {
     "data": {
      "text/plain": [
       "2"
      ]
     },
     "execution_count": 40,
     "metadata": {},
     "output_type": "execute_result"
    }
   ],
   "source": [
    "a1.ndim"
   ]
  },
  {
   "cell_type": "code",
   "execution_count": 43,
   "id": "a4090c54",
   "metadata": {},
   "outputs": [],
   "source": [
    "a1=a1.reshape(-1,6) # here we know that it should have 6 columns but we don't know the no of rows\n",
    "# python itself calculates this and gives us the result.\n",
    "# in place of -1, it will take 2 and gives the reshaped array"
   ]
  },
  {
   "cell_type": "code",
   "execution_count": 44,
   "id": "eece56a2",
   "metadata": {},
   "outputs": [
    {
     "data": {
      "text/plain": [
       "array([[ 4,  4, 14, 10,  5, 14],\n",
       "       [ 6,  5,  9,  8,  3,  1]])"
      ]
     },
     "execution_count": 44,
     "metadata": {},
     "output_type": "execute_result"
    }
   ],
   "source": [
    "a1"
   ]
  },
  {
   "cell_type": "code",
   "execution_count": 48,
   "id": "829aa8c7",
   "metadata": {},
   "outputs": [],
   "source": [
    "a1=a1.reshape(3,2,-1) # the -1 entry will be calculated by the system."
   ]
  },
  {
   "cell_type": "code",
   "execution_count": 49,
   "id": "25d22423",
   "metadata": {},
   "outputs": [
    {
     "data": {
      "text/plain": [
       "array([[[ 4,  4],\n",
       "        [14, 10]],\n",
       "\n",
       "       [[ 5, 14],\n",
       "        [ 6,  5]],\n",
       "\n",
       "       [[ 9,  8],\n",
       "        [ 3,  1]]])"
      ]
     },
     "execution_count": 49,
     "metadata": {},
     "output_type": "execute_result"
    }
   ],
   "source": [
    "a1"
   ]
  },
  {
   "cell_type": "markdown",
   "id": "24744420",
   "metadata": {},
   "source": [
    "# lec 9\n",
    "## seed function in Python"
   ]
  },
  {
   "cell_type": "raw",
   "id": "33a58679",
   "metadata": {},
   "source": [
    "SEED FUNCTION:\n",
    "    We know that randint() function generates random numbers. Everytime we run the program,new set of random numbers is generated.But what if we want to fix the generation of this random number.In this case,we use seed, this generates the fixed set of random numbers.\n",
    "    \n",
    "    \n",
    "    # It will return the same random numbes till we change the integer as passed to seed at any computer.\n"
   ]
  },
  {
   "cell_type": "code",
   "execution_count": 101,
   "id": "d978ebb2",
   "metadata": {},
   "outputs": [],
   "source": [
    "np.random.seed(4)\n",
    "a=np.random.randint(1,7,4)"
   ]
  },
  {
   "cell_type": "code",
   "execution_count": 102,
   "id": "03491719",
   "metadata": {},
   "outputs": [
    {
     "data": {
      "text/plain": [
       "array([3, 6, 2, 1])"
      ]
     },
     "execution_count": 102,
     "metadata": {},
     "output_type": "execute_result"
    }
   ],
   "source": [
    "a"
   ]
  },
  {
   "cell_type": "code",
   "execution_count": 103,
   "id": "7ccca4d1",
   "metadata": {},
   "outputs": [
    {
     "data": {
      "text/plain": [
       "array([3, 6, 2, 1])"
      ]
     },
     "execution_count": 103,
     "metadata": {},
     "output_type": "execute_result"
    }
   ],
   "source": [
    "a "
   ]
  },
  {
   "cell_type": "code",
   "execution_count": 104,
   "id": "e45e45f4",
   "metadata": {},
   "outputs": [
    {
     "data": {
      "text/plain": [
       "array([3, 6, 2, 1])"
      ]
     },
     "execution_count": 104,
     "metadata": {},
     "output_type": "execute_result"
    }
   ],
   "source": [
    "a"
   ]
  },
  {
   "cell_type": "code",
   "execution_count": 105,
   "id": "0d6f4346",
   "metadata": {},
   "outputs": [
    {
     "data": {
      "text/plain": [
       "array([3, 6, 2, 1])"
      ]
     },
     "execution_count": 105,
     "metadata": {},
     "output_type": "execute_result"
    }
   ],
   "source": [
    "a"
   ]
  },
  {
   "cell_type": "code",
   "execution_count": 106,
   "id": "3ee448b6",
   "metadata": {},
   "outputs": [
    {
     "data": {
      "text/plain": [
       "array([3, 6, 2, 1])"
      ]
     },
     "execution_count": 106,
     "metadata": {},
     "output_type": "execute_result"
    }
   ],
   "source": [
    "a # since seed is given , everytime we try to print we are geeting same random set here"
   ]
  },
  {
   "cell_type": "code",
   "execution_count": 77,
   "id": "5eb4050c",
   "metadata": {},
   "outputs": [],
   "source": [
    "np.random.seed(10) # we can insert any value here. it doesn't affect anything ."
   ]
  },
  {
   "cell_type": "code",
   "execution_count": 107,
   "id": "715e0b99",
   "metadata": {},
   "outputs": [],
   "source": [
    "b=np.random.randint(1,15,15)"
   ]
  },
  {
   "cell_type": "code",
   "execution_count": 108,
   "id": "4d0303b3",
   "metadata": {},
   "outputs": [
    {
     "data": {
      "text/plain": [
       "array([ 8,  9,  3, 10, 11, 13,  8, 14,  8,  8, 10,  9,  5,  3, 13])"
      ]
     },
     "execution_count": 108,
     "metadata": {},
     "output_type": "execute_result"
    }
   ],
   "source": [
    "b # it will return the same random numbers till we change the integer as paased to set."
   ]
  },
  {
   "cell_type": "code",
   "execution_count": 109,
   "id": "aaf11d56",
   "metadata": {},
   "outputs": [
    {
     "data": {
      "text/plain": [
       "array([ 8,  9,  3, 10, 11, 13,  8, 14,  8,  8, 10,  9,  5,  3, 13])"
      ]
     },
     "execution_count": 109,
     "metadata": {},
     "output_type": "execute_result"
    }
   ],
   "source": [
    "b"
   ]
  },
  {
   "cell_type": "code",
   "execution_count": 110,
   "id": "f1390f1c",
   "metadata": {},
   "outputs": [
    {
     "data": {
      "text/plain": [
       "array([ 8,  9,  3, 10, 11, 13,  8, 14,  8,  8, 10,  9,  5,  3, 13])"
      ]
     },
     "execution_count": 110,
     "metadata": {},
     "output_type": "execute_result"
    }
   ],
   "source": [
    "b"
   ]
  },
  {
   "cell_type": "code",
   "execution_count": 112,
   "id": "d04c0fc6",
   "metadata": {},
   "outputs": [],
   "source": [
    " # inside the seed value,it doesn't matter here. \n",
    "c=np.random.randint(5,10,7)"
   ]
  },
  {
   "cell_type": "code",
   "execution_count": 113,
   "id": "2b74dd7b",
   "metadata": {},
   "outputs": [
    {
     "data": {
      "text/plain": [
       "array([8, 9, 5, 6, 8, 5, 5])"
      ]
     },
     "execution_count": 113,
     "metadata": {},
     "output_type": "execute_result"
    }
   ],
   "source": [
    "c"
   ]
  },
  {
   "cell_type": "code",
   "execution_count": 115,
   "id": "fbb823dc",
   "metadata": {},
   "outputs": [
    {
     "data": {
      "text/plain": [
       "array([8, 9, 5, 6, 8, 5, 5])"
      ]
     },
     "execution_count": 115,
     "metadata": {},
     "output_type": "execute_result"
    }
   ],
   "source": [
    "np.random.seed(1)\n",
    "c"
   ]
  },
  {
   "cell_type": "code",
   "execution_count": 116,
   "id": "65f527b1",
   "metadata": {},
   "outputs": [],
   "source": [
    " # to change the fixed set values,just to get a new set ,we need to just change the seed value above there."
   ]
  },
  {
   "cell_type": "code",
   "execution_count": 117,
   "id": "3c2377e4",
   "metadata": {},
   "outputs": [],
   "source": [
    "np.random.seed(5)"
   ]
  },
  {
   "cell_type": "code",
   "execution_count": 118,
   "id": "a64003c3",
   "metadata": {},
   "outputs": [],
   "source": [
    "d=np.random.randint(6,12,4)"
   ]
  },
  {
   "cell_type": "code",
   "execution_count": 119,
   "id": "dd036898",
   "metadata": {},
   "outputs": [
    {
     "data": {
      "text/plain": [
       "array([ 9, 11,  6,  7])"
      ]
     },
     "execution_count": 119,
     "metadata": {},
     "output_type": "execute_result"
    }
   ],
   "source": [
    "d"
   ]
  },
  {
   "cell_type": "code",
   "execution_count": null,
   "id": "e522bee8",
   "metadata": {},
   "outputs": [],
   "source": []
  },
  {
   "cell_type": "markdown",
   "id": "94e8027a",
   "metadata": {},
   "source": [
    "# lec 10\n",
    "## creating Two dimensional array user input\n"
   ]
  },
  {
   "cell_type": "raw",
   "id": "888b8f03",
   "metadata": {},
   "source": [
    "Indexing /Slicing using double bracket notation\n",
    "     0      1      2\n",
    "0  [0][0]  [0][1] [0][2]\n",
    "1  [1][0]  [1][1] [1][2]\n",
    "2  [2][0]  [2][1] [2][2]"
   ]
  },
  {
   "cell_type": "code",
   "execution_count": null,
   "id": "0f6408f4",
   "metadata": {},
   "outputs": [],
   "source": [
    "Indexing /Slicing using Single bracket notation\n",
    "     0      1      2\n",
    "0  [0,0]  [0,1]  [0,2]\n",
    "1  [1,0]  [1,1]  [1,2]\n",
    "2  [2,0]  [2,1]  [2,2]"
   ]
  },
  {
   "cell_type": "code",
   "execution_count": 121,
   "id": "2a2df72a",
   "metadata": {},
   "outputs": [
    {
     "name": "stdout",
     "output_type": "stream",
     "text": [
      "enter the no of rows:4\n",
      "enter the no of columns:2\n",
      "enter the number:2\n",
      "enter the number:3\n",
      "enter the number:4\n",
      "enter the number:3\n",
      "enter the number:21\n",
      "enter the number:56\n",
      "enter the number:43\n",
      "enter the number:56\n",
      "2 3 \n",
      "4 3 \n",
      "21 56 \n",
      "43 56 \n",
      "<class 'numpy.ndarray'>\n"
     ]
    }
   ],
   "source": [
    "import numpy as np\n",
    "mat=[]\n",
    "row=int(input(\"enter the no of rows:\"))\n",
    "col=int(input(\"enter the no of columns:\"))\n",
    "for i in range(row):\n",
    "    a=[]\n",
    "    for j in range(col):\n",
    "        val=int(input(\"enter the number:\"))\n",
    "        a.append(val)\n",
    "    mat.append(a)\n",
    "arr=np.array(mat)\n",
    "for i in range(row):\n",
    "    for j in range(col):\n",
    "        print(arr[i][j],end=\" \")\n",
    "    print()\n",
    "print(type(arr))"
   ]
  },
  {
   "cell_type": "markdown",
   "id": "d40fa016",
   "metadata": {},
   "source": [
    "# lec 11\n",
    "## slicing 2D array in Numpy"
   ]
  },
  {
   "cell_type": "code",
   "execution_count": 122,
   "id": "cc67bdc0",
   "metadata": {},
   "outputs": [
    {
     "data": {
      "text/plain": [
       "array([[ 2,  3],\n",
       "       [ 4,  3],\n",
       "       [21, 56],\n",
       "       [43, 56]])"
      ]
     },
     "execution_count": 122,
     "metadata": {},
     "output_type": "execute_result"
    }
   ],
   "source": [
    "arr"
   ]
  },
  {
   "cell_type": "raw",
   "id": "721d8553",
   "metadata": {},
   "source": [
    "syntax for slicing: \n",
    "    a[row range,column range] where row range will be start:end and for column also.\n",
    "    \n",
    "    ex\" a[0:2,1:3] which means rows 0 and 1 and columns from 1 to 2\n",
    "    a[:2] --> No starting row index so index will start from 0 and 1 will be taken .since no column range ,so all columns will be taken in output."
   ]
  },
  {
   "cell_type": "code",
   "execution_count": 123,
   "id": "7e0e4899",
   "metadata": {},
   "outputs": [
    {
     "data": {
      "text/plain": [
       "array([[2, 3],\n",
       "       [4, 3]])"
      ]
     },
     "execution_count": 123,
     "metadata": {},
     "output_type": "execute_result"
    }
   ],
   "source": [
    "arr[:2] # see here 0 and 1 rows with all column values are taken."
   ]
  },
  {
   "cell_type": "code",
   "execution_count": 124,
   "id": "9687d99d",
   "metadata": {},
   "outputs": [],
   "source": [
    "a=np.array([[1,2,3,4],[23,4,5,6],[3,7,56,32]]) # neatly understand.it is so much easy concept here."
   ]
  },
  {
   "cell_type": "code",
   "execution_count": 125,
   "id": "3d75505c",
   "metadata": {},
   "outputs": [
    {
     "data": {
      "text/plain": [
       "array([[ 1,  2,  3,  4],\n",
       "       [23,  4,  5,  6],\n",
       "       [ 3,  7, 56, 32]])"
      ]
     },
     "execution_count": 125,
     "metadata": {},
     "output_type": "execute_result"
    }
   ],
   "source": [
    "a"
   ]
  },
  {
   "cell_type": "code",
   "execution_count": 127,
   "id": "806e103c",
   "metadata": {},
   "outputs": [
    {
     "data": {
      "text/plain": [
       "array([[23,  4,  5,  6],\n",
       "       [ 3,  7, 56, 32]])"
      ]
     },
     "execution_count": 127,
     "metadata": {},
     "output_type": "execute_result"
    }
   ],
   "source": [
    "a[1:] #rows 1 and 2 will present"
   ]
  },
  {
   "cell_type": "code",
   "execution_count": 129,
   "id": "90f28e01",
   "metadata": {},
   "outputs": [
    {
     "data": {
      "text/plain": [
       "array([[ 3],\n",
       "       [ 5],\n",
       "       [56]])"
      ]
     },
     "execution_count": 129,
     "metadata": {},
     "output_type": "execute_result"
    }
   ],
   "source": [
    "a[:,2:3] # if all rows u want then u need to give a colon here which indicate all values from start to end."
   ]
  },
  {
   "cell_type": "code",
   "execution_count": 130,
   "id": "84fa1919",
   "metadata": {},
   "outputs": [
    {
     "data": {
      "text/plain": [
       "array([[ 2,  3,  4],\n",
       "       [ 4,  5,  6],\n",
       "       [ 7, 56, 32]])"
      ]
     },
     "execution_count": 130,
     "metadata": {},
     "output_type": "execute_result"
    }
   ],
   "source": [
    "a[:,1:4]"
   ]
  },
  {
   "cell_type": "code",
   "execution_count": 131,
   "id": "87fff1d6",
   "metadata": {},
   "outputs": [
    {
     "data": {
      "text/plain": [
       "array([[4, 5, 6]])"
      ]
     },
     "execution_count": 131,
     "metadata": {},
     "output_type": "execute_result"
    }
   ],
   "source": [
    "a[1:2,1:4]"
   ]
  },
  {
   "cell_type": "code",
   "execution_count": 137,
   "id": "f06ef9d8",
   "metadata": {},
   "outputs": [],
   "source": [
    "import numpy as np\n",
    "np.random.seed(1)\n",
    "b=np.random.randint(1,100,20).reshape(4,5)"
   ]
  },
  {
   "cell_type": "code",
   "execution_count": 138,
   "id": "3e84750f",
   "metadata": {},
   "outputs": [
    {
     "data": {
      "text/plain": [
       "array([[38, 13, 73, 10, 76],\n",
       "       [ 6, 80, 65, 17,  2],\n",
       "       [77, 72,  7, 26, 51],\n",
       "       [21, 19, 85, 12, 29]])"
      ]
     },
     "execution_count": 138,
     "metadata": {},
     "output_type": "execute_result"
    }
   ],
   "source": [
    "b"
   ]
  },
  {
   "cell_type": "code",
   "execution_count": 139,
   "id": "85d14c6f",
   "metadata": {},
   "outputs": [
    {
     "data": {
      "text/plain": [
       "array([[77, 72,  7, 26, 51],\n",
       "       [21, 19, 85, 12, 29]])"
      ]
     },
     "execution_count": 139,
     "metadata": {},
     "output_type": "execute_result"
    }
   ],
   "source": [
    "b[2:]"
   ]
  },
  {
   "cell_type": "code",
   "execution_count": 140,
   "id": "275b18b2",
   "metadata": {},
   "outputs": [
    {
     "data": {
      "text/plain": [
       "array([[ 7, 26, 51],\n",
       "       [85, 12, 29]])"
      ]
     },
     "execution_count": 140,
     "metadata": {},
     "output_type": "execute_result"
    }
   ],
   "source": [
    "b[2:,2:]"
   ]
  },
  {
   "cell_type": "code",
   "execution_count": 141,
   "id": "8f24e88e",
   "metadata": {},
   "outputs": [
    {
     "data": {
      "text/plain": [
       "array([[ 7, 26, 51]])"
      ]
     },
     "execution_count": 141,
     "metadata": {},
     "output_type": "execute_result"
    }
   ],
   "source": [
    "# extract 7,26,51\n",
    "b[2:3,2:]"
   ]
  },
  {
   "cell_type": "markdown",
   "id": "eaeb2b2f",
   "metadata": {},
   "source": [
    "# lec 12\n",
    "## view vs copy Python Numpy"
   ]
  },
  {
   "cell_type": "raw",
   "id": "7302da59",
   "metadata": {},
   "source": [
    "When we slice a sub-array from an array, it may be done in two ways:\n",
    "    1.view\n",
    "    2.copy\n",
    "    \n",
    "    But there is some difference between both of them. If u make a view of an array,any changes made to the sub array will be replicated to the original array whereas if u make any copy,any changes made in sub array will not reflect on the original array"
   ]
  },
  {
   "cell_type": "code",
   "execution_count": 6,
   "id": "eff02eb1",
   "metadata": {},
   "outputs": [
    {
     "data": {
      "text/plain": [
       "array([ 10,  20,  30,   0,   0,   0,  96, 100])"
      ]
     },
     "execution_count": 6,
     "metadata": {},
     "output_type": "execute_result"
    }
   ],
   "source": [
    "import numpy as np\n",
    "a=np.array([10,20,30,405,506,89,96,100])\n",
    "slicing=a[3:6] # view -->shallow copy\n",
    "slicing[:]=0 # updating all elements to zero here\n",
    "a"
   ]
  },
  {
   "cell_type": "code",
   "execution_count": 7,
   "id": "1e835f18",
   "metadata": {},
   "outputs": [],
   "source": [
    "# see above that all elements are updated to zero since we used view here"
   ]
  },
  {
   "cell_type": "code",
   "execution_count": 8,
   "id": "912ea75b",
   "metadata": {},
   "outputs": [
    {
     "data": {
      "text/plain": [
       "array([ 10,  20,  30, 405, 506,  89,  96, 100])"
      ]
     },
     "execution_count": 8,
     "metadata": {},
     "output_type": "execute_result"
    }
   ],
   "source": [
    "a=np.array([10,20,30,405,506,89,96,100])\n",
    "slicing=a[3:6].copy() # copy-->deep copy\n",
    "slicing[:]=0 # updating all elements to zero here\n",
    "a"
   ]
  },
  {
   "cell_type": "code",
   "execution_count": 9,
   "id": "497d5701",
   "metadata": {},
   "outputs": [
    {
     "data": {
      "text/plain": [
       "array([ 10,  20,  30, 405, 506,  89,  96, 100])"
      ]
     },
     "execution_count": 9,
     "metadata": {},
     "output_type": "execute_result"
    }
   ],
   "source": [
    "a # no changes have done here ."
   ]
  },
  {
   "cell_type": "markdown",
   "id": "f2164760",
   "metadata": {},
   "source": [
    "# lec 13\n",
    "## Conditional Selection in Python Numpy"
   ]
  },
  {
   "cell_type": "code",
   "execution_count": 10,
   "id": "3ed39df6",
   "metadata": {},
   "outputs": [],
   "source": [
    "arr=np.arange(1,16)"
   ]
  },
  {
   "cell_type": "code",
   "execution_count": 11,
   "id": "d2a865c4",
   "metadata": {},
   "outputs": [
    {
     "data": {
      "text/plain": [
       "array([ 1,  2,  3,  4,  5,  6,  7,  8,  9, 10, 11, 12, 13, 14, 15])"
      ]
     },
     "execution_count": 11,
     "metadata": {},
     "output_type": "execute_result"
    }
   ],
   "source": [
    "arr"
   ]
  },
  {
   "cell_type": "code",
   "execution_count": 12,
   "id": "10614b33",
   "metadata": {},
   "outputs": [
    {
     "data": {
      "text/plain": [
       "array([False, False, False, False, False, False, False, False, False,\n",
       "       False,  True,  True,  True,  True,  True])"
      ]
     },
     "execution_count": 12,
     "metadata": {},
     "output_type": "execute_result"
    }
   ],
   "source": [
    "# condition based statements\n",
    "arr>10"
   ]
  },
  {
   "cell_type": "code",
   "execution_count": 16,
   "id": "2dfa4e45",
   "metadata": {},
   "outputs": [],
   "source": [
    "b=arr>10 # this contains a array with true or false based on the given condition."
   ]
  },
  {
   "cell_type": "code",
   "execution_count": 17,
   "id": "b8a87e20",
   "metadata": {},
   "outputs": [
    {
     "data": {
      "text/plain": [
       "array([False, False, False, False, False, False, False, False, False,\n",
       "       False,  True,  True,  True,  True,  True])"
      ]
     },
     "execution_count": 17,
     "metadata": {},
     "output_type": "execute_result"
    }
   ],
   "source": [
    "b"
   ]
  },
  {
   "cell_type": "code",
   "execution_count": 19,
   "id": "2de3fc19",
   "metadata": {},
   "outputs": [
    {
     "data": {
      "text/plain": [
       "array([11, 12, 13, 14, 15])"
      ]
     },
     "execution_count": 19,
     "metadata": {},
     "output_type": "execute_result"
    }
   ],
   "source": [
    "arr[b] # wherever true is present all those elements will present in the output."
   ]
  },
  {
   "cell_type": "code",
   "execution_count": 21,
   "id": "0f1cbbd6",
   "metadata": {},
   "outputs": [
    {
     "data": {
      "text/plain": [
       "array([ 6,  7,  8,  9, 10, 11, 12, 13, 14, 15])"
      ]
     },
     "execution_count": 21,
     "metadata": {},
     "output_type": "execute_result"
    }
   ],
   "source": [
    "arr[arr>5] # returns an array where arr elements are greater than 5"
   ]
  },
  {
   "cell_type": "code",
   "execution_count": 22,
   "id": "2bab3600",
   "metadata": {},
   "outputs": [
    {
     "data": {
      "text/plain": [
       "array([1, 2, 3, 4])"
      ]
     },
     "execution_count": 22,
     "metadata": {},
     "output_type": "execute_result"
    }
   ],
   "source": [
    "arr[arr<5]"
   ]
  },
  {
   "cell_type": "code",
   "execution_count": 25,
   "id": "eb88c1d2",
   "metadata": {},
   "outputs": [
    {
     "data": {
      "text/plain": [
       "array([], dtype=int32)"
      ]
     },
     "execution_count": 25,
     "metadata": {},
     "output_type": "execute_result"
    }
   ],
   "source": [
    "arr[arr==100] # 100 is not present .so empty array"
   ]
  },
  {
   "cell_type": "code",
   "execution_count": 26,
   "id": "0a22576c",
   "metadata": {},
   "outputs": [
    {
     "data": {
      "text/plain": [
       "array([7])"
      ]
     },
     "execution_count": 26,
     "metadata": {},
     "output_type": "execute_result"
    }
   ],
   "source": [
    "arr[arr==7]"
   ]
  },
  {
   "cell_type": "code",
   "execution_count": 27,
   "id": "0951324c",
   "metadata": {},
   "outputs": [
    {
     "data": {
      "text/plain": [
       "array([ 2,  4,  6,  8, 10, 12, 14])"
      ]
     },
     "execution_count": 27,
     "metadata": {},
     "output_type": "execute_result"
    }
   ],
   "source": [
    "# print all the even elements present in the array\n",
    "arr[arr%2==0]"
   ]
  },
  {
   "cell_type": "code",
   "execution_count": 28,
   "id": "ad81482d",
   "metadata": {},
   "outputs": [
    {
     "data": {
      "text/plain": [
       "array([ 1,  3,  5,  7,  9, 11, 13, 15])"
      ]
     },
     "execution_count": 28,
     "metadata": {},
     "output_type": "execute_result"
    }
   ],
   "source": [
    "arr[arr%2!=0] # selection only: gives all the old elements present in array"
   ]
  },
  {
   "cell_type": "code",
   "execution_count": 29,
   "id": "41403d51",
   "metadata": {},
   "outputs": [],
   "source": [
    "arr[arr%2==0]=1 # selecting and updating all the even  elements to 1 here."
   ]
  },
  {
   "cell_type": "code",
   "execution_count": 30,
   "id": "22607d4a",
   "metadata": {},
   "outputs": [
    {
     "data": {
      "text/plain": [
       "array([ 1,  1,  3,  1,  5,  1,  7,  1,  9,  1, 11,  1, 13,  1, 15])"
      ]
     },
     "execution_count": 30,
     "metadata": {},
     "output_type": "execute_result"
    }
   ],
   "source": [
    "arr"
   ]
  },
  {
   "cell_type": "markdown",
   "id": "c9ebab33",
   "metadata": {},
   "source": [
    "# lec 14\n",
    "## Various operations in Numpy"
   ]
  },
  {
   "cell_type": "code",
   "execution_count": 31,
   "id": "cd88ca68",
   "metadata": {},
   "outputs": [],
   "source": [
    "a=np.arange(1,12)"
   ]
  },
  {
   "cell_type": "code",
   "execution_count": 32,
   "id": "07c6020d",
   "metadata": {},
   "outputs": [
    {
     "data": {
      "text/plain": [
       "array([ 1,  2,  3,  4,  5,  6,  7,  8,  9, 10, 11])"
      ]
     },
     "execution_count": 32,
     "metadata": {},
     "output_type": "execute_result"
    }
   ],
   "source": [
    "a"
   ]
  },
  {
   "cell_type": "code",
   "execution_count": 34,
   "id": "ebc5401d",
   "metadata": {},
   "outputs": [
    {
     "data": {
      "text/plain": [
       "array([ 2,  4,  6,  8, 10, 12, 14, 16, 18, 20, 22])"
      ]
     },
     "execution_count": 34,
     "metadata": {},
     "output_type": "execute_result"
    }
   ],
   "source": [
    "a*2"
   ]
  },
  {
   "cell_type": "code",
   "execution_count": 35,
   "id": "2b0adb11",
   "metadata": {},
   "outputs": [
    {
     "data": {
      "text/plain": [
       "array([ 3,  4,  5,  6,  7,  8,  9, 10, 11, 12, 13])"
      ]
     },
     "execution_count": 35,
     "metadata": {},
     "output_type": "execute_result"
    }
   ],
   "source": [
    "a+2"
   ]
  },
  {
   "cell_type": "code",
   "execution_count": 36,
   "id": "93d259cf",
   "metadata": {},
   "outputs": [
    {
     "data": {
      "text/plain": [
       "array([-1,  0,  1,  2,  3,  4,  5,  6,  7,  8,  9])"
      ]
     },
     "execution_count": 36,
     "metadata": {},
     "output_type": "execute_result"
    }
   ],
   "source": [
    "a-2"
   ]
  },
  {
   "cell_type": "code",
   "execution_count": 37,
   "id": "cf59517e",
   "metadata": {},
   "outputs": [
    {
     "data": {
      "text/plain": [
       "array([0.5, 1. , 1.5, 2. , 2.5, 3. , 3.5, 4. , 4.5, 5. , 5.5])"
      ]
     },
     "execution_count": 37,
     "metadata": {},
     "output_type": "execute_result"
    }
   ],
   "source": [
    "a/2"
   ]
  },
  {
   "cell_type": "raw",
   "id": "c23574cc",
   "metadata": {},
   "source": [
    "Note:\n",
    "    In Numpy,array divide by zeroo infinity  not any error"
   ]
  },
  {
   "cell_type": "code",
   "execution_count": 39,
   "id": "3d2e007f",
   "metadata": {},
   "outputs": [
    {
     "name": "stderr",
     "output_type": "stream",
     "text": [
      "C:\\Users\\Phanindra Reddy\\AppData\\Local\\Temp\\ipykernel_17492\\4102073204.py:1: RuntimeWarning: divide by zero encountered in true_divide\n",
      "  a/0\n"
     ]
    },
    {
     "data": {
      "text/plain": [
       "array([inf, inf, inf, inf, inf, inf, inf, inf, inf, inf, inf])"
      ]
     },
     "execution_count": 39,
     "metadata": {},
     "output_type": "execute_result"
    }
   ],
   "source": [
    "a/0"
   ]
  },
  {
   "cell_type": "code",
   "execution_count": 40,
   "id": "46b2d67b",
   "metadata": {},
   "outputs": [
    {
     "data": {
      "text/plain": [
       "array([  1,   4,   9,  16,  25,  36,  49,  64,  81, 100, 121], dtype=int32)"
      ]
     },
     "execution_count": 40,
     "metadata": {},
     "output_type": "execute_result"
    }
   ],
   "source": [
    "a**2"
   ]
  },
  {
   "cell_type": "code",
   "execution_count": 41,
   "id": "837c294f",
   "metadata": {},
   "outputs": [],
   "source": [
    "b=np.arange(2,13)"
   ]
  },
  {
   "cell_type": "code",
   "execution_count": 42,
   "id": "5979bd05",
   "metadata": {},
   "outputs": [
    {
     "data": {
      "text/plain": [
       "array([ 2,  3,  4,  5,  6,  7,  8,  9, 10, 11, 12])"
      ]
     },
     "execution_count": 42,
     "metadata": {},
     "output_type": "execute_result"
    }
   ],
   "source": [
    "b"
   ]
  },
  {
   "cell_type": "code",
   "execution_count": 43,
   "id": "e9eca2b7",
   "metadata": {},
   "outputs": [
    {
     "data": {
      "text/plain": [
       "array([ 3,  5,  7,  9, 11, 13, 15, 17, 19, 21, 23])"
      ]
     },
     "execution_count": 43,
     "metadata": {},
     "output_type": "execute_result"
    }
   ],
   "source": [
    "a+b"
   ]
  },
  {
   "cell_type": "code",
   "execution_count": 44,
   "id": "a09cce22",
   "metadata": {},
   "outputs": [
    {
     "data": {
      "text/plain": [
       "array([-1, -1, -1, -1, -1, -1, -1, -1, -1, -1, -1])"
      ]
     },
     "execution_count": 44,
     "metadata": {},
     "output_type": "execute_result"
    }
   ],
   "source": [
    "a-b"
   ]
  },
  {
   "cell_type": "code",
   "execution_count": 45,
   "id": "0703b4aa",
   "metadata": {},
   "outputs": [
    {
     "data": {
      "text/plain": [
       "array([  2,   6,  12,  20,  30,  42,  56,  72,  90, 110, 132])"
      ]
     },
     "execution_count": 45,
     "metadata": {},
     "output_type": "execute_result"
    }
   ],
   "source": [
    "a*b"
   ]
  },
  {
   "cell_type": "code",
   "execution_count": 46,
   "id": "4bcede78",
   "metadata": {},
   "outputs": [
    {
     "data": {
      "text/plain": [
       "array([0.5       , 0.66666667, 0.75      , 0.8       , 0.83333333,\n",
       "       0.85714286, 0.875     , 0.88888889, 0.9       , 0.90909091,\n",
       "       0.91666667])"
      ]
     },
     "execution_count": 46,
     "metadata": {},
     "output_type": "execute_result"
    }
   ],
   "source": [
    "a/b"
   ]
  },
  {
   "cell_type": "code",
   "execution_count": 47,
   "id": "a9914adb",
   "metadata": {},
   "outputs": [],
   "source": [
    "a=np.array([1,2,3,4,5,6,7,8,9]).reshape(3,3)"
   ]
  },
  {
   "cell_type": "code",
   "execution_count": 48,
   "id": "9fddab5b",
   "metadata": {},
   "outputs": [],
   "source": [
    "b=np.array([11,22,13,43,653,26,17,58,19]).reshape(3,3)"
   ]
  },
  {
   "cell_type": "code",
   "execution_count": 49,
   "id": "a46e4d30",
   "metadata": {},
   "outputs": [
    {
     "data": {
      "text/plain": [
       "array([[1, 2, 3],\n",
       "       [4, 5, 6],\n",
       "       [7, 8, 9]])"
      ]
     },
     "execution_count": 49,
     "metadata": {},
     "output_type": "execute_result"
    }
   ],
   "source": [
    "a"
   ]
  },
  {
   "cell_type": "code",
   "execution_count": 50,
   "id": "1486d613",
   "metadata": {},
   "outputs": [
    {
     "data": {
      "text/plain": [
       "array([[ 11,  22,  13],\n",
       "       [ 43, 653,  26],\n",
       "       [ 17,  58,  19]])"
      ]
     },
     "execution_count": 50,
     "metadata": {},
     "output_type": "execute_result"
    }
   ],
   "source": [
    "b"
   ]
  },
  {
   "cell_type": "code",
   "execution_count": 51,
   "id": "52a2da17",
   "metadata": {},
   "outputs": [
    {
     "data": {
      "text/plain": [
       "array([[  11,   44,   39],\n",
       "       [ 172, 3265,  156],\n",
       "       [ 119,  464,  171]])"
      ]
     },
     "execution_count": 51,
     "metadata": {},
     "output_type": "execute_result"
    }
   ],
   "source": [
    "a*b # index wise multiplication"
   ]
  },
  {
   "cell_type": "code",
   "execution_count": 52,
   "id": "c739b455",
   "metadata": {},
   "outputs": [
    {
     "data": {
      "text/plain": [
       "array([[ 148, 1502,  122],\n",
       "       [ 361, 3701,  296],\n",
       "       [ 574, 5900,  470]])"
      ]
     },
     "execution_count": 52,
     "metadata": {},
     "output_type": "execute_result"
    }
   ],
   "source": [
    "a.dot(b) # matrix multiplication here"
   ]
  },
  {
   "cell_type": "code",
   "execution_count": 53,
   "id": "820b245f",
   "metadata": {},
   "outputs": [
    {
     "data": {
      "text/plain": [
       "array([[ -10,  -20,  -10],\n",
       "       [ -39, -648,  -20],\n",
       "       [ -10,  -50,  -10]])"
      ]
     },
     "execution_count": 53,
     "metadata": {},
     "output_type": "execute_result"
    }
   ],
   "source": [
    "a-b"
   ]
  },
  {
   "cell_type": "markdown",
   "id": "d4702c52",
   "metadata": {},
   "source": [
    "# lec 15\n",
    "## Numpy array functions part 1"
   ]
  },
  {
   "cell_type": "code",
   "execution_count": 54,
   "id": "10f5bc95",
   "metadata": {},
   "outputs": [
    {
     "data": {
      "text/plain": [
       "array([ 1,  1,  3,  1,  5,  1,  7,  1,  9,  1, 11,  1, 13,  1, 15])"
      ]
     },
     "execution_count": 54,
     "metadata": {},
     "output_type": "execute_result"
    }
   ],
   "source": [
    "arr"
   ]
  },
  {
   "cell_type": "code",
   "execution_count": 55,
   "id": "7c567966",
   "metadata": {},
   "outputs": [
    {
     "data": {
      "text/plain": [
       "1"
      ]
     },
     "execution_count": 55,
     "metadata": {},
     "output_type": "execute_result"
    }
   ],
   "source": [
    "np.min(arr)"
   ]
  },
  {
   "cell_type": "code",
   "execution_count": 56,
   "id": "eaea6b01",
   "metadata": {},
   "outputs": [
    {
     "data": {
      "text/plain": [
       "15"
      ]
     },
     "execution_count": 56,
     "metadata": {},
     "output_type": "execute_result"
    }
   ],
   "source": [
    "np.max(arr)"
   ]
  },
  {
   "cell_type": "code",
   "execution_count": 57,
   "id": "640ccdde",
   "metadata": {},
   "outputs": [
    {
     "data": {
      "text/plain": [
       "71"
      ]
     },
     "execution_count": 57,
     "metadata": {},
     "output_type": "execute_result"
    }
   ],
   "source": [
    "np.sum(arr)"
   ]
  },
  {
   "cell_type": "code",
   "execution_count": 59,
   "id": "e65720a6",
   "metadata": {},
   "outputs": [
    {
     "data": {
      "text/plain": [
       "0"
      ]
     },
     "execution_count": 59,
     "metadata": {},
     "output_type": "execute_result"
    }
   ],
   "source": [
    "np.argmin(arr) # gives the index position where min element is present in the array."
   ]
  },
  {
   "cell_type": "code",
   "execution_count": 61,
   "id": "fd343d5f",
   "metadata": {},
   "outputs": [
    {
     "data": {
      "text/plain": [
       "14"
      ]
     },
     "execution_count": 61,
     "metadata": {},
     "output_type": "execute_result"
    }
   ],
   "source": [
    "np.argmax(arr) # at 14th index ,the max element is present"
   ]
  },
  {
   "cell_type": "code",
   "execution_count": 66,
   "id": "be114466",
   "metadata": {},
   "outputs": [
    {
     "data": {
      "text/plain": [
       "array([1.        , 1.        , 1.73205081, 1.        , 2.23606798,\n",
       "       1.        , 2.64575131, 1.        , 3.        , 1.        ,\n",
       "       3.31662479, 1.        , 3.60555128, 1.        , 3.87298335])"
      ]
     },
     "execution_count": 66,
     "metadata": {},
     "output_type": "execute_result"
    }
   ],
   "source": [
    "np.sqrt(arr) # square root of every element"
   ]
  },
  {
   "cell_type": "code",
   "execution_count": 64,
   "id": "d6865b90",
   "metadata": {},
   "outputs": [
    {
     "data": {
      "text/plain": [
       "array([ 0.84147098,  0.84147098,  0.14112001,  0.84147098, -0.95892427,\n",
       "        0.84147098,  0.6569866 ,  0.84147098,  0.41211849,  0.84147098,\n",
       "       -0.99999021,  0.84147098,  0.42016704,  0.84147098,  0.65028784])"
      ]
     },
     "execution_count": 64,
     "metadata": {},
     "output_type": "execute_result"
    }
   ],
   "source": [
    "np.sin(arr) # sin value of other number"
   ]
  },
  {
   "cell_type": "code",
   "execution_count": 65,
   "id": "47a6476c",
   "metadata": {},
   "outputs": [
    {
     "data": {
      "text/plain": [
       "array([ 0.54030231,  0.54030231, -0.9899925 ,  0.54030231,  0.28366219,\n",
       "        0.54030231,  0.75390225,  0.54030231, -0.91113026,  0.54030231,\n",
       "        0.0044257 ,  0.54030231,  0.90744678,  0.54030231, -0.75968791])"
      ]
     },
     "execution_count": 65,
     "metadata": {},
     "output_type": "execute_result"
    }
   ],
   "source": [
    "np.cos(arr) # cos value of every number"
   ]
  },
  {
   "cell_type": "raw",
   "id": "23170885",
   "metadata": {},
   "source": [
    "Linspace:\n",
    "     It returns values between a given range and with a same gap between consecutive elements"
   ]
  },
  {
   "cell_type": "code",
   "execution_count": 67,
   "id": "35c5d85b",
   "metadata": {},
   "outputs": [
    {
     "data": {
      "text/plain": [
       "array([1.  , 1.25, 1.5 , 1.75, 2.  ])"
      ]
     },
     "execution_count": 67,
     "metadata": {},
     "output_type": "execute_result"
    }
   ],
   "source": [
    "np.linspace(1,2,5) # between 1 and 2 print 5 values with same gap"
   ]
  },
  {
   "cell_type": "code",
   "execution_count": 68,
   "id": "1fbf0ee8",
   "metadata": {},
   "outputs": [
    {
     "name": "stdout",
     "output_type": "stream",
     "text": [
      "[ 1.    3.25  5.5   7.75 10.  ]\n"
     ]
    }
   ],
   "source": [
    "print(np.linspace(1,10,5) )"
   ]
  },
  {
   "cell_type": "markdown",
   "id": "2ac65326",
   "metadata": {},
   "source": [
    "# lec 16\n",
    "## Numpy array functions part 2 "
   ]
  },
  {
   "cell_type": "code",
   "execution_count": 69,
   "id": "e88cbcfb",
   "metadata": {},
   "outputs": [
    {
     "data": {
      "text/plain": [
       "array([[ 6,  9, 10],\n",
       "       [ 6,  1,  1],\n",
       "       [ 2,  8,  7]])"
      ]
     },
     "execution_count": 69,
     "metadata": {},
     "output_type": "execute_result"
    }
   ],
   "source": [
    "# create 2D array with fixed datatype\n",
    "\n",
    "np.random.seed(1)\n",
    "mat=np.random.randint(1,12,9).reshape(3,3)\n",
    "mat"
   ]
  },
  {
   "cell_type": "code",
   "execution_count": 70,
   "id": "2595bc6a",
   "metadata": {},
   "outputs": [
    {
     "data": {
      "text/plain": [
       "array([[ 6,  9, 10],\n",
       "       [ 6,  1,  1],\n",
       "       [ 2,  8,  7]])"
      ]
     },
     "execution_count": 70,
     "metadata": {},
     "output_type": "execute_result"
    }
   ],
   "source": [
    "mat"
   ]
  },
  {
   "cell_type": "code",
   "execution_count": 72,
   "id": "d407c0bc",
   "metadata": {},
   "outputs": [
    {
     "data": {
      "text/plain": [
       "50"
      ]
     },
     "execution_count": 72,
     "metadata": {},
     "output_type": "execute_result"
    }
   ],
   "source": [
    "np.sum(mat)"
   ]
  },
  {
   "cell_type": "code",
   "execution_count": 74,
   "id": "27e7ca28",
   "metadata": {},
   "outputs": [
    {
     "data": {
      "text/plain": [
       "50"
      ]
     },
     "execution_count": 74,
     "metadata": {},
     "output_type": "execute_result"
    }
   ],
   "source": [
    "mat.sum() # both returns the same value."
   ]
  },
  {
   "cell_type": "code",
   "execution_count": 75,
   "id": "f779347d",
   "metadata": {},
   "outputs": [
    {
     "data": {
      "text/plain": [
       "1"
      ]
     },
     "execution_count": 75,
     "metadata": {},
     "output_type": "execute_result"
    }
   ],
   "source": [
    "np.min(mat)"
   ]
  },
  {
   "cell_type": "code",
   "execution_count": 76,
   "id": "6de4e9f4",
   "metadata": {},
   "outputs": [
    {
     "data": {
      "text/plain": [
       "10"
      ]
     },
     "execution_count": 76,
     "metadata": {},
     "output_type": "execute_result"
    }
   ],
   "source": [
    "np.max(mat)"
   ]
  },
  {
   "cell_type": "raw",
   "id": "f1dbab1d",
   "metadata": {},
   "source": [
    "if axis=1, then operations will be based on row wise\n",
    "if axis=0, then operations will be based on column wise.\n",
    "\n",
    "suppose np.min(mat,axis=0) is given, it means find the minimum element alaong the column wise. from every column one minimum element.\n",
    "\n",
    " np.max(mat,axis=1) : from every row one maximum element."
   ]
  },
  {
   "cell_type": "code",
   "execution_count": 77,
   "id": "e810dfeb",
   "metadata": {},
   "outputs": [
    {
     "data": {
      "text/plain": [
       "array([2, 1, 1])"
      ]
     },
     "execution_count": 77,
     "metadata": {},
     "output_type": "execute_result"
    }
   ],
   "source": [
    "np.min(mat,axis=0)"
   ]
  },
  {
   "cell_type": "code",
   "execution_count": 78,
   "id": "65423ceb",
   "metadata": {},
   "outputs": [
    {
     "data": {
      "text/plain": [
       "array([6, 1, 2])"
      ]
     },
     "execution_count": 78,
     "metadata": {},
     "output_type": "execute_result"
    }
   ],
   "source": [
    "np.min(mat,axis=1)"
   ]
  },
  {
   "cell_type": "code",
   "execution_count": 79,
   "id": "aabec38e",
   "metadata": {},
   "outputs": [
    {
     "data": {
      "text/plain": [
       "array([ 6, 15, 25, 31, 32, 33, 35, 43, 50], dtype=int32)"
      ]
     },
     "execution_count": 79,
     "metadata": {},
     "output_type": "execute_result"
    }
   ],
   "source": [
    "np.cumsum(mat) # cummulative sum. # adding one element to every time . \n",
    "6,6+9,6+9+10,6+9+10+5, ........"
   ]
  },
  {
   "cell_type": "code",
   "execution_count": 81,
   "id": "91ecf3ca",
   "metadata": {},
   "outputs": [
    {
     "data": {
      "text/plain": [
       "array([25,  8, 17])"
      ]
     },
     "execution_count": 81,
     "metadata": {},
     "output_type": "execute_result"
    }
   ],
   "source": [
    "np.sum(mat,axis=1) # row wise sum"
   ]
  },
  {
   "cell_type": "code",
   "execution_count": 82,
   "id": "8c9bd0dd",
   "metadata": {},
   "outputs": [
    {
     "data": {
      "text/plain": [
       "array([[ 6, 15, 25],\n",
       "       [ 6,  7,  8],\n",
       "       [ 2, 10, 17]], dtype=int32)"
      ]
     },
     "execution_count": 82,
     "metadata": {},
     "output_type": "execute_result"
    }
   ],
   "source": [
    "np.cumsum(mat,axis=1)"
   ]
  },
  {
   "cell_type": "markdown",
   "id": "6fd8095d",
   "metadata": {},
   "source": [
    "# lec 17\n",
    "## Numpy array functions part3"
   ]
  },
  {
   "cell_type": "markdown",
   "id": "a62332ae",
   "metadata": {},
   "source": [
    "# Shuffle "
   ]
  },
  {
   "cell_type": "code",
   "execution_count": 83,
   "id": "01a843db",
   "metadata": {},
   "outputs": [],
   "source": [
    "# shuffles the array elements\n",
    "np.random.seed(2)\n",
    "a=np.random.randint(1,10,7)"
   ]
  },
  {
   "cell_type": "code",
   "execution_count": 84,
   "id": "9a1d4d79",
   "metadata": {},
   "outputs": [
    {
     "data": {
      "text/plain": [
       "array([9, 9, 7, 3, 9, 8, 3])"
      ]
     },
     "execution_count": 84,
     "metadata": {},
     "output_type": "execute_result"
    }
   ],
   "source": [
    "a"
   ]
  },
  {
   "cell_type": "code",
   "execution_count": 86,
   "id": "4a436758",
   "metadata": {},
   "outputs": [],
   "source": [
    "np.random.shuffle(a)"
   ]
  },
  {
   "cell_type": "code",
   "execution_count": 43,
   "id": "12521ad6",
   "metadata": {},
   "outputs": [
    {
     "ename": "NameError",
     "evalue": "name 'a' is not defined",
     "output_type": "error",
     "traceback": [
      "\u001b[1;31m---------------------------------------------------------------------------\u001b[0m",
      "\u001b[1;31mNameError\u001b[0m                                 Traceback (most recent call last)",
      "\u001b[1;32m~\\AppData\\Local\\Temp\\ipykernel_8352\\2167009006.py\u001b[0m in \u001b[0;36m<module>\u001b[1;34m\u001b[0m\n\u001b[1;32m----> 1\u001b[1;33m \u001b[0ma\u001b[0m\u001b[1;33m\u001b[0m\u001b[1;33m\u001b[0m\u001b[0m\n\u001b[0m",
      "\u001b[1;31mNameError\u001b[0m: name 'a' is not defined"
     ]
    }
   ],
   "source": [
    "a"
   ]
  },
  {
   "cell_type": "markdown",
   "id": "c636aa68",
   "metadata": {},
   "source": [
    "# unique"
   ]
  },
  {
   "cell_type": "raw",
   "id": "73681750",
   "metadata": {},
   "source": [
    "syntax for unique:\n",
    "    np.unique(arr,return_index=True,return_counts=True)\n",
    "    1.returns three arrays here. first with unique elements\n",
    "    2.index positions\n",
    "    3.count of each unique element."
   ]
  },
  {
   "cell_type": "code",
   "execution_count": 89,
   "id": "58f3439b",
   "metadata": {},
   "outputs": [
    {
     "data": {
      "text/plain": [
       "array([3, 7, 8, 9])"
      ]
     },
     "execution_count": 89,
     "metadata": {},
     "output_type": "execute_result"
    }
   ],
   "source": [
    "np.unique(a) # gives all the unique elements present in the array."
   ]
  },
  {
   "cell_type": "code",
   "execution_count": 90,
   "id": "c52174be",
   "metadata": {},
   "outputs": [
    {
     "data": {
      "text/plain": [
       "4"
      ]
     },
     "execution_count": 90,
     "metadata": {},
     "output_type": "execute_result"
    }
   ],
   "source": [
    "np.unique(a).size # counts the unique number of elements"
   ]
  },
  {
   "cell_type": "code",
   "execution_count": 92,
   "id": "4a92ae03",
   "metadata": {},
   "outputs": [
    {
     "data": {
      "text/plain": [
       "(array([3, 7, 8, 9]),\n",
       " array([0, 4, 2, 1], dtype=int64),\n",
       " array([2, 1, 1, 3], dtype=int64))"
      ]
     },
     "execution_count": 92,
     "metadata": {},
     "output_type": "execute_result"
    }
   ],
   "source": [
    "np.unique(a,return_index=True,return_counts=True) "
   ]
  },
  {
   "cell_type": "markdown",
   "id": "bb83f5f0",
   "metadata": {},
   "source": [
    "# lec 18\n",
    "## Python Numpy Stacking"
   ]
  },
  {
   "cell_type": "raw",
   "id": "f6d01053",
   "metadata": {},
   "source": [
    "Horizontal Stacking:\n",
    "    This will arranges the matrix horizontally.\n",
    "Vertical stacking:\n",
    "    This will arrange the matrix vertically."
   ]
  },
  {
   "cell_type": "code",
   "execution_count": 4,
   "id": "ba0bf853",
   "metadata": {},
   "outputs": [],
   "source": [
    "import numpy as np\n",
    "arr1=np.array([1,2,3,4])\n",
    "arr2=np.array([5,6,7,8])"
   ]
  },
  {
   "cell_type": "code",
   "execution_count": 5,
   "id": "1251b1db",
   "metadata": {},
   "outputs": [
    {
     "data": {
      "text/plain": [
       "array([1, 2, 3, 4])"
      ]
     },
     "execution_count": 5,
     "metadata": {},
     "output_type": "execute_result"
    }
   ],
   "source": [
    "arr1"
   ]
  },
  {
   "cell_type": "code",
   "execution_count": 6,
   "id": "07fdd362",
   "metadata": {},
   "outputs": [
    {
     "data": {
      "text/plain": [
       "array([5, 6, 7, 8])"
      ]
     },
     "execution_count": 6,
     "metadata": {},
     "output_type": "execute_result"
    }
   ],
   "source": [
    "arr2"
   ]
  },
  {
   "cell_type": "code",
   "execution_count": 8,
   "id": "3d358eae",
   "metadata": {},
   "outputs": [
    {
     "data": {
      "text/plain": [
       "array([1, 2, 3, 4, 5, 6, 7, 8])"
      ]
     },
     "execution_count": 8,
     "metadata": {},
     "output_type": "execute_result"
    }
   ],
   "source": [
    "np.hstack((arr1,arr2))"
   ]
  },
  {
   "cell_type": "code",
   "execution_count": 9,
   "id": "df1f79fc",
   "metadata": {},
   "outputs": [
    {
     "data": {
      "text/plain": [
       "array([[1, 2, 3, 4],\n",
       "       [5, 6, 7, 8]])"
      ]
     },
     "execution_count": 9,
     "metadata": {},
     "output_type": "execute_result"
    }
   ],
   "source": [
    "np.vstack((arr1,arr2))"
   ]
  },
  {
   "cell_type": "code",
   "execution_count": 10,
   "id": "e618294a",
   "metadata": {},
   "outputs": [],
   "source": [
    "# stacking 2D array with fixed datatype\n",
    "import numpy as np\n",
    "np.random.seed(1)\n",
    "arr1=np.random.randint(1,21,9).reshape(3,3)\n",
    "arr2=np.random.randint(30,41,9).reshape(3,3)"
   ]
  },
  {
   "cell_type": "code",
   "execution_count": 11,
   "id": "1949a950",
   "metadata": {},
   "outputs": [
    {
     "data": {
      "text/plain": [
       "array([[ 6, 12, 13],\n",
       "       [ 9, 10, 12],\n",
       "       [ 6, 16,  1]])"
      ]
     },
     "execution_count": 11,
     "metadata": {},
     "output_type": "execute_result"
    }
   ],
   "source": [
    "arr1"
   ]
  },
  {
   "cell_type": "code",
   "execution_count": 12,
   "id": "2a2ef310",
   "metadata": {},
   "outputs": [
    {
     "data": {
      "text/plain": [
       "array([[30, 31, 37],\n",
       "       [36, 39, 32],\n",
       "       [34, 35, 32]])"
      ]
     },
     "execution_count": 12,
     "metadata": {},
     "output_type": "execute_result"
    }
   ],
   "source": [
    "arr2"
   ]
  },
  {
   "cell_type": "code",
   "execution_count": 14,
   "id": "4b944d82",
   "metadata": {},
   "outputs": [
    {
     "data": {
      "text/plain": [
       "array([[ 6, 12, 13, 30, 31, 37],\n",
       "       [ 9, 10, 12, 36, 39, 32],\n",
       "       [ 6, 16,  1, 34, 35, 32]])"
      ]
     },
     "execution_count": 14,
     "metadata": {},
     "output_type": "execute_result"
    }
   ],
   "source": [
    "np.hstack((arr1,arr2))"
   ]
  },
  {
   "cell_type": "code",
   "execution_count": 15,
   "id": "385f6257",
   "metadata": {},
   "outputs": [
    {
     "data": {
      "text/plain": [
       "array([[ 6, 12, 13],\n",
       "       [ 9, 10, 12],\n",
       "       [ 6, 16,  1],\n",
       "       [30, 31, 37],\n",
       "       [36, 39, 32],\n",
       "       [34, 35, 32]])"
      ]
     },
     "execution_count": 15,
     "metadata": {},
     "output_type": "execute_result"
    }
   ],
   "source": [
    "np.vstack((arr1,arr2))"
   ]
  },
  {
   "cell_type": "markdown",
   "id": "833da2be",
   "metadata": {},
   "source": [
    "# lec 19 & 20\n",
    "## Numpy Practice Questions and Answers"
   ]
  },
  {
   "cell_type": "markdown",
   "id": "c9c6ea46",
   "metadata": {},
   "source": [
    "1. create an array of 10 random integers"
   ]
  },
  {
   "cell_type": "code",
   "execution_count": 16,
   "id": "30533743",
   "metadata": {},
   "outputs": [],
   "source": [
    "arr=np.random.randint(1,100,10)"
   ]
  },
  {
   "cell_type": "code",
   "execution_count": 17,
   "id": "16043d1b",
   "metadata": {},
   "outputs": [
    {
     "data": {
      "text/plain": [
       "array([85, 12, 29, 30, 15, 51, 69, 88, 88, 95])"
      ]
     },
     "execution_count": 17,
     "metadata": {},
     "output_type": "execute_result"
    }
   ],
   "source": [
    "arr"
   ]
  },
  {
   "cell_type": "markdown",
   "id": "48f39488",
   "metadata": {},
   "source": [
    "2. create an array from 10-20  elements"
   ]
  },
  {
   "cell_type": "code",
   "execution_count": 20,
   "id": "fa98c532",
   "metadata": {},
   "outputs": [],
   "source": [
    "arr=np.arange(10,21)"
   ]
  },
  {
   "cell_type": "code",
   "execution_count": 21,
   "id": "4b7d4624",
   "metadata": {},
   "outputs": [
    {
     "data": {
      "text/plain": [
       "array([10, 11, 12, 13, 14, 15, 16, 17, 18, 19, 20])"
      ]
     },
     "execution_count": 21,
     "metadata": {},
     "output_type": "execute_result"
    }
   ],
   "source": [
    "arr"
   ]
  },
  {
   "cell_type": "markdown",
   "id": "a96f132d",
   "metadata": {},
   "source": [
    "3. create an array which contains value 5,10 times"
   ]
  },
  {
   "cell_type": "code",
   "execution_count": 23,
   "id": "cbab57d3",
   "metadata": {},
   "outputs": [],
   "source": [
    "# first we create an array with ones and then multiply it by 5\n",
    "arr=np.ones(10)*5"
   ]
  },
  {
   "cell_type": "code",
   "execution_count": 24,
   "id": "e15a1df1",
   "metadata": {},
   "outputs": [
    {
     "data": {
      "text/plain": [
       "array([5., 5., 5., 5., 5., 5., 5., 5., 5., 5.])"
      ]
     },
     "execution_count": 24,
     "metadata": {},
     "output_type": "execute_result"
    }
   ],
   "source": [
    "arr"
   ]
  },
  {
   "cell_type": "markdown",
   "id": "f3500b79",
   "metadata": {},
   "source": [
    "4. create a 1D array and convert it into 3*3 matrix"
   ]
  },
  {
   "cell_type": "code",
   "execution_count": 25,
   "id": "26ccbb9c",
   "metadata": {},
   "outputs": [],
   "source": [
    "arr=np.arange(1,10).reshape(3,3)"
   ]
  },
  {
   "cell_type": "code",
   "execution_count": 26,
   "id": "2f09ac3c",
   "metadata": {},
   "outputs": [
    {
     "data": {
      "text/plain": [
       "array([[1, 2, 3],\n",
       "       [4, 5, 6],\n",
       "       [7, 8, 9]])"
      ]
     },
     "execution_count": 26,
     "metadata": {},
     "output_type": "execute_result"
    }
   ],
   "source": [
    "arr"
   ]
  },
  {
   "cell_type": "markdown",
   "id": "a266d760",
   "metadata": {},
   "source": [
    "5. create an array and then convert all the even numbers with 0."
   ]
  },
  {
   "cell_type": "code",
   "execution_count": 27,
   "id": "37dc406c",
   "metadata": {},
   "outputs": [],
   "source": [
    "arr=np.arange(1,10)"
   ]
  },
  {
   "cell_type": "code",
   "execution_count": 28,
   "id": "339ecab1",
   "metadata": {},
   "outputs": [],
   "source": [
    "arr[arr%2==0]=0 # wherever even numbers are present, we are updating to the 0 value."
   ]
  },
  {
   "cell_type": "code",
   "execution_count": 29,
   "id": "88f093eb",
   "metadata": {},
   "outputs": [
    {
     "data": {
      "text/plain": [
       "array([1, 0, 3, 0, 5, 0, 7, 0, 9])"
      ]
     },
     "execution_count": 29,
     "metadata": {},
     "output_type": "execute_result"
    }
   ],
   "source": [
    "arr"
   ]
  },
  {
   "cell_type": "markdown",
   "id": "040114a8",
   "metadata": {},
   "source": [
    "6. create a D array of size 3*3 but all the elements should be between 0 and 1."
   ]
  },
  {
   "cell_type": "code",
   "execution_count": 30,
   "id": "3fdddc71",
   "metadata": {},
   "outputs": [],
   "source": [
    "arr=np.random.rand(9).reshape(3,3)"
   ]
  },
  {
   "cell_type": "code",
   "execution_count": 31,
   "id": "554ba49d",
   "metadata": {},
   "outputs": [
    {
     "data": {
      "text/plain": [
       "array([[0.19810149, 0.80074457, 0.96826158],\n",
       "       [0.31342418, 0.69232262, 0.87638915],\n",
       "       [0.89460666, 0.08504421, 0.03905478]])"
      ]
     },
     "execution_count": 31,
     "metadata": {},
     "output_type": "execute_result"
    }
   ],
   "source": [
    "arr"
   ]
  },
  {
   "cell_type": "raw",
   "id": "8de068b0",
   "metadata": {},
   "source": [
    "7. Perform the following slicing.\n",
    "input \n",
    " 1 2 3 4\n",
    " 5 6 7 8\n",
    " 9 10 11 12\n",
    " 13 14 15 16\n",
    "\n",
    "output:\n",
    "    6 7\n",
    "    10 11\n",
    "    14 15\n"
   ]
  },
  {
   "cell_type": "code",
   "execution_count": 33,
   "id": "2f307d71",
   "metadata": {},
   "outputs": [],
   "source": [
    "arr1=np.arange(1,17).reshape(4,4)"
   ]
  },
  {
   "cell_type": "code",
   "execution_count": 34,
   "id": "e26d42d7",
   "metadata": {},
   "outputs": [
    {
     "data": {
      "text/plain": [
       "array([[ 1,  2,  3,  4],\n",
       "       [ 5,  6,  7,  8],\n",
       "       [ 9, 10, 11, 12],\n",
       "       [13, 14, 15, 16]])"
      ]
     },
     "execution_count": 34,
     "metadata": {},
     "output_type": "execute_result"
    }
   ],
   "source": [
    "arr1"
   ]
  },
  {
   "cell_type": "code",
   "execution_count": 38,
   "id": "053348ab",
   "metadata": {},
   "outputs": [],
   "source": [
    "arr2=arr1[1:,1:3]"
   ]
  },
  {
   "cell_type": "code",
   "execution_count": 39,
   "id": "164c6e10",
   "metadata": {},
   "outputs": [
    {
     "data": {
      "text/plain": [
       "array([[ 6,  7],\n",
       "       [10, 11],\n",
       "       [14, 15]])"
      ]
     },
     "execution_count": 39,
     "metadata": {},
     "output_type": "execute_result"
    }
   ],
   "source": [
    "arr2"
   ]
  },
  {
   "cell_type": "markdown",
   "id": "bb6be6b6",
   "metadata": {},
   "source": [
    "8. Concatenate 2D array horizontally and vertically."
   ]
  },
  {
   "cell_type": "code",
   "execution_count": 40,
   "id": "45dafcac",
   "metadata": {},
   "outputs": [
    {
     "data": {
      "text/plain": [
       "array([[ 1,  2,  3,  2,  3,  4],\n",
       "       [ 4,  5,  6,  5,  6,  7],\n",
       "       [ 7,  8,  9,  8,  9, 10]])"
      ]
     },
     "execution_count": 40,
     "metadata": {},
     "output_type": "execute_result"
    }
   ],
   "source": [
    "arr1=np.arange(1,10).reshape(3,3)\n",
    "arr2=np.arange(2,11).reshape(3,3)\n",
    "np.hstack((arr1,arr2))"
   ]
  },
  {
   "cell_type": "code",
   "execution_count": 41,
   "id": "12e6e0fa",
   "metadata": {},
   "outputs": [
    {
     "data": {
      "text/plain": [
       "array([[ 1,  2,  3],\n",
       "       [ 4,  5,  6],\n",
       "       [ 7,  8,  9],\n",
       "       [ 2,  3,  4],\n",
       "       [ 5,  6,  7],\n",
       "       [ 8,  9, 10]])"
      ]
     },
     "execution_count": 41,
     "metadata": {},
     "output_type": "execute_result"
    }
   ],
   "source": [
    "np.vstack((arr1,arr2))"
   ]
  },
  {
   "cell_type": "markdown",
   "id": "c6bc6cb2",
   "metadata": {},
   "source": [
    "# lec 21\n",
    "## Numpy vs List"
   ]
  },
  {
   "cell_type": "raw",
   "id": "dfe15379",
   "metadata": {},
   "source": [
    "Numpy data structures perform better in:\n",
    "    1.size-> takes up less space\n",
    "    2.Performance-> they have a need for speed and are faster than lists.\n",
    "    3.Functionality-> SciPy and Numpy have optimized functions such as Linear Algebra operations built in."
   ]
  },
  {
   "cell_type": "code",
   "execution_count": 44,
   "id": "6abba9e3",
   "metadata": {},
   "outputs": [],
   "source": [
    "# proof to show arrays are faster than lists."
   ]
  },
  {
   "cell_type": "markdown",
   "id": "93431150",
   "metadata": {},
   "source": [
    "1. We can use timeit to find he running time(average/mean).\n",
    "2. %timeit-> for getting the execution time of one statement.\n",
    "3. %%timeit-> for multiline execution time.\n"
   ]
  },
  {
   "cell_type": "code",
   "execution_count": 46,
   "id": "244d250d",
   "metadata": {},
   "outputs": [
    {
     "name": "stdout",
     "output_type": "stream",
     "text": [
      "9.46 ns ± 0.174 ns per loop (mean ± std. dev. of 7 runs, 100000000 loops each)\n"
     ]
    }
   ],
   "source": [
    "%timeit 2+3 # for single statement"
   ]
  },
  {
   "cell_type": "code",
   "execution_count": 48,
   "id": "05a524d2",
   "metadata": {},
   "outputs": [
    {
     "name": "stdout",
     "output_type": "stream",
     "text": [
      "1.5 µs ± 58.2 ns per loop (mean ± std. dev. of 7 runs, 1000000 loops each)\n"
     ]
    }
   ],
   "source": [
    "%%timeit # for multiple statements\n",
    "a=[]\n",
    "for i in range(1,15):\n",
    "    a.append(i*10)"
   ]
  },
  {
   "cell_type": "code",
   "execution_count": 49,
   "id": "6d54261c",
   "metadata": {},
   "outputs": [
    {
     "name": "stdout",
     "output_type": "stream",
     "text": [
      "3.09 µs ± 149 ns per loop (mean ± std. dev. of 7 runs, 100000 loops each)\n"
     ]
    }
   ],
   "source": [
    "# list\n",
    "%timeit [i**2 for i in range(1,11)]"
   ]
  },
  {
   "cell_type": "code",
   "execution_count": 51,
   "id": "5fddd837",
   "metadata": {},
   "outputs": [
    {
     "name": "stdout",
     "output_type": "stream",
     "text": [
      "1.4 µs ± 74 ns per loop (mean ± std. dev. of 7 runs, 1000000 loops each)\n"
     ]
    }
   ],
   "source": [
    "#array\n",
    "%timeit np.arange(1,11)**2"
   ]
  },
  {
   "cell_type": "code",
   "execution_count": 52,
   "id": "a7856f17",
   "metadata": {},
   "outputs": [],
   "source": [
    "# here we can observe that time taken by array is very less compared to the list."
   ]
  },
  {
   "cell_type": "markdown",
   "id": "2a7d73d3",
   "metadata": {},
   "source": [
    " # lec 22\n",
    "   ## Searching an element in Numpy array"
   ]
  },
  {
   "cell_type": "raw",
   "id": "5dffce89",
   "metadata": {},
   "source": [
    "We can search an element in an array and if the value is found,then the concerned index is returned.\n",
    "To search an array,we use where() method."
   ]
  },
  {
   "cell_type": "code",
   "execution_count": 53,
   "id": "e9518072",
   "metadata": {},
   "outputs": [],
   "source": [
    "arr=np.array([10,20,340,34,40,50,40,56,40,23,40])"
   ]
  },
  {
   "cell_type": "code",
   "execution_count": 56,
   "id": "b838d346",
   "metadata": {},
   "outputs": [],
   "source": [
    "x=np.where(arr==40) # returns all the indices where 40 is present."
   ]
  },
  {
   "cell_type": "code",
   "execution_count": 57,
   "id": "76877214",
   "metadata": {},
   "outputs": [
    {
     "data": {
      "text/plain": [
       "(array([ 4,  6,  8, 10], dtype=int64),)"
      ]
     },
     "execution_count": 57,
     "metadata": {},
     "output_type": "execute_result"
    }
   ],
   "source": [
    "x"
   ]
  },
  {
   "cell_type": "markdown",
   "id": "d1926423",
   "metadata": {},
   "source": [
    "1. we can also perform condition based searching using where() function."
   ]
  },
  {
   "cell_type": "code",
   "execution_count": 60,
   "id": "c1b3a652",
   "metadata": {},
   "outputs": [],
   "source": [
    "res=np.where(arr%2==0)"
   ]
  },
  {
   "cell_type": "code",
   "execution_count": 61,
   "id": "65ee5e9a",
   "metadata": {},
   "outputs": [
    {
     "data": {
      "text/plain": [
       "(array([ 0,  1,  2,  3,  4,  5,  6,  7,  8, 10], dtype=int64),)"
      ]
     },
     "execution_count": 61,
     "metadata": {},
     "output_type": "execute_result"
    }
   ],
   "source": [
    "res"
   ]
  },
  {
   "cell_type": "markdown",
   "id": "b744929b",
   "metadata": {},
   "source": [
    "# search sorted\n",
    " This method performs a Binary search in the array and returns the index where the specified value would be inserted to maintain the search order.\n",
    "    "
   ]
  },
  {
   "cell_type": "code",
   "execution_count": 62,
   "id": "a2fc55a4",
   "metadata": {},
   "outputs": [],
   "source": [
    "x=np.searchsorted(arr,50)"
   ]
  },
  {
   "cell_type": "code",
   "execution_count": 63,
   "id": "24abf28f",
   "metadata": {},
   "outputs": [
    {
     "data": {
      "text/plain": [
       "2"
      ]
     },
     "execution_count": 63,
     "metadata": {},
     "output_type": "execute_result"
    }
   ],
   "source": [
    "x"
   ]
  },
  {
   "cell_type": "code",
   "execution_count": 65,
   "id": "a1c6d515",
   "metadata": {},
   "outputs": [],
   "source": [
    "# here we can perform searching from the right side also.\n",
    "#The searching may also be performed from right side.\n",
    "\n",
    "x=np.searchsorted(arr,100,side=\"right\")"
   ]
  },
  {
   "cell_type": "code",
   "execution_count": 66,
   "id": "4370910e",
   "metadata": {},
   "outputs": [
    {
     "data": {
      "text/plain": [
       "11"
      ]
     },
     "execution_count": 66,
     "metadata": {},
     "output_type": "execute_result"
    }
   ],
   "source": [
    "x"
   ]
  },
  {
   "cell_type": "code",
   "execution_count": null,
   "id": "37371650",
   "metadata": {},
   "outputs": [],
   "source": []
  }
 ],
 "metadata": {
  "kernelspec": {
   "display_name": "Python 3 (ipykernel)",
   "language": "python",
   "name": "python3"
  },
  "language_info": {
   "codemirror_mode": {
    "name": "ipython",
    "version": 3
   },
   "file_extension": ".py",
   "mimetype": "text/x-python",
   "name": "python",
   "nbconvert_exporter": "python",
   "pygments_lexer": "ipython3",
   "version": "3.9.13"
  }
 },
 "nbformat": 4,
 "nbformat_minor": 5
}

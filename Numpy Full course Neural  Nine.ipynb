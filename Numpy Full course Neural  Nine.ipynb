{
 "cells": [
  {
   "cell_type": "code",
   "execution_count": 1,
   "id": "4fe77eae",
   "metadata": {},
   "outputs": [
    {
     "name": "stdout",
     "output_type": "stream",
     "text": [
      "[10 20 30 40]\n"
     ]
    }
   ],
   "source": [
    "import numpy as np\n",
    "a=np.array([10,20,30,40])\n",
    "print(a)"
   ]
  },
  {
   "cell_type": "code",
   "execution_count": 2,
   "id": "f8d7dd83",
   "metadata": {},
   "outputs": [],
   "source": [
    "a[2]=100"
   ]
  },
  {
   "cell_type": "code",
   "execution_count": 3,
   "id": "53c4cbee",
   "metadata": {},
   "outputs": [
    {
     "data": {
      "text/plain": [
       "array([ 10,  20, 100,  40])"
      ]
     },
     "execution_count": 3,
     "metadata": {},
     "output_type": "execute_result"
    }
   ],
   "source": [
    "a"
   ]
  },
  {
   "cell_type": "code",
   "execution_count": 4,
   "id": "82d6d9d9",
   "metadata": {},
   "outputs": [],
   "source": [
    "b=np.array([[1,2,3],\n",
    "             [4,5,6],\n",
    "           [7,\"hello\",9]])\n"
   ]
  },
  {
   "cell_type": "code",
   "execution_count": 5,
   "id": "45e4f0a4",
   "metadata": {},
   "outputs": [
    {
     "data": {
      "text/plain": [
       "array([['1', '2', '3'],\n",
       "       ['4', '5', '6'],\n",
       "       ['7', 'hello', '9']], dtype='<U11')"
      ]
     },
     "execution_count": 5,
     "metadata": {},
     "output_type": "execute_result"
    }
   ],
   "source": [
    "b"
   ]
  },
  {
   "cell_type": "code",
   "execution_count": 6,
   "id": "85112cd8",
   "metadata": {},
   "outputs": [
    {
     "data": {
      "text/plain": [
       "numpy.ndarray"
      ]
     },
     "execution_count": 6,
     "metadata": {},
     "output_type": "execute_result"
    }
   ],
   "source": [
    "type(b)"
   ]
  },
  {
   "cell_type": "code",
   "execution_count": 7,
   "id": "26bf2f71",
   "metadata": {},
   "outputs": [
    {
     "data": {
      "text/plain": [
       "numpy.str_"
      ]
     },
     "execution_count": 7,
     "metadata": {},
     "output_type": "execute_result"
    }
   ],
   "source": [
    "type(b[0,2])"
   ]
  },
  {
   "cell_type": "code",
   "execution_count": 8,
   "id": "fdbeda16",
   "metadata": {},
   "outputs": [
    {
     "name": "stdout",
     "output_type": "stream",
     "text": [
      "<U1\n"
     ]
    }
   ],
   "source": [
    "print(b[2,2].dtype) # a unicode string with 1 byte"
   ]
  },
  {
   "cell_type": "code",
   "execution_count": 9,
   "id": "5b847bbc",
   "metadata": {},
   "outputs": [],
   "source": [
    "# if any element in the array is string datatype, then all the elements will also be considered as strings only."
   ]
  },
  {
   "cell_type": "code",
   "execution_count": 14,
   "id": "7f7870a1",
   "metadata": {},
   "outputs": [],
   "source": [
    "c=np.array([['1', '2', '3'],\n",
    "       ['4', '5', '6'],\n",
    "       ['7', '5', '9']], dtype=np.int32) # here we are conveting it to the datatype to int."
   ]
  },
  {
   "cell_type": "code",
   "execution_count": 13,
   "id": "d716d2f7",
   "metadata": {},
   "outputs": [
    {
     "data": {
      "text/plain": [
       "array([[1, 2, 3],\n",
       "       [4, 5, 6],\n",
       "       [7, 5, 9]])"
      ]
     },
     "execution_count": 13,
     "metadata": {},
     "output_type": "execute_result"
    }
   ],
   "source": [
    "c"
   ]
  },
  {
   "cell_type": "code",
   "execution_count": 23,
   "id": "ce7e098c",
   "metadata": {},
   "outputs": [
    {
     "ename": "ValueError",
     "evalue": "invalid literal for int() with base 10: 'hello'",
     "output_type": "error",
     "traceback": [
      "\u001b[1;31m---------------------------------------------------------------------------\u001b[0m",
      "\u001b[1;31mValueError\u001b[0m                                Traceback (most recent call last)",
      "\u001b[1;32m~\\AppData\\Local\\Temp\\ipykernel_12720\\227198269.py\u001b[0m in \u001b[0;36m<module>\u001b[1;34m\u001b[0m\n\u001b[0;32m      1\u001b[0m \u001b[1;31m# we can also define the datatype we need.\u001b[0m\u001b[1;33m\u001b[0m\u001b[1;33m\u001b[0m\u001b[0m\n\u001b[1;32m----> 2\u001b[1;33m d=np.array([['1', '2', '3'],\n\u001b[0m\u001b[0;32m      3\u001b[0m        \u001b[1;33m[\u001b[0m\u001b[1;34m'4'\u001b[0m\u001b[1;33m,\u001b[0m \u001b[1;34m'5'\u001b[0m\u001b[1;33m,\u001b[0m \u001b[1;34m'6'\u001b[0m\u001b[1;33m]\u001b[0m\u001b[1;33m,\u001b[0m\u001b[1;33m\u001b[0m\u001b[1;33m\u001b[0m\u001b[0m\n\u001b[0;32m      4\u001b[0m        ['7', 'hello', '9']], dtype=np.int32)  # this is not possible since hello is present\n",
      "\u001b[1;31mValueError\u001b[0m: invalid literal for int() with base 10: 'hello'"
     ]
    }
   ],
   "source": [
    "# we can also define the datatype we need.\n",
    "d=np.array([['1', '2', '3'],\n",
    "       ['4', '5', '6'],\n",
    "       ['7', 'hello', '9']], dtype=np.int32)  # this is not possible since hello is present"
   ]
  },
  {
   "cell_type": "code",
   "execution_count": 24,
   "id": "62c997c2",
   "metadata": {},
   "outputs": [],
   "source": [
    "c=np.array([['1', '2', '3'],\n",
    "       ['4', '5', '6'],\n",
    "       ['7', '5', '9']]) "
   ]
  },
  {
   "cell_type": "code",
   "execution_count": 25,
   "id": "0a3aab0b",
   "metadata": {},
   "outputs": [
    {
     "data": {
      "text/plain": [
       "array([['1', '2', '3'],\n",
       "       ['4', '5', '6'],\n",
       "       ['7', '5', '9']], dtype='<U1')"
      ]
     },
     "execution_count": 25,
     "metadata": {},
     "output_type": "execute_result"
    }
   ],
   "source": [
    "c"
   ]
  },
  {
   "cell_type": "code",
   "execution_count": 26,
   "id": "6fe46dea",
   "metadata": {},
   "outputs": [
    {
     "name": "stdout",
     "output_type": "stream",
     "text": [
      "[[1 2 3]\n",
      " [4 5 6]\n",
      " [7 5 9]]\n"
     ]
    }
   ],
   "source": [
    "print(c.astype(int)) # type casting to the integers datatype"
   ]
  },
  {
   "cell_type": "code",
   "execution_count": 29,
   "id": "d8ddb4cf",
   "metadata": {},
   "outputs": [],
   "source": [
    "d=np.array([['1', '2', '3'],\n",
    "       ['4', '5', '6'],\n",
    "       ['7', '5', '9']], dtype='<U2') # here we are mentioning the datatype as U2 "
   ]
  },
  {
   "cell_type": "code",
   "execution_count": 30,
   "id": "b4038066",
   "metadata": {},
   "outputs": [
    {
     "data": {
      "text/plain": [
       "dtype('<U2')"
      ]
     },
     "execution_count": 30,
     "metadata": {},
     "output_type": "execute_result"
    }
   ],
   "source": [
    "d.dtype"
   ]
  },
  {
   "cell_type": "markdown",
   "id": "56fa828d",
   "metadata": {},
   "source": [
    "# full():\n",
    " 1. we need to give shape of the array and the value we want to fill it with ."
   ]
  },
  {
   "cell_type": "code",
   "execution_count": 31,
   "id": "5d639947",
   "metadata": {},
   "outputs": [
    {
     "data": {
      "text/plain": [
       "array([[[7, 7, 7, 7],\n",
       "        [7, 7, 7, 7],\n",
       "        [7, 7, 7, 7]],\n",
       "\n",
       "       [[7, 7, 7, 7],\n",
       "        [7, 7, 7, 7],\n",
       "        [7, 7, 7, 7]]])"
      ]
     },
     "execution_count": 31,
     "metadata": {},
     "output_type": "execute_result"
    }
   ],
   "source": [
    "np.full((2,3,4),7)"
   ]
  },
  {
   "cell_type": "code",
   "execution_count": 32,
   "id": "1a017cf7",
   "metadata": {},
   "outputs": [
    {
     "data": {
      "text/plain": [
       "array([[7, 7, 7, 7],\n",
       "       [7, 7, 7, 7]])"
      ]
     },
     "execution_count": 32,
     "metadata": {},
     "output_type": "execute_result"
    }
   ],
   "source": [
    "np.full((2,4),7)"
   ]
  },
  {
   "cell_type": "code",
   "execution_count": 40,
   "id": "5cc1d64d",
   "metadata": {},
   "outputs": [],
   "source": [
    "# empty will reserves the space without initialaizing any values here and provides some  default values present in the memory.\n",
    "\n",
    "a=np.empty((3,4))"
   ]
  },
  {
   "cell_type": "code",
   "execution_count": 41,
   "id": "feb03dcc",
   "metadata": {},
   "outputs": [
    {
     "data": {
      "text/plain": [
       "array([[1.01855798e-312, 1.08221785e-312, 1.01855798e-312,\n",
       "        9.54898106e-313],\n",
       "       [1.14587773e-312, 1.03977794e-312, 1.23075756e-312,\n",
       "        1.18831764e-312],\n",
       "       [1.01855798e-312, 9.76118064e-313, 1.16709769e-312,\n",
       "        1.90979621e-312]])"
      ]
     },
     "execution_count": 41,
     "metadata": {},
     "output_type": "execute_result"
    }
   ],
   "source": [
    "a"
   ]
  },
  {
   "cell_type": "code",
   "execution_count": 46,
   "id": "1d02636f",
   "metadata": {},
   "outputs": [],
   "source": [
    "x=np.arange(0,1005,5)"
   ]
  },
  {
   "cell_type": "code",
   "execution_count": 47,
   "id": "60be475b",
   "metadata": {},
   "outputs": [
    {
     "name": "stdout",
     "output_type": "stream",
     "text": [
      "[   0    5   10   15   20   25   30   35   40   45   50   55   60   65\n",
      "   70   75   80   85   90   95  100  105  110  115  120  125  130  135\n",
      "  140  145  150  155  160  165  170  175  180  185  190  195  200  205\n",
      "  210  215  220  225  230  235  240  245  250  255  260  265  270  275\n",
      "  280  285  290  295  300  305  310  315  320  325  330  335  340  345\n",
      "  350  355  360  365  370  375  380  385  390  395  400  405  410  415\n",
      "  420  425  430  435  440  445  450  455  460  465  470  475  480  485\n",
      "  490  495  500  505  510  515  520  525  530  535  540  545  550  555\n",
      "  560  565  570  575  580  585  590  595  600  605  610  615  620  625\n",
      "  630  635  640  645  650  655  660  665  670  675  680  685  690  695\n",
      "  700  705  710  715  720  725  730  735  740  745  750  755  760  765\n",
      "  770  775  780  785  790  795  800  805  810  815  820  825  830  835\n",
      "  840  845  850  855  860  865  870  875  880  885  890  895  900  905\n",
      "  910  915  920  925  930  935  940  945  950  955  960  965  970  975\n",
      "  980  985  990  995 1000]\n"
     ]
    }
   ],
   "source": [
    "print(x)"
   ]
  },
  {
   "cell_type": "markdown",
   "id": "2c7e8026",
   "metadata": {},
   "source": [
    "1. If any particular data is missing in the dataset, then we can use nan (not a number) in those fields."
   ]
  },
  {
   "cell_type": "code",
   "execution_count": 49,
   "id": "9c5b031f",
   "metadata": {},
   "outputs": [
    {
     "name": "stdout",
     "output_type": "stream",
     "text": [
      "nan\n"
     ]
    }
   ],
   "source": [
    "print(np.nan)"
   ]
  },
  {
   "cell_type": "code",
   "execution_count": 50,
   "id": "94d721ff",
   "metadata": {},
   "outputs": [
    {
     "name": "stdout",
     "output_type": "stream",
     "text": [
      "inf\n"
     ]
    }
   ],
   "source": [
    "print(np.inf)"
   ]
  },
  {
   "cell_type": "code",
   "execution_count": 54,
   "id": "a9e35142",
   "metadata": {},
   "outputs": [
    {
     "name": "stdout",
     "output_type": "stream",
     "text": [
      "False\n"
     ]
    }
   ],
   "source": [
    "print(np.isnan(100)) # helps to check whether it is a nan or not.\n",
    "# returns False if it is a number."
   ]
  },
  {
   "cell_type": "code",
   "execution_count": 55,
   "id": "043d38ce",
   "metadata": {},
   "outputs": [
    {
     "name": "stdout",
     "output_type": "stream",
     "text": [
      "True\n"
     ]
    }
   ],
   "source": [
    "print(np.isnan(np.nan))"
   ]
  },
  {
   "cell_type": "code",
   "execution_count": 56,
   "id": "9f7ffacf",
   "metadata": {},
   "outputs": [
    {
     "name": "stdout",
     "output_type": "stream",
     "text": [
      "True\n"
     ]
    }
   ],
   "source": [
    "print(np.isinf(np.inf))"
   ]
  },
  {
   "cell_type": "code",
   "execution_count": 58,
   "id": "5a1d38a1",
   "metadata": {},
   "outputs": [
    {
     "name": "stdout",
     "output_type": "stream",
     "text": [
      "False\n"
     ]
    }
   ],
   "source": [
    "print(np.isinf(1))"
   ]
  },
  {
   "cell_type": "code",
   "execution_count": 63,
   "id": "d4454d7a",
   "metadata": {},
   "outputs": [
    {
     "name": "stdout",
     "output_type": "stream",
     "text": [
      "nan\n",
      "True\n"
     ]
    },
    {
     "name": "stderr",
     "output_type": "stream",
     "text": [
      "C:\\Users\\Phanindra Reddy\\AppData\\Local\\Temp\\ipykernel_12720\\1917894831.py:1: RuntimeWarning: invalid value encountered in sqrt\n",
      "  print(np.sqrt(-1))\n",
      "C:\\Users\\Phanindra Reddy\\AppData\\Local\\Temp\\ipykernel_12720\\1917894831.py:2: RuntimeWarning: invalid value encountered in sqrt\n",
      "  print(np.isnan(np.sqrt(-1))) # since it is a complex number , it will returns True with a warning.\n"
     ]
    }
   ],
   "source": [
    "print(np.sqrt(-1))\n",
    "print(np.isnan(np.sqrt(-1))) # since it is a complex number , it will returns True with a warning."
   ]
  },
  {
   "cell_type": "code",
   "execution_count": 64,
   "id": "643e2319",
   "metadata": {},
   "outputs": [
    {
     "name": "stdout",
     "output_type": "stream",
     "text": [
      "[inf]\n",
      "[ True]\n"
     ]
    },
    {
     "name": "stderr",
     "output_type": "stream",
     "text": [
      "C:\\Users\\Phanindra Reddy\\AppData\\Local\\Temp\\ipykernel_12720\\1911952967.py:1: RuntimeWarning: divide by zero encountered in true_divide\n",
      "  print(np.array([10])/0)\n",
      "C:\\Users\\Phanindra Reddy\\AppData\\Local\\Temp\\ipykernel_12720\\1911952967.py:2: RuntimeWarning: divide by zero encountered in true_divide\n",
      "  print(np.isinf(np.array([10])/0)) # returns True since it is inf and also a warning will comes here.\n"
     ]
    }
   ],
   "source": [
    "print(np.array([10])/0)\n",
    "print(np.isinf(np.array([10])/0)) # returns True since it is inf and also a warning will comes here."
   ]
  },
  {
   "cell_type": "markdown",
   "id": "6e24a3ec",
   "metadata": {},
   "source": [
    "# insertion and deletion of elements in the array"
   ]
  },
  {
   "cell_type": "markdown",
   "id": "6750ebe6",
   "metadata": {},
   "source": [
    "# append()"
   ]
  },
  {
   "cell_type": "code",
   "execution_count": 65,
   "id": "bb3fd78b",
   "metadata": {},
   "outputs": [],
   "source": [
    "a=np.array([1,2,3,45,34])"
   ]
  },
  {
   "cell_type": "code",
   "execution_count": 66,
   "id": "d93f1564",
   "metadata": {},
   "outputs": [
    {
     "data": {
      "text/plain": [
       "array([ 1,  2,  3, 45, 34])"
      ]
     },
     "execution_count": 66,
     "metadata": {},
     "output_type": "execute_result"
    }
   ],
   "source": [
    "a"
   ]
  },
  {
   "cell_type": "code",
   "execution_count": 67,
   "id": "e91c7128",
   "metadata": {},
   "outputs": [
    {
     "name": "stdout",
     "output_type": "stream",
     "text": [
      "[ 1  2  3 45 34]\n"
     ]
    }
   ],
   "source": [
    "print(a)"
   ]
  },
  {
   "cell_type": "code",
   "execution_count": 73,
   "id": "ace654e3",
   "metadata": {},
   "outputs": [
    {
     "name": "stdout",
     "output_type": "stream",
     "text": [
      "[ 1  2  3 45 34 10 20 30]\n"
     ]
    }
   ],
   "source": [
    "# append will add the elements in the last .\n",
    "print(np.append(a,[10,20,30])) # it won't append to the original array here. we need to assign it to the variable."
   ]
  },
  {
   "cell_type": "code",
   "execution_count": 75,
   "id": "4ede461f",
   "metadata": {},
   "outputs": [],
   "source": [
    "a=np.append(a,[10,20,30])"
   ]
  },
  {
   "cell_type": "code",
   "execution_count": 76,
   "id": "a53c39a0",
   "metadata": {},
   "outputs": [
    {
     "data": {
      "text/plain": [
       "array([ 1,  2,  3, 45, 34, 10, 20, 30])"
      ]
     },
     "execution_count": 76,
     "metadata": {},
     "output_type": "execute_result"
    }
   ],
   "source": [
    "a"
   ]
  },
  {
   "cell_type": "markdown",
   "id": "45d3857f",
   "metadata": {},
   "source": [
    "# insert()\n",
    " 1. to insert the element at particular index,we need to use insert()"
   ]
  },
  {
   "cell_type": "code",
   "execution_count": 80,
   "id": "d134bd64",
   "metadata": {},
   "outputs": [
    {
     "data": {
      "text/plain": [
       "array([ 1,  2,  3, 33, 44, 45, 34, 10, 20, 30])"
      ]
     },
     "execution_count": 80,
     "metadata": {},
     "output_type": "execute_result"
    }
   ],
   "source": [
    "np.insert(a,3,[33,44]) # at index 3 position ,we inserted 2 elements here."
   ]
  },
  {
   "cell_type": "code",
   "execution_count": 3,
   "id": "6bf721b8",
   "metadata": {},
   "outputs": [
    {
     "data": {
      "text/plain": [
       "array([10, 20, 30, 40])"
      ]
     },
     "execution_count": 3,
     "metadata": {},
     "output_type": "execute_result"
    }
   ],
   "source": [
    "a"
   ]
  },
  {
   "cell_type": "markdown",
   "id": "55531219",
   "metadata": {},
   "source": [
    "# delete():\n",
    "1. In the case of delete (), we will treat axis=0 means row wise and axis=1 means along column wise."
   ]
  },
  {
   "cell_type": "code",
   "execution_count": 6,
   "id": "f5a2b1c2",
   "metadata": {},
   "outputs": [
    {
     "data": {
      "text/plain": [
       "array([10, 30, 40])"
      ]
     },
     "execution_count": 6,
     "metadata": {},
     "output_type": "execute_result"
    }
   ],
   "source": [
    "np.delete(a,1) # deletes the element at 1st index. but not the original array element.\n",
    "# we need to assign it to a varibale and store it."
   ]
  },
  {
   "cell_type": "code",
   "execution_count": 7,
   "id": "03dcfb63",
   "metadata": {},
   "outputs": [
    {
     "data": {
      "text/plain": [
       "array([10, 20, 30, 40])"
      ]
     },
     "execution_count": 7,
     "metadata": {},
     "output_type": "execute_result"
    }
   ],
   "source": [
    "a"
   ]
  },
  {
   "cell_type": "code",
   "execution_count": 25,
   "id": "90345fc1",
   "metadata": {},
   "outputs": [],
   "source": [
    "a1=np.array([[1,2,3],[4,5,6]])"
   ]
  },
  {
   "cell_type": "code",
   "execution_count": 9,
   "id": "68b4cdbd",
   "metadata": {},
   "outputs": [
    {
     "data": {
      "text/plain": [
       "array([[1, 2, 3],\n",
       "       [4, 5, 6]])"
      ]
     },
     "execution_count": 9,
     "metadata": {},
     "output_type": "execute_result"
    }
   ],
   "source": [
    "a1"
   ]
  },
  {
   "cell_type": "code",
   "execution_count": 18,
   "id": "406b9348",
   "metadata": {},
   "outputs": [
    {
     "data": {
      "text/plain": [
       "array([1, 2, 4, 5, 6])"
      ]
     },
     "execution_count": 18,
     "metadata": {},
     "output_type": "execute_result"
    }
   ],
   "source": [
    "np.delete(a1,2)\n",
    "# 3 will be deleted. this function will treats as single 1D array and deletes element at that index position"
   ]
  },
  {
   "cell_type": "code",
   "execution_count": 16,
   "id": "9cfb4b7d",
   "metadata": {},
   "outputs": [
    {
     "data": {
      "text/plain": [
       "array([1, 2, 3, 5, 6])"
      ]
     },
     "execution_count": 16,
     "metadata": {},
     "output_type": "execute_result"
    }
   ],
   "source": [
    "np.delete(a1,3)"
   ]
  },
  {
   "cell_type": "code",
   "execution_count": 17,
   "id": "3acedc0f",
   "metadata": {},
   "outputs": [
    {
     "data": {
      "text/plain": [
       "array([1, 2, 3, 4, 5])"
      ]
     },
     "execution_count": 17,
     "metadata": {},
     "output_type": "execute_result"
    }
   ],
   "source": [
    "np.delete(a1,5)"
   ]
  },
  {
   "cell_type": "code",
   "execution_count": 20,
   "id": "a9973c84",
   "metadata": {},
   "outputs": [
    {
     "data": {
      "text/plain": [
       "array([[1, 2, 3],\n",
       "       [4, 5, 6]])"
      ]
     },
     "execution_count": 20,
     "metadata": {},
     "output_type": "execute_result"
    }
   ],
   "source": [
    "a1 # but the original array doesn't change. to change it assign a1 to that command."
   ]
  },
  {
   "cell_type": "code",
   "execution_count": 26,
   "id": "15fe3d46",
   "metadata": {},
   "outputs": [],
   "source": [
    "a1=np.delete(a1,5) # 6 is deleted here."
   ]
  },
  {
   "cell_type": "code",
   "execution_count": 27,
   "id": "971496d7",
   "metadata": {},
   "outputs": [
    {
     "data": {
      "text/plain": [
       "array([1, 2, 3, 4, 5])"
      ]
     },
     "execution_count": 27,
     "metadata": {},
     "output_type": "execute_result"
    }
   ],
   "source": [
    "a1"
   ]
  },
  {
   "cell_type": "code",
   "execution_count": 36,
   "id": "52e905ac",
   "metadata": {},
   "outputs": [
    {
     "data": {
      "text/plain": [
       "array([[1, 2, 3]])"
      ]
     },
     "execution_count": 36,
     "metadata": {},
     "output_type": "execute_result"
    }
   ],
   "source": [
    "# we can pass the second parameter also here.\n",
    "a2=np.array([[1,2,3],[4,5,6]])\n",
    "np.delete(a2,1,0) # this will delete the second row here\n",
    "# it means delete the row with index 1 here.\n",
    "# second parameter 0 means row wise"
   ]
  },
  {
   "cell_type": "code",
   "execution_count": 35,
   "id": "151ff435",
   "metadata": {},
   "outputs": [
    {
     "data": {
      "text/plain": [
       "array([[1, 2, 3],\n",
       "       [4, 5, 6]])"
      ]
     },
     "execution_count": 35,
     "metadata": {},
     "output_type": "execute_result"
    }
   ],
   "source": [
    "a2"
   ]
  },
  {
   "cell_type": "code",
   "execution_count": 38,
   "id": "ef114d50",
   "metadata": {},
   "outputs": [
    {
     "data": {
      "text/plain": [
       "array([[1, 3],\n",
       "       [4, 6]])"
      ]
     },
     "execution_count": 38,
     "metadata": {},
     "output_type": "execute_result"
    }
   ],
   "source": [
    "np.delete(a2,1,1)  # column with 1st index will be deleted here.\n",
    "# last parameter 1 means along column wise "
   ]
  },
  {
   "cell_type": "code",
   "execution_count": 40,
   "id": "1118d3aa",
   "metadata": {},
   "outputs": [
    {
     "data": {
      "text/plain": [
       "array([[1, 2, 3],\n",
       "       [4, 5, 6]])"
      ]
     },
     "execution_count": 40,
     "metadata": {},
     "output_type": "execute_result"
    }
   ],
   "source": [
    "a2"
   ]
  },
  {
   "cell_type": "code",
   "execution_count": 41,
   "id": "265a09ad",
   "metadata": {},
   "outputs": [
    {
     "data": {
      "text/plain": [
       "6"
      ]
     },
     "execution_count": 41,
     "metadata": {},
     "output_type": "execute_result"
    }
   ],
   "source": [
    "a2.size"
   ]
  },
  {
   "cell_type": "code",
   "execution_count": 42,
   "id": "e1a8aae9",
   "metadata": {},
   "outputs": [
    {
     "data": {
      "text/plain": [
       "(2, 3)"
      ]
     },
     "execution_count": 42,
     "metadata": {},
     "output_type": "execute_result"
    }
   ],
   "source": [
    "a2.shape"
   ]
  },
  {
   "cell_type": "code",
   "execution_count": 43,
   "id": "84c099c8",
   "metadata": {},
   "outputs": [],
   "source": [
    "a2.resize(3,2)"
   ]
  },
  {
   "cell_type": "code",
   "execution_count": 44,
   "id": "42c9f504",
   "metadata": {},
   "outputs": [
    {
     "data": {
      "text/plain": [
       "array([[1, 2],\n",
       "       [3, 4],\n",
       "       [5, 6]])"
      ]
     },
     "execution_count": 44,
     "metadata": {},
     "output_type": "execute_result"
    }
   ],
   "source": [
    "a2"
   ]
  },
  {
   "cell_type": "markdown",
   "id": "473b77ff",
   "metadata": {},
   "source": [
    "#flatten():\n",
    " 1. this works as like copy() which returns the copy of the array ."
   ]
  },
  {
   "cell_type": "code",
   "execution_count": 48,
   "id": "d28ae2b4",
   "metadata": {},
   "outputs": [
    {
     "name": "stdout",
     "output_type": "stream",
     "text": [
      "[1 2 3 4 5 6]\n"
     ]
    }
   ],
   "source": [
    "print(a2.flatten()) \n",
    "# this will convert to 1D aray here. which means flatten to a single dimensional array."
   ]
  },
  {
   "cell_type": "code",
   "execution_count": 46,
   "id": "549e8e43",
   "metadata": {},
   "outputs": [
    {
     "data": {
      "text/plain": [
       "array([[1, 2],\n",
       "       [3, 4],\n",
       "       [5, 6]])"
      ]
     },
     "execution_count": 46,
     "metadata": {},
     "output_type": "execute_result"
    }
   ],
   "source": [
    "a2"
   ]
  },
  {
   "cell_type": "code",
   "execution_count": 50,
   "id": "54a4a5c7",
   "metadata": {},
   "outputs": [
    {
     "name": "stdout",
     "output_type": "stream",
     "text": [
      "[1 2 3 4 5 6]\n"
     ]
    }
   ],
   "source": [
    "print(a2.ravel())"
   ]
  },
  {
   "cell_type": "code",
   "execution_count": 54,
   "id": "6be2778d",
   "metadata": {},
   "outputs": [],
   "source": [
    "var1=a2.flatten()\n",
    "var1[2]=100 # here we try to change to any element value and it doesn't affect the original array"
   ]
  },
  {
   "cell_type": "code",
   "execution_count": 55,
   "id": "97e703a4",
   "metadata": {},
   "outputs": [
    {
     "data": {
      "text/plain": [
       "array([  1,   2, 100,   4,   5,   6])"
      ]
     },
     "execution_count": 55,
     "metadata": {},
     "output_type": "execute_result"
    }
   ],
   "source": [
    "var1"
   ]
  },
  {
   "cell_type": "code",
   "execution_count": 56,
   "id": "c59a5734",
   "metadata": {},
   "outputs": [
    {
     "data": {
      "text/plain": [
       "array([[1, 2],\n",
       "       [3, 4],\n",
       "       [5, 6]])"
      ]
     },
     "execution_count": 56,
     "metadata": {},
     "output_type": "execute_result"
    }
   ],
   "source": [
    "a2"
   ]
  },
  {
   "cell_type": "code",
   "execution_count": 57,
   "id": "be1677f1",
   "metadata": {},
   "outputs": [],
   "source": [
    "var2=a2.ravel() # ravel acts like view() .\n",
    "var2[4]=900"
   ]
  },
  {
   "cell_type": "code",
   "execution_count": 58,
   "id": "319be5d5",
   "metadata": {},
   "outputs": [
    {
     "data": {
      "text/plain": [
       "array([  1,   2,   3,   4, 900,   6])"
      ]
     },
     "execution_count": 58,
     "metadata": {},
     "output_type": "execute_result"
    }
   ],
   "source": [
    "var2"
   ]
  },
  {
   "cell_type": "code",
   "execution_count": 59,
   "id": "b8c69189",
   "metadata": {},
   "outputs": [
    {
     "data": {
      "text/plain": [
       "array([[  1,   2],\n",
       "       [  3,   4],\n",
       "       [900,   6]])"
      ]
     },
     "execution_count": 59,
     "metadata": {},
     "output_type": "execute_result"
    }
   ],
   "source": [
    "a2"
   ]
  },
  {
   "cell_type": "code",
   "execution_count": 61,
   "id": "9b1942a0",
   "metadata": {},
   "outputs": [
    {
     "data": {
      "text/plain": [
       "array([[  1,   3, 900],\n",
       "       [  2,   4,   6]])"
      ]
     },
     "execution_count": 61,
     "metadata": {},
     "output_type": "execute_result"
    }
   ],
   "source": [
    "a2.T # capiatal T means transpose. Instead of np.transpose(), we can give as T"
   ]
  },
  {
   "cell_type": "markdown",
   "id": "d4619860",
   "metadata": {},
   "source": [
    " # Swapaxes():\n",
    "    1. This will acts as like transpose()."
   ]
  },
  {
   "cell_type": "code",
   "execution_count": 63,
   "id": "8424053a",
   "metadata": {},
   "outputs": [
    {
     "data": {
      "text/plain": [
       "array([[  1,   3, 900],\n",
       "       [  2,   4,   6]])"
      ]
     },
     "execution_count": 63,
     "metadata": {},
     "output_type": "execute_result"
    }
   ],
   "source": [
    "a2.swapaxes(0,1)"
   ]
  },
  {
   "cell_type": "code",
   "execution_count": 64,
   "id": "d70b909f",
   "metadata": {},
   "outputs": [
    {
     "data": {
      "text/plain": [
       "array([[  1,   2],\n",
       "       [  3,   4],\n",
       "       [900,   6]])"
      ]
     },
     "execution_count": 64,
     "metadata": {},
     "output_type": "execute_result"
    }
   ],
   "source": [
    "a2"
   ]
  },
  {
   "cell_type": "markdown",
   "id": "5eca39a3",
   "metadata": {},
   "source": [
    "# concatenate():"
   ]
  },
  {
   "cell_type": "code",
   "execution_count": 66,
   "id": "9170c599",
   "metadata": {},
   "outputs": [
    {
     "name": "stdout",
     "output_type": "stream",
     "text": [
      "[[ 1  2  3  4  5]\n",
      " [ 6  7  8  9 10]]\n",
      "[[ 3  4  5  6  7]\n",
      " [ 8  9 10 11 12]]\n"
     ]
    }
   ],
   "source": [
    "a1=np.arange(1,11).reshape(2,5)\n",
    "a2=np.arange(3,13).reshape(2,5)\n",
    "print(a1)\n",
    "print(a2)"
   ]
  },
  {
   "cell_type": "code",
   "execution_count": 70,
   "id": "34dbe31b",
   "metadata": {},
   "outputs": [
    {
     "data": {
      "text/plain": [
       "array([[ 1,  2,  3,  4,  5],\n",
       "       [ 6,  7,  8,  9, 10],\n",
       "       [ 3,  4,  5,  6,  7],\n",
       "       [ 8,  9, 10, 11, 12]])"
      ]
     },
     "execution_count": 70,
     "metadata": {},
     "output_type": "execute_result"
    }
   ],
   "source": [
    "np.concatenate((a1,a2),axis=0) # along row wise here"
   ]
  },
  {
   "cell_type": "code",
   "execution_count": 72,
   "id": "e85b0df6",
   "metadata": {},
   "outputs": [
    {
     "data": {
      "text/plain": [
       "array([[ 1,  2,  3,  4,  5,  3,  4,  5,  6,  7],\n",
       "       [ 6,  7,  8,  9, 10,  8,  9, 10, 11, 12]])"
      ]
     },
     "execution_count": 72,
     "metadata": {},
     "output_type": "execute_result"
    }
   ],
   "source": [
    "np.concatenate((a1,a2),axis=1) # along column wise concatenated here."
   ]
  },
  {
   "cell_type": "code",
   "execution_count": 74,
   "id": "630aebae",
   "metadata": {},
   "outputs": [
    {
     "data": {
      "text/plain": [
       "array([[[ 1,  2,  3,  4,  5],\n",
       "        [ 6,  7,  8,  9, 10]],\n",
       "\n",
       "       [[ 3,  4,  5,  6,  7],\n",
       "        [ 8,  9, 10, 11, 12]]])"
      ]
     },
     "execution_count": 74,
     "metadata": {},
     "output_type": "execute_result"
    }
   ],
   "source": [
    "np.stack((a1,a2)) # but stack will gives in  a new dimension only ,not in a single 2D"
   ]
  },
  {
   "cell_type": "code",
   "execution_count": 75,
   "id": "63cc4097",
   "metadata": {},
   "outputs": [
    {
     "data": {
      "text/plain": [
       "array([[[ 1,  2,  3,  4,  5],\n",
       "        [ 6,  7,  8,  9, 10]],\n",
       "\n",
       "       [[ 3,  4,  5,  6,  7],\n",
       "        [ 8,  9, 10, 11, 12]]])"
      ]
     },
     "execution_count": 75,
     "metadata": {},
     "output_type": "execute_result"
    }
   ],
   "source": [
    "np.stack((a1,a2),axis=0)"
   ]
  },
  {
   "cell_type": "code",
   "execution_count": 76,
   "id": "88cf7d27",
   "metadata": {},
   "outputs": [
    {
     "data": {
      "text/plain": [
       "array([[[ 1,  2,  3,  4,  5],\n",
       "        [ 3,  4,  5,  6,  7]],\n",
       "\n",
       "       [[ 6,  7,  8,  9, 10],\n",
       "        [ 8,  9, 10, 11, 12]]])"
      ]
     },
     "execution_count": 76,
     "metadata": {},
     "output_type": "execute_result"
    }
   ],
   "source": [
    "np.stack((a1,a2),axis=1)"
   ]
  },
  {
   "cell_type": "code",
   "execution_count": 78,
   "id": "d3c2ab43",
   "metadata": {},
   "outputs": [
    {
     "data": {
      "text/plain": [
       "array([[ 1,  2,  3,  4,  5,  3,  4,  5,  6,  7],\n",
       "       [ 6,  7,  8,  9, 10,  8,  9, 10, 11, 12]])"
      ]
     },
     "execution_count": 78,
     "metadata": {},
     "output_type": "execute_result"
    }
   ],
   "source": [
    "np.hstack((a1,a2))"
   ]
  },
  {
   "cell_type": "code",
   "execution_count": 79,
   "id": "32be2851",
   "metadata": {},
   "outputs": [
    {
     "data": {
      "text/plain": [
       "array([[ 1,  2,  3,  4,  5],\n",
       "       [ 6,  7,  8,  9, 10],\n",
       "       [ 3,  4,  5,  6,  7],\n",
       "       [ 8,  9, 10, 11, 12]])"
      ]
     },
     "execution_count": 79,
     "metadata": {},
     "output_type": "execute_result"
    }
   ],
   "source": [
    "np.vstack((a1,a2))"
   ]
  },
  {
   "cell_type": "code",
   "execution_count": 80,
   "id": "731b33f4",
   "metadata": {},
   "outputs": [],
   "source": [
    "c=np.array([[ 1,  2,  3,  4,  5],\n",
    "       [ 6,  7,  8,  9, 10],\n",
    "       [ 3,  4,  5,  6,  7],\n",
    "       [ 8,  9, 10, 11, 12]])"
   ]
  },
  {
   "cell_type": "code",
   "execution_count": 81,
   "id": "411026b2",
   "metadata": {},
   "outputs": [
    {
     "data": {
      "text/plain": [
       "array([[ 1,  2,  3,  4,  5],\n",
       "       [ 6,  7,  8,  9, 10],\n",
       "       [ 3,  4,  5,  6,  7],\n",
       "       [ 8,  9, 10, 11, 12]])"
      ]
     },
     "execution_count": 81,
     "metadata": {},
     "output_type": "execute_result"
    }
   ],
   "source": [
    "c"
   ]
  },
  {
   "cell_type": "code",
   "execution_count": 83,
   "id": "770b0263",
   "metadata": {},
   "outputs": [
    {
     "name": "stdout",
     "output_type": "stream",
     "text": [
      "[array([[ 1,  2,  3,  4,  5],\n",
      "       [ 6,  7,  8,  9, 10]]), array([[ 3,  4,  5,  6,  7],\n",
      "       [ 8,  9, 10, 11, 12]])]\n"
     ]
    }
   ],
   "source": [
    "print(np.split(c,2,axis=0))"
   ]
  },
  {
   "cell_type": "code",
   "execution_count": 87,
   "id": "47e66ddb",
   "metadata": {},
   "outputs": [
    {
     "name": "stdout",
     "output_type": "stream",
     "text": [
      "[array([[1, 2, 3, 4, 5]]), array([[ 6,  7,  8,  9, 10]]), array([[3, 4, 5, 6, 7]]), array([[ 8,  9, 10, 11, 12]])]\n"
     ]
    }
   ],
   "source": [
    "print(np.split(c,4,axis=0))"
   ]
  },
  {
   "cell_type": "code",
   "execution_count": 88,
   "id": "17fddb73",
   "metadata": {},
   "outputs": [],
   "source": [
    "d=np.array([[ 1,  2,  3,  4,  5,6],\n",
    "       [ 6,  7,  8,  9, 10,11],\n",
    "       [ 3,  4,  5,  6,  7,12],\n",
    "       [ 8,  9, 10, 11, 12,13]])"
   ]
  },
  {
   "cell_type": "code",
   "execution_count": 90,
   "id": "cf473d0a",
   "metadata": {},
   "outputs": [
    {
     "data": {
      "text/plain": [
       "[array([[ 1,  2,  3],\n",
       "        [ 6,  7,  8],\n",
       "        [ 3,  4,  5],\n",
       "        [ 8,  9, 10]]),\n",
       " array([[ 4,  5,  6],\n",
       "        [ 9, 10, 11],\n",
       "        [ 6,  7, 12],\n",
       "        [11, 12, 13]])]"
      ]
     },
     "execution_count": 90,
     "metadata": {},
     "output_type": "execute_result"
    }
   ],
   "source": [
    "np.split(d,2,axis=1) # first three columns separately and then next 3 columns separately"
   ]
  },
  {
   "cell_type": "code",
   "execution_count": 92,
   "id": "0ead4620",
   "metadata": {},
   "outputs": [
    {
     "data": {
      "text/plain": [
       "array([[[29, 67, 63, 85],\n",
       "        [77, 91, 23, 68],\n",
       "        [20, 53, 45, 24]],\n",
       "\n",
       "       [[95, 64, 72, 12],\n",
       "        [23, 64, 80, 33],\n",
       "        [56, 89, 88, 12]]])"
      ]
     },
     "execution_count": 92,
     "metadata": {},
     "output_type": "execute_result"
    }
   ],
   "source": [
    "np.random.randint(10,100,size=(2,3,4))"
   ]
  },
  {
   "cell_type": "code",
   "execution_count": 94,
   "id": "245975e1",
   "metadata": {},
   "outputs": [
    {
     "data": {
      "text/plain": [
       "array([[8, 2, 6, 5, 5],\n",
       "       [3, 5, 4, 6, 6],\n",
       "       [6, 4, 3, 5, 5],\n",
       "       [3, 3, 3, 6, 6],\n",
       "       [7, 8, 4, 7, 4]])"
      ]
     },
     "execution_count": 94,
     "metadata": {},
     "output_type": "execute_result"
    }
   ],
   "source": [
    "np.random.binomial(10,p=0.5,size=(5,5))"
   ]
  },
  {
   "cell_type": "code",
   "execution_count": 96,
   "id": "6068fc7d",
   "metadata": {},
   "outputs": [
    {
     "data": {
      "text/plain": [
       "array([[163.68800635, 185.81645895, 155.85409701, 186.16851624,\n",
       "        170.84693802, 175.86366219, 201.86298318],\n",
       "       [159.40472588, 167.48357063, 162.86116199, 145.28730044,\n",
       "        153.12163222, 173.20792761, 173.56725815],\n",
       "       [178.46651444, 194.22318793, 193.0610491 , 179.75549762,\n",
       "        179.09381658, 153.67341944, 163.65505431],\n",
       "       [167.00303124, 159.45272305, 174.83214423, 151.64438266,\n",
       "        175.89483747, 162.32726623, 184.28478455],\n",
       "       [172.61648469, 169.32045426, 184.5533725 , 170.86830411,\n",
       "        157.89732981, 180.0539144 , 165.65531394]])"
      ]
     },
     "execution_count": 96,
     "metadata": {},
     "output_type": "execute_result"
    }
   ],
   "source": [
    "np.random.normal(loc=170,scale=15,size=(5,7))"
   ]
  },
  {
   "cell_type": "code",
   "execution_count": 100,
   "id": "dbe176d5",
   "metadata": {},
   "outputs": [
    {
     "name": "stdout",
     "output_type": "stream",
     "text": [
      "[[1 4 4 6]\n",
      " [5 2 7 6]\n",
      " [7 6 2 5]]\n"
     ]
    }
   ],
   "source": [
    "print(np.random.choice([1,2,4,5,6,7],size=(3,4)))"
   ]
  },
  {
   "cell_type": "markdown",
   "id": "ba33ed9b",
   "metadata": {},
   "source": [
    "# save():"
   ]
  },
  {
   "cell_type": "code",
   "execution_count": 103,
   "id": "e5645d12",
   "metadata": {},
   "outputs": [],
   "source": [
    "# exporting and importing numpy arrays\n",
    "np.save(\"myarray.npy\",a)"
   ]
  },
  {
   "cell_type": "code",
   "execution_count": 104,
   "id": "a9df65b4",
   "metadata": {},
   "outputs": [],
   "source": [
    "b=np.load(\"myarray.npy\")"
   ]
  },
  {
   "cell_type": "code",
   "execution_count": 105,
   "id": "b012777c",
   "metadata": {},
   "outputs": [
    {
     "name": "stdout",
     "output_type": "stream",
     "text": [
      "[10 20 30 40]\n"
     ]
    }
   ],
   "source": [
    "print(b)"
   ]
  },
  {
   "cell_type": "markdown",
   "id": "9e43f163",
   "metadata": {},
   "source": [
    "# saving in csv format"
   ]
  },
  {
   "cell_type": "code",
   "execution_count": 108,
   "id": "71dd4ffb",
   "metadata": {},
   "outputs": [],
   "source": [
    "np.savetxt(\"myarray.csv\",a2,delimiter=\",\")"
   ]
  },
  {
   "cell_type": "code",
   "execution_count": 111,
   "id": "062aee6a",
   "metadata": {},
   "outputs": [],
   "source": [
    "a=np.loadtxt(\"myarray.csv\",delimiter=\",\")"
   ]
  },
  {
   "cell_type": "code",
   "execution_count": 112,
   "id": "bec6c8eb",
   "metadata": {},
   "outputs": [
    {
     "data": {
      "text/plain": [
       "array([[ 3.,  4.,  5.,  6.,  7.],\n",
       "       [ 8.,  9., 10., 11., 12.]])"
      ]
     },
     "execution_count": 112,
     "metadata": {},
     "output_type": "execute_result"
    }
   ],
   "source": [
    "a"
   ]
  },
  {
   "cell_type": "code",
   "execution_count": null,
   "id": "bc3b285c",
   "metadata": {},
   "outputs": [],
   "source": []
  }
 ],
 "metadata": {
  "kernelspec": {
   "display_name": "Python 3 (ipykernel)",
   "language": "python",
   "name": "python3"
  },
  "language_info": {
   "codemirror_mode": {
    "name": "ipython",
    "version": 3
   },
   "file_extension": ".py",
   "mimetype": "text/x-python",
   "name": "python",
   "nbconvert_exporter": "python",
   "pygments_lexer": "ipython3",
   "version": "3.9.13"
  }
 },
 "nbformat": 4,
 "nbformat_minor": 5
}

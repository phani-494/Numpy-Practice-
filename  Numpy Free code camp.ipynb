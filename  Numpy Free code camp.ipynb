{
 "cells": [
  {
   "cell_type": "markdown",
   "id": "74ea3f1d",
   "metadata": {},
   "source": [
    "# Learn Numpy Full course 58 mins\n"
   ]
  },
  {
   "cell_type": "markdown",
   "id": "d39e8901",
   "metadata": {},
   "source": [
    "1. for 1D array there will be only one axis which is axis=0 which means along the rrow.\n",
    "2. for 2D array,there will be two axes which are axis=0 and axis=1"
   ]
  },
  {
   "cell_type": "code",
   "execution_count": 1,
   "id": "b9fba3fd",
   "metadata": {},
   "outputs": [],
   "source": [
    "# notes wriiten for first 10 mins .pls check it once."
   ]
  },
  {
   "cell_type": "code",
   "execution_count": 4,
   "id": "187fee35",
   "metadata": {},
   "outputs": [],
   "source": [
    "import numpy as np\n",
    "a=np.array([1,2,3,4,5])"
   ]
  },
  {
   "cell_type": "code",
   "execution_count": 6,
   "id": "7a5cef05",
   "metadata": {},
   "outputs": [
    {
     "data": {
      "text/plain": [
       "dtype('int32')"
      ]
     },
     "execution_count": 6,
     "metadata": {},
     "output_type": "execute_result"
    }
   ],
   "source": [
    "a.dtype # gives the datatype of the array"
   ]
  },
  {
   "cell_type": "code",
   "execution_count": 7,
   "id": "153a3fd9",
   "metadata": {},
   "outputs": [
    {
     "data": {
      "text/plain": [
       "dtype('int32')"
      ]
     },
     "execution_count": 7,
     "metadata": {},
     "output_type": "execute_result"
    }
   ],
   "source": [
    "a[0].dtype"
   ]
  },
  {
   "cell_type": "code",
   "execution_count": 9,
   "id": "e2f30a95",
   "metadata": {},
   "outputs": [],
   "source": [
    "a=np.array([1,2,3,4,5],dtype='int16') \n",
    "# we can also give the datatype whatever we want. # int16 means integer value with 2 bytes of memory."
   ]
  },
  {
   "cell_type": "code",
   "execution_count": 10,
   "id": "3a1a3131",
   "metadata": {},
   "outputs": [
    {
     "data": {
      "text/plain": [
       "dtype('int16')"
      ]
     },
     "execution_count": 10,
     "metadata": {},
     "output_type": "execute_result"
    }
   ],
   "source": [
    "a.dtype"
   ]
  },
  {
   "cell_type": "code",
   "execution_count": 12,
   "id": "7f6d6433",
   "metadata": {},
   "outputs": [
    {
     "data": {
      "text/plain": [
       "2"
      ]
     },
     "execution_count": 12,
     "metadata": {},
     "output_type": "execute_result"
    }
   ],
   "source": [
    "a.itemsize # gives the size of the item present in the array."
   ]
  },
  {
   "cell_type": "code",
   "execution_count": 15,
   "id": "7478b743",
   "metadata": {},
   "outputs": [
    {
     "data": {
      "text/plain": [
       "10"
      ]
     },
     "execution_count": 15,
     "metadata": {},
     "output_type": "execute_result"
    }
   ],
   "source": [
    "a.nbytes # gives the total size of the array occupied in the memory.\n",
    "# 10 bytes as result since there are 5 elements with each 2 bytes."
   ]
  },
  {
   "cell_type": "code",
   "execution_count": 18,
   "id": "a5e83736",
   "metadata": {},
   "outputs": [
    {
     "name": "stdout",
     "output_type": "stream",
     "text": [
      "[[ 1  2  3]\n",
      " [ 4  5  6]\n",
      " [ 7  8  9]\n",
      " [10 11 12]]\n"
     ]
    }
   ],
   "source": [
    "a=np.arange(1,13).reshape(4,3)\n",
    "print(a)"
   ]
  },
  {
   "cell_type": "code",
   "execution_count": 17,
   "id": "10caa964",
   "metadata": {},
   "outputs": [
    {
     "data": {
      "text/plain": [
       "array([1, 2, 3])"
      ]
     },
     "execution_count": 17,
     "metadata": {},
     "output_type": "execute_result"
    }
   ],
   "source": [
    "a[0] # gives the first row here "
   ]
  },
  {
   "cell_type": "code",
   "execution_count": 20,
   "id": "27306ebe",
   "metadata": {},
   "outputs": [
    {
     "data": {
      "text/plain": [
       "array([ 3,  6,  9, 12])"
      ]
     },
     "execution_count": 20,
     "metadata": {},
     "output_type": "execute_result"
    }
   ],
   "source": [
    "a[:,2] # gives 2nd index column "
   ]
  },
  {
   "cell_type": "code",
   "execution_count": 21,
   "id": "298bed12",
   "metadata": {},
   "outputs": [
    {
     "data": {
      "text/plain": [
       "array([1, 2, 3])"
      ]
     },
     "execution_count": 21,
     "metadata": {},
     "output_type": "execute_result"
    }
   ],
   "source": [
    "a[0,:] # same as a[0]"
   ]
  },
  {
   "cell_type": "code",
   "execution_count": 23,
   "id": "b3fbf531",
   "metadata": {},
   "outputs": [
    {
     "data": {
      "text/plain": [
       "array([2])"
      ]
     },
     "execution_count": 23,
     "metadata": {},
     "output_type": "execute_result"
    }
   ],
   "source": [
    "a[0,1:6:2] # step size is 2 given here."
   ]
  },
  {
   "cell_type": "code",
   "execution_count": 27,
   "id": "0a2dde40",
   "metadata": {},
   "outputs": [
    {
     "data": {
      "text/plain": [
       "array([3, 2, 1])"
      ]
     },
     "execution_count": 27,
     "metadata": {},
     "output_type": "execute_result"
    }
   ],
   "source": [
    "a[0,::-1] "
   ]
  },
  {
   "cell_type": "code",
   "execution_count": 28,
   "id": "f9ce8f67",
   "metadata": {},
   "outputs": [
    {
     "data": {
      "text/plain": [
       "array([3, 2, 1])"
      ]
     },
     "execution_count": 28,
     "metadata": {},
     "output_type": "execute_result"
    }
   ],
   "source": [
    "a[0,2::-1]  # start from index 2 and go in backward direction"
   ]
  },
  {
   "cell_type": "code",
   "execution_count": 30,
   "id": "36613607",
   "metadata": {},
   "outputs": [
    {
     "data": {
      "text/plain": [
       "array([2, 1])"
      ]
     },
     "execution_count": 30,
     "metadata": {},
     "output_type": "execute_result"
    }
   ],
   "source": [
    "a[0,1::-1]  # start from index 1 and go in backward direction"
   ]
  },
  {
   "cell_type": "code",
   "execution_count": 31,
   "id": "b2b9fb6c",
   "metadata": {},
   "outputs": [],
   "source": [
    "a[1,2]=200"
   ]
  },
  {
   "cell_type": "code",
   "execution_count": 32,
   "id": "26db023a",
   "metadata": {},
   "outputs": [
    {
     "name": "stdout",
     "output_type": "stream",
     "text": [
      "[[  1   2   3]\n",
      " [  4   5 200]\n",
      " [  7   8   9]\n",
      " [ 10  11  12]]\n"
     ]
    }
   ],
   "source": [
    "print(a)"
   ]
  },
  {
   "cell_type": "code",
   "execution_count": 33,
   "id": "8337b0c6",
   "metadata": {},
   "outputs": [],
   "source": [
    "a[:,2]=[3,4,5,6] # chaning all the 2nd index column values"
   ]
  },
  {
   "cell_type": "code",
   "execution_count": 34,
   "id": "968ac71f",
   "metadata": {},
   "outputs": [
    {
     "name": "stdout",
     "output_type": "stream",
     "text": [
      "[[ 1  2  3]\n",
      " [ 4  5  4]\n",
      " [ 7  8  5]\n",
      " [10 11  6]]\n"
     ]
    }
   ],
   "source": [
    "print(a)"
   ]
  },
  {
   "cell_type": "code",
   "execution_count": 37,
   "id": "055be530",
   "metadata": {},
   "outputs": [],
   "source": [
    "a[1]=100 # entire 1st indexed row is changed here."
   ]
  },
  {
   "cell_type": "code",
   "execution_count": 38,
   "id": "dfeeaf47",
   "metadata": {},
   "outputs": [
    {
     "name": "stdout",
     "output_type": "stream",
     "text": [
      "[[  1   2   3]\n",
      " [100 100 100]\n",
      " [  7   8   5]\n",
      " [ 10  11   6]]\n"
     ]
    }
   ],
   "source": [
    "print(a)"
   ]
  },
  {
   "cell_type": "code",
   "execution_count": 39,
   "id": "5af3e970",
   "metadata": {},
   "outputs": [],
   "source": [
    "# suppose we have some other array with some shape and we want that array shape with all elements as 7"
   ]
  },
  {
   "cell_type": "code",
   "execution_count": 41,
   "id": "98df1ebc",
   "metadata": {},
   "outputs": [
    {
     "data": {
      "text/plain": [
       "array([[5, 5, 5],\n",
       "       [5, 5, 5],\n",
       "       [5, 5, 5],\n",
       "       [5, 5, 5]])"
      ]
     },
     "execution_count": 41,
     "metadata": {},
     "output_type": "execute_result"
    }
   ],
   "source": [
    "np.full_like(a,5) # here array 'a' have shape (4,3).we are making all elements with  5"
   ]
  },
  {
   "cell_type": "code",
   "execution_count": 42,
   "id": "fe8e5600",
   "metadata": {},
   "outputs": [
    {
     "data": {
      "text/plain": [
       "array([[10, 10, 10, 10],\n",
       "       [10, 10, 10, 10],\n",
       "       [10, 10, 10, 10]])"
      ]
     },
     "execution_count": 42,
     "metadata": {},
     "output_type": "execute_result"
    }
   ],
   "source": [
    "np.full((3,4),10)"
   ]
  },
  {
   "cell_type": "code",
   "execution_count": 43,
   "id": "12d04d30",
   "metadata": {},
   "outputs": [],
   "source": [
    "# np.random.rand () takes argument as shape only since it's range is already fixed with 0 and 1."
   ]
  },
  {
   "cell_type": "code",
   "execution_count": 44,
   "id": "c847a8ac",
   "metadata": {},
   "outputs": [
    {
     "data": {
      "text/plain": [
       "array([[0.29807936, 0.0429388 , 0.83471078, 0.84060013, 0.02582548,\n",
       "        0.81712729, 0.27167233],\n",
       "       [0.8598316 , 0.69783806, 0.69955543, 0.71649412, 0.15793443,\n",
       "        0.03129022, 0.30206896],\n",
       "       [0.16310092, 0.25863953, 0.5462794 , 0.09883193, 0.88561623,\n",
       "        0.88010986, 0.55320294],\n",
       "       [0.37514673, 0.37536186, 0.62736454, 0.9210233 , 0.9201919 ,\n",
       "        0.56864913, 0.20249836]])"
      ]
     },
     "execution_count": 44,
     "metadata": {},
     "output_type": "execute_result"
    }
   ],
   "source": [
    "np.random.rand(4,7)"
   ]
  },
  {
   "cell_type": "code",
   "execution_count": 45,
   "id": "b6ba5bd3",
   "metadata": {},
   "outputs": [],
   "source": [
    "# if we want some other matrix shape then we need to give here as random_sample function."
   ]
  },
  {
   "cell_type": "code",
   "execution_count": 47,
   "id": "2e2a8f5f",
   "metadata": {},
   "outputs": [
    {
     "data": {
      "text/plain": [
       "array([[0.89623012, 0.30372376, 0.35314693],\n",
       "       [0.82017886, 0.79568289, 0.58969144],\n",
       "       [0.3060239 , 0.23471071, 0.7883595 ],\n",
       "       [0.73055354, 0.79938834, 0.79064638]])"
      ]
     },
     "execution_count": 47,
     "metadata": {},
     "output_type": "execute_result"
    }
   ],
   "source": [
    "np.random.random_sample(a.shape) # a shape takes place here."
   ]
  },
  {
   "cell_type": "code",
   "execution_count": 48,
   "id": "02d89fc5",
   "metadata": {},
   "outputs": [
    {
     "data": {
      "text/plain": [
       "array([[5, 3, 1, 1],\n",
       "       [1, 3, 3, 1],\n",
       "       [3, 1, 4, 0]])"
      ]
     },
     "execution_count": 48,
     "metadata": {},
     "output_type": "execute_result"
    }
   ],
   "source": [
    "np.random.randint(7,size=(3,4)) # here the start value will be taken as 0 ."
   ]
  },
  {
   "cell_type": "code",
   "execution_count": 49,
   "id": "3e5d513d",
   "metadata": {},
   "outputs": [
    {
     "data": {
      "text/plain": [
       "array([[52, 20,  4, 36],\n",
       "       [36, 61, 41, 49],\n",
       "       [73, 75, 53, 58]])"
      ]
     },
     "execution_count": 49,
     "metadata": {},
     "output_type": "execute_result"
    }
   ],
   "source": [
    "np.random.randint(3,77,size=(3,4))"
   ]
  },
  {
   "cell_type": "code",
   "execution_count": 50,
   "id": "93590a32",
   "metadata": {},
   "outputs": [],
   "source": [
    "# the identity matrix is by nature a square matrix. so only one argument is enough here."
   ]
  },
  {
   "cell_type": "code",
   "execution_count": 51,
   "id": "4b74c97f",
   "metadata": {},
   "outputs": [
    {
     "data": {
      "text/plain": [
       "array([[1., 0., 0., 0., 0.],\n",
       "       [0., 1., 0., 0., 0.],\n",
       "       [0., 0., 1., 0., 0.],\n",
       "       [0., 0., 0., 1., 0.],\n",
       "       [0., 0., 0., 0., 1.]])"
      ]
     },
     "execution_count": 51,
     "metadata": {},
     "output_type": "execute_result"
    }
   ],
   "source": [
    "np.identity(5)"
   ]
  },
  {
   "cell_type": "markdown",
   "id": "e534c3c3",
   "metadata": {},
   "source": [
    "# repeat():\n",
    "    1. suppose we want to repeat each element in the array some multiple times. we can use repeat()"
   ]
  },
  {
   "cell_type": "code",
   "execution_count": 52,
   "id": "8cbe4c61",
   "metadata": {},
   "outputs": [
    {
     "data": {
      "text/plain": [
       "array([  1,   1,   1,   2,   2,   2,   3,   3,   3, 100, 100, 100, 100,\n",
       "       100, 100, 100, 100, 100,   7,   7,   7,   8,   8,   8,   5,   5,\n",
       "         5,  10,  10,  10,  11,  11,  11,   6,   6,   6])"
      ]
     },
     "execution_count": 52,
     "metadata": {},
     "output_type": "execute_result"
    }
   ],
   "source": [
    "np.repeat(a,3)"
   ]
  },
  {
   "cell_type": "code",
   "execution_count": 53,
   "id": "b0fdf0a4",
   "metadata": {},
   "outputs": [
    {
     "data": {
      "text/plain": [
       "array([[  1,   2,   3],\n",
       "       [100, 100, 100],\n",
       "       [  7,   8,   5],\n",
       "       [ 10,  11,   6]])"
      ]
     },
     "execution_count": 53,
     "metadata": {},
     "output_type": "execute_result"
    }
   ],
   "source": [
    "a"
   ]
  },
  {
   "cell_type": "code",
   "execution_count": 54,
   "id": "acc30ef2",
   "metadata": {},
   "outputs": [
    {
     "data": {
      "text/plain": [
       "array([1, 1, 1, 1, 1, 2, 2, 2, 2, 2, 3, 3, 3, 3, 3])"
      ]
     },
     "execution_count": 54,
     "metadata": {},
     "output_type": "execute_result"
    }
   ],
   "source": [
    "np.repeat([1,2,3],5)"
   ]
  },
  {
   "cell_type": "code",
   "execution_count": 56,
   "id": "4316be3d",
   "metadata": {},
   "outputs": [
    {
     "data": {
      "text/plain": [
       "array([[1, 2, 3],\n",
       "       [1, 2, 3],\n",
       "       [1, 2, 3],\n",
       "       [1, 2, 3],\n",
       "       [1, 2, 3]])"
      ]
     },
     "execution_count": 56,
     "metadata": {},
     "output_type": "execute_result"
    }
   ],
   "source": [
    "np.repeat([[1,2,3]],5,axis=0) "
   ]
  },
  {
   "cell_type": "code",
   "execution_count": 57,
   "id": "23c8616a",
   "metadata": {},
   "outputs": [
    {
     "data": {
      "text/plain": [
       "array([[1, 1, 1, 1, 1, 2, 2, 2, 2, 2, 3, 3, 3, 3, 3]])"
      ]
     },
     "execution_count": 57,
     "metadata": {},
     "output_type": "execute_result"
    }
   ],
   "source": [
    "np.repeat([[1,2,3]],5,axis=1) "
   ]
  },
  {
   "cell_type": "markdown",
   "id": "aded6d82",
   "metadata": {},
   "source": [
    "# https://www.sharpsightlabs.com/blog/numpy-axes-explained/ \n",
    " 1. understanding the axes concept is little bit tough here since it works in different way in different situations.\n",
    "2. Go through the above link for clear understanding of the axis concept."
   ]
  },
  {
   "cell_type": "code",
   "execution_count": 78,
   "id": "3d1941a6",
   "metadata": {},
   "outputs": [],
   "source": [
    " a=np.ones((5,5))"
   ]
  },
  {
   "cell_type": "code",
   "execution_count": 84,
   "id": "1c961123",
   "metadata": {},
   "outputs": [],
   "source": [
    "# try to create a matrix with the required output . (5,5) matrix with all corners 1 and 9 in middle and remaining all zero."
   ]
  },
  {
   "cell_type": "code",
   "execution_count": 85,
   "id": "8e92ec52",
   "metadata": {},
   "outputs": [
    {
     "data": {
      "text/plain": [
       "array([[1., 1., 1., 1., 1.],\n",
       "       [1., 0., 0., 0., 1.],\n",
       "       [1., 0., 9., 0., 1.],\n",
       "       [1., 1., 1., 1., 1.],\n",
       "       [1., 1., 1., 1., 1.]])"
      ]
     },
     "execution_count": 85,
     "metadata": {},
     "output_type": "execute_result"
    }
   ],
   "source": [
    "a"
   ]
  },
  {
   "cell_type": "code",
   "execution_count": 86,
   "id": "f86168e2",
   "metadata": {},
   "outputs": [],
   "source": [
    "a[1:3,1:4]=0"
   ]
  },
  {
   "cell_type": "code",
   "execution_count": 87,
   "id": "59f4dff7",
   "metadata": {},
   "outputs": [
    {
     "data": {
      "text/plain": [
       "array([[1., 1., 1., 1., 1.],\n",
       "       [1., 0., 0., 0., 1.],\n",
       "       [1., 0., 0., 0., 1.],\n",
       "       [1., 1., 1., 1., 1.],\n",
       "       [1., 1., 1., 1., 1.]])"
      ]
     },
     "execution_count": 87,
     "metadata": {},
     "output_type": "execute_result"
    }
   ],
   "source": [
    "a"
   ]
  },
  {
   "cell_type": "code",
   "execution_count": 88,
   "id": "d270736b",
   "metadata": {},
   "outputs": [],
   "source": [
    "a[2,2]=9"
   ]
  },
  {
   "cell_type": "code",
   "execution_count": 83,
   "id": "f9e56951",
   "metadata": {},
   "outputs": [
    {
     "data": {
      "text/plain": [
       "array([[1., 1., 1., 1., 1.],\n",
       "       [1., 0., 0., 0., 1.],\n",
       "       [1., 0., 9., 0., 1.],\n",
       "       [1., 1., 1., 1., 1.],\n",
       "       [1., 1., 1., 1., 1.]])"
      ]
     },
     "execution_count": 83,
     "metadata": {},
     "output_type": "execute_result"
    }
   ],
   "source": [
    "a"
   ]
  },
  {
   "cell_type": "code",
   "execution_count": 90,
   "id": "cf5efc6b",
   "metadata": {},
   "outputs": [],
   "source": [
    "# second way:\n",
    "\n",
    "output=np.ones((5,5))\n",
    "z=np.zeros((3,3))\n",
    "z[1,1]=9\n",
    "output[1:4,1:4]=z"
   ]
  },
  {
   "cell_type": "code",
   "execution_count": 92,
   "id": "aa0d5224",
   "metadata": {},
   "outputs": [
    {
     "data": {
      "text/plain": [
       "array([[1., 1., 1., 1., 1.],\n",
       "       [1., 0., 0., 0., 1.],\n",
       "       [1., 0., 9., 0., 1.],\n",
       "       [1., 0., 0., 0., 1.],\n",
       "       [1., 1., 1., 1., 1.]])"
      ]
     },
     "execution_count": 92,
     "metadata": {},
     "output_type": "execute_result"
    }
   ],
   "source": [
    "output"
   ]
  },
  {
   "cell_type": "code",
   "execution_count": 93,
   "id": "6247b878",
   "metadata": {},
   "outputs": [],
   "source": [
    "b=a # this type of copying is like view()"
   ]
  },
  {
   "cell_type": "code",
   "execution_count": 95,
   "id": "a8e3b085",
   "metadata": {},
   "outputs": [],
   "source": [
    "## Linear Algebra\n",
    "a=np.arange(2,8).reshape(3,2)\n",
    "b=np.arange(4,10).reshape(2,3)"
   ]
  },
  {
   "cell_type": "code",
   "execution_count": 97,
   "id": "f55450fb",
   "metadata": {},
   "outputs": [
    {
     "ename": "ValueError",
     "evalue": "operands could not be broadcast together with shapes (3,2) (2,3) ",
     "output_type": "error",
     "traceback": [
      "\u001b[1;31m---------------------------------------------------------------------------\u001b[0m",
      "\u001b[1;31mValueError\u001b[0m                                Traceback (most recent call last)",
      "\u001b[1;32m~\\AppData\\Local\\Temp\\ipykernel_29344\\3344505245.py\u001b[0m in \u001b[0;36m<module>\u001b[1;34m\u001b[0m\n\u001b[1;32m----> 1\u001b[1;33m \u001b[0ma\u001b[0m\u001b[1;33m*\u001b[0m\u001b[0mb\u001b[0m \u001b[1;31m# gives error when u multiply.\u001b[0m\u001b[1;33m\u001b[0m\u001b[1;33m\u001b[0m\u001b[0m\n\u001b[0m",
      "\u001b[1;31mValueError\u001b[0m: operands could not be broadcast together with shapes (3,2) (2,3) "
     ]
    }
   ],
   "source": [
    "a*b # gives error when u multiply."
   ]
  },
  {
   "cell_type": "code",
   "execution_count": 98,
   "id": "3abffee0",
   "metadata": {},
   "outputs": [
    {
     "data": {
      "text/plain": [
       "array([[29, 34, 39],\n",
       "       [51, 60, 69],\n",
       "       [73, 86, 99]])"
      ]
     },
     "execution_count": 98,
     "metadata": {},
     "output_type": "execute_result"
    }
   ],
   "source": [
    "a.dot(b) # matrix multiplication simply"
   ]
  },
  {
   "cell_type": "code",
   "execution_count": 99,
   "id": "0ed148ee",
   "metadata": {},
   "outputs": [
    {
     "data": {
      "text/plain": [
       "array([[29, 34, 39],\n",
       "       [51, 60, 69],\n",
       "       [73, 86, 99]])"
      ]
     },
     "execution_count": 99,
     "metadata": {},
     "output_type": "execute_result"
    }
   ],
   "source": [
    "np.matmul(a,b) # matrix mutliplication"
   ]
  },
  {
   "cell_type": "markdown",
   "id": "e1a657e3",
   "metadata": {},
   "source": [
    "# determinant"
   ]
  },
  {
   "cell_type": "code",
   "execution_count": 110,
   "id": "84930d96",
   "metadata": {},
   "outputs": [
    {
     "data": {
      "text/plain": [
       "546.0000000000001"
      ]
     },
     "execution_count": 110,
     "metadata": {},
     "output_type": "execute_result"
    }
   ],
   "source": [
    "np.linalg.det(np.diag([91,2,3]))"
   ]
  },
  {
   "cell_type": "code",
   "execution_count": 113,
   "id": "b2cc413e",
   "metadata": {},
   "outputs": [
    {
     "data": {
      "text/plain": [
       "array([[ 1,  0,  0],\n",
       "       [ 0, 23,  0],\n",
       "       [ 0,  0,  5]])"
      ]
     },
     "execution_count": 113,
     "metadata": {},
     "output_type": "execute_result"
    }
   ],
   "source": [
    "np.diag((1,23,5))"
   ]
  },
  {
   "cell_type": "code",
   "execution_count": 114,
   "id": "551ff1cd",
   "metadata": {},
   "outputs": [],
   "source": [
    "a=np.arange(2,18).reshape(4,4)"
   ]
  },
  {
   "cell_type": "code",
   "execution_count": 120,
   "id": "d4f80932",
   "metadata": {},
   "outputs": [
    {
     "data": {
      "text/plain": [
       "3.662568488526098e-31"
      ]
     },
     "execution_count": 120,
     "metadata": {},
     "output_type": "execute_result"
    }
   ],
   "source": [
    "np.linalg.det(a)"
   ]
  },
  {
   "cell_type": "markdown",
   "id": "1afef094",
   "metadata": {},
   "source": [
    "# stacking"
   ]
  },
  {
   "cell_type": "code",
   "execution_count": 121,
   "id": "8316f3fd",
   "metadata": {},
   "outputs": [],
   "source": [
    "v1=np.array([1,2,3,4])\n",
    "v2=np.array([5,6,7,8])"
   ]
  },
  {
   "cell_type": "code",
   "execution_count": 123,
   "id": "bfddcbe7",
   "metadata": {},
   "outputs": [
    {
     "data": {
      "text/plain": [
       "array([[1, 2, 3, 4],\n",
       "       [5, 6, 7, 8],\n",
       "       [1, 2, 3, 4],\n",
       "       [5, 6, 7, 8]])"
      ]
     },
     "execution_count": 123,
     "metadata": {},
     "output_type": "execute_result"
    }
   ],
   "source": [
    "np.vstack((v1,v2,v1,v2))"
   ]
  },
  {
   "cell_type": "code",
   "execution_count": 124,
   "id": "bab65547",
   "metadata": {},
   "outputs": [
    {
     "data": {
      "text/plain": [
       "array([1, 2, 3, 4, 5, 6, 7, 8, 1, 2, 3, 4, 5, 6, 7, 8])"
      ]
     },
     "execution_count": 124,
     "metadata": {},
     "output_type": "execute_result"
    }
   ],
   "source": [
    "np.hstack((v1,v2,v1,v2))"
   ]
  },
  {
   "cell_type": "markdown",
   "id": "fa9efa0c",
   "metadata": {},
   "source": [
    "#  Miscellaneous"
   ]
  },
  {
   "cell_type": "code",
   "execution_count": 188,
   "id": "8e759d6a",
   "metadata": {},
   "outputs": [],
   "source": [
    "f=open(\"data.txt\",\"r\") # u will work in pandas all these. right now just try to remember the functionality."
   ]
  },
  {
   "cell_type": "code",
   "execution_count": 189,
   "id": "e1e9ed3a",
   "metadata": {},
   "outputs": [],
   "source": [
    "filedata=np.genfromtxt(\"data.txt\",delimiter=\",\")"
   ]
  },
  {
   "cell_type": "code",
   "execution_count": 190,
   "id": "b08529d5",
   "metadata": {},
   "outputs": [
    {
     "data": {
      "text/plain": [
       "array([   1,    2,    3,    4,    5,    6,    7,    8,    9,   12,    1,\n",
       "        354,    3,    5,    3,    3,    5, 7654,   43,  876])"
      ]
     },
     "execution_count": 190,
     "metadata": {},
     "output_type": "execute_result"
    }
   ],
   "source": [
    "filedata.astype('int32')"
   ]
  },
  {
   "cell_type": "code",
   "execution_count": 192,
   "id": "1d9eef90",
   "metadata": {},
   "outputs": [
    {
     "name": "stdout",
     "output_type": "stream",
     "text": [
      "<_io.TextIOWrapper name='data.txt' mode='r' encoding='cp1252'>\n",
      "1,2,3,4,5,6,7,8,9,12,1,354,3,5,3,3,5,7654,43,876\n"
     ]
    }
   ],
   "source": [
    "f=open(\"data.txt\",\"r\")\n",
    "print(f)\n",
    "for i in f:\n",
    "    print(i)"
   ]
  },
  {
   "cell_type": "markdown",
   "id": "6f74791b",
   "metadata": {},
   "source": [
    "# Boolean Masking and Advanced indexing "
   ]
  },
  {
   "cell_type": "code",
   "execution_count": 129,
   "id": "ab271543",
   "metadata": {},
   "outputs": [
    {
     "data": {
      "text/plain": [
       "array([[False, False, False, False],\n",
       "       [False, False, False, False],\n",
       "       [False,  True,  True,  True],\n",
       "       [ True,  True,  True,  True]])"
      ]
     },
     "execution_count": 129,
     "metadata": {},
     "output_type": "execute_result"
    }
   ],
   "source": [
    "a>10"
   ]
  },
  {
   "cell_type": "code",
   "execution_count": 130,
   "id": "6b0e93a4",
   "metadata": {},
   "outputs": [
    {
     "data": {
      "text/plain": [
       "array([[ 2,  3,  4,  5],\n",
       "       [ 6,  7,  8,  9],\n",
       "       [10, 11, 12, 13],\n",
       "       [14, 15, 16, 17]])"
      ]
     },
     "execution_count": 130,
     "metadata": {},
     "output_type": "execute_result"
    }
   ],
   "source": [
    "a"
   ]
  },
  {
   "cell_type": "code",
   "execution_count": 141,
   "id": "f9924c15",
   "metadata": {},
   "outputs": [
    {
     "data": {
      "text/plain": [
       "array([], dtype=int32)"
      ]
     },
     "execution_count": 141,
     "metadata": {},
     "output_type": "execute_result"
    }
   ],
   "source": [
    "a[a>10] # we can give multiple conditions using logical operators."
   ]
  },
  {
   "cell_type": "code",
   "execution_count": 132,
   "id": "86e87f88",
   "metadata": {},
   "outputs": [],
   "source": [
    "a=np.array([1,2,3,4,5,6,7,8])"
   ]
  },
  {
   "cell_type": "code",
   "execution_count": 133,
   "id": "034ce4e6",
   "metadata": {},
   "outputs": [
    {
     "data": {
      "text/plain": [
       "array([1, 2, 3, 4, 5, 6, 7, 8])"
      ]
     },
     "execution_count": 133,
     "metadata": {},
     "output_type": "execute_result"
    }
   ],
   "source": [
    "a"
   ]
  },
  {
   "cell_type": "code",
   "execution_count": 138,
   "id": "292c4c82",
   "metadata": {},
   "outputs": [
    {
     "data": {
      "text/plain": [
       "array([2, 3, 8])"
      ]
     },
     "execution_count": 138,
     "metadata": {},
     "output_type": "execute_result"
    }
   ],
   "source": [
    "a[[1,2,7]] # gives the elements present at the indexes 1,2,3"
   ]
  },
  {
   "cell_type": "code",
   "execution_count": 139,
   "id": "5286745a",
   "metadata": {},
   "outputs": [
    {
     "data": {
      "text/plain": [
       "True"
      ]
     },
     "execution_count": 139,
     "metadata": {},
     "output_type": "execute_result"
    }
   ],
   "source": [
    "np.any(a>5,axis=0)"
   ]
  },
  {
   "cell_type": "code",
   "execution_count": 140,
   "id": "0c9df688",
   "metadata": {},
   "outputs": [
    {
     "data": {
      "text/plain": [
       "False"
      ]
     },
     "execution_count": 140,
     "metadata": {},
     "output_type": "execute_result"
    }
   ],
   "source": [
    "np.all(a>5,axis=0)"
   ]
  },
  {
   "cell_type": "markdown",
   "id": "3e2e52cf",
   "metadata": {},
   "source": [
    "# Questions"
   ]
  },
  {
   "cell_type": "markdown",
   "id": "05191fca",
   "metadata": {},
   "source": [
    "1.create an array with 1 t0 30 elements in 6*5 matrix"
   ]
  },
  {
   "cell_type": "code",
   "execution_count": 143,
   "id": "044878e0",
   "metadata": {},
   "outputs": [],
   "source": [
    "mat1=np.arange(1,31).reshape(6,5)"
   ]
  },
  {
   "cell_type": "code",
   "execution_count": 144,
   "id": "3baf3b7f",
   "metadata": {},
   "outputs": [
    {
     "data": {
      "text/plain": [
       "array([[ 1,  2,  3,  4,  5],\n",
       "       [ 6,  7,  8,  9, 10],\n",
       "       [11, 12, 13, 14, 15],\n",
       "       [16, 17, 18, 19, 20],\n",
       "       [21, 22, 23, 24, 25],\n",
       "       [26, 27, 28, 29, 30]])"
      ]
     },
     "execution_count": 144,
     "metadata": {},
     "output_type": "execute_result"
    }
   ],
   "source": [
    "mat1"
   ]
  },
  {
   "cell_type": "raw",
   "id": "94eed383",
   "metadata": {},
   "source": [
    "# get    11 12\n",
    "         16 17 "
   ]
  },
  {
   "cell_type": "code",
   "execution_count": 146,
   "id": "867a285a",
   "metadata": {},
   "outputs": [
    {
     "data": {
      "text/plain": [
       "array([[11, 12],\n",
       "       [16, 17]])"
      ]
     },
     "execution_count": 146,
     "metadata": {},
     "output_type": "execute_result"
    }
   ],
   "source": [
    "mat1[2:4,0:2]"
   ]
  },
  {
   "cell_type": "code",
   "execution_count": 149,
   "id": "2acf07a8",
   "metadata": {},
   "outputs": [
    {
     "data": {
      "text/plain": [
       "array([ 2,  8, 14, 20])"
      ]
     },
     "execution_count": 149,
     "metadata": {},
     "output_type": "execute_result"
    }
   ],
   "source": [
    "mat1[[0,1,2,3],[1,2,3,4]] # try to understand very carefully here."
   ]
  },
  {
   "cell_type": "code",
   "execution_count": 150,
   "id": "3bcb06aa",
   "metadata": {},
   "outputs": [
    {
     "data": {
      "text/plain": [
       "array([2, 3, 4, 5])"
      ]
     },
     "execution_count": 150,
     "metadata": {},
     "output_type": "execute_result"
    }
   ],
   "source": [
    "mat1[[0],[1,2,3,4]]"
   ]
  },
  {
   "cell_type": "code",
   "execution_count": 156,
   "id": "16df647b",
   "metadata": {},
   "outputs": [
    {
     "data": {
      "text/plain": [
       "array([[ 4,  5],\n",
       "       [24, 25],\n",
       "       [29, 30]])"
      ]
     },
     "execution_count": 156,
     "metadata": {},
     "output_type": "execute_result"
    }
   ],
   "source": [
    "mat1[[0,4,5],3:] # very important concept."
   ]
  },
  {
   "cell_type": "code",
   "execution_count": null,
   "id": "17256576",
   "metadata": {},
   "outputs": [],
   "source": []
  },
  {
   "cell_type": "code",
   "execution_count": null,
   "id": "1d76aefd",
   "metadata": {},
   "outputs": [],
   "source": []
  }
 ],
 "metadata": {
  "kernelspec": {
   "display_name": "Python 3 (ipykernel)",
   "language": "python",
   "name": "python3"
  },
  "language_info": {
   "codemirror_mode": {
    "name": "ipython",
    "version": 3
   },
   "file_extension": ".py",
   "mimetype": "text/x-python",
   "name": "python",
   "nbconvert_exporter": "python",
   "pygments_lexer": "ipython3",
   "version": "3.9.13"
  }
 },
 "nbformat": 4,
 "nbformat_minor": 5
}

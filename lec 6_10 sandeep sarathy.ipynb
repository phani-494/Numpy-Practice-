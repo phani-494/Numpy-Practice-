{
 "cells": [
  {
   "cell_type": "markdown",
   "id": "f6919744",
   "metadata": {},
   "source": [
    "# lec 6\n",
    "## Accessing elements of ndarray in numpy"
   ]
  },
  {
   "cell_type": "raw",
   "id": "6857eac6",
   "metadata": {},
   "source": [
    "1.Accessing:\n",
    "    a. we can access the values using the indexes\n",
    "    b. index value starts from 0.\n",
    "    c. arr[0] gives first value\n",
    "    d. arr[-1] gives last value.\n",
    "    e. indexing starts with 0 from left side and starts with -1 from right side.\n",
    "    "
   ]
  },
  {
   "cell_type": "code",
   "execution_count": 2,
   "id": "0241ec72",
   "metadata": {},
   "outputs": [],
   "source": [
    "import numpy as np\n",
    "a=np.array([1,2,3,4,5])"
   ]
  },
  {
   "cell_type": "code",
   "execution_count": 3,
   "id": "7a9b6344",
   "metadata": {},
   "outputs": [
    {
     "name": "stdout",
     "output_type": "stream",
     "text": [
      "[1 2 3 4 5]\n"
     ]
    }
   ],
   "source": [
    "print(a)"
   ]
  },
  {
   "cell_type": "code",
   "execution_count": 4,
   "id": "87dd9d34",
   "metadata": {},
   "outputs": [
    {
     "data": {
      "text/plain": [
       "1"
      ]
     },
     "execution_count": 4,
     "metadata": {},
     "output_type": "execute_result"
    }
   ],
   "source": [
    "a[0]"
   ]
  },
  {
   "cell_type": "code",
   "execution_count": 5,
   "id": "b0fc164a",
   "metadata": {},
   "outputs": [
    {
     "data": {
      "text/plain": [
       "5"
      ]
     },
     "execution_count": 5,
     "metadata": {},
     "output_type": "execute_result"
    }
   ],
   "source": [
    "a[-1]"
   ]
  },
  {
   "cell_type": "code",
   "execution_count": 6,
   "id": "87b8e8af",
   "metadata": {},
   "outputs": [
    {
     "data": {
      "text/plain": [
       "array([2, 3])"
      ]
     },
     "execution_count": 6,
     "metadata": {},
     "output_type": "execute_result"
    }
   ],
   "source": [
    "a[1:3]"
   ]
  },
  {
   "cell_type": "raw",
   "id": "30d35ad0",
   "metadata": {},
   "source": [
    "2D array Accessing:\n",
    "     we can access the values in two ways. [0,0] or [0][0]\n",
    "        \n",
    "    1 2 3   |  4 5 6  | 5 6 7 \n",
    "    0 1 2   |  0 1 2  | 0 1 2 # above  here 0 1 2 represents the index                 0   |     1   |   2       of elements present in the  below index value\n",
    "  # below these are the indices representation type here.\n",
    "  # for 0th index it contains three elements\n",
    "       \n",
    "       simply u can use matrix type representation where row and column values starts from 0 .\n",
    "       # at 0th index it contains [1 2 3] which have three indexes again."
   ]
  },
  {
   "cell_type": "code",
   "execution_count": 21,
   "id": "a3c4cc7c",
   "metadata": {},
   "outputs": [],
   "source": [
    "a=np.array([[1,2,3],[4,5,6],[5,6,7]])"
   ]
  },
  {
   "cell_type": "code",
   "execution_count": 22,
   "id": "86e79619",
   "metadata": {},
   "outputs": [
    {
     "name": "stdout",
     "output_type": "stream",
     "text": [
      "[[1 2 3]\n",
      " [4 5 6]\n",
      " [5 6 7]]\n"
     ]
    }
   ],
   "source": [
    "print(a)"
   ]
  },
  {
   "cell_type": "code",
   "execution_count": 23,
   "id": "60d80da9",
   "metadata": {},
   "outputs": [
    {
     "data": {
      "text/plain": [
       "2"
      ]
     },
     "execution_count": 23,
     "metadata": {},
     "output_type": "execute_result"
    }
   ],
   "source": [
    "a[0,1] "
   ]
  },
  {
   "cell_type": "code",
   "execution_count": 24,
   "id": "e72b11c9",
   "metadata": {},
   "outputs": [
    {
     "data": {
      "text/plain": [
       "2"
      ]
     },
     "execution_count": 24,
     "metadata": {},
     "output_type": "execute_result"
    }
   ],
   "source": [
    "a[0][1]"
   ]
  },
  {
   "cell_type": "code",
   "execution_count": 27,
   "id": "9079a305",
   "metadata": {},
   "outputs": [
    {
     "data": {
      "text/plain": [
       "6"
      ]
     },
     "execution_count": 27,
     "metadata": {},
     "output_type": "execute_result"
    }
   ],
   "source": [
    "a[-1][-2]\n",
    "# -1 means last  1D array  and -2 means  in it the last second element"
   ]
  },
  {
   "cell_type": "raw",
   "id": "ded5213b",
   "metadata": {},
   "source": [
    "# 3d array accessing: a[first][ second][ third ]\n",
    "\n",
    "[[[ 1  2  3]--> this index  0 is second box \n",
    "  [ 4  5  6]   # this is here first box value  as 0\n",
    "  [ 5  6  7]] ---> inside the [5 6 7] --> the index is third value\n",
    "\n",
    " [[11 12 13]-> this index 0 is second box \n",
    "  [14 15 16]    # this is here first box value as 1 \n",
    "  [15 16 17]]]\n",
    " a[0][2][1]-->6 gives.. 0 th matrix 2nd index and in it 1st index value"
   ]
  },
  {
   "cell_type": "code",
   "execution_count": 28,
   "id": "91191130",
   "metadata": {},
   "outputs": [],
   "source": [
    "a=np.array([[[1,2,3],[4,5,6],[5,6,7]],[[11,12,13],[14,15,16],[15,16,17]]])"
   ]
  },
  {
   "cell_type": "code",
   "execution_count": 29,
   "id": "47019fd7",
   "metadata": {},
   "outputs": [
    {
     "name": "stdout",
     "output_type": "stream",
     "text": [
      "[[[ 1  2  3]\n",
      "  [ 4  5  6]\n",
      "  [ 5  6  7]]\n",
      "\n",
      " [[11 12 13]\n",
      "  [14 15 16]\n",
      "  [15 16 17]]]\n"
     ]
    }
   ],
   "source": [
    "print(a)"
   ]
  },
  {
   "cell_type": "raw",
   "id": "3226ef45",
   "metadata": {},
   "source": [
    "# here the first box represents the 0 th index and in it again three indexes with each index containing three elemnemts again.\n",
    "# here the second box represents the  1 st  index and in it again three indexes with each index containing three elemnemts again."
   ]
  },
  {
   "cell_type": "code",
   "execution_count": 30,
   "id": "b658e2cd",
   "metadata": {},
   "outputs": [
    {
     "data": {
      "text/plain": [
       "6"
      ]
     },
     "execution_count": 30,
     "metadata": {},
     "output_type": "execute_result"
    }
   ],
   "source": [
    "a[0,2,1]"
   ]
  },
  {
   "cell_type": "code",
   "execution_count": 31,
   "id": "a0b81c7a",
   "metadata": {},
   "outputs": [
    {
     "data": {
      "text/plain": [
       "17"
      ]
     },
     "execution_count": 31,
     "metadata": {},
     "output_type": "execute_result"
    }
   ],
   "source": [
    "a[1,2,2]"
   ]
  },
  {
   "cell_type": "code",
   "execution_count": 32,
   "id": "f441508e",
   "metadata": {},
   "outputs": [
    {
     "data": {
      "text/plain": [
       "14"
      ]
     },
     "execution_count": 32,
     "metadata": {},
     "output_type": "execute_result"
    }
   ],
   "source": [
    "a[-1,-2,0]"
   ]
  },
  {
   "cell_type": "markdown",
   "id": "f6027ab2",
   "metadata": {},
   "source": [
    "# lec 7\n",
    "## slicing operation on the ndarray in python"
   ]
  },
  {
   "cell_type": "raw",
   "id": "3670a4d8",
   "metadata": {},
   "source": [
    "slicing can be done using the : operator\n",
    "we need to give the range of the indices.\n",
    "step size is the difference between the elements.\n",
    "\n",
    "a[start:stop:step]\n",
    "start value if not mentioned ,by default the value is 0.\n",
    "stop index if not mentioned,by default the value is length of the array.\n",
    "step size-default value is 1\n",
    "\n"
   ]
  },
  {
   "cell_type": "raw",
   "id": "4b553e06",
   "metadata": {},
   "source": [
    "[::]--> gives all the elements as all default values is assumed here.\n"
   ]
  },
  {
   "cell_type": "code",
   "execution_count": 66,
   "id": "1b2fc5aa",
   "metadata": {},
   "outputs": [],
   "source": [
    "a=np.array([1,2,3,4,5])"
   ]
  },
  {
   "cell_type": "code",
   "execution_count": 67,
   "id": "78a5c91a",
   "metadata": {},
   "outputs": [
    {
     "data": {
      "text/plain": [
       "array([1, 2, 3, 4, 5])"
      ]
     },
     "execution_count": 67,
     "metadata": {},
     "output_type": "execute_result"
    }
   ],
   "source": [
    "a[:] # here 0 and length of array are default values"
   ]
  },
  {
   "cell_type": "code",
   "execution_count": 36,
   "id": "f873d08e",
   "metadata": {},
   "outputs": [
    {
     "data": {
      "text/plain": [
       "array([1, 2, 3, 4, 5])"
      ]
     },
     "execution_count": 36,
     "metadata": {},
     "output_type": "execute_result"
    }
   ],
   "source": [
    "a[::]"
   ]
  },
  {
   "cell_type": "code",
   "execution_count": 71,
   "id": "d63a13ae",
   "metadata": {},
   "outputs": [
    {
     "data": {
      "text/plain": [
       "array([5, 4, 3, 2, 1])"
      ]
     },
     "execution_count": 71,
     "metadata": {},
     "output_type": "execute_result"
    }
   ],
   "source": [
    "a[-1::-1] # printing the array in reverse order\n",
    "# start from -1 and print in the reverse order here.\n",
    "# see in the result the difference between indexes is -1."
   ]
  },
  {
   "cell_type": "code",
   "execution_count": 70,
   "id": "6306f715",
   "metadata": {},
   "outputs": [
    {
     "data": {
      "text/plain": [
       "array([5, 4, 3, 2, 1])"
      ]
     },
     "execution_count": 70,
     "metadata": {},
     "output_type": "execute_result"
    }
   ],
   "source": [
    "a[::-1]  # here - indicates to print in reverse direction here."
   ]
  },
  {
   "cell_type": "code",
   "execution_count": 39,
   "id": "70038a62",
   "metadata": {},
   "outputs": [
    {
     "data": {
      "text/plain": [
       "array([2, 3, 4, 5])"
      ]
     },
     "execution_count": 39,
     "metadata": {},
     "output_type": "execute_result"
    }
   ],
   "source": [
    "a[1:5] # 1,2,3,4 index values are the output here."
   ]
  },
  {
   "cell_type": "code",
   "execution_count": 41,
   "id": "5c5257f4",
   "metadata": {},
   "outputs": [
    {
     "data": {
      "text/plain": [
       "array([1, 2, 3, 4])"
      ]
     },
     "execution_count": 41,
     "metadata": {},
     "output_type": "execute_result"
    }
   ],
   "source": [
    "a[0:4] # excludes the stop index here."
   ]
  },
  {
   "cell_type": "code",
   "execution_count": 43,
   "id": "aafdc7a1",
   "metadata": {},
   "outputs": [
    {
     "data": {
      "text/plain": [
       "array([1, 3])"
      ]
     },
     "execution_count": 43,
     "metadata": {},
     "output_type": "execute_result"
    }
   ],
   "source": [
    "a[0:4:2] # the difference between indexes should be 2 i.e, 0 2 4 6 8 ..."
   ]
  },
  {
   "cell_type": "code",
   "execution_count": 44,
   "id": "9e14d9e2",
   "metadata": {},
   "outputs": [
    {
     "data": {
      "text/plain": [
       "array([2, 3])"
      ]
     },
     "execution_count": 44,
     "metadata": {},
     "output_type": "execute_result"
    }
   ],
   "source": [
    "a[1:3]"
   ]
  },
  {
   "cell_type": "code",
   "execution_count": 45,
   "id": "9f185b4a",
   "metadata": {},
   "outputs": [
    {
     "data": {
      "text/plain": [
       "array([1, 2, 3, 4])"
      ]
     },
     "execution_count": 45,
     "metadata": {},
     "output_type": "execute_result"
    }
   ],
   "source": [
    "a[:4]"
   ]
  },
  {
   "cell_type": "code",
   "execution_count": 46,
   "id": "21a3678f",
   "metadata": {},
   "outputs": [
    {
     "data": {
      "text/plain": [
       "array([3, 4, 5])"
      ]
     },
     "execution_count": 46,
     "metadata": {},
     "output_type": "execute_result"
    }
   ],
   "source": [
    "a[2:]"
   ]
  },
  {
   "cell_type": "markdown",
   "id": "45f36b55",
   "metadata": {},
   "source": [
    "# 2D array slicing"
   ]
  },
  {
   "cell_type": "code",
   "execution_count": 64,
   "id": "fd7fc3d0",
   "metadata": {},
   "outputs": [],
   "source": [
    "a=np.array([[1,2,3],[4,5,6],[5,6,7]])"
   ]
  },
  {
   "cell_type": "code",
   "execution_count": 48,
   "id": "7a979b5c",
   "metadata": {},
   "outputs": [
    {
     "name": "stdout",
     "output_type": "stream",
     "text": [
      "[[1 2 3]\n",
      " [4 5 6]\n",
      " [5 6 7]]\n"
     ]
    }
   ],
   "source": [
    "print(a)"
   ]
  },
  {
   "cell_type": "code",
   "execution_count": 65,
   "id": "bb21e8fd",
   "metadata": {},
   "outputs": [
    {
     "data": {
      "text/plain": [
       "array([[5, 6, 7],\n",
       "       [4, 5, 6],\n",
       "       [1, 2, 3]])"
      ]
     },
     "execution_count": 65,
     "metadata": {},
     "output_type": "execute_result"
    }
   ],
   "source": [
    "a[-1::-1] "
   ]
  },
  {
   "cell_type": "code",
   "execution_count": 52,
   "id": "a9e1c032",
   "metadata": {},
   "outputs": [
    {
     "data": {
      "text/plain": [
       "array([1, 2])"
      ]
     },
     "execution_count": 52,
     "metadata": {},
     "output_type": "execute_result"
    }
   ],
   "source": [
    "a[0,0:2] # array at 0th index and then first two elements of 0th array"
   ]
  },
  {
   "cell_type": "code",
   "execution_count": 53,
   "id": "c1276848",
   "metadata": {},
   "outputs": [
    {
     "data": {
      "text/plain": [
       "array([5, 6])"
      ]
     },
     "execution_count": 53,
     "metadata": {},
     "output_type": "execute_result"
    }
   ],
   "source": [
    "a[1,1:3]"
   ]
  },
  {
   "cell_type": "code",
   "execution_count": 57,
   "id": "1c2b1c7e",
   "metadata": {},
   "outputs": [
    {
     "data": {
      "text/plain": [
       "array([[2, 3],\n",
       "       [5, 6]])"
      ]
     },
     "execution_count": 57,
     "metadata": {},
     "output_type": "execute_result"
    }
   ],
   "source": [
    "a[0:2,1:3] # first two rows and then second two columns\n",
    "# first 0:2 means consider both the 0 th and 1 st arrays here. \n",
    "# and from both arrays here we need to take elements from 1:3 means elements at indices 1 and 2."
   ]
  },
  {
   "cell_type": "markdown",
   "id": "991305cc",
   "metadata": {},
   "source": [
    "# 3D array slicing"
   ]
  },
  {
   "cell_type": "code",
   "execution_count": 72,
   "id": "c5cb3ef6",
   "metadata": {},
   "outputs": [],
   "source": [
    "a=np.array([[[1,2,3],[4,5,6],[5,6,7]],[[11,12,13],[14,15,16],[15,16,17]]])\n"
   ]
  },
  {
   "cell_type": "code",
   "execution_count": 59,
   "id": "6add1102",
   "metadata": {},
   "outputs": [
    {
     "name": "stdout",
     "output_type": "stream",
     "text": [
      "[[[ 1  2  3]\n",
      "  [ 4  5  6]\n",
      "  [ 5  6  7]]\n",
      "\n",
      " [[11 12 13]\n",
      "  [14 15 16]\n",
      "  [15 16 17]]]\n"
     ]
    }
   ],
   "source": [
    "# A 3D array is a array of 2D arrays \n",
    "print(a)"
   ]
  },
  {
   "cell_type": "raw",
   "id": "9d4068d6",
   "metadata": {},
   "source": [
    "[[[ 1  2  3]\n",
    "  [ 4  5  6]\n",
    "  [ 5  6  7]]   # this is 0 th 2D array\n",
    "\n",
    " [[11 12 13]\n",
    "  [14 15 16]\n",
    "  [15 16 17]]] # this is 1 st 2D array."
   ]
  },
  {
   "cell_type": "raw",
   "id": "1a389ba3",
   "metadata": {},
   "source": [
    "[[[ 1  2  3] # in 0th 2D array , this is the first 0th 1D array\n",
    "  [ 4  5  6] # 1st 1D array\n",
    "  [ 5  6  7]] # 2nd 1D array\n",
    "\n",
    " [[11 12 13] # in 1st 2D array, this is the 0 th  1D array.\n",
    "  [14 15 16] \n",
    "  [15 16 17]]]"
   ]
  },
  {
   "cell_type": "code",
   "execution_count": 62,
   "id": "d3e94c34",
   "metadata": {},
   "outputs": [
    {
     "data": {
      "text/plain": [
       "array([4, 5])"
      ]
     },
     "execution_count": 62,
     "metadata": {},
     "output_type": "execute_result"
    }
   ],
   "source": [
    "a[0,1,0:2] # in first 0th  2D array index  matrix, in first index 1D array first two elements."
   ]
  },
  {
   "cell_type": "code",
   "execution_count": 63,
   "id": "fe096a83",
   "metadata": {},
   "outputs": [
    {
     "data": {
      "text/plain": [
       "array([15, 16, 17])"
      ]
     },
     "execution_count": 63,
     "metadata": {},
     "output_type": "execute_result"
    }
   ],
   "source": [
    "a[1,2,0:3]"
   ]
  },
  {
   "cell_type": "code",
   "execution_count": 74,
   "id": "b1018f1c",
   "metadata": {},
   "outputs": [
    {
     "data": {
      "text/plain": [
       "array([16, 15, 14])"
      ]
     },
     "execution_count": 74,
     "metadata": {},
     "output_type": "execute_result"
    }
   ],
   "source": [
    "a[1,1,-1::-1]"
   ]
  },
  {
   "cell_type": "code",
   "execution_count": 76,
   "id": "9d343ded",
   "metadata": {},
   "outputs": [
    {
     "data": {
      "text/plain": [
       "array([[[ 1,  2],\n",
       "        [ 4,  5]],\n",
       "\n",
       "       [[11, 12],\n",
       "        [14, 15]]])"
      ]
     },
     "execution_count": 76,
     "metadata": {},
     "output_type": "execute_result"
    }
   ],
   "source": [
    "a[0:2,0:2,0:2]"
   ]
  },
  {
   "cell_type": "markdown",
   "id": "f9c327af",
   "metadata": {},
   "source": [
    "# lec 8\n",
    "## understanding of axis attribute in Numpy"
   ]
  },
  {
   "cell_type": "markdown",
   "id": "075e3e79",
   "metadata": {},
   "source": [
    "1. If axis=0, then operations will be done on column wise\n",
    "2. if axis=1, then operations will be done on row wise.\n"
   ]
  },
  {
   "cell_type": "code",
   "execution_count": 81,
   "id": "de7ea08b",
   "metadata": {},
   "outputs": [],
   "source": [
    "a=np.array([[20,43,62,10],[89,15,32,44]])"
   ]
  },
  {
   "cell_type": "code",
   "execution_count": 82,
   "id": "f5d9c4ee",
   "metadata": {},
   "outputs": [
    {
     "name": "stdout",
     "output_type": "stream",
     "text": [
      "[[20 43 62 10]\n",
      " [89 15 32 44]]\n"
     ]
    }
   ],
   "source": [
    "print(a)"
   ]
  },
  {
   "cell_type": "code",
   "execution_count": 84,
   "id": "69773466",
   "metadata": {},
   "outputs": [
    {
     "data": {
      "text/plain": [
       "array([[20, 15, 32, 10],\n",
       "       [89, 43, 62, 44]])"
      ]
     },
     "execution_count": 84,
     "metadata": {},
     "output_type": "execute_result"
    }
   ],
   "source": [
    "np.sort(a,axis=0) # here the sorting is done based on column wise .\n",
    "# see the result here 15 and 43 sorted in the first index column and 32 and 62 are sorted in the column wise in second index  column "
   ]
  },
  {
   "cell_type": "code",
   "execution_count": 86,
   "id": "57d35b70",
   "metadata": {},
   "outputs": [
    {
     "data": {
      "text/plain": [
       "array([[10, 20, 43, 62],\n",
       "       [15, 32, 44, 89]])"
      ]
     },
     "execution_count": 86,
     "metadata": {},
     "output_type": "execute_result"
    }
   ],
   "source": [
    "np.sort(a,axis=1) # row wise we sorted the elements here."
   ]
  },
  {
   "cell_type": "markdown",
   "id": "b185dcf3",
   "metadata": {},
   "source": [
    "# lec 9\n",
    "## Data types copy (), view() inn numpy"
   ]
  },
  {
   "cell_type": "markdown",
   "id": "9b139444",
   "metadata": {},
   "source": [
    "# Data types \n",
    "1. i --> int   integer array\n",
    "2. f --> float float array\n",
    "3. S --> string\n",
    "4. U --> unicode strings\n",
    "5. m -->timedelta\n",
    "5. M --> datetime\n",
    "6. O --> Object\n",
    "7. V --> void \n",
    "\n",
    " 1. dtype is the attribute which is used to represent the datatype of an array.\n",
    "    "
   ]
  },
  {
   "cell_type": "code",
   "execution_count": 89,
   "id": "77ad96d0",
   "metadata": {},
   "outputs": [
    {
     "data": {
      "text/plain": [
       "dtype('int32')"
      ]
     },
     "execution_count": 89,
     "metadata": {},
     "output_type": "execute_result"
    }
   ],
   "source": [
    "a.dtype"
   ]
  },
  {
   "cell_type": "code",
   "execution_count": 90,
   "id": "bced7c13",
   "metadata": {},
   "outputs": [],
   "source": [
    "# we can also give the datatype whatever we want. it is optional.\n",
    "a=np.array([1,2,3,4,5],dtype=bool)"
   ]
  },
  {
   "cell_type": "code",
   "execution_count": 91,
   "id": "3f6fcc84",
   "metadata": {},
   "outputs": [
    {
     "name": "stdout",
     "output_type": "stream",
     "text": [
      "[ True  True  True  True  True]\n"
     ]
    }
   ],
   "source": [
    "print(a)"
   ]
  },
  {
   "cell_type": "code",
   "execution_count": 94,
   "id": "6301bcf3",
   "metadata": {},
   "outputs": [],
   "source": [
    "a=np.array([1,2,3,4,5],dtype=\"U\") # converts into string elements.. unicode strings"
   ]
  },
  {
   "cell_type": "code",
   "execution_count": 93,
   "id": "0139083c",
   "metadata": {},
   "outputs": [
    {
     "name": "stdout",
     "output_type": "stream",
     "text": [
      "['1' '2' '3' '4' '5']\n"
     ]
    }
   ],
   "source": [
    "print(a)"
   ]
  },
  {
   "cell_type": "code",
   "execution_count": 95,
   "id": "f5918a43",
   "metadata": {},
   "outputs": [],
   "source": [
    "a=np.array([1,2,3,4,5],dtype=\"f\")"
   ]
  },
  {
   "cell_type": "code",
   "execution_count": 96,
   "id": "dc2fb0a5",
   "metadata": {},
   "outputs": [
    {
     "name": "stdout",
     "output_type": "stream",
     "text": [
      "[1. 2. 3. 4. 5.]\n"
     ]
    }
   ],
   "source": [
    "print(a)"
   ]
  },
  {
   "cell_type": "markdown",
   "id": "e67d9196",
   "metadata": {},
   "source": [
    " # astype:\n",
    "    \n",
    "1. An external function which we can use to convert from one datatype to another datatype"
   ]
  },
  {
   "cell_type": "code",
   "execution_count": 97,
   "id": "b6c5cc1f",
   "metadata": {},
   "outputs": [],
   "source": [
    "x=a.astype(\"i\") # integer type"
   ]
  },
  {
   "cell_type": "code",
   "execution_count": 98,
   "id": "4dd47cd0",
   "metadata": {},
   "outputs": [
    {
     "data": {
      "text/plain": [
       "array([1, 2, 3, 4, 5], dtype=int32)"
      ]
     },
     "execution_count": 98,
     "metadata": {},
     "output_type": "execute_result"
    }
   ],
   "source": [
    "x"
   ]
  },
  {
   "cell_type": "code",
   "execution_count": 99,
   "id": "59f9c1d7",
   "metadata": {},
   "outputs": [],
   "source": [
    "x=np.array([\"10\",\"20\",\"30\"]).astype(\"i\")"
   ]
  },
  {
   "cell_type": "code",
   "execution_count": 100,
   "id": "7b46abd6",
   "metadata": {},
   "outputs": [
    {
     "data": {
      "text/plain": [
       "array([10, 20, 30], dtype=int32)"
      ]
     },
     "execution_count": 100,
     "metadata": {},
     "output_type": "execute_result"
    }
   ],
   "source": [
    "x"
   ]
  },
  {
   "cell_type": "markdown",
   "id": "616d8df0",
   "metadata": {},
   "source": [
    "# copy():\n",
    "1. creates an external copy here\n",
    "2. if any one of the element is modified , it won't reflect in the original array.\n",
    "3. two arrays will be present here since external copy will be generated."
   ]
  },
  {
   "cell_type": "markdown",
   "id": "995deddc",
   "metadata": {},
   "source": [
    "# view():\n",
    " 1. creates a reference of the array.\n",
    " 2. if any one element is modified then the original array also get's modified here.\n",
    " 3. only one array is present ,since the reference is being used here.\n"
   ]
  },
  {
   "cell_type": "code",
   "execution_count": 101,
   "id": "23e14724",
   "metadata": {},
   "outputs": [
    {
     "name": "stdout",
     "output_type": "stream",
     "text": [
      "[[20 43 62 10]\n",
      " [89 15 32 44]]\n"
     ]
    }
   ],
   "source": [
    "a=np.array([[20,43,62,10],[89,15,32,44]])\n",
    "print(a)"
   ]
  },
  {
   "cell_type": "code",
   "execution_count": 122,
   "id": "216850b5",
   "metadata": {},
   "outputs": [],
   "source": [
    "c=a.copy()"
   ]
  },
  {
   "cell_type": "code",
   "execution_count": 123,
   "id": "1fa6610e",
   "metadata": {},
   "outputs": [
    {
     "name": "stdout",
     "output_type": "stream",
     "text": [
      "[[   20    43 70000    10]\n",
      " [   89    15    32    44]]\n"
     ]
    }
   ],
   "source": [
    "print(c)"
   ]
  },
  {
   "cell_type": "code",
   "execution_count": 125,
   "id": "afbba5d6",
   "metadata": {},
   "outputs": [
    {
     "name": "stdout",
     "output_type": "stream",
     "text": [
      "None\n"
     ]
    }
   ],
   "source": [
    "print(c.base) # if it is having own array, it returns None"
   ]
  },
  {
   "cell_type": "code",
   "execution_count": 126,
   "id": "3347f2fb",
   "metadata": {},
   "outputs": [
    {
     "name": "stdout",
     "output_type": "stream",
     "text": [
      "[[   20    43 70000    10]\n",
      " [   89    15    32    44]]\n"
     ]
    }
   ],
   "source": [
    "print(b.base) # returns the array since b doesn't have any own array"
   ]
  },
  {
   "cell_type": "code",
   "execution_count": 104,
   "id": "6385617e",
   "metadata": {},
   "outputs": [],
   "source": [
    "c[0,1]=1000"
   ]
  },
  {
   "cell_type": "code",
   "execution_count": 105,
   "id": "3a28c1cc",
   "metadata": {},
   "outputs": [
    {
     "name": "stdout",
     "output_type": "stream",
     "text": [
      "[[  20 1000   62   10]\n",
      " [  89   15   32   44]]\n",
      "[[20 43 62 10]\n",
      " [89 15 32 44]]\n"
     ]
    }
   ],
   "source": [
    "print(c)\n",
    "print(a)"
   ]
  },
  {
   "cell_type": "code",
   "execution_count": 127,
   "id": "7cf0f220",
   "metadata": {},
   "outputs": [],
   "source": [
    "b=a.view() # b is taking reference and it doesn't have an array."
   ]
  },
  {
   "cell_type": "code",
   "execution_count": 107,
   "id": "919d5191",
   "metadata": {},
   "outputs": [
    {
     "name": "stdout",
     "output_type": "stream",
     "text": [
      "[[20 43 62 10]\n",
      " [89 15 32 44]]\n"
     ]
    }
   ],
   "source": [
    "print(b)"
   ]
  },
  {
   "cell_type": "code",
   "execution_count": 108,
   "id": "663c43ae",
   "metadata": {},
   "outputs": [],
   "source": [
    "b[0,2]=70000"
   ]
  },
  {
   "cell_type": "code",
   "execution_count": 109,
   "id": "9ad0d4d1",
   "metadata": {},
   "outputs": [
    {
     "name": "stdout",
     "output_type": "stream",
     "text": [
      "[[   20    43 70000    10]\n",
      " [   89    15    32    44]]\n",
      "[[   20    43 70000    10]\n",
      " [   89    15    32    44]]\n"
     ]
    }
   ],
   "source": [
    "print(b)\n",
    "print(a)"
   ]
  },
  {
   "cell_type": "code",
   "execution_count": 117,
   "id": "774f133f",
   "metadata": {},
   "outputs": [],
   "source": [
    "x=np.array([\"10\",\"20\",\"30\"])"
   ]
  },
  {
   "cell_type": "code",
   "execution_count": 118,
   "id": "4aa3474e",
   "metadata": {},
   "outputs": [
    {
     "data": {
      "text/plain": [
       "dtype('<U2')"
      ]
     },
     "execution_count": 118,
     "metadata": {},
     "output_type": "execute_result"
    }
   ],
   "source": [
    "x.dtype # here U2 represents as Unicode string with 2 bytes "
   ]
  },
  {
   "cell_type": "code",
   "execution_count": 119,
   "id": "74e04d05",
   "metadata": {},
   "outputs": [],
   "source": [
    "x=np.array([\"10\",\"20\",\"300\"])"
   ]
  },
  {
   "cell_type": "code",
   "execution_count": 120,
   "id": "c3bdce3f",
   "metadata": {},
   "outputs": [
    {
     "data": {
      "text/plain": [
       "dtype('<U3')"
      ]
     },
     "execution_count": 120,
     "metadata": {},
     "output_type": "execute_result"
    }
   ],
   "source": [
    "x.dtype # since 100 here will be represented in 3 bytes,so for every item takes 3 bytes"
   ]
  },
  {
   "cell_type": "markdown",
   "id": "cca91920",
   "metadata": {},
   "source": [
    "# lec 10\n",
    "## joining arrays(concatenate,stack,vstack,hstack,staack in Numpy)"
   ]
  },
  {
   "cell_type": "raw",
   "id": "808862fa",
   "metadata": {},
   "source": [
    "To join two arrays we have many functions\n",
    " 1. concatenate()--> join two arrays with respect to given axis(rows/columns).\n",
    " # if we perform concatenate operation everything will be treated as single 2D array here.\n",
    "  concatenate((arr1,arr2),axis=0) # default is 0 column wise.\n",
    " 2. stack():\n",
    "   we pass two arrays here \n",
    "     a. vstack(): vertical stack \n",
    "     b. hstack(): horizontal stack\n",
    "      \n",
    "       After stack opertion , everything will be stacked as in their respective dimnension ,not into a 2D array separately as like concatenate.\n",
    "  3.dstack()  \n",
    "    here we pass two arrays .\n",
    "    d means depth of the stack"
   ]
  },
  {
   "cell_type": "code",
   "execution_count": 150,
   "id": "e29f3695",
   "metadata": {},
   "outputs": [
    {
     "name": "stdout",
     "output_type": "stream",
     "text": [
      "[[ 1  2  3  4]\n",
      " [ 5  6  7  8]\n",
      " [ 9 10 11 12]\n",
      " [13 14 15 16]]\n",
      "\n",
      "[[ 3  4  5  6]\n",
      " [ 7  8  9 10]\n",
      " [11 12 13 14]\n",
      " [15 16 17 18]]\n"
     ]
    }
   ],
   "source": [
    "import numpy as np\n",
    "a1=np.arange(1,17).reshape(4,4)\n",
    "a2=np.arange(3,19).reshape(4,4)\n",
    "print(a1)\n",
    "print()\n",
    "print(a2)"
   ]
  },
  {
   "cell_type": "code",
   "execution_count": 151,
   "id": "9fb9a777",
   "metadata": {},
   "outputs": [
    {
     "data": {
      "text/plain": [
       "array([[ 1,  2,  3,  4],\n",
       "       [ 5,  6,  7,  8],\n",
       "       [ 9, 10, 11, 12],\n",
       "       [13, 14, 15, 16],\n",
       "       [ 3,  4,  5,  6],\n",
       "       [ 7,  8,  9, 10],\n",
       "       [11, 12, 13, 14],\n",
       "       [15, 16, 17, 18]])"
      ]
     },
     "execution_count": 151,
     "metadata": {},
     "output_type": "execute_result"
    }
   ],
   "source": [
    "np.concatenate((a1,a2))\n",
    "# column wise  # all first columns will come in a single line"
   ]
  },
  {
   "cell_type": "code",
   "execution_count": 152,
   "id": "5f1f627e",
   "metadata": {},
   "outputs": [
    {
     "data": {
      "text/plain": [
       "array([[ 1,  2,  3,  4,  3,  4,  5,  6],\n",
       "       [ 5,  6,  7,  8,  7,  8,  9, 10],\n",
       "       [ 9, 10, 11, 12, 11, 12, 13, 14],\n",
       "       [13, 14, 15, 16, 15, 16, 17, 18]])"
      ]
     },
     "execution_count": 152,
     "metadata": {},
     "output_type": "execute_result"
    }
   ],
   "source": [
    "np.concatenate((a1,a2),axis=1)  # row wise\n",
    "# all first rows will come in a single line."
   ]
  },
  {
   "cell_type": "code",
   "execution_count": 153,
   "id": "8d3de37f",
   "metadata": {},
   "outputs": [
    {
     "data": {
      "text/plain": [
       "array([[[ 1,  2,  3,  4],\n",
       "        [ 5,  6,  7,  8],\n",
       "        [ 9, 10, 11, 12],\n",
       "        [13, 14, 15, 16]],\n",
       "\n",
       "       [[ 3,  4,  5,  6],\n",
       "        [ 7,  8,  9, 10],\n",
       "        [11, 12, 13, 14],\n",
       "        [15, 16, 17, 18]]])"
      ]
     },
     "execution_count": 153,
     "metadata": {},
     "output_type": "execute_result"
    }
   ],
   "source": [
    "np.stack((a1,a2)) # see here two 2D dimensional arrays are present."
   ]
  },
  {
   "cell_type": "code",
   "execution_count": 154,
   "id": "f94fa812",
   "metadata": {},
   "outputs": [
    {
     "data": {
      "text/plain": [
       "array([[[ 1,  2,  3,  4],\n",
       "        [ 3,  4,  5,  6]],\n",
       "\n",
       "       [[ 5,  6,  7,  8],\n",
       "        [ 7,  8,  9, 10]],\n",
       "\n",
       "       [[ 9, 10, 11, 12],\n",
       "        [11, 12, 13, 14]],\n",
       "\n",
       "       [[13, 14, 15, 16],\n",
       "        [15, 16, 17, 18]]])"
      ]
     },
     "execution_count": 154,
     "metadata": {},
     "output_type": "execute_result"
    }
   ],
   "source": [
    "np.stack((a1,a2),axis=1) # row wise stack"
   ]
  },
  {
   "cell_type": "code",
   "execution_count": 156,
   "id": "1400f627",
   "metadata": {},
   "outputs": [
    {
     "data": {
      "text/plain": [
       "array([[ 1,  2,  3,  4],\n",
       "       [ 5,  6,  7,  8],\n",
       "       [ 9, 10, 11, 12],\n",
       "       [13, 14, 15, 16]])"
      ]
     },
     "execution_count": 156,
     "metadata": {},
     "output_type": "execute_result"
    }
   ],
   "source": [
    "a1"
   ]
  },
  {
   "cell_type": "code",
   "execution_count": 157,
   "id": "791de512",
   "metadata": {},
   "outputs": [
    {
     "data": {
      "text/plain": [
       "array([[ 3,  4,  5,  6],\n",
       "       [ 7,  8,  9, 10],\n",
       "       [11, 12, 13, 14],\n",
       "       [15, 16, 17, 18]])"
      ]
     },
     "execution_count": 157,
     "metadata": {},
     "output_type": "execute_result"
    }
   ],
   "source": [
    "a2"
   ]
  },
  {
   "cell_type": "code",
   "execution_count": 159,
   "id": "7129ad5a",
   "metadata": {},
   "outputs": [
    {
     "data": {
      "text/plain": [
       "array([[ 1,  2,  3,  4],\n",
       "       [ 5,  6,  7,  8],\n",
       "       [ 9, 10, 11, 12],\n",
       "       [13, 14, 15, 16],\n",
       "       [ 3,  4,  5,  6],\n",
       "       [ 7,  8,  9, 10],\n",
       "       [11, 12, 13, 14],\n",
       "       [15, 16, 17, 18]])"
      ]
     },
     "execution_count": 159,
     "metadata": {},
     "output_type": "execute_result"
    }
   ],
   "source": [
    "np.vstack((a1,a2)) # same like concatenate "
   ]
  },
  {
   "cell_type": "code",
   "execution_count": 160,
   "id": "49d26751",
   "metadata": {},
   "outputs": [
    {
     "data": {
      "text/plain": [
       "array([[ 1,  2,  3,  4,  3,  4,  5,  6],\n",
       "       [ 5,  6,  7,  8,  7,  8,  9, 10],\n",
       "       [ 9, 10, 11, 12, 11, 12, 13, 14],\n",
       "       [13, 14, 15, 16, 15, 16, 17, 18]])"
      ]
     },
     "execution_count": 160,
     "metadata": {},
     "output_type": "execute_result"
    }
   ],
   "source": [
    "np.hstack((a1,a2))"
   ]
  },
  {
   "cell_type": "code",
   "execution_count": 161,
   "id": "9b83f506",
   "metadata": {},
   "outputs": [
    {
     "data": {
      "text/plain": [
       "array([[[ 1,  3],\n",
       "        [ 2,  4],\n",
       "        [ 3,  5],\n",
       "        [ 4,  6]],\n",
       "\n",
       "       [[ 5,  7],\n",
       "        [ 6,  8],\n",
       "        [ 7,  9],\n",
       "        [ 8, 10]],\n",
       "\n",
       "       [[ 9, 11],\n",
       "        [10, 12],\n",
       "        [11, 13],\n",
       "        [12, 14]],\n",
       "\n",
       "       [[13, 15],\n",
       "        [14, 16],\n",
       "        [15, 17],\n",
       "        [16, 18]]])"
      ]
     },
     "execution_count": 161,
     "metadata": {},
     "output_type": "execute_result"
    }
   ],
   "source": [
    "np.dstack((a1,a2))"
   ]
  },
  {
   "cell_type": "code",
   "execution_count": null,
   "id": "85c86cf1",
   "metadata": {},
   "outputs": [],
   "source": []
  }
 ],
 "metadata": {
  "kernelspec": {
   "display_name": "Python 3 (ipykernel)",
   "language": "python",
   "name": "python3"
  },
  "language_info": {
   "codemirror_mode": {
    "name": "ipython",
    "version": 3
   },
   "file_extension": ".py",
   "mimetype": "text/x-python",
   "name": "python",
   "nbconvert_exporter": "python",
   "pygments_lexer": "ipython3",
   "version": "3.9.13"
  }
 },
 "nbformat": 4,
 "nbformat_minor": 5
}

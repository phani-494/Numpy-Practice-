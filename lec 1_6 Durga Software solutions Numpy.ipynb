{
 "cells": [
  {
   "cell_type": "markdown",
   "id": "3eb2b419",
   "metadata": {},
   "source": [
    "# lec 1\n",
    "## Python for Data science Numpy Introduction"
   ]
  },
  {
   "cell_type": "markdown",
   "id": "990783ad",
   "metadata": {},
   "source": [
    "1. All theory is written in the note book.\n",
    "2. very good introduction and nice deep lecture on why we need Numpy."
   ]
  },
  {
   "cell_type": "markdown",
   "id": "617664e8",
   "metadata": {},
   "source": [
    "# lec 2\n",
    "## List vs Numpy array"
   ]
  },
  {
   "cell_type": "code",
   "execution_count": 2,
   "id": "4ef53af5",
   "metadata": {},
   "outputs": [],
   "source": [
    "import numpy as np\n",
    "a=np.array([1,2,3])\n",
    "b=np.array([4,5,6])"
   ]
  },
  {
   "cell_type": "code",
   "execution_count": 3,
   "id": "c837b62c",
   "metadata": {},
   "outputs": [
    {
     "data": {
      "text/plain": [
       "array([ 4, 10, 18])"
      ]
     },
     "execution_count": 3,
     "metadata": {},
     "output_type": "execute_result"
    }
   ],
   "source": [
    "a*b"
   ]
  },
  {
   "cell_type": "markdown",
   "id": "c8992ab0",
   "metadata": {},
   "source": [
    "# dot product"
   ]
  },
  {
   "cell_type": "code",
   "execution_count": 6,
   "id": "751984f6",
   "metadata": {},
   "outputs": [],
   "source": [
    "# traditional python code to find the dot product\n",
    "def dp(a,b):\n",
    "    sum=0\n",
    "    for i,j in zip(a,b):\n",
    "        sum=sum+i*j\n",
    "    print(sum)"
   ]
  },
  {
   "cell_type": "code",
   "execution_count": 7,
   "id": "6f07d597",
   "metadata": {},
   "outputs": [
    {
     "name": "stdout",
     "output_type": "stream",
     "text": [
      "32\n"
     ]
    }
   ],
   "source": [
    "dp(a,b)"
   ]
  },
  {
   "cell_type": "code",
   "execution_count": 9,
   "id": "2b0cd09a",
   "metadata": {},
   "outputs": [
    {
     "data": {
      "text/plain": [
       "32"
      ]
     },
     "execution_count": 9,
     "metadata": {},
     "output_type": "execute_result"
    }
   ],
   "source": [
    "# dot product for two vectors using numpy\n",
    "# see in one single line ,we performed the dot product.\n",
    "a.dot(b)"
   ]
  },
  {
   "cell_type": "code",
   "execution_count": 10,
   "id": "6c78bac0",
   "metadata": {},
   "outputs": [],
   "source": [
    "# here we will calculate the time taken to perform the dot product"
   ]
  },
  {
   "cell_type": "code",
   "execution_count": 14,
   "id": "811a31a3",
   "metadata": {},
   "outputs": [
    {
     "name": "stdout",
     "output_type": "stream",
     "text": [
      "32\n",
      "time taken is : 0:00:00\n"
     ]
    }
   ],
   "source": [
    "from datetime import datetime\n",
    "def dp(a,b):\n",
    "    sum=0\n",
    "    for i,j in zip(a,b):\n",
    "        sum=sum+i*j\n",
    "    print(sum)\n",
    "    \n",
    "before=datetime.now()\n",
    "dp(a,b)\n",
    "after=datetime.now()\n",
    "print(\"time taken is :\",after-before) # this will give very very less time in nano or micro seconds here."
   ]
  },
  {
   "cell_type": "code",
   "execution_count": 29,
   "id": "8d2a0dbe",
   "metadata": {},
   "outputs": [
    {
     "name": "stdout",
     "output_type": "stream",
     "text": [
      "time taken is : 0:00:03.801199\n"
     ]
    }
   ],
   "source": [
    "from datetime import datetime\n",
    "def dp(a,b):\n",
    "    sum=0\n",
    "    for i,j in zip(a,b):\n",
    "        sum=sum+i*j\n",
    "    #print(sum)\n",
    "    \n",
    "before=datetime.now()\n",
    "for i in range(1000000):\n",
    "    dp(a,b)\n",
    "after=datetime.now()\n",
    "print(\"time taken is :\",after-before)"
   ]
  },
  {
   "cell_type": "code",
   "execution_count": 31,
   "id": "eaa2ebf9",
   "metadata": {},
   "outputs": [
    {
     "name": "stdout",
     "output_type": "stream",
     "text": [
      "time taken is : 0:00:03.234021\n"
     ]
    }
   ],
   "source": [
    "# here we use numpy code for executing above code and we check the time taken for it.\n",
    "before=datetime.now()\n",
    "for i in range(1000000):\n",
    "    np.dot(a,b)\n",
    "after=datetime.now()\n",
    "print(\"time taken is :\",after-before) # this value will be less than the above value\n",
    "# so performance wise,numpy code is so much better and fast."
   ]
  },
  {
   "cell_type": "markdown",
   "id": "c0f8ea23",
   "metadata": {},
   "source": [
    "1. ARRAY is an indexed collection of homogeneous data elements .\n",
    "2. Bydefault arrays concept is not available in Python, instead we can use list.\n",
    "3. So to use arrays, we need Numpy.\n",
    "4. List and array ,both are not same."
   ]
  },
  {
   "cell_type": "code",
   "execution_count": 34,
   "id": "6bfb9a20",
   "metadata": {},
   "outputs": [],
   "source": [
    "# we can also represent the arrays using the array module.\n",
    "import array\n",
    "a=array.array(\"i\",[1,2,3,4]) # here i represents the int type array."
   ]
  },
  {
   "cell_type": "code",
   "execution_count": 35,
   "id": "e19ea230",
   "metadata": {},
   "outputs": [
    {
     "data": {
      "text/plain": [
       "array('i', [1, 2, 3, 4])"
      ]
     },
     "execution_count": 35,
     "metadata": {},
     "output_type": "execute_result"
    }
   ],
   "source": [
    "a"
   ]
  },
  {
   "cell_type": "code",
   "execution_count": 37,
   "id": "4c12dbaf",
   "metadata": {},
   "outputs": [],
   "source": [
    "# we won't use array module since we cannot expect much library support from it."
   ]
  },
  {
   "cell_type": "markdown",
   "id": "656b89e7",
   "metadata": {},
   "source": [
    "# Similarities between Python List and Numpy Array:"
   ]
  },
  {
   "cell_type": "markdown",
   "id": "848bb5ab",
   "metadata": {},
   "source": [
    "1. Both can be used to store the data.\n",
    "2. The order will be prrserved in both types. Hence we can access the elements using index.\n",
    "3. Slicing is also applicable for both.\n",
    "4. Both are mutable,i.e, once we create list or array we can change its elements.\n"
   ]
  },
  {
   "cell_type": "markdown",
   "id": "5c38e6b4",
   "metadata": {},
   "source": [
    "# Differences between Python List and Numpy Array:"
   ]
  },
  {
   "cell_type": "markdown",
   "id": "098f7177",
   "metadata": {},
   "source": [
    "1. List is inbuilt datatype but numpy array is not inbuilt. To use numpy arrays,we have to install and import numpy library explicitly.\n",
    "2. Lists can hold heterogeneous elements whereas arrays can store only homogeneous elements.\n",
    "3. On arrays we can perform vector operations( the operations which can be operated on every element of the array). But we cannot perform vector operations on list.\n",
    "4. Arrays consume less memory compared to lists.\n",
    "5. Arrays are superfast when compared with list.\n",
    "6. Numpy arrays are more convenient to use to perform mathematical complex operations."
   ]
  },
  {
   "cell_type": "code",
   "execution_count": 38,
   "id": "4569ec98",
   "metadata": {},
   "outputs": [],
   "source": [
    "a=np.array([10,20,30])"
   ]
  },
  {
   "cell_type": "code",
   "execution_count": 39,
   "id": "8393cea8",
   "metadata": {},
   "outputs": [
    {
     "name": "stdout",
     "output_type": "stream",
     "text": [
      "[10 20 30]\n"
     ]
    }
   ],
   "source": [
    "print(a)"
   ]
  },
  {
   "cell_type": "code",
   "execution_count": 41,
   "id": "c63e17f0",
   "metadata": {},
   "outputs": [
    {
     "data": {
      "text/plain": [
       "array([11, 21, 31])"
      ]
     },
     "execution_count": 41,
     "metadata": {},
     "output_type": "execute_result"
    }
   ],
   "source": [
    "a+1 # we cannot use this operation on the list."
   ]
  },
  {
   "cell_type": "code",
   "execution_count": 43,
   "id": "0dce1068",
   "metadata": {},
   "outputs": [
    {
     "data": {
      "text/plain": [
       "array([ 5., 10., 15.])"
      ]
     },
     "execution_count": 43,
     "metadata": {},
     "output_type": "execute_result"
    }
   ],
   "source": [
    "a/2 # on every element the operation is getting performed."
   ]
  },
  {
   "cell_type": "code",
   "execution_count": 45,
   "id": "9553163c",
   "metadata": {},
   "outputs": [
    {
     "name": "stdout",
     "output_type": "stream",
     "text": [
      "[1, 2, 3, 4, 5]\n",
      "[1 2 3 4 5]\n"
     ]
    }
   ],
   "source": [
    "l=[1,2,3,4,5]\n",
    "a=np.array(l)\n",
    "print(l)\n",
    "print(a)"
   ]
  },
  {
   "cell_type": "code",
   "execution_count": 47,
   "id": "6a4c4761",
   "metadata": {},
   "outputs": [
    {
     "name": "stdout",
     "output_type": "stream",
     "text": [
      "120\n",
      "20\n"
     ]
    }
   ],
   "source": [
    "import sys\n",
    "print(sys.getsizeof(l))\n",
    "print(a.nbytes)"
   ]
  },
  {
   "cell_type": "code",
   "execution_count": 52,
   "id": "c75324ab",
   "metadata": {},
   "outputs": [
    {
     "data": {
      "text/plain": [
       "120"
      ]
     },
     "execution_count": 52,
     "metadata": {},
     "output_type": "execute_result"
    }
   ],
   "source": [
    "sys.getsizeof(l)"
   ]
  },
  {
   "cell_type": "markdown",
   "id": "d0ee32af",
   "metadata": {},
   "source": [
    "# lec 3\n",
    "## Numpy Indexing"
   ]
  },
  {
   "cell_type": "code",
   "execution_count": 53,
   "id": "6bdebfff",
   "metadata": {},
   "outputs": [],
   "source": [
    "# itemsize: the size of each array element in bytes."
   ]
  },
  {
   "cell_type": "code",
   "execution_count": 54,
   "id": "e08487d5",
   "metadata": {},
   "outputs": [
    {
     "data": {
      "text/plain": [
       "array([1, 2, 3, 4, 5])"
      ]
     },
     "execution_count": 54,
     "metadata": {},
     "output_type": "execute_result"
    }
   ],
   "source": [
    "a"
   ]
  },
  {
   "cell_type": "code",
   "execution_count": 56,
   "id": "fce31d87",
   "metadata": {},
   "outputs": [
    {
     "data": {
      "text/plain": [
       "(5,)"
      ]
     },
     "execution_count": 56,
     "metadata": {},
     "output_type": "execute_result"
    }
   ],
   "source": [
    "a.shape # don't say here shape as 1*5 since it is not a 2D array.\n",
    "# if it is 2D array then we can say it has shape(1,5)"
   ]
  },
  {
   "cell_type": "code",
   "execution_count": 57,
   "id": "fb9dea0a",
   "metadata": {},
   "outputs": [],
   "source": [
    "# if shape result is (6,), then that array has 1D with six elements in it."
   ]
  },
  {
   "cell_type": "markdown",
   "id": "12605bfb",
   "metadata": {},
   "source": [
    "# Data types in Numpy"
   ]
  },
  {
   "cell_type": "raw",
   "id": "0bff7e62",
   "metadata": {},
   "source": [
    "In Python, we have data types like int,float,bool,str etc.\n",
    "But,Numpy has some extra data types in addition to these types.\n",
    "\n",
    "We can represent these data types by using a single character also.\n",
    "\n",
    "1. i--> integer(int8,int16,int32,int64)\n",
    "2. b--> boolean\n",
    "3. u--> unsigned integer(uint8,uint16,uint32,uint64)\n",
    "4. f--> float(float16.float32,float64)\n",
    "5. c--> complex(complex64,complex128)\n",
    "6. s--> string\n",
    "7. U--> Unicode string\n",
    "8. M--> datetime.\n",
    "\n",
    "a. by default,int means int32 and float means float64.\n",
    "\n",
    "1.int8:\n",
    "   The values will be represented by using 8 bits.\n",
    "   The range of values: -128 to 127.\n",
    "   If the array values lies in the above range, then we can mention dtype as int8 ,so that we can save lot of memory.\n",
    "   "
   ]
  },
  {
   "cell_type": "raw",
   "id": "e0b7fe88",
   "metadata": {},
   "source": [
    "2.int16:\n",
    "   The values will be represented by using 16 bits.\n",
    "   The range of values: -32678 to 32767.\n",
    "   If the array values lies in the above range, then we can mention dtype as int16 ,so that we can save lot of memory."
   ]
  },
  {
   "cell_type": "raw",
   "id": "61433b49",
   "metadata": {},
   "source": [
    "# similarly for higher values, we can use int32 and int64"
   ]
  },
  {
   "cell_type": "code",
   "execution_count": 59,
   "id": "8b79cef7",
   "metadata": {},
   "outputs": [
    {
     "data": {
      "text/plain": [
       "dtype('int64')"
      ]
     },
     "execution_count": 59,
     "metadata": {},
     "output_type": "execute_result"
    }
   ],
   "source": [
    "a=np.array([1,2,3,4,5],dtype='i8')\n",
    "# here i8 means not int 8 it means integer value with 8 bytes\n",
    "a.dtype"
   ]
  },
  {
   "cell_type": "code",
   "execution_count": 60,
   "id": "f95d5850",
   "metadata": {},
   "outputs": [],
   "source": [
    "b=np.array([1,2,3,4,5],dtype='int8')"
   ]
  },
  {
   "cell_type": "code",
   "execution_count": 61,
   "id": "830c065c",
   "metadata": {},
   "outputs": [
    {
     "data": {
      "text/plain": [
       "dtype('int8')"
      ]
     },
     "execution_count": 61,
     "metadata": {},
     "output_type": "execute_result"
    }
   ],
   "source": [
    "b.dtype"
   ]
  },
  {
   "cell_type": "code",
   "execution_count": 67,
   "id": "7130daae",
   "metadata": {},
   "outputs": [],
   "source": [
    "c=np.array([1,2,3,4,5],dtype=int) # here we will get the default value."
   ]
  },
  {
   "cell_type": "code",
   "execution_count": 68,
   "id": "52258cdd",
   "metadata": {},
   "outputs": [
    {
     "data": {
      "text/plain": [
       "dtype('int32')"
      ]
     },
     "execution_count": 68,
     "metadata": {},
     "output_type": "execute_result"
    }
   ],
   "source": [
    "c.dtype"
   ]
  },
  {
   "cell_type": "code",
   "execution_count": 69,
   "id": "3fb18203",
   "metadata": {},
   "outputs": [],
   "source": [
    "c=np.array([1,2,3,4,5],dtype='i')"
   ]
  },
  {
   "cell_type": "code",
   "execution_count": 70,
   "id": "f01b110a",
   "metadata": {},
   "outputs": [
    {
     "data": {
      "text/plain": [
       "dtype('int32')"
      ]
     },
     "execution_count": 70,
     "metadata": {},
     "output_type": "execute_result"
    }
   ],
   "source": [
    "c.dtype"
   ]
  },
  {
   "cell_type": "code",
   "execution_count": 71,
   "id": "e621c586",
   "metadata": {},
   "outputs": [
    {
     "data": {
      "text/plain": [
       "array([1, 2, 3, 4, 5], dtype=int32)"
      ]
     },
     "execution_count": 71,
     "metadata": {},
     "output_type": "execute_result"
    }
   ],
   "source": [
    "c"
   ]
  },
  {
   "cell_type": "code",
   "execution_count": 72,
   "id": "8f2bd282",
   "metadata": {},
   "outputs": [
    {
     "data": {
      "text/plain": [
       "array([1., 2., 3., 4., 5.])"
      ]
     },
     "execution_count": 72,
     "metadata": {},
     "output_type": "execute_result"
    }
   ],
   "source": [
    "c.astype('float')"
   ]
  },
  {
   "cell_type": "code",
   "execution_count": 74,
   "id": "4073f1a9",
   "metadata": {},
   "outputs": [],
   "source": [
    "# we can also convert it using one more way here.\n",
    "c1=np.float64(a)"
   ]
  },
  {
   "cell_type": "code",
   "execution_count": 75,
   "id": "fc43215e",
   "metadata": {},
   "outputs": [
    {
     "data": {
      "text/plain": [
       "array([1., 2., 3., 4., 5.])"
      ]
     },
     "execution_count": 75,
     "metadata": {},
     "output_type": "execute_result"
    }
   ],
   "source": [
    "c1"
   ]
  },
  {
   "cell_type": "code",
   "execution_count": 76,
   "id": "5371ac48",
   "metadata": {},
   "outputs": [],
   "source": [
    "x=np.bool_(a)"
   ]
  },
  {
   "cell_type": "code",
   "execution_count": 77,
   "id": "ac1a4371",
   "metadata": {},
   "outputs": [
    {
     "data": {
      "text/plain": [
       "array([ True,  True,  True,  True,  True])"
      ]
     },
     "execution_count": 77,
     "metadata": {},
     "output_type": "execute_result"
    }
   ],
   "source": [
    "x"
   ]
  },
  {
   "cell_type": "markdown",
   "id": "67111d7f",
   "metadata": {},
   "source": [
    "# lec 4\n",
    "## Numpy Slicing"
   ]
  },
  {
   "cell_type": "markdown",
   "id": "7649b077",
   "metadata": {},
   "source": [
    "1. If the step value is negative,we have to consider elements from begin to end+1 in backward direction.(right to left)\n"
   ]
  },
  {
   "cell_type": "code",
   "execution_count": 64,
   "id": "266e3f08",
   "metadata": {},
   "outputs": [],
   "source": [
    "ar1=np.array([4,5,6,7,9,4,3,22,2,5,6,7])"
   ]
  },
  {
   "cell_type": "code",
   "execution_count": 65,
   "id": "8e2cb290",
   "metadata": {},
   "outputs": [
    {
     "data": {
      "text/plain": [
       "array([4, 5, 6, 7, 9, 4])"
      ]
     },
     "execution_count": 65,
     "metadata": {},
     "output_type": "execute_result"
    }
   ],
   "source": [
    "ar1[0:6]"
   ]
  },
  {
   "cell_type": "code",
   "execution_count": 66,
   "id": "02605f53",
   "metadata": {},
   "outputs": [
    {
     "data": {
      "text/plain": [
       "array([4, 9, 7, 6])"
      ]
     },
     "execution_count": 66,
     "metadata": {},
     "output_type": "execute_result"
    }
   ],
   "source": [
    "ar1[5:1:-1] # begin to end +1 means 5 to 2 5 4 3 2 indexes elements "
   ]
  },
  {
   "cell_type": "code",
   "execution_count": 68,
   "id": "3d0718f9",
   "metadata": {},
   "outputs": [
    {
     "data": {
      "text/plain": [
       "array([6, 2])"
      ]
     },
     "execution_count": 68,
     "metadata": {},
     "output_type": "execute_result"
    }
   ],
   "source": [
    "ar1[-2:-6:-2] # begin to end+1 which means from -2 to -5 and in it select every second element"
   ]
  },
  {
   "cell_type": "code",
   "execution_count": 70,
   "id": "4ac71f1b",
   "metadata": {},
   "outputs": [
    {
     "data": {
      "text/plain": [
       "array([ 6,  5,  2, 22])"
      ]
     },
     "execution_count": 70,
     "metadata": {},
     "output_type": "execute_result"
    }
   ],
   "source": [
    "ar1[-2:-6:-1] "
   ]
  },
  {
   "cell_type": "markdown",
   "id": "a8e1f668",
   "metadata": {},
   "source": [
    "1. In forward direction, of end value is 0, then result is always empty.\n",
    "2. In backward direction, if end value is -1, then result  is always empty."
   ]
  },
  {
   "cell_type": "code",
   "execution_count": 71,
   "id": "75559dad",
   "metadata": {},
   "outputs": [
    {
     "data": {
      "text/plain": [
       "array([], dtype=int32)"
      ]
     },
     "execution_count": 71,
     "metadata": {},
     "output_type": "execute_result"
    }
   ],
   "source": [
    "ar1[5:0]"
   ]
  },
  {
   "cell_type": "code",
   "execution_count": 73,
   "id": "09f3e3ed",
   "metadata": {},
   "outputs": [
    {
     "data": {
      "text/plain": [
       "array([], dtype=int32)"
      ]
     },
     "execution_count": 73,
     "metadata": {},
     "output_type": "execute_result"
    }
   ],
   "source": [
    "ar1[-2:-1:-1]"
   ]
  },
  {
   "cell_type": "code",
   "execution_count": 75,
   "id": "b20ff375",
   "metadata": {},
   "outputs": [
    {
     "data": {
      "text/plain": [
       "array([ 7,  6,  5,  2, 22,  3,  4,  9,  7,  6,  5,  4])"
      ]
     },
     "execution_count": 75,
     "metadata": {},
     "output_type": "execute_result"
    }
   ],
   "source": [
    "ar1[::-1] # reverse of the array."
   ]
  },
  {
   "cell_type": "code",
   "execution_count": 76,
   "id": "ecf7b970",
   "metadata": {},
   "outputs": [
    {
     "name": "stdout",
     "output_type": "stream",
     "text": [
      "[[ 1  2  3  4]\n",
      " [ 5  6  7  8]\n",
      " [ 9 10 11 12]\n",
      " [13 14 15 16]]\n"
     ]
    }
   ],
   "source": [
    "ar2=np.arange(1,17).reshape(4,4)\n",
    "print(ar2)"
   ]
  },
  {
   "cell_type": "code",
   "execution_count": 77,
   "id": "3cddadd6",
   "metadata": {},
   "outputs": [
    {
     "data": {
      "text/plain": [
       "array([[ 6,  7],\n",
       "       [10, 11]])"
      ]
     },
     "execution_count": 77,
     "metadata": {},
     "output_type": "execute_result"
    }
   ],
   "source": [
    "# select 6 7\n",
    "    #   10 11\n",
    "    \n",
    "ar2[1:3,1:3]"
   ]
  },
  {
   "cell_type": "code",
   "execution_count": 78,
   "id": "baf21c72",
   "metadata": {},
   "outputs": [],
   "source": [
    "# select 5 8\n",
    " #       9 12 "
   ]
  },
  {
   "cell_type": "code",
   "execution_count": 80,
   "id": "d567d9c2",
   "metadata": {},
   "outputs": [
    {
     "data": {
      "text/plain": [
       "array([[ 5,  8],\n",
       "       [ 9, 12]])"
      ]
     },
     "execution_count": 80,
     "metadata": {},
     "output_type": "execute_result"
    }
   ],
   "source": [
    "ar2[1:3,0::3] # step size for column should be 3"
   ]
  },
  {
   "cell_type": "raw",
   "id": "95a899fc",
   "metadata": {},
   "source": [
    "select  1  4\n",
    "        13 16 "
   ]
  },
  {
   "cell_type": "code",
   "execution_count": 81,
   "id": "d84932e0",
   "metadata": {},
   "outputs": [
    {
     "data": {
      "text/plain": [
       "array([[ 1,  4],\n",
       "       [13, 16]])"
      ]
     },
     "execution_count": 81,
     "metadata": {},
     "output_type": "execute_result"
    }
   ],
   "source": [
    "ar2[::3,::3]"
   ]
  },
  {
   "cell_type": "raw",
   "id": "d4a29128",
   "metadata": {},
   "source": [
    "Syntax for 3D elements:\n",
    "    array[[indexes of 2d array] ,[row indexes],[column indexes]]"
   ]
  },
  {
   "cell_type": "code",
   "execution_count": 82,
   "id": "0b2285f7",
   "metadata": {},
   "outputs": [
    {
     "name": "stdout",
     "output_type": "stream",
     "text": [
      "[[[ 1  2  3  4]\n",
      "  [ 5  6  7  8]\n",
      "  [ 9 10 11 12]]\n",
      "\n",
      " [[13 14 15 16]\n",
      "  [17 18 19 20]\n",
      "  [21 22 23 24]]]\n",
      "3\n",
      "(2, 3, 4)\n"
     ]
    }
   ],
   "source": [
    "l2=np.arange(1,25).reshape(2,3,4)\n",
    "print(l2)\n",
    "print(l2.ndim)\n",
    "print(l2.shape)"
   ]
  },
  {
   "cell_type": "code",
   "execution_count": 83,
   "id": "eb6fa645",
   "metadata": {},
   "outputs": [
    {
     "data": {
      "text/plain": [
       "array([[[ 1],\n",
       "        [ 5],\n",
       "        [ 9]],\n",
       "\n",
       "       [[13],\n",
       "        [17],\n",
       "        [21]]])"
      ]
     },
     "execution_count": 83,
     "metadata": {},
     "output_type": "execute_result"
    }
   ],
   "source": [
    "l2[:,:,:1]"
   ]
  },
  {
   "cell_type": "code",
   "execution_count": 85,
   "id": "dec9eff0",
   "metadata": {},
   "outputs": [
    {
     "data": {
      "text/plain": [
       "array([[[ 9, 10, 11, 12]],\n",
       "\n",
       "       [[21, 22, 23, 24]]])"
      ]
     },
     "execution_count": 85,
     "metadata": {},
     "output_type": "execute_result"
    }
   ],
   "source": [
    "l2[:,2:,:]"
   ]
  },
  {
   "cell_type": "code",
   "execution_count": 87,
   "id": "75cd3f04",
   "metadata": {},
   "outputs": [
    {
     "data": {
      "text/plain": [
       "array([[[10, 11]],\n",
       "\n",
       "       [[22, 23]]])"
      ]
     },
     "execution_count": 87,
     "metadata": {},
     "output_type": "execute_result"
    }
   ],
   "source": [
    "l2[:,2:,1:3]"
   ]
  },
  {
   "cell_type": "code",
   "execution_count": 88,
   "id": "0c8bc56d",
   "metadata": {},
   "outputs": [
    {
     "data": {
      "text/plain": [
       "array([[[1, 2, 3, 4]]])"
      ]
     },
     "execution_count": 88,
     "metadata": {},
     "output_type": "execute_result"
    }
   ],
   "source": [
    "l2[:1,:1,:]"
   ]
  },
  {
   "cell_type": "code",
   "execution_count": 92,
   "id": "0ac07896",
   "metadata": {},
   "outputs": [
    {
     "data": {
      "text/plain": [
       "array([[13, 14, 15, 16],\n",
       "       [17, 18, 19, 20],\n",
       "       [21, 22, 23, 24]])"
      ]
     },
     "execution_count": 92,
     "metadata": {},
     "output_type": "execute_result"
    }
   ],
   "source": [
    "# # if we use 1 index directly,then we won't get 3d array and we will get 2D array here \n",
    "l2[1]"
   ]
  },
  {
   "cell_type": "code",
   "execution_count": 90,
   "id": "f64a743d",
   "metadata": {},
   "outputs": [
    {
     "data": {
      "text/plain": [
       "array([13, 14, 15, 16])"
      ]
     },
     "execution_count": 90,
     "metadata": {},
     "output_type": "execute_result"
    }
   ],
   "source": [
    "l2[1,0] # if we use two indexes directly,then we won't get 3d array and we will get 1D array here "
   ]
  },
  {
   "cell_type": "markdown",
   "id": "63e3cbd8",
   "metadata": {},
   "source": [
    "# lec 5\n",
    "##  Numpy Advanced Indexing"
   ]
  },
  {
   "cell_type": "markdown",
   "id": "5f79c752",
   "metadata": {},
   "source": [
    "1. By using slice operator,we can access multiple elements but should be in order.\n",
    "2. for 1D slicing: array[begin:end:step]\n",
    "2. for 2D slicing: array[begin:end:step,begin:end:step]\n",
    "3. for 3D slicing: array[begin:end:step,begin:end:step,begin:end:step]"
   ]
  },
  {
   "cell_type": "raw",
   "id": "858d3cca",
   "metadata": {},
   "source": [
    "If we want to access  multiple elements which are not in order(arbitrary elements) or if we want to access elements based on some condition then we cannot basic indexing and slicing operators. For this requirement we should go for Advanced Indexing."
   ]
  },
  {
   "cell_type": "raw",
   "id": "018d2b5f",
   "metadata": {},
   "source": [
    "Acceesing Multiple arbitrary elements:\n",
    "    \n",
    "    Syntax: array[x] # where x is a list or tuple which contains all the indexes.\n",
    "        --> x represents either nd array or sequence like list, which represents the required indexes.\n",
    "        \n",
    "        Accessing elements of 1D array\n",
    "    \n",
    "   1st way: Create an nd array with required indexes and then by passing that array as argument, we can access corresponding elements.\n",
    "   \n",
    "   indexes=np.array([0,2,7])\n",
    "   print(a[indexes]\n",
    "   \n",
    "   2nd way: without using any nd array we can also access the arbitrary elements.\n",
    "    Create a list with required indexes and then by passing that list as argument, we can access corresponding elements.\n",
    "   "
   ]
  },
  {
   "cell_type": "code",
   "execution_count": 2,
   "id": "c612ac7e",
   "metadata": {},
   "outputs": [
    {
     "name": "stdout",
     "output_type": "stream",
     "text": [
      "[1 3 8]\n"
     ]
    }
   ],
   "source": [
    "import numpy as np\n",
    "a=np.array([1,2,3,4,5,7,8,8,4,5,63,2,2])\n",
    "indexes=np.array([0,2,7])\n",
    "print(a[indexes])"
   ]
  },
  {
   "cell_type": "code",
   "execution_count": 7,
   "id": "3ff82ba4",
   "metadata": {},
   "outputs": [
    {
     "data": {
      "text/plain": [
       "array([1, 3, 8])"
      ]
     },
     "execution_count": 7,
     "metadata": {},
     "output_type": "execute_result"
    }
   ],
   "source": [
    "a[[0,2,7]] # this process only applicable for the arrays not lists.\n",
    "# my assumption  of understanding here.\n",
    "# here we given two squarebrackets which means go into the first array and give the corresponding index elements. "
   ]
  },
  {
   "cell_type": "code",
   "execution_count": 8,
   "id": "9838336a",
   "metadata": {},
   "outputs": [
    {
     "data": {
      "text/plain": [
       "array([2, 3, 5, 7, 8, 4, 2, 3])"
      ]
     },
     "execution_count": 8,
     "metadata": {},
     "output_type": "execute_result"
    }
   ],
   "source": [
    "# here we can access same element multiple times.\n",
    "a[[1,2,4,5,6,3,1,2]]"
   ]
  },
  {
   "cell_type": "markdown",
   "id": "b69d2aba",
   "metadata": {},
   "source": [
    "# Accessing elements of 2D array"
   ]
  },
  {
   "cell_type": "code",
   "execution_count": 10,
   "id": "0c1c07bd",
   "metadata": {},
   "outputs": [
    {
     "name": "stdout",
     "output_type": "stream",
     "text": [
      "[[ 1  2  3  4]\n",
      " [ 5  6  7  8]\n",
      " [ 9 10 11 12]\n",
      " [13 14 15 16]]\n",
      "2\n",
      "(4, 4)\n"
     ]
    }
   ],
   "source": [
    "l1=np.arange(1,17).reshape(4,4)\n",
    "print(l1)\n",
    "print(l1.ndim)\n",
    "print(l1.shape)"
   ]
  },
  {
   "cell_type": "raw",
   "id": "d18c1254",
   "metadata": {},
   "source": [
    "# here we will print the diagonal elements.\n",
    "Diagram:\n",
    "     Syntax:\n",
    "            a[[row_indexes],[columnn indexes]]\n",
    "              What are the row indexes u want and in that what are the columns u want to select.\n",
    "            a[[0,1,2,3],[0,1,2,3]]\n",
    "    The elements present are (0,0 ,(1,1),(2,2),(3,3)    \n",
    "    It will works as from zeroth row zeroth column  element\n",
    "                           first row  first column element \n",
    "                           second row  second column element\n",
    "                           third row   third column element\n",
    "                \n"
   ]
  },
  {
   "cell_type": "code",
   "execution_count": 17,
   "id": "df616152",
   "metadata": {},
   "outputs": [
    {
     "data": {
      "text/plain": [
       "array([ 1,  6, 11, 16])"
      ]
     },
     "execution_count": 17,
     "metadata": {},
     "output_type": "execute_result"
    }
   ],
   "source": [
    "l1[[0,1,2,3],[0,1,2,3]]"
   ]
  },
  {
   "cell_type": "code",
   "execution_count": 18,
   "id": "f33c2074",
   "metadata": {},
   "outputs": [
    {
     "data": {
      "text/plain": [
       "array([ 1,  7, 12, 14])"
      ]
     },
     "execution_count": 18,
     "metadata": {},
     "output_type": "execute_result"
    }
   ],
   "source": [
    "# print 1,7,12,14\n",
    "l1[[0,1,2,3],[0,2,3,1]]\n",
    "# see here we are not using any slicing since , these are arbitrary elements."
   ]
  },
  {
   "cell_type": "code",
   "execution_count": 20,
   "id": "4a09428f",
   "metadata": {},
   "outputs": [
    {
     "data": {
      "text/plain": [
       "array([ 5, 15])"
      ]
     },
     "execution_count": 20,
     "metadata": {},
     "output_type": "execute_result"
    }
   ],
   "source": [
    "# the elements present at (1,0),(3,2) will be selected.\n",
    "l1[[1,3],[0,2]]"
   ]
  },
  {
   "cell_type": "markdown",
   "id": "4d9c0e02",
   "metadata": {},
   "source": [
    "# Accessing elements of 3D array"
   ]
  },
  {
   "cell_type": "code",
   "execution_count": null,
   "id": "f8279566",
   "metadata": {},
   "outputs": [],
   "source": [
    "Syntax:\n",
    "    array[[indexes of 2d array] ,[row indexes],[column indexes]]"
   ]
  },
  {
   "cell_type": "code",
   "execution_count": 24,
   "id": "d243415e",
   "metadata": {},
   "outputs": [
    {
     "data": {
      "text/plain": [
       "array([ 8, 23,  5])"
      ]
     },
     "execution_count": 24,
     "metadata": {},
     "output_type": "execute_result"
    }
   ],
   "source": [
    "l2[[0,1,0],[1,2,1],[3,2,0]]\n",
    "\n",
    "# selects(0,1,3),(1,2,2) and (0,1,0)"
   ]
  },
  {
   "cell_type": "code",
   "execution_count": 27,
   "id": "fc2ae6ad",
   "metadata": {},
   "outputs": [
    {
     "name": "stdout",
     "output_type": "stream",
     "text": [
      "[[[ 1  2  3  4]\n",
      "  [ 5  6  7  8]\n",
      "  [ 9 10 11 12]]\n",
      "\n",
      " [[13 14 15 16]\n",
      "  [17 18 19 20]\n",
      "  [21 22 23 24]]]\n",
      "3\n",
      "(2, 3, 4)\n"
     ]
    }
   ],
   "source": [
    "l2=np.arange(1,25).reshape(2,3,4)\n",
    "print(l2)\n",
    "print(l2.ndim)\n",
    "print(l2.shape)"
   ]
  },
  {
   "cell_type": "code",
   "execution_count": 28,
   "id": "e7e6a02f",
   "metadata": {},
   "outputs": [
    {
     "data": {
      "text/plain": [
       "array([ 8, 23,  5])"
      ]
     },
     "execution_count": 28,
     "metadata": {},
     "output_type": "execute_result"
    }
   ],
   "source": [
    "l2[[0,1,0],[1,2,1],[3,2,0]]"
   ]
  },
  {
   "cell_type": "code",
   "execution_count": 32,
   "id": "b5aa103a",
   "metadata": {},
   "outputs": [
    {
     "data": {
      "text/plain": [
       "array([ 1,  6, 11,  7])"
      ]
     },
     "execution_count": 32,
     "metadata": {},
     "output_type": "execute_result"
    }
   ],
   "source": [
    "l2[[0,0,0,0],[0,1,2,1],[0,1,2,2]]"
   ]
  },
  {
   "cell_type": "markdown",
   "id": "3a8f7f4e",
   "metadata": {},
   "source": [
    "### how to select the elements based on some condition"
   ]
  },
  {
   "cell_type": "raw",
   "id": "d047b62d",
   "metadata": {},
   "source": [
    "Syntax:\n",
    "     array[boolean_array]:\n",
    "             this will select the elements wherever the condition is True."
   ]
  },
  {
   "cell_type": "code",
   "execution_count": 34,
   "id": "a2f0f9fd",
   "metadata": {},
   "outputs": [
    {
     "data": {
      "text/plain": [
       "array([ 1,  2,  3,  4,  5,  7,  8,  8,  4,  5, 63,  2,  2])"
      ]
     },
     "execution_count": 34,
     "metadata": {},
     "output_type": "execute_result"
    }
   ],
   "source": [
    "a"
   ]
  },
  {
   "cell_type": "code",
   "execution_count": 38,
   "id": "c6342c22",
   "metadata": {},
   "outputs": [
    {
     "data": {
      "text/plain": [
       "array([False, False, False, False, False,  True,  True,  True, False,\n",
       "       False,  True, False, False])"
      ]
     },
     "execution_count": 38,
     "metadata": {},
     "output_type": "execute_result"
    }
   ],
   "source": [
    "a>6"
   ]
  },
  {
   "cell_type": "code",
   "execution_count": 39,
   "id": "f5fbffc0",
   "metadata": {},
   "outputs": [
    {
     "data": {
      "text/plain": [
       "array([ 7,  8,  8, 63])"
      ]
     },
     "execution_count": 39,
     "metadata": {},
     "output_type": "execute_result"
    }
   ],
   "source": [
    "a[a>6]"
   ]
  },
  {
   "cell_type": "markdown",
   "id": "930c36d9",
   "metadata": {},
   "source": [
    "## slicing vs Advanced indexing"
   ]
  },
  {
   "cell_type": "raw",
   "id": "b6dd0f82",
   "metadata": {},
   "source": [
    "1. In the case of normal list, slice operator will create a new copy of the object.\n",
    "l1= [10,20,30,40]\n",
    "l2=l1[::]\n",
    "print(id(l1))\n",
    "print(id(l2))\n",
    "\n",
    "If we perform any changes in one copy, those changes won't be reflected in the original one."
   ]
  },
  {
   "cell_type": "code",
   "execution_count": 44,
   "id": "25b15bfa",
   "metadata": {},
   "outputs": [
    {
     "name": "stdout",
     "output_type": "stream",
     "text": [
      "2101472202304\n",
      "2101450250816\n"
     ]
    }
   ],
   "source": [
    "l1= [10,20,30,40]\n",
    "l2=l1[::] # to create a new copy ,we can use slicing this way also. # deep copy\n",
    "print(id(l1))\n",
    "print(id(l2))"
   ]
  },
  {
   "cell_type": "code",
   "execution_count": 45,
   "id": "96d8c5b3",
   "metadata": {},
   "outputs": [
    {
     "name": "stdout",
     "output_type": "stream",
     "text": [
      "2101472202304\n",
      "2101472202304\n"
     ]
    }
   ],
   "source": [
    "l3=l1 # without slicing we done here. so both have same reference. # shallow copy\n",
    "print(id(l1))\n",
    "print(id(l3))"
   ]
  },
  {
   "cell_type": "raw",
   "id": "3ef3afc0",
   "metadata": {},
   "source": [
    "But in the case of numpy array, a new copy won't be created and just we are getting view of the existing nd array. # since it has contigous memory.\n",
    "If we perform any changes in the original array, those changes will be reflected in the sliced copy."
   ]
  },
  {
   "cell_type": "code",
   "execution_count": 52,
   "id": "e39efd16",
   "metadata": {},
   "outputs": [
    {
     "name": "stdout",
     "output_type": "stream",
     "text": [
      "[1 2 3 4 5 6 7 4 3 3]\n",
      "[1 2 3 4]\n"
     ]
    }
   ],
   "source": [
    "a1=np.array([1,2,3,4,5,6,7,4,3,3])\n",
    "a2=a1[0:4] # like view() works here.\n",
    "print(a1)\n",
    "print(a2)"
   ]
  },
  {
   "cell_type": "code",
   "execution_count": 53,
   "id": "6dabe89c",
   "metadata": {},
   "outputs": [
    {
     "name": "stdout",
     "output_type": "stream",
     "text": [
      "[88888     2     3     4     5     6     7     4     3     3]\n",
      "[88888     2     3     4]\n"
     ]
    }
   ],
   "source": [
    "a1[0]=88888\n",
    "print(a1)\n",
    "print(a2) # see the change is reflecting in the a2 also."
   ]
  },
  {
   "cell_type": "markdown",
   "id": "8f9cf5e0",
   "metadata": {},
   "source": [
    " ### But in the case of the advanced indexing, a new copy will be created."
   ]
  },
  {
   "cell_type": "raw",
   "id": "af046763",
   "metadata": {},
   "source": [
    "If we perform any changes in one copy, those changes won't be reflected in other."
   ]
  },
  {
   "cell_type": "code",
   "execution_count": 57,
   "id": "e44f1936",
   "metadata": {},
   "outputs": [],
   "source": [
    "import numpy as np\n",
    "a1=np.array([1,2,3,4,5,7,8,8,4,5,63,2,2])\n",
    "a2=a1[[0,2,6,8]]\n"
   ]
  },
  {
   "cell_type": "code",
   "execution_count": 58,
   "id": "41eac402",
   "metadata": {},
   "outputs": [
    {
     "name": "stdout",
     "output_type": "stream",
     "text": [
      "[ 1  2  3  4  5  7  8  8  4  5 63  2  2]\n",
      "[1 3 8 4]\n"
     ]
    }
   ],
   "source": [
    "print(a1)\n",
    "print(a2)"
   ]
  },
  {
   "cell_type": "code",
   "execution_count": 59,
   "id": "5e7a4c23",
   "metadata": {},
   "outputs": [],
   "source": [
    "a1[0]=900"
   ]
  },
  {
   "cell_type": "code",
   "execution_count": 60,
   "id": "117c987c",
   "metadata": {},
   "outputs": [
    {
     "name": "stdout",
     "output_type": "stream",
     "text": [
      "[900   2   3   4   5   7   8   8   4   5  63   2   2]\n",
      "[1 3 8 4]\n"
     ]
    }
   ],
   "source": [
    "print(a1)\n",
    "print(a2)"
   ]
  },
  {
   "cell_type": "raw",
   "id": "6049018d",
   "metadata": {},
   "source": [
    "Slicing:\n",
    "    Elements should be ordered.\n",
    "    Condition based selection not possible.\n",
    "    In numpy slicing, we won't get a new object ,we will get the view of the original array.\n",
    "    \n",
    "Advanced Indexing:\n",
    "    Elements need not to be ordered.\n",
    "    Condition based selection is possible.\n",
    "    In Advanced indexing, we will get a new object ,we will get the copy of the original array."
   ]
  },
  {
   "cell_type": "code",
   "execution_count": null,
   "id": "143cf227",
   "metadata": {},
   "outputs": [],
   "source": [
    "# lec 6\n",
    "## go through the notes once."
   ]
  }
 ],
 "metadata": {
  "kernelspec": {
   "display_name": "Python 3 (ipykernel)",
   "language": "python",
   "name": "python3"
  },
  "language_info": {
   "codemirror_mode": {
    "name": "ipython",
    "version": 3
   },
   "file_extension": ".py",
   "mimetype": "text/x-python",
   "name": "python",
   "nbconvert_exporter": "python",
   "pygments_lexer": "ipython3",
   "version": "3.9.13"
  }
 },
 "nbformat": 4,
 "nbformat_minor": 5
}

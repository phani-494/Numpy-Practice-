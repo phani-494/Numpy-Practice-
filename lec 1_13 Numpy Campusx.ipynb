{
 "cells": [
  {
   "cell_type": "markdown",
   "id": "fc123a4a",
   "metadata": {},
   "source": [
    "# lec 1\n",
    "## Introduction to Numpy"
   ]
  },
  {
   "cell_type": "markdown",
   "id": "187f1026",
   "metadata": {},
   "source": [
    "1. Numpy is a low level library written in C (and FORTRAN) for high level mathematical functions.\n",
    "2. Numpy cleverly overcomes the problem of running slower algorithms on python by using multidimensional arrays and functions that operate on arrays.\n",
    "3. Any algorithm can then be expressed as a function on arrays,allowing the algorithms to be run quickly."
   ]
  },
  {
   "cell_type": "code",
   "execution_count": 2,
   "id": "60995e12",
   "metadata": {},
   "outputs": [],
   "source": [
    "# in python everything is written already where as in C language we need to write the code for every operation from scratch.\n",
    "# so python runs very slowly since so much already written code and it's abstraction levels.\n",
    "# speed of c and comfort of python coding makes this Numpy library as easy and efficient."
   ]
  },
  {
   "cell_type": "markdown",
   "id": "827b5166",
   "metadata": {},
   "source": [
    "# Applications of Numpy:\n",
    " 1. a powerful N-dimensional array object.[Homogeneous,only be numbers(number,float,complex),fixed item size]\n",
    " 2. sophisticated (broadcasting functions)\n",
    " 3. tools for integrating C/C++ and Fortran code.\n",
    " 4. useful in linear algebra,Fourier transforms,and random number capabilities.\n",
    " "
   ]
  },
  {
   "cell_type": "code",
   "execution_count": 4,
   "id": "3798f4d3",
   "metadata": {},
   "outputs": [],
   "source": [
    "# it can also hold strings but we never used numpy that way."
   ]
  },
  {
   "cell_type": "markdown",
   "id": "a6c63f28",
   "metadata": {},
   "source": [
    "# lec 2\n",
    "## Numpy part 2 -Installing Jupyter Notebook"
   ]
  },
  {
   "cell_type": "markdown",
   "id": "2ad89d49",
   "metadata": {},
   "source": [
    "# lec 3\n",
    "## Numpy Part-3 Creating N-d arrays"
   ]
  },
  {
   "cell_type": "code",
   "execution_count": 7,
   "id": "e3aed816",
   "metadata": {},
   "outputs": [],
   "source": [
    "\n",
    "import numpy as np\n",
    "a=np.identity(5)"
   ]
  },
  {
   "cell_type": "code",
   "execution_count": 8,
   "id": "54e8675a",
   "metadata": {},
   "outputs": [
    {
     "data": {
      "text/plain": [
       "array([[1., 0., 0., 0., 0.],\n",
       "       [0., 1., 0., 0., 0.],\n",
       "       [0., 0., 1., 0., 0.],\n",
       "       [0., 0., 0., 1., 0.],\n",
       "       [0., 0., 0., 0., 1.]])"
      ]
     },
     "execution_count": 8,
     "metadata": {},
     "output_type": "execute_result"
    }
   ],
   "source": [
    "a"
   ]
  },
  {
   "cell_type": "code",
   "execution_count": 10,
   "id": "c5a57eca",
   "metadata": {},
   "outputs": [
    {
     "data": {
      "text/plain": [
       "array([[1, 0, 0],\n",
       "       [0, 2, 0],\n",
       "       [0, 0, 3]])"
      ]
     },
     "execution_count": 10,
     "metadata": {},
     "output_type": "execute_result"
    }
   ],
   "source": [
    "np.diag([1,2,3])"
   ]
  },
  {
   "cell_type": "code",
   "execution_count": 11,
   "id": "86f5430f",
   "metadata": {},
   "outputs": [],
   "source": [
    "a=np.identity(5,dtype=int)"
   ]
  },
  {
   "cell_type": "code",
   "execution_count": 13,
   "id": "e044005a",
   "metadata": {},
   "outputs": [
    {
     "name": "stdout",
     "output_type": "stream",
     "text": [
      "[[1 0 0 0 0]\n",
      " [0 1 0 0 0]\n",
      " [0 0 1 0 0]\n",
      " [0 0 0 1 0]\n",
      " [0 0 0 0 1]]\n"
     ]
    }
   ],
   "source": [
    "print(a)"
   ]
  },
  {
   "cell_type": "code",
   "execution_count": 14,
   "id": "15897626",
   "metadata": {},
   "outputs": [],
   "source": [
    "#arange means array range.\n",
    "b=np.arange(10)"
   ]
  },
  {
   "cell_type": "code",
   "execution_count": 15,
   "id": "1aa0d121",
   "metadata": {},
   "outputs": [
    {
     "name": "stdout",
     "output_type": "stream",
     "text": [
      "[0 1 2 3 4 5 6 7 8 9]\n"
     ]
    }
   ],
   "source": [
    "print(b)"
   ]
  },
  {
   "cell_type": "code",
   "execution_count": 16,
   "id": "fc34e148",
   "metadata": {},
   "outputs": [],
   "source": [
    "c=np.arange(5,16,2)"
   ]
  },
  {
   "cell_type": "code",
   "execution_count": 17,
   "id": "cea37c33",
   "metadata": {},
   "outputs": [
    {
     "data": {
      "text/plain": [
       "array([ 5,  7,  9, 11, 13, 15])"
      ]
     },
     "execution_count": 17,
     "metadata": {},
     "output_type": "execute_result"
    }
   ],
   "source": [
    "c"
   ]
  },
  {
   "cell_type": "code",
   "execution_count": 18,
   "id": "58788903",
   "metadata": {},
   "outputs": [],
   "source": [
    "# linspace means linearly spaced . equal distance should be present."
   ]
  },
  {
   "cell_type": "markdown",
   "id": "d78107d7",
   "metadata": {},
   "source": [
    "# lec 4\n",
    "## Numpy part-4 Some important Attributes"
   ]
  },
  {
   "cell_type": "code",
   "execution_count": 19,
   "id": "9d6d71e1",
   "metadata": {},
   "outputs": [],
   "source": [
    "# Numpy is basically a class and it has some important properties and Attributes."
   ]
  },
  {
   "cell_type": "code",
   "execution_count": 20,
   "id": "b473a6c5",
   "metadata": {},
   "outputs": [],
   "source": [
    "arr=np.array([[[1,2],[3,4]],[[3,4],[5,6]]])"
   ]
  },
  {
   "cell_type": "code",
   "execution_count": 21,
   "id": "177dd23e",
   "metadata": {},
   "outputs": [
    {
     "data": {
      "text/plain": [
       "(2, 2, 2)"
      ]
     },
     "execution_count": 21,
     "metadata": {},
     "output_type": "execute_result"
    }
   ],
   "source": [
    "arr.shape"
   ]
  },
  {
   "cell_type": "code",
   "execution_count": 24,
   "id": "b38f3587",
   "metadata": {},
   "outputs": [
    {
     "data": {
      "text/plain": [
       "3"
      ]
     },
     "execution_count": 24,
     "metadata": {},
     "output_type": "execute_result"
    }
   ],
   "source": [
    "arr.ndim # it is a 3D matrix."
   ]
  },
  {
   "cell_type": "code",
   "execution_count": 25,
   "id": "448e59c2",
   "metadata": {},
   "outputs": [
    {
     "data": {
      "text/plain": [
       "1"
      ]
     },
     "execution_count": 25,
     "metadata": {},
     "output_type": "execute_result"
    }
   ],
   "source": [
    "c.ndim"
   ]
  },
  {
   "cell_type": "code",
   "execution_count": 27,
   "id": "d91294f1",
   "metadata": {},
   "outputs": [
    {
     "data": {
      "text/plain": [
       "8"
      ]
     },
     "execution_count": 27,
     "metadata": {},
     "output_type": "execute_result"
    }
   ],
   "source": [
    "arr.size # total no of items"
   ]
  },
  {
   "cell_type": "code",
   "execution_count": 28,
   "id": "f32e617c",
   "metadata": {},
   "outputs": [
    {
     "data": {
      "text/plain": [
       "4"
      ]
     },
     "execution_count": 28,
     "metadata": {},
     "output_type": "execute_result"
    }
   ],
   "source": [
    "arr.itemsize # 4 bytes of memory occupied by each item.  int32 means 4 bytes."
   ]
  },
  {
   "cell_type": "code",
   "execution_count": 30,
   "id": "9d9c09c5",
   "metadata": {},
   "outputs": [
    {
     "data": {
      "text/plain": [
       "32"
      ]
     },
     "execution_count": 30,
     "metadata": {},
     "output_type": "execute_result"
    }
   ],
   "source": [
    "arr.nbytes # total 8 items and each item 4 bytes. so totally 32 bytes."
   ]
  },
  {
   "cell_type": "code",
   "execution_count": 31,
   "id": "bf7bce73",
   "metadata": {},
   "outputs": [],
   "source": [
    "a=np.identity(5)"
   ]
  },
  {
   "cell_type": "code",
   "execution_count": 33,
   "id": "809494fb",
   "metadata": {},
   "outputs": [
    {
     "data": {
      "text/plain": [
       "8"
      ]
     },
     "execution_count": 33,
     "metadata": {},
     "output_type": "execute_result"
    }
   ],
   "source": [
    "a.itemsize # since each item is float, so it takes 8 bytes for each item. float64"
   ]
  },
  {
   "cell_type": "code",
   "execution_count": 34,
   "id": "612ae8db",
   "metadata": {},
   "outputs": [
    {
     "data": {
      "text/plain": [
       "dtype('float64')"
      ]
     },
     "execution_count": 34,
     "metadata": {},
     "output_type": "execute_result"
    }
   ],
   "source": [
    "a.dtype"
   ]
  },
  {
   "cell_type": "code",
   "execution_count": 35,
   "id": "7463daba",
   "metadata": {},
   "outputs": [
    {
     "data": {
      "text/plain": [
       "dtype('int32')"
      ]
     },
     "execution_count": 35,
     "metadata": {},
     "output_type": "execute_result"
    }
   ],
   "source": [
    "arr.dtype"
   ]
  },
  {
   "cell_type": "code",
   "execution_count": 37,
   "id": "5fec91ed",
   "metadata": {},
   "outputs": [
    {
     "data": {
      "text/plain": [
       "array([[[1., 2.],\n",
       "        [3., 4.]],\n",
       "\n",
       "       [[3., 4.],\n",
       "        [5., 6.]]])"
      ]
     },
     "execution_count": 37,
     "metadata": {},
     "output_type": "execute_result"
    }
   ],
   "source": [
    "arr.astype('float') # we can convert one datatype to another type."
   ]
  },
  {
   "cell_type": "markdown",
   "id": "ab5ad4e9",
   "metadata": {},
   "source": [
    "# lec 5\n",
    "## Numpy Part-5 Python Lists vs Numpy Arrays"
   ]
  },
  {
   "cell_type": "markdown",
   "id": "ebd007ea",
   "metadata": {},
   "source": [
    "1. Numpy arrays are faster ,convenient and takes less memory.\n"
   ]
  },
  {
   "cell_type": "code",
   "execution_count": 39,
   "id": "dc212124",
   "metadata": {},
   "outputs": [],
   "source": [
    "list1=range(100)\n",
    "arr1=np.arange(100)\n"
   ]
  },
  {
   "cell_type": "code",
   "execution_count": 42,
   "id": "0be4a3f2",
   "metadata": {},
   "outputs": [
    {
     "name": "stdout",
     "output_type": "stream",
     "text": [
      "range(0, 100)\n"
     ]
    }
   ],
   "source": [
    "print(list1)"
   ]
  },
  {
   "cell_type": "code",
   "execution_count": 43,
   "id": "00c8fca7",
   "metadata": {},
   "outputs": [
    {
     "name": "stdout",
     "output_type": "stream",
     "text": [
      "[ 0  1  2  3  4  5  6  7  8  9 10 11 12 13 14 15 16 17 18 19 20 21 22 23\n",
      " 24 25 26 27 28 29 30 31 32 33 34 35 36 37 38 39 40 41 42 43 44 45 46 47\n",
      " 48 49 50 51 52 53 54 55 56 57 58 59 60 61 62 63 64 65 66 67 68 69 70 71\n",
      " 72 73 74 75 76 77 78 79 80 81 82 83 84 85 86 87 88 89 90 91 92 93 94 95\n",
      " 96 97 98 99]\n"
     ]
    }
   ],
   "source": [
    "print(arr1) # both contains same elements"
   ]
  },
  {
   "cell_type": "code",
   "execution_count": 46,
   "id": "4a6ac242",
   "metadata": {},
   "outputs": [
    {
     "name": "stdout",
     "output_type": "stream",
     "text": [
      "2800\n"
     ]
    }
   ],
   "source": [
    "# we need to find out the size of the total list\n",
    "# we need to import a sys module for it.\n",
    "import sys\n",
    "print(sys.getsizeof(6)*len(list1)) # in getsizeof(), we can give any element between 0 to 99 ."
   ]
  },
  {
   "cell_type": "code",
   "execution_count": 48,
   "id": "09f70a4c",
   "metadata": {},
   "outputs": [
    {
     "data": {
      "text/plain": [
       "400"
      ]
     },
     "execution_count": 48,
     "metadata": {},
     "output_type": "execute_result"
    }
   ],
   "source": [
    "arr1.nbytes # gives total memory occupied by the arr1"
   ]
  },
  {
   "cell_type": "code",
   "execution_count": 49,
   "id": "15e62b94",
   "metadata": {},
   "outputs": [
    {
     "data": {
      "text/plain": [
       "400"
      ]
     },
     "execution_count": 49,
     "metadata": {},
     "output_type": "execute_result"
    }
   ],
   "source": [
    "arr1.itemsize*arr1.size # we can also do this way "
   ]
  },
  {
   "cell_type": "code",
   "execution_count": 50,
   "id": "a2d5179b",
   "metadata": {},
   "outputs": [],
   "source": [
    "# see here the memory is so much saved using arrays."
   ]
  },
  {
   "cell_type": "code",
   "execution_count": 51,
   "id": "a7c60617",
   "metadata": {},
   "outputs": [],
   "source": [
    "import time\n"
   ]
  },
  {
   "cell_type": "code",
   "execution_count": 52,
   "id": "94b5bb55",
   "metadata": {},
   "outputs": [
    {
     "name": "stdout",
     "output_type": "stream",
     "text": [
      "0.007210969924926758\n"
     ]
    }
   ],
   "source": [
    "x=range(100000)\n",
    "y=range(100000,200000)\n",
    "start_time=time.time() # stores the current time\n",
    "c=[(x+y for x,y in zip(x,y))]\n",
    "print(time.time()-start_time)"
   ]
  },
  {
   "cell_type": "code",
   "execution_count": 55,
   "id": "6b7200fa",
   "metadata": {},
   "outputs": [
    {
     "name": "stdout",
     "output_type": "stream",
     "text": [
      "0.0010073184967041016\n"
     ]
    }
   ],
   "source": [
    "x=np.arange(100000)\n",
    "y=np.arange(100000,200000)\n",
    "start_time=time.time() # stores the current time\n",
    "c=[(x+y for x,y in zip(x,y))]\n",
    "print(time.time()-start_time)"
   ]
  },
  {
   "cell_type": "markdown",
   "id": "83242701",
   "metadata": {},
   "source": [
    "# lec 6\n",
    "## Numpy part6-Indexing slicing and iteration"
   ]
  },
  {
   "cell_type": "code",
   "execution_count": 1,
   "id": "33268e7b",
   "metadata": {},
   "outputs": [],
   "source": [
    "import numpy as np\n",
    "a=np.arange(16).reshape(4,4)"
   ]
  },
  {
   "cell_type": "code",
   "execution_count": 2,
   "id": "b6fa3cec",
   "metadata": {},
   "outputs": [
    {
     "name": "stdout",
     "output_type": "stream",
     "text": [
      "[[ 0  1  2  3]\n",
      " [ 4  5  6  7]\n",
      " [ 8  9 10 11]\n",
      " [12 13 14 15]]\n"
     ]
    }
   ],
   "source": [
    "print(a)"
   ]
  },
  {
   "cell_type": "code",
   "execution_count": 4,
   "id": "600a3345",
   "metadata": {},
   "outputs": [
    {
     "name": "stdout",
     "output_type": "stream",
     "text": [
      "[12 13 14 15]\n"
     ]
    }
   ],
   "source": [
    "print(a[3]) # gives 4th row which means third index row"
   ]
  },
  {
   "cell_type": "code",
   "execution_count": 10,
   "id": "3772a8ed",
   "metadata": {},
   "outputs": [
    {
     "name": "stdout",
     "output_type": "stream",
     "text": [
      "[ 2  6 10 14]\n"
     ]
    }
   ],
   "source": [
    "print(a[:,2]) # print the third column\n",
    "# we give : in first part since we want all rows and after comma we given 2nd index column "
   ]
  },
  {
   "cell_type": "code",
   "execution_count": 12,
   "id": "7114e786",
   "metadata": {},
   "outputs": [
    {
     "name": "stdout",
     "output_type": "stream",
     "text": [
      "[0 1 2 3]\n",
      "[4 5 6 7]\n",
      "[ 8  9 10 11]\n",
      "[12 13 14 15]\n"
     ]
    }
   ],
   "source": [
    "for i in a:\n",
    "    print(i) # here we are getting the matrix way result\n",
    "# so we use nditer to print them in a single level."
   ]
  },
  {
   "cell_type": "code",
   "execution_count": 14,
   "id": "efe80a70",
   "metadata": {},
   "outputs": [
    {
     "name": "stdout",
     "output_type": "stream",
     "text": [
      "0\n",
      "1\n",
      "2\n",
      "3\n",
      "4\n",
      "5\n",
      "6\n",
      "7\n",
      "8\n",
      "9\n",
      "10\n",
      "11\n",
      "12\n",
      "13\n",
      "14\n",
      "15\n"
     ]
    }
   ],
   "source": [
    "for i in np.nditer(a): # here we get the result in the iterated way of the array.\n",
    "    print(i)"
   ]
  },
  {
   "cell_type": "markdown",
   "id": "5dec5f1d",
   "metadata": {},
   "source": [
    "# lec 7\n",
    "## Numpy Operations"
   ]
  },
  {
   "cell_type": "code",
   "execution_count": 15,
   "id": "0a546acd",
   "metadata": {},
   "outputs": [],
   "source": [
    "a=np.arange(1,7).reshape(2,3)\n",
    "b=np.arange(2,8).reshape(3,2)"
   ]
  },
  {
   "cell_type": "code",
   "execution_count": 17,
   "id": "0c736d07",
   "metadata": {},
   "outputs": [
    {
     "data": {
      "text/plain": [
       "array([[28, 34],\n",
       "       [64, 79]])"
      ]
     },
     "execution_count": 17,
     "metadata": {},
     "output_type": "execute_result"
    }
   ],
   "source": [
    "a.dot(b) # matrix multiplication "
   ]
  },
  {
   "cell_type": "code",
   "execution_count": 18,
   "id": "f1691446",
   "metadata": {},
   "outputs": [
    {
     "data": {
      "text/plain": [
       "1"
      ]
     },
     "execution_count": 18,
     "metadata": {},
     "output_type": "execute_result"
    }
   ],
   "source": [
    "a.min()"
   ]
  },
  {
   "cell_type": "code",
   "execution_count": 19,
   "id": "7754497f",
   "metadata": {},
   "outputs": [
    {
     "data": {
      "text/plain": [
       "7"
      ]
     },
     "execution_count": 19,
     "metadata": {},
     "output_type": "execute_result"
    }
   ],
   "source": [
    "b.max()"
   ]
  },
  {
   "cell_type": "code",
   "execution_count": 20,
   "id": "21b23458",
   "metadata": {},
   "outputs": [
    {
     "data": {
      "text/plain": [
       "array([1, 2, 3])"
      ]
     },
     "execution_count": 20,
     "metadata": {},
     "output_type": "execute_result"
    }
   ],
   "source": [
    "a.min(axis=0)"
   ]
  },
  {
   "cell_type": "code",
   "execution_count": 21,
   "id": "90fd7da9",
   "metadata": {},
   "outputs": [
    {
     "data": {
      "text/plain": [
       "array([3, 5, 7])"
      ]
     },
     "execution_count": 21,
     "metadata": {},
     "output_type": "execute_result"
    }
   ],
   "source": [
    "b.max(axis=1)"
   ]
  },
  {
   "cell_type": "code",
   "execution_count": 22,
   "id": "7bbfd96d",
   "metadata": {},
   "outputs": [
    {
     "data": {
      "text/plain": [
       "array([12, 15])"
      ]
     },
     "execution_count": 22,
     "metadata": {},
     "output_type": "execute_result"
    }
   ],
   "source": [
    "b.sum(axis=0)"
   ]
  },
  {
   "cell_type": "markdown",
   "id": "1993b774",
   "metadata": {},
   "source": [
    "# lec 8\n",
    "## Reshaping Numpy arrays"
   ]
  },
  {
   "cell_type": "code",
   "execution_count": 23,
   "id": "ddca7277",
   "metadata": {},
   "outputs": [
    {
     "data": {
      "text/plain": [
       "(4, 4)"
      ]
     },
     "execution_count": 23,
     "metadata": {},
     "output_type": "execute_result"
    }
   ],
   "source": [
    "a=np.arange(16).reshape(4,4)\n",
    "a.shape"
   ]
  },
  {
   "cell_type": "code",
   "execution_count": 24,
   "id": "7db6ae54",
   "metadata": {},
   "outputs": [
    {
     "data": {
      "text/plain": [
       "2"
      ]
     },
     "execution_count": 24,
     "metadata": {},
     "output_type": "execute_result"
    }
   ],
   "source": [
    "a.ndim"
   ]
  },
  {
   "cell_type": "markdown",
   "id": "5f39b2b3",
   "metadata": {},
   "source": [
    "# ravel():\n",
    "    1. converts higher level dimensional array into a single dimension array."
   ]
  },
  {
   "cell_type": "code",
   "execution_count": 25,
   "id": "fcb6d302",
   "metadata": {},
   "outputs": [
    {
     "data": {
      "text/plain": [
       "array([ 0,  1,  2,  3,  4,  5,  6,  7,  8,  9, 10, 11, 12, 13, 14, 15])"
      ]
     },
     "execution_count": 25,
     "metadata": {},
     "output_type": "execute_result"
    }
   ],
   "source": [
    "a.ravel() # same as like nditer"
   ]
  },
  {
   "cell_type": "code",
   "execution_count": 26,
   "id": "14ceed62",
   "metadata": {},
   "outputs": [
    {
     "data": {
      "text/plain": [
       "1"
      ]
     },
     "execution_count": 26,
     "metadata": {},
     "output_type": "execute_result"
    }
   ],
   "source": [
    "a.ravel().ndim"
   ]
  },
  {
   "cell_type": "markdown",
   "id": "db1e66ad",
   "metadata": {},
   "source": [
    "# TRANSPOSE():\n",
    "1. Changes rows into columns and viceversa."
   ]
  },
  {
   "cell_type": "code",
   "execution_count": 27,
   "id": "5c25f970",
   "metadata": {},
   "outputs": [
    {
     "data": {
      "text/plain": [
       "array([[ 0,  4,  8, 12],\n",
       "       [ 1,  5,  9, 13],\n",
       "       [ 2,  6, 10, 14],\n",
       "       [ 3,  7, 11, 15]])"
      ]
     },
     "execution_count": 27,
     "metadata": {},
     "output_type": "execute_result"
    }
   ],
   "source": [
    "a.transpose() # here we are directly using the object and accessing the function.\n"
   ]
  },
  {
   "cell_type": "code",
   "execution_count": 29,
   "id": "0974f267",
   "metadata": {},
   "outputs": [
    {
     "data": {
      "text/plain": [
       "array([[ 0,  4,  8, 12],\n",
       "       [ 1,  5,  9, 13],\n",
       "       [ 2,  6, 10, 14],\n",
       "       [ 3,  7, 11, 15]])"
      ]
     },
     "execution_count": 29,
     "metadata": {},
     "output_type": "execute_result"
    }
   ],
   "source": [
    "np.transpose(a) # here we are using the class and using the function. "
   ]
  },
  {
   "cell_type": "markdown",
   "id": "31092860",
   "metadata": {},
   "source": [
    "# stacking\n",
    "1.combining the two arrays"
   ]
  },
  {
   "cell_type": "code",
   "execution_count": 30,
   "id": "2b314e5f",
   "metadata": {},
   "outputs": [
    {
     "data": {
      "text/plain": [
       "array([[ 0,  1,  2,  3],\n",
       "       [ 4,  5,  6,  7],\n",
       "       [ 8,  9, 10, 11],\n",
       "       [12, 13, 14, 15]])"
      ]
     },
     "execution_count": 30,
     "metadata": {},
     "output_type": "execute_result"
    }
   ],
   "source": [
    "a"
   ]
  },
  {
   "cell_type": "code",
   "execution_count": 32,
   "id": "89636e5e",
   "metadata": {},
   "outputs": [],
   "source": [
    "b=np.arange(4,20).reshape(4,4)"
   ]
  },
  {
   "cell_type": "code",
   "execution_count": 33,
   "id": "1bc4e410",
   "metadata": {},
   "outputs": [
    {
     "data": {
      "text/plain": [
       "array([[ 4,  5,  6,  7],\n",
       "       [ 8,  9, 10, 11],\n",
       "       [12, 13, 14, 15],\n",
       "       [16, 17, 18, 19]])"
      ]
     },
     "execution_count": 33,
     "metadata": {},
     "output_type": "execute_result"
    }
   ],
   "source": [
    "b"
   ]
  },
  {
   "cell_type": "code",
   "execution_count": 35,
   "id": "506c81e6",
   "metadata": {},
   "outputs": [
    {
     "data": {
      "text/plain": [
       "array([[[ 0,  1,  2,  3],\n",
       "        [ 4,  5,  6,  7],\n",
       "        [ 8,  9, 10, 11],\n",
       "        [12, 13, 14, 15]],\n",
       "\n",
       "       [[ 4,  5,  6,  7],\n",
       "        [ 8,  9, 10, 11],\n",
       "        [12, 13, 14, 15],\n",
       "        [16, 17, 18, 19]]])"
      ]
     },
     "execution_count": 35,
     "metadata": {},
     "output_type": "execute_result"
    }
   ],
   "source": [
    "np.stack((a,b))"
   ]
  },
  {
   "cell_type": "code",
   "execution_count": 36,
   "id": "ba0a8f8d",
   "metadata": {},
   "outputs": [
    {
     "data": {
      "text/plain": [
       "array([[ 0,  1,  2,  3,  4,  5,  6,  7],\n",
       "       [ 4,  5,  6,  7,  8,  9, 10, 11],\n",
       "       [ 8,  9, 10, 11, 12, 13, 14, 15],\n",
       "       [12, 13, 14, 15, 16, 17, 18, 19]])"
      ]
     },
     "execution_count": 36,
     "metadata": {},
     "output_type": "execute_result"
    }
   ],
   "source": [
    "np.hstack((a,b))"
   ]
  },
  {
   "cell_type": "code",
   "execution_count": 37,
   "id": "59330796",
   "metadata": {},
   "outputs": [
    {
     "data": {
      "text/plain": [
       "array([[ 0,  1,  2,  3],\n",
       "       [ 4,  5,  6,  7],\n",
       "       [ 8,  9, 10, 11],\n",
       "       [12, 13, 14, 15],\n",
       "       [ 4,  5,  6,  7],\n",
       "       [ 8,  9, 10, 11],\n",
       "       [12, 13, 14, 15],\n",
       "       [16, 17, 18, 19]])"
      ]
     },
     "execution_count": 37,
     "metadata": {},
     "output_type": "execute_result"
    }
   ],
   "source": [
    "np.vstack((a,b))"
   ]
  },
  {
   "cell_type": "raw",
   "id": "852480c6",
   "metadata": {},
   "source": [
    "numpy.hsplit(ary, indices_or_sections)\n",
    "Split an array into multiple sub-arrays horizontally (column-wise).\n",
    "\n",
    "Please refer to the split documentation. hsplit is equivalent to split with axis=1, the array is always split along the second axis except for 1-D arrays, where it is split at axis=0."
   ]
  },
  {
   "cell_type": "code",
   "execution_count": 41,
   "id": "fb5c55cd",
   "metadata": {},
   "outputs": [
    {
     "data": {
      "text/plain": [
       "[array([[ 0],\n",
       "        [ 4],\n",
       "        [ 8],\n",
       "        [12]]),\n",
       " array([[ 1],\n",
       "        [ 5],\n",
       "        [ 9],\n",
       "        [13]]),\n",
       " array([[ 2],\n",
       "        [ 6],\n",
       "        [10],\n",
       "        [14]]),\n",
       " array([[ 3],\n",
       "        [ 7],\n",
       "        [11],\n",
       "        [15]])]"
      ]
     },
     "execution_count": 41,
     "metadata": {},
     "output_type": "execute_result"
    }
   ],
   "source": [
    "np.hsplit(a,4)\n",
    "# hsplit means equivalent to split with axis=1 which means column wise"
   ]
  },
  {
   "cell_type": "code",
   "execution_count": 39,
   "id": "1c5dc779",
   "metadata": {},
   "outputs": [
    {
     "data": {
      "text/plain": [
       "[array([[0, 1, 2, 3]]),\n",
       " array([[4, 5, 6, 7]]),\n",
       " array([[ 8,  9, 10, 11]]),\n",
       " array([[12, 13, 14, 15]])]"
      ]
     },
     "execution_count": 39,
     "metadata": {},
     "output_type": "execute_result"
    }
   ],
   "source": [
    "np.vsplit(a,4)"
   ]
  },
  {
   "cell_type": "code",
   "execution_count": 40,
   "id": "be941a13",
   "metadata": {},
   "outputs": [
    {
     "data": {
      "text/plain": [
       "array([[ 0,  1,  2,  3],\n",
       "       [ 4,  5,  6,  7],\n",
       "       [ 8,  9, 10, 11],\n",
       "       [12, 13, 14, 15]])"
      ]
     },
     "execution_count": 40,
     "metadata": {},
     "output_type": "execute_result"
    }
   ],
   "source": [
    "a"
   ]
  },
  {
   "cell_type": "markdown",
   "id": "ab03ba7b",
   "metadata": {},
   "source": [
    "# lec 9\n",
    "## Fancy Indexing in Numpy"
   ]
  },
  {
   "cell_type": "code",
   "execution_count": 42,
   "id": "7f97fdfc",
   "metadata": {},
   "outputs": [
    {
     "data": {
      "text/plain": [
       "array([[ 0,  1,  2,  3],\n",
       "       [ 4,  5,  6,  7],\n",
       "       [ 8,  9, 10, 11],\n",
       "       [12, 13, 14, 15]])"
      ]
     },
     "execution_count": 42,
     "metadata": {},
     "output_type": "execute_result"
    }
   ],
   "source": [
    "a"
   ]
  },
  {
   "cell_type": "code",
   "execution_count": 49,
   "id": "97050cbe",
   "metadata": {},
   "outputs": [
    {
     "data": {
      "text/plain": [
       "array([[ 0,  1,  2,  3],\n",
       "       [ 4,  5,  6,  7],\n",
       "       [12, 13, 14, 15]])"
      ]
     },
     "execution_count": 49,
     "metadata": {},
     "output_type": "execute_result"
    }
   ],
   "source": [
    "a[[0,1,3]] # gives the 0,1 and 3rd rows"
   ]
  },
  {
   "cell_type": "code",
   "execution_count": 51,
   "id": "2f380d66",
   "metadata": {},
   "outputs": [
    {
     "data": {
      "text/plain": [
       "array([[ 1,  2],\n",
       "       [ 5,  6],\n",
       "       [ 9, 10],\n",
       "       [13, 14]])"
      ]
     },
     "execution_count": 51,
     "metadata": {},
     "output_type": "execute_result"
    }
   ],
   "source": [
    "a[:,[1,2]] # works for columns also."
   ]
  },
  {
   "cell_type": "markdown",
   "id": "cfdbef6c",
   "metadata": {},
   "source": [
    "# lec 10\n",
    "## Indexing with boolean arrays"
   ]
  },
  {
   "cell_type": "code",
   "execution_count": 57,
   "id": "187c0a2d",
   "metadata": {},
   "outputs": [],
   "source": [
    "arr=np.random.randint(low=1,high=50,size=20).reshape(4,5)"
   ]
  },
  {
   "cell_type": "code",
   "execution_count": 58,
   "id": "65d2931a",
   "metadata": {},
   "outputs": [
    {
     "data": {
      "text/plain": [
       "array([[ 2, 26, 42, 29, 34],\n",
       "       [ 4, 21, 39, 34, 40],\n",
       "       [10,  6, 47, 28, 47],\n",
       "       [26, 20, 31, 28, 47]])"
      ]
     },
     "execution_count": 58,
     "metadata": {},
     "output_type": "execute_result"
    }
   ],
   "source": [
    "arr"
   ]
  },
  {
   "cell_type": "code",
   "execution_count": 59,
   "id": "e44486e6",
   "metadata": {},
   "outputs": [
    {
     "data": {
      "text/plain": [
       "array([ 2, 26, 42, 29, 34])"
      ]
     },
     "execution_count": 59,
     "metadata": {},
     "output_type": "execute_result"
    }
   ],
   "source": [
    "arr[0] # gives first row (0th 1D array)"
   ]
  },
  {
   "cell_type": "code",
   "execution_count": 60,
   "id": "03599b18",
   "metadata": {},
   "outputs": [
    {
     "data": {
      "text/plain": [
       "29"
      ]
     },
     "execution_count": 60,
     "metadata": {},
     "output_type": "execute_result"
    }
   ],
   "source": [
    "arr[0,3]"
   ]
  },
  {
   "cell_type": "code",
   "execution_count": 61,
   "id": "9b967eba",
   "metadata": {},
   "outputs": [
    {
     "data": {
      "text/plain": [
       "array([], dtype=int32)"
      ]
     },
     "execution_count": 61,
     "metadata": {},
     "output_type": "execute_result"
    }
   ],
   "source": [
    "arr[arr>50]"
   ]
  },
  {
   "cell_type": "code",
   "execution_count": 63,
   "id": "71107923",
   "metadata": {},
   "outputs": [
    {
     "data": {
      "text/plain": [
       "array([[False,  True,  True,  True,  True],\n",
       "       [False,  True,  True,  True,  True],\n",
       "       [False, False,  True,  True,  True],\n",
       "       [ True, False,  True,  True,  True]])"
      ]
     },
     "execution_count": 63,
     "metadata": {},
     "output_type": "execute_result"
    }
   ],
   "source": [
    "arr>20"
   ]
  },
  {
   "cell_type": "code",
   "execution_count": 67,
   "id": "d3c0c79b",
   "metadata": {},
   "outputs": [
    {
     "data": {
      "text/plain": [
       "array([42, 34, 39, 34, 40, 47, 47, 31, 47])"
      ]
     },
     "execution_count": 67,
     "metadata": {},
     "output_type": "execute_result"
    }
   ],
   "source": [
    "# indexing using Boolean arrays\n",
    "arr[arr>30]\n",
    "# wherever the True comes(condition satisfied) those values are all displayed here."
   ]
  },
  {
   "cell_type": "code",
   "execution_count": 75,
   "id": "817175a6",
   "metadata": {},
   "outputs": [
    {
     "data": {
      "text/plain": [
       "array([], dtype=int32)"
      ]
     },
     "execution_count": 75,
     "metadata": {},
     "output_type": "execute_result"
    }
   ],
   "source": [
    "arr[(arr>20) & (arr%2!=0)] # we can give the multiple conditions here.\n",
    "# here we used & instead of and ,since it will become bitwise and  operator if i used and .\n",
    "# if u perform  and operations on boolean values, it will become bitwise and operation.\n",
    "# so we used the & symbol here."
   ]
  },
  {
   "cell_type": "code",
   "execution_count": 71,
   "id": "6db920f0",
   "metadata": {},
   "outputs": [],
   "source": [
    "# updating to 0 of all elements which satisfies condition"
   ]
  },
  {
   "cell_type": "code",
   "execution_count": 72,
   "id": "0a77f2b8",
   "metadata": {},
   "outputs": [],
   "source": [
    "arr[(arr>20) & (arr%2!=0)]=0"
   ]
  },
  {
   "cell_type": "code",
   "execution_count": 73,
   "id": "e9814457",
   "metadata": {},
   "outputs": [
    {
     "data": {
      "text/plain": [
       "array([[ 2, 26, 42,  0, 34],\n",
       "       [ 4,  0,  0, 34, 40],\n",
       "       [10,  6,  0, 28,  0],\n",
       "       [26, 20,  0, 28,  0]])"
      ]
     },
     "execution_count": 73,
     "metadata": {},
     "output_type": "execute_result"
    }
   ],
   "source": [
    "arr"
   ]
  },
  {
   "cell_type": "markdown",
   "id": "cefcf421",
   "metadata": {},
   "source": [
    "# lec 11\n",
    "## Numpy Part 11- Plotting graphs using Numpy"
   ]
  },
  {
   "cell_type": "code",
   "execution_count": 76,
   "id": "aa4f8f8f",
   "metadata": {},
   "outputs": [],
   "source": [
    "x=np.linspace(-40,40,100)"
   ]
  },
  {
   "cell_type": "code",
   "execution_count": 77,
   "id": "8c656444",
   "metadata": {},
   "outputs": [
    {
     "data": {
      "text/plain": [
       "array([-40.        , -39.19191919, -38.38383838, -37.57575758,\n",
       "       -36.76767677, -35.95959596, -35.15151515, -34.34343434,\n",
       "       -33.53535354, -32.72727273, -31.91919192, -31.11111111,\n",
       "       -30.3030303 , -29.49494949, -28.68686869, -27.87878788,\n",
       "       -27.07070707, -26.26262626, -25.45454545, -24.64646465,\n",
       "       -23.83838384, -23.03030303, -22.22222222, -21.41414141,\n",
       "       -20.60606061, -19.7979798 , -18.98989899, -18.18181818,\n",
       "       -17.37373737, -16.56565657, -15.75757576, -14.94949495,\n",
       "       -14.14141414, -13.33333333, -12.52525253, -11.71717172,\n",
       "       -10.90909091, -10.1010101 ,  -9.29292929,  -8.48484848,\n",
       "        -7.67676768,  -6.86868687,  -6.06060606,  -5.25252525,\n",
       "        -4.44444444,  -3.63636364,  -2.82828283,  -2.02020202,\n",
       "        -1.21212121,  -0.4040404 ,   0.4040404 ,   1.21212121,\n",
       "         2.02020202,   2.82828283,   3.63636364,   4.44444444,\n",
       "         5.25252525,   6.06060606,   6.86868687,   7.67676768,\n",
       "         8.48484848,   9.29292929,  10.1010101 ,  10.90909091,\n",
       "        11.71717172,  12.52525253,  13.33333333,  14.14141414,\n",
       "        14.94949495,  15.75757576,  16.56565657,  17.37373737,\n",
       "        18.18181818,  18.98989899,  19.7979798 ,  20.60606061,\n",
       "        21.41414141,  22.22222222,  23.03030303,  23.83838384,\n",
       "        24.64646465,  25.45454545,  26.26262626,  27.07070707,\n",
       "        27.87878788,  28.68686869,  29.49494949,  30.3030303 ,\n",
       "        31.11111111,  31.91919192,  32.72727273,  33.53535354,\n",
       "        34.34343434,  35.15151515,  35.95959596,  36.76767677,\n",
       "        37.57575758,  38.38383838,  39.19191919,  40.        ])"
      ]
     },
     "execution_count": 77,
     "metadata": {},
     "output_type": "execute_result"
    }
   ],
   "source": [
    "x"
   ]
  },
  {
   "cell_type": "code",
   "execution_count": 78,
   "id": "85e3c4d5",
   "metadata": {},
   "outputs": [
    {
     "data": {
      "text/plain": [
       "100"
      ]
     },
     "execution_count": 78,
     "metadata": {},
     "output_type": "execute_result"
    }
   ],
   "source": [
    "x.size"
   ]
  },
  {
   "cell_type": "code",
   "execution_count": 79,
   "id": "396cd64d",
   "metadata": {},
   "outputs": [],
   "source": [
    "y=np.sin(x)"
   ]
  },
  {
   "cell_type": "code",
   "execution_count": 80,
   "id": "fb788e36",
   "metadata": {},
   "outputs": [
    {
     "data": {
      "text/plain": [
       "100"
      ]
     },
     "execution_count": 80,
     "metadata": {},
     "output_type": "execute_result"
    }
   ],
   "source": [
    "y.size"
   ]
  },
  {
   "cell_type": "code",
   "execution_count": 81,
   "id": "aa017ea3",
   "metadata": {},
   "outputs": [
    {
     "data": {
      "text/plain": [
       "array([-0.74511316, -0.9969604 , -0.63246122,  0.12304167,  0.80247705,\n",
       "        0.98580059,  0.55967698, -0.21245326, -0.85323945, -0.96653119,\n",
       "       -0.48228862,  0.30011711,  0.89698277,  0.93931073,  0.40093277,\n",
       "       -0.38531209, -0.93334716, -0.90436313, -0.31627868,  0.46733734,\n",
       "        0.96203346,  0.86197589,  0.22902277, -0.54551809, -0.9828057 ,\n",
       "       -0.81249769, -0.13988282,  0.61921119,  0.995493  ,  0.75633557,\n",
       "        0.04959214, -0.68781042, -0.99999098, -0.69395153,  0.0411065 ,\n",
       "        0.75075145,  0.99626264,  0.62585878, -0.13146699, -0.8075165 ,\n",
       "       -0.98433866, -0.55261747,  0.22074597,  0.85763861,  0.96431712,\n",
       "        0.47483011, -0.30820902, -0.90070545, -0.93636273, -0.39313661,\n",
       "        0.39313661,  0.93636273,  0.90070545,  0.30820902, -0.47483011,\n",
       "       -0.96431712, -0.85763861, -0.22074597,  0.55261747,  0.98433866,\n",
       "        0.8075165 ,  0.13146699, -0.62585878, -0.99626264, -0.75075145,\n",
       "       -0.0411065 ,  0.69395153,  0.99999098,  0.68781042, -0.04959214,\n",
       "       -0.75633557, -0.995493  , -0.61921119,  0.13988282,  0.81249769,\n",
       "        0.9828057 ,  0.54551809, -0.22902277, -0.86197589, -0.96203346,\n",
       "       -0.46733734,  0.31627868,  0.90436313,  0.93334716,  0.38531209,\n",
       "       -0.40093277, -0.93931073, -0.89698277, -0.30011711,  0.48228862,\n",
       "        0.96653119,  0.85323945,  0.21245326, -0.55967698, -0.98580059,\n",
       "       -0.80247705, -0.12304167,  0.63246122,  0.9969604 ,  0.74511316])"
      ]
     },
     "execution_count": 81,
     "metadata": {},
     "output_type": "execute_result"
    }
   ],
   "source": [
    "y"
   ]
  },
  {
   "cell_type": "code",
   "execution_count": 82,
   "id": "85348ece",
   "metadata": {},
   "outputs": [
    {
     "name": "stderr",
     "output_type": "stream",
     "text": [
      "Matplotlib is building the font cache; this may take a moment.\n"
     ]
    }
   ],
   "source": [
    "import matplotlib.pyplot as plt\n",
    "%matplotlib inline"
   ]
  },
  {
   "cell_type": "code",
   "execution_count": 83,
   "id": "c1f70ec8",
   "metadata": {},
   "outputs": [
    {
     "data": {
      "text/plain": [
       "[<matplotlib.lines.Line2D at 0x152068a8f10>]"
      ]
     },
     "execution_count": 83,
     "metadata": {},
     "output_type": "execute_result"
    },
    {
     "data": {
      "image/png": "[encoded data removed]",
      "text/plain": [
       "<Figure size 640x480 with 1 Axes>"
      ]
     },
     "metadata": {},
     "output_type": "display_data"
    }
   ],
   "source": [
    "plt.plot(x,y)"
   ]
  },
  {
   "cell_type": "code",
   "execution_count": 84,
   "id": "ff936a5e",
   "metadata": {},
   "outputs": [],
   "source": [
    "y=x*x+2*x+7"
   ]
  },
  {
   "cell_type": "code",
   "execution_count": 85,
   "id": "f3cf419f",
   "metadata": {},
   "outputs": [
    {
     "data": {
      "text/plain": [
       "array([1527.        , 1464.62269156, 1403.55137231, 1343.78604224,\n",
       "       1285.32670136, 1228.17334966, 1172.32598714, 1117.78461381,\n",
       "       1064.54922967, 1012.61983471,  961.99642894,  912.67901235,\n",
       "        864.66758494,  817.96214672,  772.56269768,  728.46923783,\n",
       "        685.68176717,  644.20028569,  604.02479339,  565.15529028,\n",
       "        527.59177635,  491.33425161,  456.38271605,  422.73716968,\n",
       "        390.39761249,  359.36404449,  329.63646567,  301.21487603,\n",
       "        274.09927558,  248.28966432,  223.78604224,  200.58840935,\n",
       "        178.69676564,  158.11111111,  138.83144577,  120.85776962,\n",
       "        104.19008264,   88.82838486,   74.77267626,   62.02295684,\n",
       "         50.57922661,   40.44148556,   31.6097337 ,   24.08397102,\n",
       "         17.86419753,   12.95041322,    9.3426181 ,    7.04081216,\n",
       "          6.04499541,    6.35516784,    7.97132946,   10.89348026,\n",
       "         15.12162024,   20.65574941,   27.49586777,   35.64197531,\n",
       "         45.09407203,   55.85215794,   67.91623304,   81.28629732,\n",
       "         95.96235078,  111.94439343,  129.23242526,  147.82644628,\n",
       "        167.72645648,  188.93245587,  211.44444444,  235.2624222 ,\n",
       "        260.38638914,  286.81634527,  314.55229058,  343.59422508,\n",
       "        373.94214876,  405.59606163,  438.55596368,  472.82185491,\n",
       "        508.39373533,  545.27160494,  583.45546373,  622.9453117 ,\n",
       "        663.74114886,  705.84297521,  749.25079074,  793.96459545,\n",
       "        839.98438935,  887.31017243,  935.9419447 ,  985.87970615,\n",
       "       1037.12345679, 1089.67319661, 1143.52892562, 1198.69064381,\n",
       "       1255.15835119, 1312.93204775, 1372.0117335 , 1432.39740843,\n",
       "       1494.08907254, 1557.08672584, 1621.39036833, 1687.        ])"
      ]
     },
     "execution_count": 85,
     "metadata": {},
     "output_type": "execute_result"
    }
   ],
   "source": [
    "y"
   ]
  },
  {
   "cell_type": "code",
   "execution_count": 86,
   "id": "c177eff9",
   "metadata": {},
   "outputs": [
    {
     "data": {
      "text/plain": [
       "[<matplotlib.lines.Line2D at 0x15206fabbe0>]"
      ]
     },
     "execution_count": 86,
     "metadata": {},
     "output_type": "execute_result"
    },
    {
     "data": {
      "image/png": "[encoded data removed]",
      "text/plain": [
       "<Figure size 640x480 with 1 Axes>"
      ]
     },
     "metadata": {},
     "output_type": "display_data"
    }
   ],
   "source": [
    "plt.plot(x,y)"
   ]
  },
  {
   "cell_type": "markdown",
   "id": "2aa126bb",
   "metadata": {},
   "source": [
    "# lec 12\n",
    "## Numpy part 12 -Broadcasting"
   ]
  },
  {
   "cell_type": "raw",
   "id": "20037e2c",
   "metadata": {},
   "source": [
    "The term broadcasting describes how NumPy treats arrays with different shapes during arithmetic operations. Subject to certain constraints, the smaller array is “broadcast” across the larger array so that they have compatible shapes. Broadcasting provides a means of vectorizing array operations so that looping occurs in C instead of Python. It does this without making needless copies of data and usually leads to efficient algorithm implementations. There are, however, cases where broadcasting is a bad idea because it leads to inefficient use of memory that slows computation."
   ]
  },
  {
   "cell_type": "raw",
   "id": "965d78d3",
   "metadata": {},
   "source": [
    " https://numpy.org/doc/stable/user/basics.broadcasting.html\n",
    "        \n",
    "        \n",
    "        see the broadcasting images here. u will get easy understanding of these concepts"
   ]
  },
  {
   "cell_type": "code",
   "execution_count": 2,
   "id": "a1c1056c",
   "metadata": {},
   "outputs": [],
   "source": [
    "import numpy as np\n",
    "a3=np.arange(9).reshape(3,3)\n",
    "a4=np.arange(3).reshape(1,3)"
   ]
  },
  {
   "cell_type": "code",
   "execution_count": 3,
   "id": "7651491f",
   "metadata": {},
   "outputs": [
    {
     "data": {
      "text/plain": [
       "array([[ 0,  2,  4],\n",
       "       [ 3,  5,  7],\n",
       "       [ 6,  8, 10]])"
      ]
     },
     "execution_count": 3,
     "metadata": {},
     "output_type": "execute_result"
    }
   ],
   "source": [
    "a3+a4"
   ]
  },
  {
   "cell_type": "code",
   "execution_count": 6,
   "id": "f32c58e8",
   "metadata": {},
   "outputs": [
    {
     "data": {
      "text/plain": [
       "array([[0, 1, 2]])"
      ]
     },
     "execution_count": 6,
     "metadata": {},
     "output_type": "execute_result"
    }
   ],
   "source": [
    "a4 # here a4 will acts as [[0,1,2],[0,1,2],[0,1,2]] when performing addition"
   ]
  },
  {
   "cell_type": "code",
   "execution_count": 8,
   "id": "222b38d7",
   "metadata": {},
   "outputs": [],
   "source": [
    "# both the array shapes are different.\n",
    "# the same single row of a4 is added to all the rows of a3.\n",
    "# when performing a3+a4, them a4 single 1D array here acts as stretching it same to shape as required to perform the addition.\n",
    "# but the no of elements in the 1D array of a4 should match to the no of elements in a3 1D array."
   ]
  },
  {
   "cell_type": "markdown",
   "id": "e36d2724",
   "metadata": {},
   "source": [
    "1. If the dimensions of the two arrays are dissimilar,element to element operations are not possible.\n",
    "2. However, operations on arrays is still possible in Numpy,because of the broadcasting capability. The smaller array is broadcasted to the ize of the larger array so they have compatible shapes."
   ]
  },
  {
   "cell_type": "code",
   "execution_count": 9,
   "id": "79847c1b",
   "metadata": {},
   "outputs": [],
   "source": [
    "ar1=np.array([1,2,3])\n",
    "ar2=np.array([5])"
   ]
  },
  {
   "cell_type": "code",
   "execution_count": 10,
   "id": "926ca8d7",
   "metadata": {},
   "outputs": [
    {
     "data": {
      "text/plain": [
       "(3,)"
      ]
     },
     "execution_count": 10,
     "metadata": {},
     "output_type": "execute_result"
    }
   ],
   "source": [
    "ar1.shape"
   ]
  },
  {
   "cell_type": "code",
   "execution_count": 12,
   "id": "e34abef1",
   "metadata": {},
   "outputs": [
    {
     "data": {
      "text/plain": [
       "array([6, 7, 8])"
      ]
     },
     "execution_count": 12,
     "metadata": {},
     "output_type": "execute_result"
    }
   ],
   "source": [
    "ar1+ar2 # in ar2 5 is stretch as [5 5 5 ]"
   ]
  },
  {
   "cell_type": "code",
   "execution_count": 13,
   "id": "33bb8c49",
   "metadata": {},
   "outputs": [
    {
     "data": {
      "text/plain": [
       "(1,)"
      ]
     },
     "execution_count": 13,
     "metadata": {},
     "output_type": "execute_result"
    }
   ],
   "source": [
    "ar2.shape"
   ]
  },
  {
   "attachments": {
    "broadcasting_1.png": {
     "image/png": "[encoded data removed]"
    }
   },
   "cell_type": "markdown",
   "id": "0c504cd4",
   "metadata": {},
   "source": [
    "![broadcasting_1.png](attachment:broadcasting_1.png)"
   ]
  },
  {
   "attachments": {
    "broadcasting_2.png": {
     "image/png": "[encoded data removed]"
    }
   },
   "cell_type": "markdown",
   "id": "890f21c2",
   "metadata": {},
   "source": [
    "![broadcasting_2.png](attachment:broadcasting_2.png)"
   ]
  },
  {
   "attachments": {
    "broadcasting_3.png": {
     "image/png": "[encoded data removed]"
    }
   },
   "cell_type": "markdown",
   "id": "e9b1eebe",
   "metadata": {},
   "source": [
    "![broadcasting_3.png](attachment:broadcasting_3.png)"
   ]
  },
  {
   "attachments": {
    "broadcasting_4.png": {
     "image/png": "[encoded data removed]"
    }
   },
   "cell_type": "markdown",
   "id": "5ef7ede7",
   "metadata": {},
   "source": [
    "![broadcasting_4.png](attachment:broadcasting_4.png)"
   ]
  },
  {
   "cell_type": "markdown",
   "id": "506d363f",
   "metadata": {},
   "source": [
    "# lec 13\n",
    "## Some important numpy functions"
   ]
  },
  {
   "cell_type": "code",
   "execution_count": 16,
   "id": "4ca0f763",
   "metadata": {},
   "outputs": [
    {
     "data": {
      "text/plain": [
       "0.2776336274587762"
      ]
     },
     "execution_count": 16,
     "metadata": {},
     "output_type": "execute_result"
    }
   ],
   "source": [
    "np.random.random() \n",
    "# gives any value from 0 to 1.\n",
    "# every time we run this, we will get different random value here."
   ]
  },
  {
   "cell_type": "code",
   "execution_count": 18,
   "id": "76eb6ab5",
   "metadata": {},
   "outputs": [
    {
     "data": {
      "text/plain": [
       "0.43599490214200376"
      ]
     },
     "execution_count": 18,
     "metadata": {},
     "output_type": "execute_result"
    }
   ],
   "source": [
    "# to get the same value,we need to use the seed() here.\n",
    "np.random.seed(2) # we can give any constant valu here.\n",
    "np.random.random()\n"
   ]
  },
  {
   "cell_type": "code",
   "execution_count": 19,
   "id": "c33cc08a",
   "metadata": {},
   "outputs": [],
   "source": [
    "# even if u run above 5 times still u get the same value generated first."
   ]
  },
  {
   "cell_type": "code",
   "execution_count": 23,
   "id": "f8558d05",
   "metadata": {},
   "outputs": [
    {
     "data": {
      "text/plain": [
       "5.942574614612424"
      ]
     },
     "execution_count": 23,
     "metadata": {},
     "output_type": "execute_result"
    }
   ],
   "source": [
    "np.random.uniform(3,10) # we will get a float value here in between the given range."
   ]
  },
  {
   "cell_type": "code",
   "execution_count": 25,
   "id": "9ff878cf",
   "metadata": {},
   "outputs": [
    {
     "data": {
      "text/plain": [
       "array([25.70670296, 27.07950585, 19.88473675, 26.93122971, 11.59290954,\n",
       "       20.1049218 , 11.30573009, 18.56244655, 11.93061831, 12.54319943])"
      ]
     },
     "execution_count": 25,
     "metadata": {},
     "output_type": "execute_result"
    }
   ],
   "source": [
    "# get a 10 random values lying between 10 and 30\n",
    "np.random.uniform(10,30,10) # last parameter is the size parameter."
   ]
  },
  {
   "cell_type": "code",
   "execution_count": 26,
   "id": "6594b78f",
   "metadata": {},
   "outputs": [],
   "source": [
    "# to get the integer values use function randint.\n",
    "# to get the float values use uniform function.\n",
    "# if size is not mentioned,only one single value will be generated here."
   ]
  },
  {
   "cell_type": "code",
   "execution_count": 27,
   "id": "2de48623",
   "metadata": {},
   "outputs": [
    {
     "data": {
      "text/plain": [
       "3"
      ]
     },
     "execution_count": 27,
     "metadata": {},
     "output_type": "execute_result"
    }
   ],
   "source": [
    "np.random.randint(1,10)"
   ]
  },
  {
   "cell_type": "code",
   "execution_count": 28,
   "id": "463f0ed9",
   "metadata": {},
   "outputs": [
    {
     "data": {
      "text/plain": [
       "array([[5, 2, 8, 9],\n",
       "       [3, 9, 8, 2]])"
      ]
     },
     "execution_count": 28,
     "metadata": {},
     "output_type": "execute_result"
    }
   ],
   "source": [
    "np.random.randint(1,10,8).reshape(2,4)"
   ]
  },
  {
   "cell_type": "code",
   "execution_count": 30,
   "id": "f0c880c3",
   "metadata": {},
   "outputs": [],
   "source": [
    "a=np.random.randint(1,10,12).reshape(2,2,3)"
   ]
  },
  {
   "cell_type": "code",
   "execution_count": 31,
   "id": "b707acc9",
   "metadata": {},
   "outputs": [
    {
     "data": {
      "text/plain": [
       "array([[[7, 7, 7],\n",
       "        [4, 9, 3]],\n",
       "\n",
       "       [[2, 5, 9],\n",
       "        [2, 7, 6]]])"
      ]
     },
     "execution_count": 31,
     "metadata": {},
     "output_type": "execute_result"
    }
   ],
   "source": [
    "a"
   ]
  },
  {
   "cell_type": "code",
   "execution_count": 34,
   "id": "5695bb45",
   "metadata": {},
   "outputs": [
    {
     "data": {
      "text/plain": [
       "array([[[ 7,  7,  7],\n",
       "        [-1,  9,  3]],\n",
       "\n",
       "       [[-1,  5,  9],\n",
       "        [-1,  7, -1]]])"
      ]
     },
     "execution_count": 34,
     "metadata": {},
     "output_type": "execute_result"
    }
   ],
   "source": [
    "# where(condition,True,False)\n",
    "# all the places where condition is satisfied, there that particular value will be updated\n",
    "# in the remaining places ,we can give array values itself.\n",
    "np.where(a%2==0,-1,a) "
   ]
  },
  {
   "cell_type": "code",
   "execution_count": 36,
   "id": "1b92c825",
   "metadata": {},
   "outputs": [
    {
     "data": {
      "text/plain": [
       "array([[[ 5,  5,  5],\n",
       "        [-1,  5,  5]],\n",
       "\n",
       "       [[-1,  5,  5],\n",
       "        [-1,  5, -1]]])"
      ]
     },
     "execution_count": 36,
     "metadata": {},
     "output_type": "execute_result"
    }
   ],
   "source": [
    "np.where(a%2==0,-1,5) # where condition satisfies updated to -1 and where False updated to the 5"
   ]
  },
  {
   "cell_type": "code",
   "execution_count": 38,
   "id": "b979c350",
   "metadata": {},
   "outputs": [
    {
     "data": {
      "text/plain": [
       "36.0"
      ]
     },
     "execution_count": 38,
     "metadata": {},
     "output_type": "execute_result"
    }
   ],
   "source": [
    "c=np.array([42, 34, 39, 34, 40, 47, 47, 31, 47])\n",
    "np.percentile(c,30) # know about the percentile concept."
   ]
  },
  {
   "cell_type": "code",
   "execution_count": null,
   "id": "f1ecbcf4",
   "metadata": {},
   "outputs": [],
   "source": []
  }
 ],
 "metadata": {
  "kernelspec": {
   "display_name": "Python 3 (ipykernel)",
   "language": "python",
   "name": "python3"
  },
  "language_info": {
   "codemirror_mode": {
    "name": "ipython",
    "version": 3
   },
   "file_extension": ".py",
   "mimetype": "text/x-python",
   "name": "python",
   "nbconvert_exporter": "python",
   "pygments_lexer": "ipython3",
   "version": "3.9.13"
  }
 },
 "nbformat": 4,
 "nbformat_minor": 5
}

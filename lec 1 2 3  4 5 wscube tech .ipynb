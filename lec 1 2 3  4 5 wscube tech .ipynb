{
 "cells": [
  {
   "cell_type": "markdown",
   "id": "ba2c6449",
   "metadata": {},
   "source": [
    "# lec 1\n",
    "## what is numpy in python"
   ]
  },
  {
   "cell_type": "markdown",
   "id": "2749d632",
   "metadata": {},
   "source": [
    "1. Numpy is the fundamental package for scientific computing in Python.\n",
    "2. It is a python library that provides a multidimensional array object,various derived objects.\n",
    "\n",
    "# Array\n",
    "1. An array is a grid of values and it contains information about the raw data ,how to locate an element and how to interpret an element.\n",
    "\n",
    "# Arrays over lists\n",
    "1. consumes less memory\n",
    "2. fast as compared to python list\n",
    "3. convenient to use\n",
    "\n"
   ]
  },
  {
   "cell_type": "code",
   "execution_count": 1,
   "id": "ce2731b8",
   "metadata": {},
   "outputs": [],
   "source": [
    "# list--> [1,2,3,4,5]\n",
    "# array--> [1 2 3 4 5] here no commas present"
   ]
  },
  {
   "cell_type": "code",
   "execution_count": 2,
   "id": "8208c2f5",
   "metadata": {},
   "outputs": [
    {
     "name": "stdout",
     "output_type": "stream",
     "text": [
      "[1 2 3 4 5]\n"
     ]
    }
   ],
   "source": [
    "import numpy as np\n",
    "x=np.array([1,2,3,4,5])\n",
    "print(x)"
   ]
  },
  {
   "cell_type": "code",
   "execution_count": 3,
   "id": "0c90aa26",
   "metadata": {},
   "outputs": [
    {
     "data": {
      "text/plain": [
       "numpy.ndarray"
      ]
     },
     "execution_count": 3,
     "metadata": {},
     "output_type": "execute_result"
    }
   ],
   "source": [
    "type(x)"
   ]
  },
  {
   "cell_type": "markdown",
   "id": "9403798f",
   "metadata": {},
   "source": [
    "# Importance of Numpy in Python\n",
    "1. wide variety of mathematical operations on arrays\n",
    "2. It supplies an enormous library of high level mathematical functions that operate on these arrays and matrices.\n",
    "3. Mathematical,logical,shape manipulation,sorting,selecting,I/O,discrete fourier transfoems,basic linear algebra,basic statistical operations,random simulation and much more."
   ]
  },
  {
   "cell_type": "markdown",
   "id": "b1fb97d5",
   "metadata": {},
   "source": [
    "# lec 2\n",
    "## Arrays vs Pythin lists"
   ]
  },
  {
   "cell_type": "code",
   "execution_count": 10,
   "id": "16390fff",
   "metadata": {},
   "outputs": [
    {
     "name": "stdout",
     "output_type": "stream",
     "text": [
      "4.78 µs ± 942 ns per loop (mean ± std. dev. of 7 runs, 100000 loops each)\n"
     ]
    }
   ],
   "source": [
    "# %timeit gives time taken to execute one line\n",
    "# %%timeit gives time taken to execute whole program\n",
    "%timeit [j**4 for j in range(1,9)]    # gives time taken to create the list  "
   ]
  },
  {
   "cell_type": "code",
   "execution_count": 11,
   "id": "a7498183",
   "metadata": {},
   "outputs": [
    {
     "name": "stdout",
     "output_type": "stream",
     "text": [
      "3.13 µs ± 620 ns per loop (mean ± std. dev. of 7 runs, 100000 loops each)\n"
     ]
    }
   ],
   "source": [
    "%timeit np.arange(1,9)**4"
   ]
  },
  {
   "cell_type": "code",
   "execution_count": 12,
   "id": "a5492ebe",
   "metadata": {},
   "outputs": [],
   "source": [
    "# observe that time taken to create the array is less compared to the list "
   ]
  },
  {
   "cell_type": "markdown",
   "id": "686cf83c",
   "metadata": {},
   "source": [
    "# lec 3\n",
    "## How to create numpy array"
   ]
  },
  {
   "cell_type": "code",
   "execution_count": 14,
   "id": "211ee7dc",
   "metadata": {},
   "outputs": [],
   "source": [
    "# to create a numpy array, we can use the function np.array()"
   ]
  },
  {
   "cell_type": "code",
   "execution_count": 15,
   "id": "e559196c",
   "metadata": {},
   "outputs": [
    {
     "name": "stdout",
     "output_type": "stream",
     "text": [
      "[1 2 3]\n"
     ]
    }
   ],
   "source": [
    "import numpy as np\n",
    "a=np.array([1,2,3])\n",
    "print(a)"
   ]
  },
  {
   "cell_type": "code",
   "execution_count": 18,
   "id": "21969372",
   "metadata": {},
   "outputs": [
    {
     "name": "stdout",
     "output_type": "stream",
     "text": [
      "['1' '2' '3' 'phani']\n"
     ]
    }
   ],
   "source": [
    "a=np.array([1,2,3,\"phani\"]) # treats every element as string only if even one single string is present.\n",
    "print(a)"
   ]
  },
  {
   "cell_type": "code",
   "execution_count": 19,
   "id": "d9c10e1b",
   "metadata": {},
   "outputs": [
    {
     "data": {
      "text/plain": [
       "numpy.str_"
      ]
     },
     "execution_count": 19,
     "metadata": {},
     "output_type": "execute_result"
    }
   ],
   "source": [
    "type(a[0])"
   ]
  },
  {
   "cell_type": "code",
   "execution_count": 20,
   "id": "22fd4697",
   "metadata": {},
   "outputs": [
    {
     "name": "stdout",
     "output_type": "stream",
     "text": [
      "<class 'numpy.ndarray'>\n"
     ]
    }
   ],
   "source": [
    "print(type(a))"
   ]
  },
  {
   "cell_type": "code",
   "execution_count": 21,
   "id": "91aa48fe",
   "metadata": {},
   "outputs": [
    {
     "name": "stdout",
     "output_type": "stream",
     "text": [
      "enter the number:5\n",
      "enter the number:3\n",
      "enter the number:2\n",
      "enter the number:2\n",
      "[5 3 2 2]\n"
     ]
    }
   ],
   "source": [
    "l=[]\n",
    "for i in range(1,5):\n",
    "    x=int(input(\"enter the number:\"))\n",
    "    l.append(x)\n",
    "print(np.array(l))"
   ]
  },
  {
   "cell_type": "code",
   "execution_count": null,
   "id": "23d2f6ff",
   "metadata": {},
   "outputs": [],
   "source": [
    "# ndim gives the no of dimensions of the array"
   ]
  },
  {
   "cell_type": "code",
   "execution_count": 26,
   "id": "a9179a4a",
   "metadata": {},
   "outputs": [
    {
     "name": "stdout",
     "output_type": "stream",
     "text": [
      "1\n"
     ]
    }
   ],
   "source": [
    "print(a.ndim)"
   ]
  },
  {
   "cell_type": "code",
   "execution_count": 32,
   "id": "ba1c3323",
   "metadata": {},
   "outputs": [],
   "source": [
    "ar2=np.array([[1,2,3,4],[1,2,3,8]]) # list inside a list"
   ]
  },
  {
   "cell_type": "code",
   "execution_count": 33,
   "id": "1560c688",
   "metadata": {},
   "outputs": [
    {
     "data": {
      "text/plain": [
       "array([[1, 2, 3, 4],\n",
       "       [1, 2, 3, 8]])"
      ]
     },
     "execution_count": 33,
     "metadata": {},
     "output_type": "execute_result"
    }
   ],
   "source": [
    "ar2"
   ]
  },
  {
   "cell_type": "code",
   "execution_count": 34,
   "id": "3a6007f9",
   "metadata": {},
   "outputs": [
    {
     "name": "stderr",
     "output_type": "stream",
     "text": [
      "C:\\Users\\Phanindra Reddy\\AppData\\Local\\Temp\\ipykernel_13344\\388830972.py:1: VisibleDeprecationWarning: Creating an ndarray from ragged nested sequences (which is a list-or-tuple of lists-or-tuples-or ndarrays with different lengths or shapes) is deprecated. If you meant to do this, you must specify 'dtype=object' when creating the ndarray.\n",
      "  ar3=np.array([[1,2,3,4],[1,2,8]])\n"
     ]
    }
   ],
   "source": [
    "ar3=np.array([[1,2,3,4],[1,2,8]])"
   ]
  },
  {
   "cell_type": "code",
   "execution_count": 35,
   "id": "66c07f22",
   "metadata": {},
   "outputs": [
    {
     "name": "stdout",
     "output_type": "stream",
     "text": [
      "2\n"
     ]
    }
   ],
   "source": [
    "print(ar2.ndim)"
   ]
  },
  {
   "cell_type": "code",
   "execution_count": 37,
   "id": "982edf55",
   "metadata": {},
   "outputs": [],
   "source": [
    "ar4=np.array([[[1,2,3,4],[5,6,7,8],[3,4,5,6]]]) # firt 3 [[[ says it is 3dimensionsal"
   ]
  },
  {
   "cell_type": "code",
   "execution_count": 38,
   "id": "438455d1",
   "metadata": {},
   "outputs": [
    {
     "data": {
      "text/plain": [
       "array([[[1, 2, 3, 4],\n",
       "        [5, 6, 7, 8],\n",
       "        [3, 4, 5, 6]]])"
      ]
     },
     "execution_count": 38,
     "metadata": {},
     "output_type": "execute_result"
    }
   ],
   "source": [
    "ar4"
   ]
  },
  {
   "cell_type": "code",
   "execution_count": 40,
   "id": "a879a443",
   "metadata": {},
   "outputs": [
    {
     "name": "stdout",
     "output_type": "stream",
     "text": [
      "3\n"
     ]
    }
   ],
   "source": [
    "print(ar4.ndim)"
   ]
  },
  {
   "cell_type": "code",
   "execution_count": 42,
   "id": "24685181",
   "metadata": {},
   "outputs": [],
   "source": [
    "ar5=np.array([1,2,3,4,5],ndmin=4) # creates a 4 dimensional array"
   ]
  },
  {
   "cell_type": "code",
   "execution_count": 43,
   "id": "71861a28",
   "metadata": {},
   "outputs": [
    {
     "data": {
      "text/plain": [
       "array([[[[1, 2, 3, 4, 5]]]])"
      ]
     },
     "execution_count": 43,
     "metadata": {},
     "output_type": "execute_result"
    }
   ],
   "source": [
    "ar5"
   ]
  },
  {
   "cell_type": "code",
   "execution_count": 44,
   "id": "b92e592a",
   "metadata": {},
   "outputs": [
    {
     "name": "stdout",
     "output_type": "stream",
     "text": [
      "4\n"
     ]
    }
   ],
   "source": [
    "print(ar5.ndim)"
   ]
  },
  {
   "cell_type": "markdown",
   "id": "ddf84cb1",
   "metadata": {},
   "source": [
    "# lec 4\n",
    "## how to create numpy array using Numpy"
   ]
  },
  {
   "cell_type": "markdown",
   "id": "5b52c8da",
   "metadata": {},
   "source": [
    "# create an array of zeros"
   ]
  },
  {
   "cell_type": "code",
   "execution_count": 47,
   "id": "b788c3d4",
   "metadata": {},
   "outputs": [],
   "source": [
    "a=np.zeros((4,3))"
   ]
  },
  {
   "cell_type": "code",
   "execution_count": 48,
   "id": "acf1aa60",
   "metadata": {},
   "outputs": [
    {
     "data": {
      "text/plain": [
       "array([[0., 0., 0.],\n",
       "       [0., 0., 0.],\n",
       "       [0., 0., 0.],\n",
       "       [0., 0., 0.]])"
      ]
     },
     "execution_count": 48,
     "metadata": {},
     "output_type": "execute_result"
    }
   ],
   "source": [
    "a"
   ]
  },
  {
   "cell_type": "code",
   "execution_count": 49,
   "id": "721f6509",
   "metadata": {},
   "outputs": [],
   "source": [
    "a=np.zeros(4) # single dimension array"
   ]
  },
  {
   "cell_type": "code",
   "execution_count": 50,
   "id": "27415c56",
   "metadata": {},
   "outputs": [
    {
     "data": {
      "text/plain": [
       "array([0., 0., 0., 0.])"
      ]
     },
     "execution_count": 50,
     "metadata": {},
     "output_type": "execute_result"
    }
   ],
   "source": [
    "a"
   ]
  },
  {
   "cell_type": "code",
   "execution_count": 51,
   "id": "8d001fbe",
   "metadata": {},
   "outputs": [
    {
     "name": "stdout",
     "output_type": "stream",
     "text": [
      "[0. 0. 0. 0.]\n"
     ]
    }
   ],
   "source": [
    "print(a)"
   ]
  },
  {
   "cell_type": "code",
   "execution_count": 52,
   "id": "47937158",
   "metadata": {},
   "outputs": [
    {
     "data": {
      "text/plain": [
       "1"
      ]
     },
     "execution_count": 52,
     "metadata": {},
     "output_type": "execute_result"
    }
   ],
   "source": [
    "a.ndim"
   ]
  },
  {
   "cell_type": "markdown",
   "id": "73fc9115",
   "metadata": {},
   "source": [
    "# create an array of ones's"
   ]
  },
  {
   "cell_type": "code",
   "execution_count": 54,
   "id": "af0497f3",
   "metadata": {},
   "outputs": [],
   "source": [
    "arr1=np.ones(5)"
   ]
  },
  {
   "cell_type": "code",
   "execution_count": 55,
   "id": "f3cda2d4",
   "metadata": {},
   "outputs": [
    {
     "data": {
      "text/plain": [
       "array([1., 1., 1., 1., 1.])"
      ]
     },
     "execution_count": 55,
     "metadata": {},
     "output_type": "execute_result"
    }
   ],
   "source": [
    "arr1"
   ]
  },
  {
   "cell_type": "code",
   "execution_count": 56,
   "id": "40716c91",
   "metadata": {},
   "outputs": [
    {
     "name": "stdout",
     "output_type": "stream",
     "text": [
      "[1. 1. 1. 1. 1.]\n"
     ]
    }
   ],
   "source": [
    "print(arr1)"
   ]
  },
  {
   "cell_type": "code",
   "execution_count": 60,
   "id": "545a62e9",
   "metadata": {},
   "outputs": [
    {
     "name": "stdout",
     "output_type": "stream",
     "text": [
      "[[1. 1. 1. 1.]\n",
      " [1. 1. 1. 1.]\n",
      " [1. 1. 1. 1.]\n",
      " [1. 1. 1. 1.]\n",
      " [1. 1. 1. 1.]\n",
      " [1. 1. 1. 1.]\n",
      " [1. 1. 1. 1.]\n",
      " [1. 1. 1. 1.]]\n"
     ]
    }
   ],
   "source": [
    "print(np.ones((8,4)))"
   ]
  },
  {
   "cell_type": "markdown",
   "id": "9dda2249",
   "metadata": {},
   "source": [
    "# Empty array"
   ]
  },
  {
   "cell_type": "code",
   "execution_count": 63,
   "id": "a9327a78",
   "metadata": {},
   "outputs": [
    {
     "name": "stdout",
     "output_type": "stream",
     "text": [
      "[1. 1. 1. 1. 1.]\n"
     ]
    }
   ],
   "source": [
    "print(arr1)"
   ]
  },
  {
   "cell_type": "code",
   "execution_count": 67,
   "id": "87e9bf53",
   "metadata": {},
   "outputs": [],
   "source": [
    "arr2=np.empty((4,3))"
   ]
  },
  {
   "cell_type": "code",
   "execution_count": 69,
   "id": "0fb50eff",
   "metadata": {},
   "outputs": [
    {
     "data": {
      "text/plain": [
       "array([[0., 0., 0.],\n",
       "       [0., 0., 0.],\n",
       "       [0., 0., 0.],\n",
       "       [0., 0., 0.]])"
      ]
     },
     "execution_count": 69,
     "metadata": {},
     "output_type": "execute_result"
    }
   ],
   "source": [
    "arr2 # in previous memory whatever present we get as result "
   ]
  },
  {
   "cell_type": "code",
   "execution_count": 70,
   "id": "b8eb7687",
   "metadata": {},
   "outputs": [],
   "source": [
    "arr3=np.empty(3)"
   ]
  },
  {
   "cell_type": "code",
   "execution_count": 71,
   "id": "a272ecd1",
   "metadata": {},
   "outputs": [
    {
     "data": {
      "text/plain": [
       "array([1.21301975e-311, 0.00000000e+000, 9.91011138e+030])"
      ]
     },
     "execution_count": 71,
     "metadata": {},
     "output_type": "execute_result"
    }
   ],
   "source": [
    "arr3"
   ]
  },
  {
   "cell_type": "markdown",
   "id": "785c96ce",
   "metadata": {},
   "source": [
    "# Range Function"
   ]
  },
  {
   "cell_type": "code",
   "execution_count": 74,
   "id": "380ccf58",
   "metadata": {},
   "outputs": [],
   "source": [
    "arr1=np.arange(5)"
   ]
  },
  {
   "cell_type": "code",
   "execution_count": 75,
   "id": "7160bb61",
   "metadata": {},
   "outputs": [
    {
     "data": {
      "text/plain": [
       "array([0, 1, 2, 3, 4])"
      ]
     },
     "execution_count": 75,
     "metadata": {},
     "output_type": "execute_result"
    }
   ],
   "source": [
    "arr1"
   ]
  },
  {
   "cell_type": "markdown",
   "id": "551ffa6d",
   "metadata": {},
   "source": [
    "# Identity matrix--> diagonal elements filled with 1's"
   ]
  },
  {
   "cell_type": "code",
   "execution_count": 76,
   "id": "bb2eba28",
   "metadata": {},
   "outputs": [],
   "source": [
    "d1=np.eye(3)"
   ]
  },
  {
   "cell_type": "code",
   "execution_count": 77,
   "id": "5bbdb891",
   "metadata": {},
   "outputs": [
    {
     "data": {
      "text/plain": [
       "array([[1., 0., 0.],\n",
       "       [0., 1., 0.],\n",
       "       [0., 0., 1.]])"
      ]
     },
     "execution_count": 77,
     "metadata": {},
     "output_type": "execute_result"
    }
   ],
   "source": [
    "d1"
   ]
  },
  {
   "cell_type": "code",
   "execution_count": 78,
   "id": "69b5c8bc",
   "metadata": {},
   "outputs": [
    {
     "name": "stdout",
     "output_type": "stream",
     "text": [
      "[[1. 0. 0.]\n",
      " [0. 1. 0.]\n",
      " [0. 0. 1.]]\n"
     ]
    }
   ],
   "source": [
    "print(d1)"
   ]
  },
  {
   "cell_type": "code",
   "execution_count": 79,
   "id": "4be0c9d5",
   "metadata": {},
   "outputs": [],
   "source": [
    "d1=np.eye(3,5)"
   ]
  },
  {
   "cell_type": "code",
   "execution_count": 80,
   "id": "df025f8c",
   "metadata": {},
   "outputs": [
    {
     "data": {
      "text/plain": [
       "array([[1., 0., 0., 0., 0.],\n",
       "       [0., 1., 0., 0., 0.],\n",
       "       [0., 0., 1., 0., 0.]])"
      ]
     },
     "execution_count": 80,
     "metadata": {},
     "output_type": "execute_result"
    }
   ],
   "source": [
    "d1"
   ]
  },
  {
   "cell_type": "markdown",
   "id": "bf0aece1",
   "metadata": {},
   "source": [
    "## create an array with values that are spaced linearly in a specified interval"
   ]
  },
  {
   "cell_type": "code",
   "execution_count": 81,
   "id": "a49fdc5b",
   "metadata": {},
   "outputs": [],
   "source": [
    "a1=np.linspace(1,3,20)"
   ]
  },
  {
   "cell_type": "code",
   "execution_count": 83,
   "id": "a3f95420",
   "metadata": {},
   "outputs": [],
   "source": [
    "a2=np.linspace(0,10,num=5)"
   ]
  },
  {
   "cell_type": "code",
   "execution_count": 82,
   "id": "9666d831",
   "metadata": {},
   "outputs": [
    {
     "data": {
      "text/plain": [
       "array([1.        , 1.10526316, 1.21052632, 1.31578947, 1.42105263,\n",
       "       1.52631579, 1.63157895, 1.73684211, 1.84210526, 1.94736842,\n",
       "       2.05263158, 2.15789474, 2.26315789, 2.36842105, 2.47368421,\n",
       "       2.57894737, 2.68421053, 2.78947368, 2.89473684, 3.        ])"
      ]
     },
     "execution_count": 82,
     "metadata": {},
     "output_type": "execute_result"
    }
   ],
   "source": [
    "a1"
   ]
  },
  {
   "cell_type": "code",
   "execution_count": 84,
   "id": "d83fdf49",
   "metadata": {},
   "outputs": [
    {
     "name": "stdout",
     "output_type": "stream",
     "text": [
      "[ 0.   2.5  5.   7.5 10. ]\n"
     ]
    }
   ],
   "source": [
    "print(a2)"
   ]
  },
  {
   "cell_type": "markdown",
   "id": "3acf0745",
   "metadata": {},
   "source": [
    "# lec 5\n",
    "## How to create Numpy arrays with random numbers"
   ]
  },
  {
   "cell_type": "markdown",
   "id": "6b1661f9",
   "metadata": {},
   "source": [
    "1. rand():  the function used to generate a random value b/w 0 to 1 \n",
    "2. randn(): the function used to generate a random value close to zero. This may return positive or negative numbers as well.\n",
    "3. ranf(): the function for doing random sampling in numpy.It returns an array of specified shape and fills it with random floats in the half open interval [0.0,1.0)"
   ]
  },
  {
   "cell_type": "code",
   "execution_count": 86,
   "id": "b88efacd",
   "metadata": {},
   "outputs": [],
   "source": [
    "a1=np.random.rand(4) # 4 values in 1d array and all are in 0 to 1"
   ]
  },
  {
   "cell_type": "code",
   "execution_count": 87,
   "id": "a466d0e6",
   "metadata": {},
   "outputs": [
    {
     "data": {
      "text/plain": [
       "array([0.48505793, 0.31842711, 0.63102344, 0.66025741])"
      ]
     },
     "execution_count": 87,
     "metadata": {},
     "output_type": "execute_result"
    }
   ],
   "source": [
    "a1"
   ]
  },
  {
   "cell_type": "code",
   "execution_count": 88,
   "id": "bacc1cff",
   "metadata": {},
   "outputs": [],
   "source": [
    "a2=np.random.rand(6,5)"
   ]
  },
  {
   "cell_type": "code",
   "execution_count": 89,
   "id": "c74c2c01",
   "metadata": {},
   "outputs": [
    {
     "data": {
      "text/plain": [
       "array([[0.83235532, 0.6125554 , 0.93091466, 0.02168811, 0.67268346],\n",
       "       [0.25735336, 0.74475153, 0.72701496, 0.9785963 , 0.48886835],\n",
       "       [0.6508311 , 0.76045847, 0.91565693, 0.33268929, 0.17393834],\n",
       "       [0.02924871, 0.58901887, 0.46127159, 0.54077555, 0.80984689],\n",
       "       [0.77068876, 0.04317409, 0.06211384, 0.79485213, 0.59522454],\n",
       "       [0.62518748, 0.30403675, 0.04778807, 0.75656417, 0.42243808]])"
      ]
     },
     "execution_count": 89,
     "metadata": {},
     "output_type": "execute_result"
    }
   ],
   "source": [
    "a2"
   ]
  },
  {
   "cell_type": "code",
   "execution_count": 90,
   "id": "6657a790",
   "metadata": {},
   "outputs": [],
   "source": [
    "a3=np.random.randn(4)"
   ]
  },
  {
   "cell_type": "code",
   "execution_count": 91,
   "id": "ba1e3fa5",
   "metadata": {},
   "outputs": [
    {
     "data": {
      "text/plain": [
       "array([ 1.02160476, -1.26769463, -0.65262735,  1.06043365])"
      ]
     },
     "execution_count": 91,
     "metadata": {},
     "output_type": "execute_result"
    }
   ],
   "source": [
    "a3"
   ]
  },
  {
   "cell_type": "markdown",
   "id": "f7c90c6c",
   "metadata": {},
   "source": [
    "# ranf()"
   ]
  },
  {
   "cell_type": "code",
   "execution_count": 92,
   "id": "49b40fed",
   "metadata": {},
   "outputs": [],
   "source": [
    "a5=np.random.ranf(6)"
   ]
  },
  {
   "cell_type": "code",
   "execution_count": 93,
   "id": "2eb77c71",
   "metadata": {},
   "outputs": [
    {
     "data": {
      "text/plain": [
       "array([0.49619251, 0.36109727, 0.62322485, 0.0459753 , 0.3647439 ,\n",
       "       0.54075882])"
      ]
     },
     "execution_count": 93,
     "metadata": {},
     "output_type": "execute_result"
    }
   ],
   "source": [
    "a5"
   ]
  },
  {
   "cell_type": "code",
   "execution_count": 95,
   "id": "d626281c",
   "metadata": {},
   "outputs": [
    {
     "ename": "TypeError",
     "evalue": "random_sample() takes at most 1 positional argument (2 given)",
     "output_type": "error",
     "traceback": [
      "\u001b[1;31m---------------------------------------------------------------------------\u001b[0m",
      "\u001b[1;31mTypeError\u001b[0m                                 Traceback (most recent call last)",
      "\u001b[1;32m~\\AppData\\Local\\Temp\\ipykernel_13344\\3206497296.py\u001b[0m in \u001b[0;36m<module>\u001b[1;34m\u001b[0m\n\u001b[1;32m----> 1\u001b[1;33m \u001b[0ma6\u001b[0m\u001b[1;33m=\u001b[0m\u001b[0mnp\u001b[0m\u001b[1;33m.\u001b[0m\u001b[0mrandom\u001b[0m\u001b[1;33m.\u001b[0m\u001b[0mranf\u001b[0m\u001b[1;33m(\u001b[0m\u001b[1;36m6\u001b[0m\u001b[1;33m,\u001b[0m\u001b[1;36m4\u001b[0m\u001b[1;33m)\u001b[0m\u001b[1;33m\u001b[0m\u001b[1;33m\u001b[0m\u001b[0m\n\u001b[0m",
      "\u001b[1;32mmtrand.pyx\u001b[0m in \u001b[0;36mnumpy.random.mtrand.ranf\u001b[1;34m()\u001b[0m\n",
      "\u001b[1;32mmtrand.pyx\u001b[0m in \u001b[0;36mnumpy.random.mtrand.RandomState.random_sample\u001b[1;34m()\u001b[0m\n",
      "\u001b[1;31mTypeError\u001b[0m: random_sample() takes at most 1 positional argument (2 given)"
     ]
    }
   ],
   "source": [
    "a6=np.random.ranf(6,4)"
   ]
  },
  {
   "cell_type": "markdown",
   "id": "89c52e04",
   "metadata": {},
   "source": [
    "#  randint()\n",
    "1. The function is used to generate a random number between a given range."
   ]
  },
  {
   "cell_type": "code",
   "execution_count": 97,
   "id": "5633b317",
   "metadata": {},
   "outputs": [],
   "source": [
    "a7=np.random.randint(1,8,4)"
   ]
  },
  {
   "cell_type": "code",
   "execution_count": 98,
   "id": "eec3bd32",
   "metadata": {},
   "outputs": [
    {
     "data": {
      "text/plain": [
       "array([7, 6, 4, 2])"
      ]
     },
     "execution_count": 98,
     "metadata": {},
     "output_type": "execute_result"
    }
   ],
   "source": [
    "a7"
   ]
  },
  {
   "cell_type": "code",
   "execution_count": 99,
   "id": "e1329efa",
   "metadata": {},
   "outputs": [],
   "source": [
    "a8=np.random.randint(1,8,(4,3))"
   ]
  },
  {
   "cell_type": "code",
   "execution_count": 100,
   "id": "6027bafd",
   "metadata": {},
   "outputs": [
    {
     "data": {
      "text/plain": [
       "array([[7, 6, 6],\n",
       "       [3, 1, 1],\n",
       "       [2, 7, 3],\n",
       "       [2, 5, 7]])"
      ]
     },
     "execution_count": 100,
     "metadata": {},
     "output_type": "execute_result"
    }
   ],
   "source": [
    "a8"
   ]
  },
  {
   "cell_type": "code",
   "execution_count": null,
   "id": "efc82c19",
   "metadata": {},
   "outputs": [],
   "source": []
  }
 ],
 "metadata": {
  "kernelspec": {
   "display_name": "Python 3 (ipykernel)",
   "language": "python",
   "name": "python3"
  },
  "language_info": {
   "codemirror_mode": {
    "name": "ipython",
    "version": 3
   },
   "file_extension": ".py",
   "mimetype": "text/x-python",
   "name": "python",
   "nbconvert_exporter": "python",
   "pygments_lexer": "ipython3",
   "version": "3.9.13"
  }
 },
 "nbformat": 4,
 "nbformat_minor": 5
}
